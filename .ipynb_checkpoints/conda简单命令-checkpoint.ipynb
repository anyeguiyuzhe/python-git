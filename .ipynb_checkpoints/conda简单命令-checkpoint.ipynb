{
 "cells": [
  {
   "cell_type": "markdown",
   "metadata": {},
   "source": [
    "# <center>conda简单命令</center>\n",
    "\n",
    "| 命令 | 说明 |\n",
    "| :-: | :-: |\n",
    "| conda --version | 查看版本 |\n",
    "| conda update conda | 更新 |\n",
    "| conda -h | 帮助 |\n",
    "| conda create --help | 查看conda环境管理命令帮助信息 |\n",
    "|conda create --name envname |#创造新环境|\n",
    "| conda create --name python36 python=3.6 | |\n",
    "|conda activate python36| \n",
    "|conda info -e |#列出所有的环境名 | \n",
    "|conda remove -n python34 --all |\n"
   ]
  },
  {
   "cell_type": "markdown",
   "metadata": {},
   "source": [
    "# <center>pip命令</center>\n",
    "\n",
    "| 命令 | 说明 |\n",
    "| :-: | :-: |\n",
    "| pip show itchat | 查看是否已安装某个包 |\n",
    "| pip list outdated | 检查需要更新的包 |\n",
    "| pip install --upgrade matplotlib | 升级包 |\n",
    "| pip install itchat | 卸载包 |\n",
    "| pip --help | 帮助 | "
   ]
  }
 ],
 "metadata": {
  "kernelspec": {
   "display_name": "Python 3",
   "language": "python",
   "name": "python3"
  },
  "language_info": {
   "codemirror_mode": {
    "name": "ipython",
    "version": 3
   },
   "file_extension": ".py",
   "mimetype": "text/x-python",
   "name": "python",
   "nbconvert_exporter": "python",
   "pygments_lexer": "ipython3",
   "version": "3.6.4"
  }
 },
 "nbformat": 4,
 "nbformat_minor": 2
}

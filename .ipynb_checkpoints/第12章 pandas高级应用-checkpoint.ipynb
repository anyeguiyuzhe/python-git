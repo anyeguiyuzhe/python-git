{
 "cells": [
  {
   "cell_type": "markdown",
   "metadata": {},
   "source": [
    "# <center>第12章 pandas高级应用</center>\n",
    "\n",
    "## 12.1 分类数据\n",
    "\n",
    "### 1.使用take取样储存重复值"
   ]
  },
  {
   "cell_type": "code",
   "execution_count": null,
   "metadata": {},
   "outputs": [],
   "source": [
    "import pandas as pd \n",
    "import numpy as np \n",
    "\n",
    "index=pd.Series(['apple','orange','apple','apple']*2)\n",
    "index.is_unique\n",
    "value=np.random.randint(0,2,8)\n",
    "#使用take方法存储重复值的方法\n",
    "dim=pd.Series(['apple','orange'])\n",
    "dim.take(value)"
   ]
  },
  {
   "cell_type": "markdown",
   "metadata": {},
   "source": [
    "### 2.pandas的分类类型"
   ]
  },
  {
   "cell_type": "code",
   "execution_count": null,
   "metadata": {},
   "outputs": [],
   "source": [
    "import pandas as pd\n",
    "import numpy as np\n",
    "\n",
    "#pandas有一个特殊的分类类型，用于保存使用整数分类表示法的数据\n",
    "fruit=['apple','orange','apple','apple']*2\n",
    "n=len(fruit)\n",
    "df=pd.DataFrame({'fruit':fruit,\n",
    "                 'basket_id':np.arange(n),\n",
    "                 'count':np.random.randint(3,15,size=n),\n",
    "                 'weight':np.random.uniform(0,4,n)})\n",
    "df\n",
    "fruit_cat=df['fruit'].astype('category')\n",
    "#fruit_cat的值不是一个NumPy数组，而是一个pandas.Categorical实例\n",
    "fruit_cat\n",
    "c=fruit_cat.values\n",
    "c.categories#pd.Index对象\n",
    "c.codes#array对象\n",
    "\n",
    "#从序列直接创建pandas.Categorical\n",
    "my_categories=pd.Categorical(['foo','bar','bar','foo','bar'])\n",
    "my_categories\n",
    "my_categories.codes\n",
    "my_categories.categories\n",
    "\n",
    "#如果已经从其他源获得了源码，可以使用from_codes构造器\n",
    "categories=['foo','bar','baz']\n",
    "codes=np.random.randint(0,3,10)\n",
    "#ordered默认为False，如果为True，则按category确定顺序\n",
    "a=pd.Categorical.from_codes(codes,categories,ordered=True)\n",
    "a.codes\n",
    "a.categories\n",
    "#无序的实例可以通过as_ordered确定排序\n",
    "a.as_ordered()"
   ]
  },
  {
   "cell_type": "markdown",
   "metadata": {},
   "source": [
    "### 3.用分类进行计算"
   ]
  },
  {
   "cell_type": "code",
   "execution_count": 1,
   "metadata": {
    "collapsed": true
   },
   "outputs": [
    {
     "data": {
      "text/plain": [
       "0    q1\n",
       "1    q2\n",
       "2    q3\n",
       "3    q4\n",
       "Name: index, dtype: category\n",
       "Categories (4, object): [q1 < q2 < q3 < q4]"
      ]
     },
     "execution_count": 1,
     "metadata": {},
     "output_type": "execute_result"
    }
   ],
   "source": [
    "import pandas as pd\n",
    "import numpy as np\n",
    "\n",
    "draw=np.random.randn(1000)\n",
    "c=pd.qcut(draw,4)\n",
    "c.codes \n",
    "c.categories\n",
    "#确切的分位数不利于汇总\n",
    "d=pd.qcut(draw,4,labels=['q1','q2','q3','q4'])\n",
    "d\n",
    "#使用groupby提取一些汇总信息\n",
    "a=pd.Series(draw).groupby(d).agg(['max','min','count']).reset_index()\n",
    "a\n",
    "#分位数保留了原始的面元分类信息,包括排序\n",
    "a['index']"
   ]
  },
  {
   "cell_type": "markdown",
   "metadata": {},
   "source": [
    "### 4.用分类提高性能"
   ]
  },
  {
   "cell_type": "code",
   "execution_count": null,
   "metadata": {},
   "outputs": [],
   "source": [
    "import pandas as pd\n",
    "import numpy as np \n",
    "\n",
    "#在特定数据集上做大量分析，将其转化为分类可以极大提高效率\n",
    "N=1000000\n",
    "labels=pd.Series(['foo','bar','baz','qux']).take(np.random.randint(0,4,N))\n",
    "#将标签转化为分类\n",
    "categories=labels.astype('category')\n",
    "#可以看到labels占用的内存明显要多\n",
    "labels.memory_usage()\n",
    "categories.memory_usage()"
   ]
  },
  {
   "cell_type": "markdown",
   "metadata": {},
   "source": [
    "### 5.分类方法"
   ]
  },
  {
   "cell_type": "code",
   "execution_count": null,
   "metadata": {},
   "outputs": [],
   "source": [
    "import pandas as pd\n",
    "import numpy as np\n",
    "\n",
    "#包含分类数据的Series有一些特殊的分类方法\n",
    "s=pd.Series(['a','b','c','d']).take(np.random.randint(0,4,10))\n",
    "cate=s.astype('category')\n",
    "cate\n",
    "#特别的cat属性提供了分类方法的入口\n",
    "cate.cat.codes#返回Series好像和这个差不多 cat_s.values.codes\n",
    "cate.cat.categories#返回Index对象，等价于 cat_s.values.categories\n",
    "#增加分类集\n",
    "cate.cat.set_categories(['a','b','c','d','e'],inplace=True)\n",
    "cate.value_counts()\n",
    "#使用remove_unused_categories方法删除没看到的分类,节省内存\n",
    "cate[cat_s.isin(['a','b'])]\n",
    "cate.cat.remove_unused_categories()\n"
   ]
  },
  {
   "cell_type": "markdown",
   "metadata": {},
   "source": [
    "<center><font color='#00F5FF'>cat的方法</font></br>\n",
    "![cat的方法](https://upload-images.jianshu.io/upload_images/7178691-6c602152c2bba658.png?imageMogr2/auto-orient/strip%7CimageView2/2/w/800/format/webp)"
   ]
  },
  {
   "cell_type": "markdown",
   "metadata": {},
   "source": [
    "### 6.为建模创建虚拟变量"
   ]
  },
  {
   "cell_type": "code",
   "execution_count": null,
   "metadata": {},
   "outputs": [],
   "source": [
    "import pandas as pd\n",
    "import numpy as np\n",
    "\n",
    "obj=pd.Series([chr(x) for x in np.random.randint(97,100,10)])\n",
    "dummy=pd.get_dummies(obj)"
   ]
  },
  {
   "cell_type": "markdown",
   "metadata": {},
   "source": [
    "----\n",
    "## 12.2GroupBy高级应用\n",
    "\n",
    "### 1.分组转化和解封GroupBy"
   ]
  },
  {
   "cell_type": "code",
   "execution_count": null,
   "metadata": {},
   "outputs": [],
   "source": [
    "import pandas as pd\n",
    "import numpy as np\n",
    "\n",
    "#transform和apply很像，但是transform是对分组的单个元素作用\n",
    "df=pd.DataFrame({'key':['a','b','c']*4,\n",
    "                 'value':np.arange(12),\n",
    "                 'city':np.random.rand(12)})\n",
    "df\n",
    "#按键进行分组\n",
    "g=df.groupby('key')['city']\n",
    "g.mean()\n",
    "#产生一个和df['city']形状相同，但值替换为按键分组的平均值\n",
    "g.transform(lambda x:x.mean())\n",
    "#对于内置的聚合函数,传递一个字符串作为GroupBy的agg方法\n",
    "g.transform('mean')\n",
    "g.transform('count')\n",
    "g.agg('mean')\n",
    "\n",
    "#由于是作用于分组的每个元素，我们可以计算每个分组的降序排名\n",
    "g.transform(lambda x:x.rank(ascending=False))\n",
    "g.transform(lambda x:x.rank(ascending=True,method='first'))\n",
    "\n",
    "#由简单聚合构造的分组转换函数\n",
    "#构造把序列标准化的函数\n",
    "def normalize(x):\n",
    "    return (x-x.mean())/x.std()\n",
    "\n",
    "g.transform(normalize)\n",
    "#利用apply可以得到一个等价的结果\n",
    "g.apply(normalize)\n",
    "\n",
    "#内置的聚合函数，比如mean或sum通常比apply/transform快,这允许我们进行所谓解封(unwrapped)操作\n",
    "g.transform('mean')\n",
    "(df['city']-g.transform('mean'))/g.transform('std')"
   ]
  },
  {
   "cell_type": "markdown",
   "metadata": {},
   "source": [
    "### 2.分组的时间重采样"
   ]
  },
  {
   "cell_type": "code",
   "execution_count": null,
   "metadata": {},
   "outputs": [],
   "source": [
    "import pandas as pd\n",
    "import numpy as np\n",
    "\n",
    "N=15\n",
    "times=pd.date_range('2017-05-20 00:00',freq='T',periods=N)\n",
    "df=pd.DataFrame({'value':np.arange(N)},index=times)\n",
    "df.resample('5min').count()\n",
    "\n",
    "#假设DataFrame包含多个时间序列，用一个额外的分组键的列标记\n",
    "df2=pd.DataFrame({'key':np.tile(list('ABC'),N),\n",
    "                   'value':np.arange(N*3)},index=times.repeat(3))\n",
    "df2.head()\n",
    "df2.index.name='time'\n",
    "time_key=pd.Grouper(freq='5min')\n",
    "resampled=df2.groupby(['key',time_key]).sum()\n"
   ]
  }
 ],
 "metadata": {
  "kernelspec": {
   "display_name": "Python 3",
   "language": "python",
   "name": "python3"
  },
  "language_info": {
   "codemirror_mode": {
    "name": "ipython",
    "version": 3
   },
   "file_extension": ".py",
   "mimetype": "text/x-python",
   "name": "python",
   "nbconvert_exporter": "python",
   "pygments_lexer": "ipython3",
   "version": "3.6.4"
  }
 },
 "nbformat": 4,
 "nbformat_minor": 2
}

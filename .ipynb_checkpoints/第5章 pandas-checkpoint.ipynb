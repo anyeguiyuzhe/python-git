{
 "cells": [
  {
   "cell_type": "markdown",
   "metadata": {},
   "source": [
    "# <center>第5章 pandas入门</center>\n",
    "\n",
    "\n",
    "## 5.1 pandas的数据结构介绍 Series & DataFrame\n",
    "\n",
    "> <font color='#FF0000'>pandas和numpy的区别：pandas是专门为处理表格和混杂数据而设计的，而numpy更适合处理统一的数据</font></br>\n",
    "\n",
    "### 1. Series"
   ]
  },
  {
   "cell_type": "code",
   "execution_count": 1,
   "metadata": {},
   "outputs": [
    {
     "name": "stdout",
     "output_type": "stream",
     "text": [
      "0    1\n",
      "1    3\n",
      "2    5\n",
      "dtype: int64\n",
      "obj3的值是: a    0\n",
      "b    1\n",
      "c    2\n",
      "d    3\n",
      "dtype: int32\n",
      "0\n",
      "1\n",
      "2\n",
      "3\n",
      "a\n",
      "b\n",
      "c\n",
      "d\n",
      "ohio     35000\n",
      "Texas    71000\n",
      "Ored      5333\n",
      "dtype: int64\n"
     ]
    }
   ],
   "source": [
    "import numpy as np\n",
    "import pandas as pd \n",
    "from pandas import Series,DataFrame\n",
    "\n",
    "obj=pd.Series([1,3,5])\n",
    "print(obj)\n",
    "obj.values\n",
    "obj.index\n",
    "\n",
    "#创建带索引的Series(可以直接传入dict类型数据)\n",
    "obj2=pd.Series([4,7,-5,3],index=['a','b','c','d'])\n",
    "a=np.arange(4)\n",
    "b=np.array(['a','b','c','d'])\n",
    "obj3=pd.Series(a,b)\n",
    "obj3\n",
    "\n",
    "#Series的索引\n",
    "obj3[['a','b','d']]#两个中括号\n",
    "obj3[1:4]#类似list的索引\n",
    "obj3[[1,2]]\n",
    "\n",
    "#使用numpy函数或者类似numpy的运算都会保留原索引\n",
    "obj3[obj3>2]\n",
    "obj3*2\n",
    "np.exp(obj3)\n",
    "\n",
    "#可以将Series看成是一个定长的有序字典，因为它是索引值到数据值得一个映射\n",
    "#检查键（key)是否存在\n",
    "'b' in obj3\n",
    "'e' in obj3\n",
    "for x in obj3:#输出value\n",
    "    print(x)\n",
    "for index in obj3.index:\n",
    "    print(index)\n",
    "\n",
    "#通过dict创建Series\n",
    "sdata={'ohio':35000,'Texas':71000,'Ored':5333}\n",
    "obj4=pd.Series(sdata)\n",
    "print(obj4)\n",
    "obj4.dtype\n",
    "#如果只传入一个字典，则结果Series中的索引就是原字典的键值，同时你也可以传入排好的字典的键以改变顺序\n",
    "names=['Mary','Jack','Julia']\n",
    "new_names=names.sort()\n",
    "di=dict()\n",
    "for x in names:\n",
    "    di[x]=np.random.randint(1,4)\n",
    "obj5=pd.Series(di,new_names)\n",
    "\n",
    "#还可以改变dict中键值的顺序，从而改变Series的顺序\n",
    "import pandas as pd\n",
    "names={'Jack':22,'Mary':32,'Haro':13}\n",
    "name_rank=['Jack','Haro','Mary','Julia']\n",
    "obj=pd.Series(names,name_rank)\n",
    "#pandas中的isnull和notnull函数可以用于检测缺失数据\n",
    "pd.isnull(obj)\n",
    "obj.isnull()\n",
    "pd.notnull(obj)\n",
    "obj.notnull()\n",
    "\n",
    "#Series的最重要的一个功能是，它会根据运算的索引标签自动对齐数据\n",
    "import pandas as pd\n",
    "obj1=pd.Series([35000,16000,71000,5000],['Ohio','Oregon','Utah','Texas'])\n",
    "obj2=pd.Series([None,35000,16000,71000],['California','Ohio','Oregon','Texas'])\n",
    "obj1+obj2#没有公共元素的都会变成NaN\n",
    "\n",
    "#Series对象及其索引都有一个name属性，该属性跟pandas的其他关键功能关系非常密切\n",
    "import pandas as pd\n",
    "obj=pd.Series([1,3,4,5],['a','b','c','d'])\n",
    "obj.name='pandas'\n",
    "obj.index.name='index'"
   ]
  },
  {
   "cell_type": "markdown",
   "metadata": {},
   "source": [
    "### 2. DataFrame\n",
    "\n",
    "> <font color='#FF4040'>DataFrame是一个表格型的数据，含有一组有序的列，每列可以是不同的值。既有列索引，也有行索引.建立DataFrame的办法有很多，最常用的一种是直接传入一个由等长列表或者numpy数组组成的字典</font>"
   ]
  },
  {
   "cell_type": "code",
   "execution_count": 1,
   "metadata": {},
   "outputs": [],
   "source": [
    "import pandas as pd\n",
    "import numpy as np\n",
    "\n",
    "data={'state':['Ohio','Ohio','Ohio','Nevada','Nevada','Nevada'],\n",
    "        'year':[2000,2001,2002,2001,2002,2003],\n",
    "        'pop':[1.5,1.7,3.6,2.4,2.9,3.2]}\n",
    "#如果指定了列序列，则DataFrame的列就会按照指定的顺序进行排列\n",
    "#但是如果传入的列在数据中找不到，就会在结果中产生缺失值\n",
    "frame=pd.DataFrame(data,index=['a','b','c','d','e','f'])\n",
    "frame1=pd.DataFrame(data,index=['a','b','c','d','e','f'],columns=['year','state','no','pop'])"
   ]
  },
  {
   "cell_type": "code",
   "execution_count": null,
   "metadata": {},
   "outputs": [],
   "source": [
    "#列的索引\n",
    "import pandas as pd\n",
    "import numpy as np\n",
    "\n",
    "data={'state':['Ohio','Ohio','Ohio','Nevada','Nevada','Nevada'],\n",
    "'year':[2000,2001,2002,2001,2002,2003],\n",
    "'pop':[1.5,1.7,3.6,2.4,2.9,3.2]}\n",
    "frame=pd.DataFrame(data,index=['a','b','c','d','e','f'],columns=['year','state','no','pop'])\n",
    "\n",
    "#通过类似字典标记的方式或属性的方式，可以将DataFrame的列获取为一个Series\n",
    "frame.columns#获取所有的列名，也可以赋值的\n",
    "state_index=frame['state']\n",
    "state_index=frame.year\n",
    "#如果改变state_index，frame也会跟着改变\n",
    "state_index[1]='hello'\n",
    "state_index=np.arange(6)\n",
    "#为不存在的列赋值会创造出一个新列\n",
    "#可以这样赋值 frame['new']=np.random.randint(0,5,6)\n",
    "#但是这样frame.new=np.random.randint(0,5,6)好像会弹出警告\n",
    "frame['new']=np.random.randint(0,5,6)\n",
    "#del方法可以删除列。当然，这是行不通的 'del frame.new'\n",
    "del frame['new']"
   ]
  },
  {
   "cell_type": "code",
   "execution_count": 10,
   "metadata": {
    "collapsed": true
   },
   "outputs": [
    {
     "name": "stdout",
     "output_type": "stream",
     "text": [
      "frame.loc['a']\n",
      " year     2000\n",
      "state    Ohio\n",
      "no        NaN\n",
      "pop       1.5\n",
      "Name: a, dtype: object \n",
      "\n",
      "frame.loc[['a','d']]\n",
      "    year   state   no  pop\n",
      "a  2000    Ohio  NaN  1.5\n",
      "d  2001  Nevada  NaN  2.4 \n",
      "\n",
      "frame.loc['a','year']\n",
      " 2000 \n",
      "\n",
      "frame[1:3]\n",
      "    year state   no  pop\n",
      "b  2001  Ohio  NaN  1.7\n",
      "c  2002  Ohio  NaN  3.6\n"
     ]
    }
   ],
   "source": [
    "#行的索引--loc和iloc\n",
    "import pandas as pd\n",
    "\n",
    "data={'state':['Ohio','Ohio','Ohio','Nevada','Nevada','Nevada'],\n",
    "        'year':[2000,2001,2002,2001,2002,2003],\n",
    "        'pop':[1.5,1.7,3.6,2.4,2.9,3.2]}\n",
    "frame=pd.DataFrame(data,index=['a','b','c','d','e','f'],columns=['year','state','no','pop'])\n",
    "print(\"frame.loc['a']\\n\",frame.loc['a'],'\\n')\n",
    "print(\"frame.loc[['a','d']]\\n\",frame.loc[['a','d']],'\\n')\n",
    "print(\"frame.loc['a','year']\\n\",frame.loc['a','year'],'\\n')\n",
    "print(\"frame[1:3]\\n\",frame[1:3])#等价于 frame.iloc[1:3,:]\n"
   ]
  },
  {
   "cell_type": "code",
   "execution_count": null,
   "metadata": {},
   "outputs": [],
   "source": [
    "#嵌套字典,pandas就会被解释为：外层字典的键作为列索引，内层键作为行索引\n",
    "import pandas as pd\n",
    "\n",
    "pop={'Nevada':{2001:2.4,2002:2.9},\n",
    "'Ohio':{2000:1.5,2001:1.7,2002:5.9}}\n",
    "frame=pd.DataFrame(pop)\n",
    "#也可以用类似numpy数组的方法，对DataFrame进行转置\n",
    "print(frame.T)"
   ]
  },
  {
   "cell_type": "markdown",
   "metadata": {},
   "source": [
    "下表列出了DataFrame构造函数所能接受的各种数据\n",
    "\n",
    "| 类型 | 说明|\n",
    "| :---: | :---: |\n",
    "| 二维ndarray | 数据矩阵，还可以传入行标和列标 |\n",
    "| 由数组、列表或者元组组成的字典| 每个序列会变成DataFrame的一列，所有序列的长度必须相同 |\n",
    "| numpy的结构化数组 | 类似于 '由数组组成的字典' |\n",
    "| 由Series组成的字典 | 每个Series会成为一列，如果没有显式指定索引，则各Series的索引会被合并成结果的行索引 |\n",
    "| 由字典组成的字典 | 各内层字典会成为一列，键会被合并成结果的行索引 |\n",
    "| 字典或者Series组成的字典 | 各项将会成为DataFrame的一行，字典键或者Series索引的并集将会成为DataFrame的列标 |\n",
    "| 由列标或者元组组成的列标 | 类似于 '二位ndarray' |\n",
    "| 另一个DataFrame | 该DataFrame的索引将会被引用，除非显式指定了其他索引 |\n",
    "| numpy的MaskedArray | 类似于 '二维ndarray' 的情况，只是掩码值在结果DataFrame会变成NA/缺失值 |\n",
    "\n"
   ]
  },
  {
   "cell_type": "code",
   "execution_count": null,
   "metadata": {},
   "outputs": [],
   "source": [
    "#索引对象\n",
    "import pandas as pd\n",
    "import numpy as np\n",
    "\n",
    "obj=pd.Series(range(3),index=['a','b','c'])\n",
    "#index对象是不可变的，因此用户不能对其进行修改\n",
    "index_=obj.index\n",
    "index_[1:]\n",
    "#不可变性可以使index对象在多个数据结构之间安全共享\n",
    "labels=pd.Index(np.arange(3))\n",
    "labels\n",
    "obj2=pd.Index(np.arange(3),labels)\n",
    "obj2\n",
    "obj2.index is labels\n",
    "obj2.index==labels\n",
    "#与python的集合不同，pandas的index可以包含重复的标签\n",
    "li=['a1','b2','c3','a1']\n",
    "obj3=pd.Series(np.arange(4),index=li)\n",
    "#选择重复的标签，会显示所有的结果\n",
    "obj3['a1']"
   ]
  },
  {
   "cell_type": "markdown",
   "metadata": {},
   "source": [
    "## 5.2 基本功能\n",
    "\n",
    "### 1.重新索引"
   ]
  },
  {
   "cell_type": "code",
   "execution_count": null,
   "metadata": {},
   "outputs": [],
   "source": [
    "import pandas as pd\n",
    "\n",
    "obj=pd.Series([4.5,7.2,-5.3,3.6],index=['d','c','b','a'])\n",
    "#reindex不会改变原数据\n",
    "obj.reindex(['a','b','c','d'])\n",
    "print(obj)\n",
    "#a如果某个索引值不存在，就会引入缺失值\n",
    "obj2=obj.reindex(['a','b','c','d'])"
   ]
  },
  {
   "cell_type": "code",
   "execution_count": null,
   "metadata": {},
   "outputs": [],
   "source": [
    "#对于时间序列这样的有序数据，重新索引时可能需要做一些差值处理,method选项即可达到此目的\n",
    "import pandas as pd\n",
    "obj3=pd.Series(['blue','purple','yellow'],list(range(3)))\n",
    "obj4=obj3.reindex([3,1,2,0],method='ffill')"
   ]
  },
  {
   "cell_type": "code",
   "execution_count": 1,
   "metadata": {},
   "outputs": [
    {
     "data": {
      "text/plain": [
       "texas    1.0\n",
       "ohao     2.0\n",
       "news     NaN\n",
       "Name: a, dtype: float64"
      ]
     },
     "execution_count": 1,
     "metadata": {},
     "output_type": "execute_result"
    }
   ],
   "source": [
    "#借助DataFrame, reindex可以修改行索引和列\n",
    "import numpy as np\n",
    "import pandas as pd\n",
    "\n",
    "frame=pd.DataFrame(np.arange(9).reshape((3,3)),index=['a','c','d'],columns=['ohio','texas','ohao'])\n",
    "frame2=frame.reindex(['a','b','c','d'])\n",
    "frame3=frame.reindex(index=['a','b','c','d'],columns=['texas','ohao','news'])\n",
    "frame3.texas\n",
    "frame3['texas']\n",
    "frame3.loc['a']"
   ]
  },
  {
   "cell_type": "code",
   "execution_count": 2,
   "metadata": {
    "collapsed": true
   },
   "outputs": [
    {
     "name": "stdout",
     "output_type": "stream",
     "text": [
      "          one  two  three  four\n",
      "ohio        0    1      2     3\n",
      "color       4    5      6     7\n",
      "utah        8    9     10    11\n",
      "new york   12   13     14    15\n",
      "          one  two  three  four\n",
      "ohio        0    1      2     3\n",
      "color       4    5      6     7\n",
      "utah        8    9     10    11\n",
      "new york   12   13     14    15\n",
      "          two  three  four\n",
      "ohio        1      2     3\n",
      "color       5      6     7\n",
      "utah        9     10    11\n",
      "new york   13     14    15\n"
     ]
    }
   ],
   "source": [
    "#对于DataFram,可以删除任意轴上的索引值\n",
    "import pandas as pd\n",
    "import numpy as np\n",
    "\n",
    "data=pd.DataFrame(np.arange(16).reshape((4,4)),\\\n",
    "index=['ohio','color','utah','new york'],\\\n",
    "columns=['one','two','three','four'])\n",
    "#用标签序列调用drop会从行标签(axis=0)删除值\n",
    "#但是不会改变原DataFrame!!!添加参数 inplace=True才可以\n",
    "data.drop('ohio')\n",
    "print(data)\n",
    "\n",
    "#这样可以删除列\n",
    "data.drop('one',axis=1)\n",
    "print(data)\n",
    "data.drop('one',axis=1,inplace=True)\n",
    "print(data)"
   ]
  },
  {
   "cell_type": "markdown",
   "metadata": {},
   "source": [
    "### 2.索引"
   ]
  },
  {
   "cell_type": "code",
   "execution_count": 5,
   "metadata": {},
   "outputs": [
    {
     "name": "stdout",
     "output_type": "stream",
     "text": [
      "          one  two  three  four\n",
      "ohio        0    1      2     3\n",
      "color       4    5      6     7\n",
      "utah        8    9     10    11\n",
      "new york   12   13     14    15\n"
     ]
    },
    {
     "data": {
      "text/plain": [
       "four     11\n",
       "three    10\n",
       "Name: utah, dtype: int32"
      ]
     },
     "execution_count": 5,
     "metadata": {},
     "output_type": "execute_result"
    }
   ],
   "source": [
    "import pandas as pd\n",
    "import numpy as np\n",
    "#利用loc(轴标签,标签索引包含末尾值)和iloc选取(整数索引)\n",
    "data=pd.DataFrame(np.arange(16).reshape((4,4)),\\\n",
    "index=['ohio','color','utah','new york'],\\\n",
    "columns=['one','two','three','four'])\n",
    "print(data)\n",
    "#似乎是不能索引不存在的字段\n",
    "data.loc['color','two':'one']\n",
    "#用iloc和整数进行选取\n",
    "data.iloc[2,[3,2]]"
   ]
  },
  {
   "cell_type": "markdown",
   "metadata": {},
   "source": [
    "### 3.整数索引"
   ]
  },
  {
   "cell_type": "code",
   "execution_count": 9,
   "metadata": {},
   "outputs": [
    {
     "name": "stdout",
     "output_type": "stream",
     "text": [
      "a    0\n",
      "b    1\n",
      "c    2\n",
      "dtype: int32\n",
      "b    1\n",
      "c    2\n",
      "dtype: int32\n"
     ]
    }
   ],
   "source": [
    "#pandas可以勉强进行整数索引，但是会导致小bug,基于标签索引或者位置索引\n",
    "import numpy as np\n",
    "import pandas as pd\n",
    "\n",
    "ser=pd.Series(np.arange(3))\n",
    "ser[1]\n",
    "#ser[-1]#报错\n",
    "#但是对于非整数索引，不会产生歧义\n",
    "ser=pd.Series(np.arange(3),index=['a','b','c'])\n",
    "ser[-1]\n",
    "ser[1:]\n",
    "print(ser.loc[:'c'])#轴标签索引\n",
    "print(ser.iloc[1:])#整数索引"
   ]
  },
  {
   "cell_type": "markdown",
   "metadata": {},
   "source": [
    "### 4.算术运算和数据对齐"
   ]
  },
  {
   "cell_type": "code",
   "execution_count": 12,
   "metadata": {
    "collapsed": true
   },
   "outputs": [
    {
     "name": "stdout",
     "output_type": "stream",
     "text": [
      "a    5.2\n",
      "b    1.0\n",
      "c    NaN\n",
      "d    0.0\n",
      "e    NaN\n",
      "h    NaN\n",
      "dtype: float64\n",
      "   colorado  julia  ohio  texas\n",
      "a       NaN    NaN   0.0    2.0\n",
      "b       NaN    NaN   6.0    8.0\n",
      "c       NaN    NaN  12.0   14.0\n",
      "d       NaN    NaN   NaN    NaN\n"
     ]
    },
    {
     "data": {
      "text/html": [
       "<div>\n",
       "<style scoped>\n",
       "    .dataframe tbody tr th:only-of-type {\n",
       "        vertical-align: middle;\n",
       "    }\n",
       "\n",
       "    .dataframe tbody tr th {\n",
       "        vertical-align: top;\n",
       "    }\n",
       "\n",
       "    .dataframe thead th {\n",
       "        text-align: right;\n",
       "    }\n",
       "</style>\n",
       "<table border=\"1\" class=\"dataframe\">\n",
       "  <thead>\n",
       "    <tr style=\"text-align: right;\">\n",
       "      <th></th>\n",
       "      <th>ohio</th>\n",
       "      <th>texas</th>\n",
       "      <th>julia</th>\n",
       "    </tr>\n",
       "  </thead>\n",
       "  <tbody>\n",
       "    <tr>\n",
       "      <th>a</th>\n",
       "      <td>0</td>\n",
       "      <td>1</td>\n",
       "      <td>#</td>\n",
       "    </tr>\n",
       "    <tr>\n",
       "      <th>b</th>\n",
       "      <td>3</td>\n",
       "      <td>4</td>\n",
       "      <td>#</td>\n",
       "    </tr>\n",
       "    <tr>\n",
       "      <th>c</th>\n",
       "      <td>6</td>\n",
       "      <td>7</td>\n",
       "      <td>#</td>\n",
       "    </tr>\n",
       "  </tbody>\n",
       "</table>\n",
       "</div>"
      ],
      "text/plain": [
       "   ohio  texas julia\n",
       "a     0      1     #\n",
       "b     3      4     #\n",
       "c     6      7     #"
      ]
     },
     "execution_count": 12,
     "metadata": {},
     "output_type": "execute_result"
    }
   ],
   "source": [
    "# pandas最重要的一个功能是他可以对不同索引的对象进行算术运算\n",
    "#在将对象相加时，如果存在不同的索引对，则结果的索引就是该索引对的并集\n",
    "import pandas as pd\n",
    "import numpy as np\n",
    "s1=pd.Series([7.3,-2.5,3.4,1.5],index=['a','b','c','d'])\n",
    "s2=pd.Series([-2.1,3.5,-1.5,4,3.1],index=['a','b','d','e','h'])\n",
    "#自动对齐操作在不重叠的索引中引入了NA值，缺失值会在算术运算过程中传播\n",
    "print(s1+s2)\n",
    "#对于DataFrame，对齐操作会同时发生在行和列上\n",
    "df1=pd.DataFrame(np.arange(9).reshape((3,3)),index=['a','b','c'],columns=['ohio','texas','colorado'])\n",
    "df2=pd.DataFrame(np.arange(12).reshape((4,3)),index=['a','b','c','d'],columns=['ohio','texas','julia'])\n",
    "print(df1+df2)\n",
    "df1.add(df2,fill_value=0)#缺失值变为0\n",
    "#类似的，在对Series和DataFrame重新索引时，也可以指定一个填充值\n",
    "df1.reindex(columns=df2.columns,fill_value='#')\n"
   ]
  },
  {
   "cell_type": "code",
   "execution_count": 14,
   "metadata": {
    "scrolled": true
   },
   "outputs": [
    {
     "data": {
      "text/html": [
       "<div>\n",
       "<style scoped>\n",
       "    .dataframe tbody tr th:only-of-type {\n",
       "        vertical-align: middle;\n",
       "    }\n",
       "\n",
       "    .dataframe tbody tr th {\n",
       "        vertical-align: top;\n",
       "    }\n",
       "\n",
       "    .dataframe thead th {\n",
       "        text-align: right;\n",
       "    }\n",
       "</style>\n",
       "<table border=\"1\" class=\"dataframe\">\n",
       "  <thead>\n",
       "    <tr style=\"text-align: right;\">\n",
       "      <th></th>\n",
       "      <th>year</th>\n",
       "      <th>mi</th>\n",
       "      <th>no</th>\n",
       "      <th>julia</th>\n",
       "    </tr>\n",
       "  </thead>\n",
       "  <tbody>\n",
       "    <tr>\n",
       "      <th>a</th>\n",
       "      <td>-3</td>\n",
       "      <td>-2</td>\n",
       "      <td>-1</td>\n",
       "      <td>0</td>\n",
       "    </tr>\n",
       "    <tr>\n",
       "      <th>b</th>\n",
       "      <td>-3</td>\n",
       "      <td>-2</td>\n",
       "      <td>-1</td>\n",
       "      <td>0</td>\n",
       "    </tr>\n",
       "    <tr>\n",
       "      <th>c</th>\n",
       "      <td>-3</td>\n",
       "      <td>-2</td>\n",
       "      <td>-1</td>\n",
       "      <td>0</td>\n",
       "    </tr>\n",
       "    <tr>\n",
       "      <th>d</th>\n",
       "      <td>-3</td>\n",
       "      <td>-2</td>\n",
       "      <td>-1</td>\n",
       "      <td>0</td>\n",
       "    </tr>\n",
       "  </tbody>\n",
       "</table>\n",
       "</div>"
      ],
      "text/plain": [
       "   year  mi  no  julia\n",
       "a    -3  -2  -1      0\n",
       "b    -3  -2  -1      0\n",
       "c    -3  -2  -1      0\n",
       "d    -3  -2  -1      0"
      ]
     },
     "execution_count": 14,
     "metadata": {},
     "output_type": "execute_result"
    }
   ],
   "source": [
    "import numpy as np\n",
    "import pandas as pd\n",
    "\n",
    "arr=np.arange(12).reshape((3,4))\n",
    "arr\n",
    "arr[0]\n",
    "#当我们从arr中减去arr[0]，每一行都会执行这个操作，这就叫做广播(broadcasting)\n",
    "#DataFrame和Series之间的运算差不多也是如此\n",
    "arr-arr[0]\n",
    "\n",
    "frame=pd.DataFrame(np.arange(12).reshape((4,3)),\\\n",
    "    columns=list('bed'),index=['utah','ohio','texas','oregon'])\n",
    "series=frame.iloc[0]\n",
    "frame\n",
    "series\n",
    "#默认情况下，DataFrame和Series之间的算术运算会将Series的索引\n",
    "#默认匹配到DataFrame的列，\n",
    "frame=pd.DataFrame(np.arange(16).reshape((4,4)),\\\n",
    "    index=['a','b','c','d'],columns=['year','mi','no','julia'])\n",
    "frame-frame.loc['a']\n",
    "#按列名匹配\n",
    "frame.sub(frame.loc['a'],axis='columns')\n",
    "#按行名匹配\n",
    "frame.sub(frame['julia'],axis='index')\n"
   ]
  },
  {
   "cell_type": "markdown",
   "metadata": {},
   "source": [
    "### 5.函数应用和映射"
   ]
  },
  {
   "cell_type": "code",
   "execution_count": 4,
   "metadata": {
    "collapsed": true
   },
   "outputs": [
    {
     "name": "stdout",
     "output_type": "stream",
     "text": [
      "a    2.021810\n",
      "b    2.142919\n",
      "d    1.046411\n",
      "dtype: float64\n"
     ]
    },
    {
     "data": {
      "text/plain": [
       "utah      -0.18\n",
       "ohio       1.63\n",
       "texas     -0.39\n",
       "oregon     0.73\n",
       "Name: a, dtype: object"
      ]
     },
     "execution_count": 4,
     "metadata": {},
     "output_type": "execute_result"
    }
   ],
   "source": [
    "#numpy的ufuncs也可以用于操作pandas对象：\n",
    "import pandas as pd\n",
    "import numpy as np\n",
    "frame=pd.DataFrame(np.random.randn(4,3),\\\n",
    "                   index=['utah','ohio','texas','oregon'],\\\n",
    "                   columns=['a','b','d'])\n",
    "frame\n",
    "np.abs(frame)\n",
    "#另一个常见的操作是，将函数应用到由各列或行所形成的一维数组\n",
    "#DataFrame的apply方法即可实现此功能\n",
    "f=lambda x: x.max()-x.min()\n",
    "print(frame.apply(f,axis='index'))\n",
    "#传递到apply的函数不是必须返回一个标量，还可以返回由多个值组成的Series\n",
    "def f1(x):\n",
    "    return pd.Series([x.min(),x.max()],index=['min','max'])\n",
    "\n",
    "#不知道为什么这里定义函数之后直接给a赋值就会报错\n",
    "a=frame.apply(f1,axis='index')\n",
    "#元素级的python函数也是可以用的，假如你想得到frame中各个浮点值的格式化字符串，使用applymap即可\n",
    "format=lambda x:'%.2f'%x\n",
    "frame.applymap(format)\n",
    "#之所以叫applymap，是因为Series有一个应用于元素级函数的map方法\n",
    "frame['a'].map(format_)"
   ]
  },
  {
   "cell_type": "markdown",
   "metadata": {},
   "source": [
    "### 6.apply、applymap和map的区别"
   ]
  },
  {
   "cell_type": "code",
   "execution_count": 15,
   "metadata": {},
   "outputs": [
    {
     "name": "stdout",
     "output_type": "stream",
     "text": [
      "<class 'pandas.core.series.Series'>\n",
      "数值类型没有 .max方法\n"
     ]
    },
    {
     "data": {
      "text/plain": [
       "A    16\n",
       "B     9\n",
       "C     1\n",
       "D    16\n",
       "E     1\n",
       "Name: a, dtype: int64"
      ]
     },
     "execution_count": 15,
     "metadata": {},
     "output_type": "execute_result"
    }
   ],
   "source": [
    "import pandas as pd\n",
    "import numpy as np\n",
    "\n",
    "df=pd.DataFrame(np.random.randint(0,5,(5,5)),index=list('ABCDE'),columns=list('abcde'))\n",
    "\n",
    "#想让函数作用在一维向量上时，可以使用apply\n",
    "fun=lambda x:x.max()\n",
    "print(type(df.apply(fun)))\n",
    "fun_2=lambda x:x**2\n",
    "df.apply(fun_2)#返回每个元素的平方\n",
    "\n",
    "#applymap作用于DataFrame的每一个元素，不能作用于Series\n",
    "try:\n",
    "    df.applymap(fun)\n",
    "except:\n",
    "    print('数值类型没有 .max方法')\n",
    "df.applymap(fun_2)\n",
    "\n",
    "#map将函数作用于Series的每一个元素\n",
    "df['a'].apply(fun_2)\n",
    "\n",
    "#所以你会发现没有作用于Series一维数组的方法"
   ]
  },
  {
   "cell_type": "markdown",
   "metadata": {},
   "source": [
    "### 7.排序和排名\n",
    "\n",
    " - 排序"
   ]
  },
  {
   "cell_type": "code",
   "execution_count": 10,
   "metadata": {
    "collapsed": true
   },
   "outputs": [
    {
     "name": "stdout",
     "output_type": "stream",
     "text": [
      "i    0\n",
      "f    1\n",
      "c    2\n",
      "d    3\n",
      "dtype: int32\n",
      "Help on function sort_values in pandas.Series:\n",
      "\n",
      "pandas.Series.sort_values = sort_values(self, axis=0, ascending=True, inplace=False, kind='quicksort', na_position='last')\n",
      "    Sort by the values.\n",
      "    \n",
      "    Sort a Series in ascending or descending order by some\n",
      "    criterion.\n",
      "    \n",
      "    Parameters\n",
      "    ----------\n",
      "    axis : {0 or 'index'}, default 0\n",
      "        Axis to direct sorting. The value 'index' is accepted for\n",
      "        compatibility with DataFrame.sort_values.\n",
      "    ascending : bool, default True\n",
      "        If True, sort values in ascending order, otherwise descending.\n",
      "    inplace : bool, default False\n",
      "        If True, perform operation in-place.\n",
      "    kind : {'quicksort', 'mergesort' or 'heapsort'}, default 'quicksort'\n",
      "        Choice of sorting algorithm. See also :func:`numpy.sort` for more\n",
      "        information. 'mergesort' is the only stable  algorithm.\n",
      "    na_position : {'first' or 'last'}, default 'last'\n",
      "        Argument 'first' puts NaNs at the beginning, 'last' puts NaNs at\n",
      "        the end.\n",
      "    \n",
      "    Returns\n",
      "    -------\n",
      "    Series\n",
      "        Series ordered by values.\n",
      "    \n",
      "    See Also\n",
      "    --------\n",
      "    Series.sort_index : Sort by the Series indices.\n",
      "    DataFrame.sort_values : Sort DataFrame by the values along either axis.\n",
      "    DataFrame.sort_index : Sort DataFrame by indices.\n",
      "    \n",
      "    Examples\n",
      "    --------\n",
      "    >>> s = pd.Series([np.nan, 1, 3, 10, 5])\n",
      "    >>> s\n",
      "    0     NaN\n",
      "    1     1.0\n",
      "    2     3.0\n",
      "    3     10.0\n",
      "    4     5.0\n",
      "    dtype: float64\n",
      "    \n",
      "    Sort values ascending order (default behaviour)\n",
      "    \n",
      "    >>> s.sort_values(ascending=True)\n",
      "    1     1.0\n",
      "    2     3.0\n",
      "    4     5.0\n",
      "    3    10.0\n",
      "    0     NaN\n",
      "    dtype: float64\n",
      "    \n",
      "    Sort values descending order\n",
      "    \n",
      "    >>> s.sort_values(ascending=False)\n",
      "    3    10.0\n",
      "    4     5.0\n",
      "    2     3.0\n",
      "    1     1.0\n",
      "    0     NaN\n",
      "    dtype: float64\n",
      "    \n",
      "    Sort values inplace\n",
      "    \n",
      "    >>> s.sort_values(ascending=False, inplace=True)\n",
      "    >>> s\n",
      "    3    10.0\n",
      "    4     5.0\n",
      "    2     3.0\n",
      "    1     1.0\n",
      "    0     NaN\n",
      "    dtype: float64\n",
      "    \n",
      "    Sort values putting NAs first\n",
      "    \n",
      "    >>> s.sort_values(na_position='first')\n",
      "    0     NaN\n",
      "    1     1.0\n",
      "    2     3.0\n",
      "    4     5.0\n",
      "    3    10.0\n",
      "    dtype: float64\n",
      "    \n",
      "    Sort a series of strings\n",
      "    \n",
      "    >>> s = pd.Series(['z', 'b', 'd', 'a', 'c'])\n",
      "    >>> s\n",
      "    0    z\n",
      "    1    b\n",
      "    2    d\n",
      "    3    a\n",
      "    4    c\n",
      "    dtype: object\n",
      "    \n",
      "    >>> s.sort_values()\n",
      "    3    a\n",
      "    1    b\n",
      "    4    c\n",
      "    2    d\n",
      "    0    z\n",
      "    dtype: object\n",
      "\n"
     ]
    },
    {
     "data": {
      "text/html": [
       "<div>\n",
       "<style scoped>\n",
       "    .dataframe tbody tr th:only-of-type {\n",
       "        vertical-align: middle;\n",
       "    }\n",
       "\n",
       "    .dataframe tbody tr th {\n",
       "        vertical-align: top;\n",
       "    }\n",
       "\n",
       "    .dataframe thead th {\n",
       "        text-align: right;\n",
       "    }\n",
       "</style>\n",
       "<table border=\"1\" class=\"dataframe\">\n",
       "  <thead>\n",
       "    <tr style=\"text-align: right;\">\n",
       "      <th></th>\n",
       "      <th>d</th>\n",
       "      <th>a</th>\n",
       "      <th>b</th>\n",
       "      <th>c</th>\n",
       "    </tr>\n",
       "  </thead>\n",
       "  <tbody>\n",
       "    <tr>\n",
       "      <th>one</th>\n",
       "      <td>0</td>\n",
       "      <td>1</td>\n",
       "      <td>2</td>\n",
       "      <td>3</td>\n",
       "    </tr>\n",
       "    <tr>\n",
       "      <th>two</th>\n",
       "      <td>4</td>\n",
       "      <td>5</td>\n",
       "      <td>6</td>\n",
       "      <td>7</td>\n",
       "    </tr>\n",
       "  </tbody>\n",
       "</table>\n",
       "</div>"
      ],
      "text/plain": [
       "     d  a  b  c\n",
       "one  0  1  2  3\n",
       "two  4  5  6  7"
      ]
     },
     "execution_count": 10,
     "metadata": {},
     "output_type": "execute_result"
    }
   ],
   "source": [
    "#要对行或者列索引进行排序(按字典排序)，可使用sort_index方法，它将返回一个已排序的新对象\n",
    "import pandas as pd\n",
    "import numpy as np\n",
    "\n",
    "obj=pd.Series(np.arange(4),index=['i','f','c','d'])\n",
    "obj.sort_index()\n",
    "print(obj)\n",
    "#对于DataFrame，则可以根据任意一个轴上进行排序\n",
    "frame=pd.DataFrame(np.arange(8).reshape(2,4),index=['one','two'],columns=['d','a','b','c'])\n",
    "frame.sort_index()\n",
    "frame.sort_index(axis='columns')\n",
    "frame.sort_index(axis=1)\n",
    "#数据默认是按升序排列的，但也可以按降序排列\n",
    "frame.sort_index(axis=1,ascending=False)\n",
    "#若要按值对Series进行排序，可使用sort_values方法\n",
    "help('pandas.Series.sort_values')\n",
    "s=pd.Series(np.random.randn(6),index=['a','v','d','s','g','l'])\n",
    "s.sort_values()\n",
    "#在排序时，任何缺失值都会默认被放到Series的末尾\n",
    "frame.sort_values(by='d',ascending=False)\n",
    "frame.sort_values(by=['d','a'],ascending=True,axis=0)\n",
    "frame.sort_values(by='one',axis=1)"
   ]
  },
  {
   "cell_type": "markdown",
   "metadata": {},
   "source": [
    " - 排名"
   ]
  },
  {
   "cell_type": "code",
   "execution_count": null,
   "metadata": {},
   "outputs": [],
   "source": [
    "#排序会从1开始一直到数组中有效数据的数量\n",
    "#默认情况下，rank是通过为各组分配一个平均排名的方式来破坏平级关系的\n",
    "\n",
    "obj=pd.Series([2,3,9,1,4,9,2])\n",
    "print(obj.rank(axis=0,method='average'))\n",
    "#也可以根据各值在原数据中出现的顺序给出排名\n",
    "print(obj.rank(method='first'))\n",
    "#降序\n",
    "obj.randk(method='first',ascending=False)\n",
    "obj1=pd.DataFrame(np.random.rand(3,4),index=['a','b','c'],columns=['one','three','four','eight'])\n",
    "obj1.rank(axis=1)\n",
    "obj1.rank(axis=1,method='max')"
   ]
  },
  {
   "cell_type": "markdown",
   "metadata": {},
   "source": [
    "<center>下表列出了所有用于破坏平级关系的method选项</center>\n",
    "\n",
    "| 方法 | 说明 |\n",
    "| :-: | :-:|\n",
    "| average | 默认，在相等的分组中，为各个值分配排名 |\n",
    "| min | 使用整个分组的最小排名 |\n",
    "| max | 使用整个分组的最大排名 |\n",
    "| first | 按值在原始数据中的出现顺序分配排名 |\n",
    "| dense | 类似 'min' 方法，但是排名总是在组间增加1，而不是组中相同的元素数 |\n"
   ]
  },
  {
   "cell_type": "markdown",
   "metadata": {},
   "source": [
    "### 5.3 汇总和计算描述统计\n",
    "\n",
    "#### 1.常用统计"
   ]
  },
  {
   "cell_type": "code",
   "execution_count": null,
   "metadata": {},
   "outputs": [],
   "source": [
    "import numpy as np\n",
    "import pandas as pd\n",
    "\n",
    "df=pd.DataFrame([[1.4,np.nan],[7.1,-4.5],[np.nan],[0.75,-1.3]])\n",
    "df.sum()\n",
    "df.sum(axis=1,skipna=False)\n",
    "df=pd.DataFrame(np.random.randn(3,4),index=['a','d','e'],columns=['one','three','five','seven'])\n",
    "df.mean(axis=1)\n",
    "df.iloc[2,2]=np.nan\n",
    "df.mean(axis=1,skipna=False)\n",
    "#有些方法返回的是间接统计(比如达到最大值或最小值的索引)\n",
    "df.idxmax()\n",
    "#另一些方法是累计型的\n",
    "print(df.cumsum(axis=1,skipna=False))\n",
    "#还有一种方法，用于一次性产生多个汇总统计\n",
    "df.describe()\n",
    "#对于非数值型数据，describe也会产生另一种汇总统计\n",
    "obj=pd.Series(['a','b','c','f','c']*4)\n",
    "print(obj.describe())"
   ]
  },
  {
   "cell_type": "markdown",
   "metadata": {},
   "source": [
    ">描述和汇总统计:\n",
    "\n",
    "| count | 非NA值的数量 |\n",
    "| :-: | :-: |\n",
    "| describe | 针对Series或各DataFrame列计算汇总统计 |\n",
    "| min、max |　计算最大值和最小值 |\n",
    "| argmin、argmax | 计算能够获取到最小值和最大值的索引值 |\n",
    "| idxmin、 idxmax | 和argmin和argmax一样的，所以有什么意义吗 |\n",
    "| quantile | 获取分位数 |\n",
    "| sum | 值的总和 |\n",
    "| mean | 平均值 |\n",
    "| median | 中位数 |\n",
    "| mad | 平均绝对离差 |\n",
    "| var | 方差 |\n",
    "| std | 标准差 |\n",
    "| skew | 三阶矩（偏度）|　\n",
    "| kurt | 四阶矩(峰度) |\n",
    "| cumsum | 样本值的累积和 |\n",
    "| cummin、cummax | 累计最小值和累计最大值 |\n",
    "| cumprod | 累计积 |\n",
    "| diff | 一阶差分 |\n",
    "| pct_change | 计算百分比变化 |\n"
   ]
  },
  {
   "cell_type": "code",
   "execution_count": null,
   "metadata": {},
   "outputs": [],
   "source": [
    "#相关系数与方差\n",
    "import pandas_datareader.data as web\n",
    "import pandas as pd\n",
    "import numpy as np\n",
    "\n",
    "all_data={ticker:web.get_data_yahoo(ticker)\\\n",
    "     for ticker in ['AAPL','IBM','MSFT','GOOG']}\n",
    "price=pd.DataFrame({ticker:data['Adj Close'] for ticker,data in all_data.items()})\n",
    "returns=price.pct_change()\n",
    "\n",
    "returns.tail(5)\n",
    "#Series中的corr方法用于计算两个Series中重叠的、非NA的，按索引对齐的值的相关系数\n",
    "#与此类似，cov用于计算协方差\n",
    "returns['AAPL'].corr(returns['GOOGL'])\n",
    "#另一方面，DataFrame的corr和cov方法将以DataFrame的形式分布返回完整的相关系数或者协方差矩阵\n",
    "returns.corr()\n",
    "#利用DataFrame的corrwith方法，你可以计算其列或行跟另一个Series或者DataFrame的相关系数\n",
    "returns.corrwith(returns.IBM)"
   ]
  },
  {
   "cell_type": "code",
   "execution_count": 2,
   "metadata": {},
   "outputs": [
    {
     "data": {
      "text/plain": [
       "array([ 0, -1, -1, -1, -1,  0, -1, -1], dtype=int64)"
      ]
     },
     "execution_count": 2,
     "metadata": {},
     "output_type": "execute_result"
    }
   ],
   "source": [
    "#唯一值、值计数以及成员资格\n",
    "import pandas as pd\n",
    "import numpy as np\n",
    "\n",
    "obj=pd.Series(['a','c','b','c','f','e'])\n",
    "#Series.unique可以得到Series中的唯一数组(array)：\n",
    "uniques=obj.unique()\n",
    "#如果需要的话，使用sort()对结果进行排序\n",
    "uniques.sort()\n",
    "#value_counts用来计算一个Series中各值出现的频率\n",
    "#value_counts还是一个顶级pandas方法，可以用于任何数组或者序列\n",
    "#为了便于查看，Series中的值是按频率降序排列的\n",
    "counts=obj.value_counts()\n",
    "\n",
    "#isin用于判断矢量化集合的成员资格，可用于过滤Series或者DataFrame中的数据\n",
    "obj=pd.Series(np.array(['a','v','b','e','f','e','g','j','h']))\n",
    "mask=obj.isin(['b','f'])\n",
    "\n",
    "#与isin类似的是Index.get_indexer方法，它可以给你一个索引数组，从可能包含\n",
    "#重复值的数组到另一个不同值的数组\n",
    "to_match=pd.Series(['a','f','d','g','h','a','g','v'])\n",
    "unique_vals=pd.Series(['a','b','c'])\n",
    "#get_indexer返回的是to_match的值在unique_vals中的索引，如果没有，则返回-1\n",
    "pd.Index(unique_vals).get_indexer(to_match)"
   ]
  },
  {
   "cell_type": "markdown",
   "metadata": {},
   "source": [
    "下表给出了这几个方法的一些参考信息\n",
    "\n",
    "| 方法 | 说明 |\n",
    "| :-: | :-: |\n",
    "| isin | 计算一个表示 'Series'各值是否包含于传入的值序列中的布尔型数据 |\n",
    "| match | 计算一个数组中的各值到另一个不同值数组的整数索引，对于数据对齐和连接类型的操作十分有用 |\n",
    "| unique | 计算Series中的唯一数组，按发现的顺序返回,包括NaN |\n",
    "| value_counts | 返回一个Series，其索引为唯一值，其值为频率，按计数值降序排列 |"
   ]
  },
  {
   "cell_type": "markdown",
   "metadata": {},
   "source": [
    "#### 2.集中趋势"
   ]
  },
  {
   "cell_type": "code",
   "execution_count": 3,
   "metadata": {},
   "outputs": [
    {
     "data": {
      "text/plain": [
       "3.25"
      ]
     },
     "execution_count": 3,
     "metadata": {},
     "output_type": "execute_result"
    }
   ],
   "source": [
    "import numpy as np\n",
    "from scipy import stats\n",
    "import pandas as pd\n",
    "\n",
    "array=np.random.randint(0,5,10)\n",
    "#截尾均值(trimmed mean)\n",
    "stats.tmean(array,limits=[3,8])\n",
    "#缩尾均值(winsorized mean):把原始数据中最大的N个数用第N+1大的数替代，把原始数据中的最小的N个数用第N+1小的数替代\n",
    "stats.mstats.winsorize(array,[0.1,0.1]).mean()\n",
    "#中位数\n",
    "np.median(array)\n",
    "#分位数\n",
    "pd.DataFrame([]).median\n",
    "#众数\n",
    "pd.DataFrame.mode"
   ]
  },
  {
   "cell_type": "markdown",
   "metadata": {},
   "source": [
    "#### 3.离散程度"
   ]
  },
  {
   "cell_type": "code",
   "execution_count": null,
   "metadata": {},
   "outputs": [],
   "source": [
    "import numpy as np\n",
    "import pandas as pd\n",
    "from scipy import stats\n",
    "\n",
    "#极差\n",
    "np.ptp(np.arange(20))\n",
    "#方差和标准差\n",
    "np.var&np.std\n",
    "#协方差\n",
    "np.cov\n",
    "#变异系数\n",
    "np.var/np.std"
   ]
  },
  {
   "cell_type": "markdown",
   "metadata": {},
   "source": [
    "#### 4.分布形状"
   ]
  },
  {
   "cell_type": "code",
   "execution_count": 2,
   "metadata": {},
   "outputs": [
    {
     "data": {
      "text/plain": [
       "1.763007171941938"
      ]
     },
     "execution_count": 2,
     "metadata": {},
     "output_type": "execute_result"
    }
   ],
   "source": [
    "import pandas as pd\n",
    "import numpy as np\n",
    "\n",
    "#偏度-skewness(3次方)\n",
    "obj=pd.Series(np.random.randn(10))\n",
    "obj.skew()\n",
    "#峰度-kurtosis(4次方减3)\n",
    "obj.kurt()"
   ]
  },
  {
   "cell_type": "code",
   "execution_count": null,
   "metadata": {},
   "outputs": [],
   "source": []
  }
 ],
 "metadata": {
  "kernelspec": {
   "display_name": "Python 3",
   "language": "python",
   "name": "python3"
  },
  "language_info": {
   "codemirror_mode": {
    "name": "ipython",
    "version": 3
   },
   "file_extension": ".py",
   "mimetype": "text/x-python",
   "name": "python",
   "nbconvert_exporter": "python",
   "pygments_lexer": "ipython3",
   "version": "3.6.4"
  }
 },
 "nbformat": 4,
 "nbformat_minor": 2
}

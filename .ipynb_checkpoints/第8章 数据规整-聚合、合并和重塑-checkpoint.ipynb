{
 "cells": [
  {
   "cell_type": "markdown",
   "metadata": {},
   "source": [
    "# <center>第8章 数据规整:聚合、合并和重塑</center>\n",
    "\n",
    "## 8.1 层次化索引\n",
    "\n",
    "### 1.层次化索引\n",
    "- Series的层次化索引"
   ]
  },
  {
   "cell_type": "code",
   "execution_count": 3,
   "metadata": {},
   "outputs": [
    {
     "name": "stdout",
     "output_type": "stream",
     "text": [
      "     Ohio     Colorado\n",
      "    Green Red    Green\n",
      "a 1     0   1        2\n",
      "  2     3   4        5\n",
      "b 1     6   7        8\n",
      "  2     9  10       11\n"
     ]
    }
   ],
   "source": [
    "import pandas as pd \n",
    "import numpy as np \n",
    "\n",
    "data=pd.Series(np.random.randn(9),index=[['a','a','a','b','b','c','c','d','d'],[1,2,3,1,3,1,2,2,3]])\n",
    "data\n",
    "\n",
    "#部分索引\n",
    "data['b']\n",
    "data[:,1]\n",
    "#这样不行 data['b':'c',1],data['b','d']\n",
    "data[['b','c']]\n",
    "data.loc[('b','d'),:]\n",
    "data\n",
    "#还可以直接在内层选取\n",
    "data.loc[:,2]\n",
    "data.loc[['a','d'],:]\n",
    "#层次化索引在数据重塑和基于分组的操作中扮演着十分重要的角色\n",
    "\n",
    "#对于一个DataFrame，每条轴都可以有分层索引\n",
    "frame = pd.DataFrame(np.arange(12).reshape((4, 3)),index=[['a', 'a', 'b', 'b'], [1, 2, 1, 2]],\\\n",
    "    columns=[['Ohio', 'Ohio', 'Colorado'], ['Green', 'Red', 'Green']])\n",
    "print(frame)\n",
    "frame.Ohio.Red\n",
    "frame['Ohio','Red']\n",
    "\n",
    "#层次化的索引里面需要用tuple\n",
    "frame.loc[('a',1),('Ohio','Green')]\n",
    "frame.loc[(('a','b'),2),('Ohio','Red')]\n",
    "\n",
    "#各层都可以有名字\n",
    "frame.index.names=['key1','key2']\n",
    "frame.columns.names=['state','color']\n",
    "\n",
    "#可以单独创建MultiIndex然后复用\n",
    "a=pd.MultiIndex.from_arrays([['Ohio', 'Ohio', 'Colorado'], ['Green', 'Red', 'Green']],\n",
    "                       names=['state', 'color'])"
   ]
  },
  {
   "cell_type": "markdown",
   "metadata": {},
   "source": [
    "- DataFrame的层次化索引"
   ]
  },
  {
   "cell_type": "code",
   "execution_count": null,
   "metadata": {},
   "outputs": [],
   "source": [
    "import pandas as pd\n",
    "import numpy as np\n",
    "\n",
    "#对于一个DataFrame，每条轴都可以有分层索引\n",
    "frame = pd.DataFrame(np.arange(12).reshape((4, 3)),index=[['a', 'a', 'b', 'b'], [1, 2, 1, 2]],\\\n",
    "    columns=[['Ohio', 'Ohio', 'Colorado'], ['Green', 'Red', 'Green']])\n",
    "print(frame)\n",
    "frame.Ohio.Red\n",
    "frame['Ohio','Red']\n",
    "\n",
    "#层次化的索引里面需要用tuple\n",
    "frame.loc[('a',1),('Ohio','Green')]\n",
    "frame.loc[(('a','b'),2),('Ohio','Red')]\n",
    "\n",
    "#各层都可以有名字\n",
    "frame.index.names=['key1','key2']\n",
    "frame.columns.names=['state','color']\n",
    "\n",
    "#可以单独创建MultiIndex然后复用\n",
    "a=pd.MultiIndex.from_arrays([['Ohio', 'Ohio', 'Colorado'], ['Green', 'Red', 'Green']],\n",
    "                       names=['state', 'color'])"
   ]
  },
  {
   "cell_type": "markdown",
   "metadata": {},
   "source": [
    "### 2.重排与分级排序"
   ]
  },
  {
   "cell_type": "code",
   "execution_count": null,
   "metadata": {},
   "outputs": [],
   "source": [
    "import pandas as pd \n",
    "import numpy as np\n",
    "\n",
    "#调整某条轴上各级别的顺序\n",
    "frame = pd.DataFrame(np.arange(12).reshape((4, 3)),index=[['a', 'a', 'b', 'b'], [1, 2, 1, 2]],\\\n",
    "    columns=[['Ohio', 'Ohio', 'Colorado'], ['Green', 'Red', 'Green']])\n",
    "frame.swaplevel('key1','key2')\n",
    "frame.swaplevel('color','state',axis=1)\n",
    "#DataFrame.sort_index则根据单个级别中的值对数据进行排序\n",
    "frame.sort_index(level=1)\n",
    "\n",
    "#根据级别汇总统计\n",
    "frame=pd.DataFrame(np.random.randn(5,5),index=[['a','b','a','f','b'],['ss','nn','ss','ff','nn']],\n",
    "columns=['java','c++','julia','perl','ruby'])\n",
    "frame.sum(level=1)"
   ]
  },
  {
   "cell_type": "markdown",
   "metadata": {},
   "source": [
    "## 8.2 合并数据集"
   ]
  },
  {
   "cell_type": "markdown",
   "metadata": {},
   "source": [
    "### 1.数据库风格的DataFrame合并\n",
    "\n",
    ">merge(left, right, how='inner'/'outer'/'left'/'right', on=None, left_on=None, right_on=None, left_index=False, right_index=False, sort=False, suffixes=('_x', '_y'), copy=True, indicator=False, validate=None).suffixes用于重叠的列的后缀;indicator在how='outer'时，给不同来源的行进行标识"
   ]
  },
  {
   "cell_type": "code",
   "execution_count": null,
   "metadata": {},
   "outputs": [],
   "source": [
    "import pandas as pd\n",
    "import numpy as np\n",
    "\n",
    "df1=pd.DataFrame({'key':['b','b','a','c','a','a','b'],\n",
    "                    'data1':range(7)})\n",
    "df2=pd.DataFrame({'key':['a','b','d'],'data2':range(3)})\n",
    "\n",
    "#how有outer、inner、right和left\n",
    "pd.merge(df1,df2,on='key',how='inner')\n",
    "#列名不同可以用right_on='data1'和left_on='data2'分别指定\n",
    "#right和left参数是使用相应DataFrame中的所有键\n",
    "#suffixes参数是在两边有列名相同时加上后缀\n",
    "pd.merge(df1,df2,left_on='data1',right_on='data2',suffixes=['_a','_b'])\n",
    "\n",
    "pd.merge(df1,df2,how='outer',on='key',indicator=True)"
   ]
  },
  {
   "cell_type": "markdown",
   "metadata": {},
   "source": [
    "### 2.多对多的合并有些不直观"
   ]
  },
  {
   "cell_type": "code",
   "execution_count": null,
   "metadata": {},
   "outputs": [],
   "source": [
    "import pandas as pd\n",
    "import numpy as np \n",
    "\n",
    "df1=pd.DataFrame({'key':['b','b','a','c','a','b'],'data1':range(6)})\n",
    "df2=pd.DataFrame({'key':['a','b','a','b','d'],'date2':range(5)})\n",
    "pd.merge(df1,df2)\n",
    "#要根据多个键进行合并，传入一个由列名组成的列表即可\n",
    "left=pd.DataFrame({'key1':['foo','foo','bar'],\n",
    "                    'key2':['one','two','one'],\n",
    "                    'lval':[1,2,3]})\n",
    "right=pd.DataFrame({'key1':['foo','foo','bar','bar'],\n",
    "                    'key2':['one','one','one','two'],\n",
    "                    'rval':[4,5,6,7]})\n",
    "print(left,'\\n',right)\n",
    "pd.merge(left,right,on=['key1','key2'],how='outer')"
   ]
  },
  {
   "cell_type": "code",
   "execution_count": null,
   "metadata": {},
   "outputs": [],
   "source": [
    "#索引上的合并\n",
    "#有时候，DataFrame的连接键位于其索引中\n",
    "#传入left_index=True或者right_index=True就可以了\n",
    "left=pd.DataFrame({'key':['a','b','a','a','b','c'],\n",
    "                    'value':range(6)})\n",
    "right=pd.DataFrame({'group_val':[3.5,7]},index=['a','b'])\n",
    "pd.merge(left,right,left_on='key',right_index=True)  \n",
    "#DataFrame/Series还有一个便捷的join方法，能方便的实现按索引合并，但要求没有重叠的列\n",
    "#也就是说，合并的2个DataFrame不能出现相同的列\n",
    "help(left.join)\n",
    "#按索引合并，how的参数默认为'left'\n",
    "left.join(right,how='outer')\n",
    "#on参数是传入left的某列和right的索引连接\n",
    "left.join(right,on='key',how='inner')"
   ]
  },
  {
   "cell_type": "markdown",
   "metadata": {},
   "source": [
    "### 3.Pandas的cancat函数\n",
    "\n",
    ">merge只能连接行，cancat既可以连接行，又可以连接列\n",
    "\n",
    ">concat(objs, axis=0, join='outer', join_axes=None, ignore_index=False, keys=None, levels=None, names=None, verify_integrity=False, sort=None, copy=True).axis=0默认竖直方向上连接,keys表示在index中标明数据来源,names与keys对应，对keys命名；verigy_integrity表示检查是否存在重复index，默认不检测"
   ]
  },
  {
   "cell_type": "code",
   "execution_count": null,
   "metadata": {},
   "outputs": [],
   "source": [
    "#numpy提供的轴向连接方法\n",
    "import pandas as pd\n",
    "import numpy as np\n",
    "\n",
    "#numpy数组的轴向连接\n",
    "arr=np.arange(12).reshape(3,4)\n",
    "np.concatenate([arr,arr],axis=1)"
   ]
  },
  {
   "cell_type": "markdown",
   "metadata": {},
   "source": [
    "- Series的连接"
   ]
  },
  {
   "cell_type": "code",
   "execution_count": null,
   "metadata": {},
   "outputs": [],
   "source": [
    "import pandas as pd \n",
    "import numpy as np\n",
    "\n",
    "s1=pd.Series([0,1],index=['a','b'])\n",
    "s2=pd.Series([2,3,4],index=['c','d','d'])\n",
    "s3=pd.Series([5,4],index=['a','e'])\n",
    "\n",
    "pd.concat([s1,s2])#直接在竖直方向上连接\n",
    "pd.concat([s1,s2],ignore_index=True)\n",
    "pd.concat([s1,s2],keys=['s1','s2'])#keys对来源进行标注\n",
    "pd.concat([s1,s2],keys=['s1','s2'],names='aa')\n",
    "\n",
    "pd.concat([s1,s3],axis=1,keys=['s1','s3'],name='aa')\n",
    "#通过指定join_axes指定要在其他轴上使用的索引\n",
    "pd.concat([s1,s3],axis=1,join_axes=[['a','b']],keys=['mm','aa'])\n"
   ]
  },
  {
   "cell_type": "markdown",
   "metadata": {},
   "source": [
    "- DataFrame的连接"
   ]
  },
  {
   "cell_type": "code",
   "execution_count": null,
   "metadata": {},
   "outputs": [],
   "source": [
    "import pandas as pd\n",
    "import numpy as np\n",
    "\n",
    "a=pd.Index(['julia','python','c++'],names='language')\n",
    "b=pd.Index(['a','v','f'],names='vv')\n",
    "obj1=pd.DataFrame(np.random.randint(0,3,(3,3)),index=a,columns=b)\n",
    "obj2=pd.DataFrame(np.random.randint(0,3,(3,3)),columns=['a','f','s'])\n",
    "#这个join_axes参数真是日了狗了\n",
    "pd.concat([obj1,obj2],axis=0,keys=['hello','Python'],join_axes=[pd.Index(['a','f'])])\n",
    "#如果行索引不包含任何相关数据，传入ignore_index=True即可\n",
    "\n",
    "df1=pd.DataFrame(np.random.randn(3,4),columns=['a','b','c','d'])\n",
    "df2=pd.DataFrame(np.random.randn(2,3),columns=['b','d','a'])\n",
    "\n",
    "pd.concat([df1,df2],join='inner')#join='inner'表示只保留公共的列\n",
    "pd.concat([df1,df2],keys=['df1','df2'],names=['julia'])"
   ]
  },
  {
   "cell_type": "markdown",
   "metadata": {},
   "source": [
    "## 8.3 重塑和轴向旋转\n",
    "\n",
    "### 1.重塑层次化索引"
   ]
  },
  {
   "cell_type": "code",
   "execution_count": null,
   "metadata": {},
   "outputs": [],
   "source": [
    "import pandas as pd\n",
    "import numpy as np\n",
    "\n",
    "data=pd.DataFrame(np.arange(6).reshape((2,3)),index=pd.Index(['ohio','colortdo'],name='state'),\n",
    "columns=pd.Index(['one','two','three'],name='number'))\n",
    "\n",
    "data.stack()\n",
    "a=data.stack()\n",
    "a.unstack(level=1)\n",
    "a.unstack('number')\n",
    "#如果不是所有的值都能在分组中找到的话，unstack操作可能会引入缺失数据\n",
    "#但是务必注意index的值不能重复\n",
    "s1=pd.Series([1,34,3,3],index=['a','b','c','d'])\n",
    "s2=pd.Series([4,5,6],index=['c','d','e'])\n",
    "data2=pd.concat([s1,s2],keys=['s1','s2'])\n",
    "print(data2)\n",
    "data2.unstack()\n",
    "a=data2.unstack()\n",
    "print(a)\n",
    "a.stack()"
   ]
  },
  {
   "cell_type": "markdown",
   "metadata": {},
   "source": [
    "### 2.将'长格式'旋转为'宽格式'"
   ]
  },
  {
   "cell_type": "code",
   "execution_count": null,
   "metadata": {},
   "outputs": [],
   "source": [
    "import pandas as pd \n",
    "import numpy as np\n",
    "data=pd.read_csv('data_test\\\\macrodata.csv')\n",
    "periods=pd.PeriodIndex(year=data.year,quarter=data.quarter,name='data')\n",
    "columns=pd.Index(['realgdp','infl','unemp'],name='item')\n",
    "data1=data.reindex(columns=columns)\n",
    "#把periods转化为时间戳\n",
    "data1.index=periods.to_timestamp('D','end')\n",
    "periods.to_timestamp('D','start')\n",
    "ldata=data1.stack().reset_index().rename(columns={0:'value'})\n",
    "#DataFrame.pivot相当于stack的逆过程,但是功能更强,能用来做数据透视表\n",
    "print(ldata)\n",
    "#DataFrame.pivot(index=?,columns=?,values=?)\n",
    "ldata.pivot(index='data',columns='item',values='value')\n",
    "#如果忽略最后一个参数,得到的DataFrame就会带有层次化的列\n",
    "ldata['data2']=np.random.randn(15)\n",
    "ldata.pivot(index='data',columns='item')\n"
   ]
  },
  {
   "cell_type": "markdown",
   "metadata": {},
   "source": [
    "### 3.将宽格式转换为长格式"
   ]
  },
  {
   "cell_type": "code",
   "execution_count": null,
   "metadata": {},
   "outputs": [],
   "source": [
    "#pivot的逆过程\n",
    "#pd.melt(df,id_vars=作为变量的列,var_name=变量列名,value_name=值名默认为'value')\n",
    "df=pd.DataFrame({'key':['foo','bar','baz'],\n",
    "                    'A':[1,3,4],'B':[4,5,6],'C':[7,8,9]})\n",
    "print(df)\n",
    "a=pd.melt(df,['key','A'],var_name='hello')\n",
    "print(a)\n",
    "#使用pivot还原\n",
    "#遗憾的是pivot接收的参数似乎不能是list\n",
    "a.pivot(index='key',columns='hello',values='value')"
   ]
  }
 ],
 "metadata": {
  "kernelspec": {
   "display_name": "Python 3",
   "language": "python",
   "name": "python3"
  },
  "language_info": {
   "codemirror_mode": {
    "name": "ipython",
    "version": 3
   },
   "file_extension": ".py",
   "mimetype": "text/x-python",
   "name": "python",
   "nbconvert_exporter": "python",
   "pygments_lexer": "ipython3",
   "version": "3.6.4"
  }
 },
 "nbformat": 4,
 "nbformat_minor": 2
}

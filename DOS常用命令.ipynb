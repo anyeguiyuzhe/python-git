{
 "cells": [
  {
   "cell_type": "markdown",
   "metadata": {},
   "source": [
    "| 代码 | 说明 |\n",
    "|:-:|:-:|\n",
    "|exit|退出|\n",
    "|cls|清除命令|\n",
    "|dir|列出当前目录文件|\n",
    "|cd+路径|改变路径|\n",
    "|cd..|回到上级路径|\n",
    "|盘符|更改根目录|"
   ]
  }
 ],
 "metadata": {
  "kernelspec": {
   "display_name": "Python 3",
   "language": "python",
   "name": "python3"
  },
  "language_info": {
   "codemirror_mode": {
    "name": "ipython",
    "version": 3
   },
   "file_extension": ".py",
   "mimetype": "text/x-python",
   "name": "python",
   "nbconvert_exporter": "python",
   "pygments_lexer": "ipython3",
   "version": "3.6.4"
  }
 },
 "nbformat": 4,
 "nbformat_minor": 2
}

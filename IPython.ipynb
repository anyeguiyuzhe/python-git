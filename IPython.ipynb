{
 "cells": [
  {
   "cell_type": "markdown",
   "metadata": {},
   "source": [
    "1. tab 补全\n",
    "\n",
    "2. 自省，在变量前后使用？,可以显示对象信息。使用??可以显示函数源码\n",
    "```python\n",
    "a=1\n",
    "a?\n",
    "abs??\n",
    "```\n",
    "\n",
    "3. %run命令运行python文件\n",
    "```python\n",
    "%run \"D:\\文档\\Python Scripts\\小猪佩奇.py\"\n",
    "```\n",
    "\n",
    "4.  从剪贴板执行程序\n",
    "```python\n",
    "%run\n",
    "```\n",
    "\n",
    "5. 键盘快捷键\n",
    "![键盘快捷键](https://upload-images.jianshu.io/upload_images/7178691-e179f5ea00e50691.png?imageMogr2/auto-orient/strip%7CimageView2/2/w/491/format/webp)\n",
    "\n",
    "6. 魔术命令\n",
    "\n",
    "    1. %timeit +语句 测量运行时间\n",
    "    2. ? 查看所有魔术命令\n",
    "    3. % pwd 当前工作目录"
   ]
  }
 ],
 "metadata": {
  "kernelspec": {
   "display_name": "Python 3",
   "language": "python",
   "name": "python3"
  },
  "language_info": {
   "codemirror_mode": {
    "name": "ipython",
    "version": 3
   },
   "file_extension": ".py",
   "mimetype": "text/x-python",
   "name": "python",
   "nbconvert_exporter": "python",
   "pygments_lexer": "ipython3",
   "version": "3.6.4"
  }
 },
 "nbformat": 4,
 "nbformat_minor": 2
}

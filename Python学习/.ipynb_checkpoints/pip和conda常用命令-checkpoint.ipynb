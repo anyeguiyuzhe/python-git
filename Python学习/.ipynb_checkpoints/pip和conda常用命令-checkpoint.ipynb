{
 "cells": [
  {
   "cell_type": "markdown",
   "metadata": {},
   "source": [
    "* 查看是否已安装\n",
    "    pip show itchat\n",
    "    \n",
    "* 检测哪些包需要更新\n",
    "    pip list outdated\n",
    "    \n",
    "* 升级包\n",
    "    pip install --upgrade matplotlib\n",
    "    \n",
    "* 卸载包\n",
    "    pip uninstall itchat\n",
    "\n",
    "* help\n",
    "    pip --help"
   ]
  }
 ],
 "metadata": {
  "kernelspec": {
   "display_name": "Python 3",
   "language": "python",
   "name": "python3"
  },
  "language_info": {
   "codemirror_mode": {
    "name": "ipython",
    "version": 3
   },
   "file_extension": ".py",
   "mimetype": "text/x-python",
   "name": "python",
   "nbconvert_exporter": "python",
   "pygments_lexer": "ipython3",
   "version": "3.6.4"
  }
 },
 "nbformat": 4,
 "nbformat_minor": 2
}

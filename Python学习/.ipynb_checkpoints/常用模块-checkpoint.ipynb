{
 "cells": [
  {
   "cell_type": "markdown",
   "metadata": {},
   "source": [
    "# <center>1.os模块</center>\n",
    "\n",
    "## 1.os下的常用操作"
   ]
  },
  {
   "cell_type": "code",
   "execution_count": 2,
   "metadata": {
    "collapsed": true
   },
   "outputs": [
    {
     "ename": "FileNotFoundError",
     "evalue": "[WinError 2] 系统找不到指定的文件。: 'D:\\\\MATLAB\\\\hello.py'",
     "output_type": "error",
     "traceback": [
      "\u001b[1;31m---------------------------------------------------------------------------\u001b[0m",
      "\u001b[1;31mFileNotFoundError\u001b[0m                         Traceback (most recent call last)",
      "\u001b[1;32m<ipython-input-2-659d32fbb808>\u001b[0m in \u001b[0;36m<module>\u001b[1;34m()\u001b[0m\n\u001b[0;32m      5\u001b[0m \u001b[0mos\u001b[0m\u001b[1;33m.\u001b[0m\u001b[0mlistdir\u001b[0m\u001b[1;33m(\u001b[0m\u001b[1;34mr\"D:\\文档\"\u001b[0m\u001b[1;33m)\u001b[0m\u001b[1;33m\u001b[0m\u001b[0m\n\u001b[0;32m      6\u001b[0m \u001b[1;31m#删除文件\u001b[0m\u001b[1;33m\u001b[0m\u001b[1;33m\u001b[0m\u001b[0m\n\u001b[1;32m----> 7\u001b[1;33m \u001b[0mos\u001b[0m\u001b[1;33m.\u001b[0m\u001b[0mremove\u001b[0m\u001b[1;33m(\u001b[0m\u001b[1;34mr'D:\\MATLAB\\hello.py'\u001b[0m\u001b[1;33m)\u001b[0m\u001b[1;33m\u001b[0m\u001b[0m\n\u001b[0m\u001b[0;32m      8\u001b[0m \u001b[1;31m#删除目录\u001b[0m\u001b[1;33m\u001b[0m\u001b[1;33m\u001b[0m\u001b[0m\n",
      "\u001b[1;31mFileNotFoundError\u001b[0m: [WinError 2] 系统找不到指定的文件。: 'D:\\\\MATLAB\\\\hello.py'"
     ]
    }
   ],
   "source": [
    "import os\n",
    "\n",
    "os.name\n",
    "os.getcwd()\n",
    "os.chdir(path)\n",
    "\n",
    "#列出path目录下的所有文件和目录\n",
    "os.listdir('.')\n",
    "os.listdir(r\"D:\\文档\")\n",
    "\n",
    "#删除文件\n",
    "os.unlink()\n",
    "os.remove(r'D:\\MATLAB\\hello.py')\n",
    "#删除目录\n",
    "os.rmdir(r'D:\\MATLAB')\n",
    "\n",
    "#执行shell命令\n",
    "os.system('cls')"
   ]
  },
  {
   "cell_type": "markdown",
   "metadata": {},
   "source": [
    "## 2.os.path下的常用操作"
   ]
  },
  {
   "cell_type": "code",
   "execution_count": null,
   "metadata": {},
   "outputs": [],
   "source": [
    "import os.path\n",
    "\n",
    "#绝对路径\n",
    "os.path.isabs()\n",
    "os.path.abspath()\n",
    "\n",
    "#文件与目录\n",
    "os.path.isfile(path)\n",
    "os.path.isdir(path)\n",
    "os.path.exists(path)\n",
    "#返回路径的目录和文件名\n",
    "os.path.split(path)\n",
    "os.path.split(os.path.sep)\n",
    "#获得文件的大小，如果为目录，返回0\n",
    "os.path.getsize(path)\n",
    "#连接目录和文件名\n",
    "os.path.join(path,name)\n",
    "\n",
    "#检查路径存在\n",
    "os.path.exists\n",
    "os.path.isfile\n",
    "os.path.isdir"
   ]
  },
  {
   "cell_type": "markdown",
   "metadata": {},
   "source": [
    "\n",
    "# <center>2.glob模块</center>\n"
   ]
  },
  {
   "cell_type": "code",
   "execution_count": 1,
   "metadata": {
    "scrolled": false
   },
   "outputs": [
    {
     "name": "stdout",
     "output_type": "stream",
     "text": [
      "False\n"
     ]
    },
    {
     "data": {
      "text/plain": [
       "True"
      ]
     },
     "execution_count": 1,
     "metadata": {},
     "output_type": "execute_result"
    }
   ],
   "source": [
    "import glob\n",
    "#参数glob(pathname,recursive=False)\n",
    "#recursive表示遍历所有目录，与通配符'**'结合使用\n",
    "path=r'D:\\图片\\**\\*.jpg'\n",
    "a=glob.glob(path)\n",
    "print(\"D:\\图片\\TIM图片20190221131059.jpg\" in a)\n",
    "b=glob.glob(path,recursive=True)\n",
    "\"D:\\图片\\TIM图片20190221131059.jpg\" in b"
   ]
  },
  {
   "cell_type": "markdown",
   "metadata": {},
   "source": [
    "- os.walk()"
   ]
  },
  {
   "cell_type": "code",
   "execution_count": 2,
   "metadata": {
    "collapsed": true
   },
   "outputs": [
    {
     "name": "stdout",
     "output_type": "stream",
     "text": [
      "当前目录是:D:\\文档\\Python Scripts\\data_test\\datasets\n",
      "(\"目录下的文件夹:['babynames', 'bitly_usagov', 'fec', 'haiti', 'movielens', \"\n",
      " \"'mta_perf', 'titanic', 'usda_food']\")\n",
      "'目录下的文件:[]'\n",
      "----------------------------------------------\n",
      "当前目录是:D:\\文档\\Python Scripts\\data_test\\datasets\\babynames\n",
      "'目录下的文件夹:[]'\n",
      "(\"目录下的文件:['NationalReadMe.pdf', 'yob1880.txt', 'yob1881.txt', 'yob1882.txt', \"\n",
      " \"'yob1883.txt', 'yob1884.txt', 'yob1885.txt', 'yob1886.txt', 'yob1887.txt', \"\n",
      " \"'yob1888.txt', 'yob1889.txt', 'yob1890.txt', 'yob1891.txt', 'yob1892.txt', \"\n",
      " \"'yob1893.txt', 'yob1894.txt', 'yob1895.txt', 'yob1896.txt', 'yob1897.txt', \"\n",
      " \"'yob1898.txt', 'yob1899.txt', 'yob1900.txt', 'yob1901.txt', 'yob1902.txt', \"\n",
      " \"'yob1903.txt', 'yob1904.txt', 'yob1905.txt', 'yob1906.txt', 'yob1907.txt', \"\n",
      " \"'yob1908.txt', 'yob1909.txt', 'yob1910.txt', 'yob1911.txt', 'yob1912.txt', \"\n",
      " \"'yob1913.txt', 'yob1914.txt', 'yob1915.txt', 'yob1916.txt', 'yob1917.txt', \"\n",
      " \"'yob1918.txt', 'yob1919.txt', 'yob1920.txt', 'yob1921.txt', 'yob1922.txt', \"\n",
      " \"'yob1923.txt', 'yob1924.txt', 'yob1925.txt', 'yob1926.txt', 'yob1927.txt', \"\n",
      " \"'yob1928.txt', 'yob1929.txt', 'yob1930.txt', 'yob1931.txt', 'yob1932.txt', \"\n",
      " \"'yob1933.txt', 'yob1934.txt', 'yob1935.txt', 'yob1936.txt', 'yob1937.txt', \"\n",
      " \"'yob1938.txt', 'yob1939.txt', 'yob1940.txt', 'yob1941.txt', 'yob1942.txt', \"\n",
      " \"'yob1943.txt', 'yob1944.txt', 'yob1945.txt', 'yob1946.txt', 'yob1947.txt', \"\n",
      " \"'yob1948.txt', 'yob1949.txt', 'yob1950.txt', 'yob1951.txt', 'yob1952.txt', \"\n",
      " \"'yob1953.txt', 'yob1954.txt', 'yob1955.txt', 'yob1956.txt', 'yob1957.txt', \"\n",
      " \"'yob1958.txt', 'yob1959.txt', 'yob1960.txt', 'yob1961.txt', 'yob1962.txt', \"\n",
      " \"'yob1963.txt', 'yob1964.txt', 'yob1965.txt', 'yob1966.txt', 'yob1967.txt', \"\n",
      " \"'yob1968.txt', 'yob1969.txt', 'yob1970.txt', 'yob1971.txt', 'yob1972.txt', \"\n",
      " \"'yob1973.txt', 'yob1974.txt', 'yob1975.txt', 'yob1976.txt', 'yob1977.txt', \"\n",
      " \"'yob1978.txt', 'yob1979.txt', 'yob1980.txt', 'yob1981.txt', 'yob1982.txt', \"\n",
      " \"'yob1983.txt', 'yob1984.txt', 'yob1985.txt', 'yob1986.txt', 'yob1987.txt', \"\n",
      " \"'yob1988.txt', 'yob1989.txt', 'yob1990.txt', 'yob1991.txt', 'yob1992.txt', \"\n",
      " \"'yob1993.txt', 'yob1994.txt', 'yob1995.txt', 'yob1996.txt', 'yob1997.txt', \"\n",
      " \"'yob1998.txt', 'yob1999.txt', 'yob2000.txt', 'yob2001.txt', 'yob2002.txt', \"\n",
      " \"'yob2003.txt', 'yob2004.txt', 'yob2005.txt', 'yob2006.txt', 'yob2007.txt', \"\n",
      " \"'yob2008.txt', 'yob2009.txt', 'yob2010.txt']\")\n",
      "----------------------------------------------\n",
      "当前目录是:D:\\文档\\Python Scripts\\data_test\\datasets\\bitly_usagov\n",
      "'目录下的文件夹:[]'\n",
      "\"目录下的文件:['example.txt']\"\n",
      "----------------------------------------------\n",
      "当前目录是:D:\\文档\\Python Scripts\\data_test\\datasets\\fec\n",
      "'目录下的文件夹:[]'\n",
      "\"目录下的文件:['fec.zip']\"\n",
      "----------------------------------------------\n",
      "当前目录是:D:\\文档\\Python Scripts\\data_test\\datasets\\haiti\n",
      "\"目录下的文件夹:['PortAuPrince_Roads']\"\n",
      "\"目录下的文件:['Haiti.csv']\"\n",
      "----------------------------------------------\n",
      "当前目录是:D:\\文档\\Python Scripts\\data_test\\datasets\\haiti\\PortAuPrince_Roads\n",
      "'目录下的文件夹:[]'\n",
      "(\"目录下的文件:['PortAuPrince_Roads.dbf', 'PortAuPrince_Roads.prj', \"\n",
      " \"'PortAuPrince_Roads.sbn', 'PortAuPrince_Roads.sbx', \"\n",
      " \"'PortAuPrince_Roads.shp', 'PortAuPrince_Roads.shx', \"\n",
      " \"'PortAuPrince_Roads_README.txt', 'PortAuPrince_Roads_sample.jpg']\")\n",
      "----------------------------------------------\n",
      "当前目录是:D:\\文档\\Python Scripts\\data_test\\datasets\\movielens\n",
      "'目录下的文件夹:[]'\n",
      "\"目录下的文件:['movies.dat', 'ratings.dat', 'README', 'users.dat']\"\n",
      "----------------------------------------------\n",
      "当前目录是:D:\\文档\\Python Scripts\\data_test\\datasets\\mta_perf\n",
      "'目录下的文件夹:[]'\n",
      "(\"目录下的文件:['parse.py', 'Performance_LIBUS.xml', 'Performance_LIBUS.xsd', \"\n",
      " \"'Performance_LIRR.xml', 'Performance_LIRR.xsd', 'Performance_MNR.xml', \"\n",
      " \"'Performance_MNR.xsd', 'Performance_MTABUS.xml', 'Performance_MTABUS.xsd', \"\n",
      " \"'Performance_NYCT.xml', 'Performance_NYCT.xsd', 'Performance_TBTA.xml', \"\n",
      " \"'Performance_TBTA.xsd']\")\n",
      "----------------------------------------------\n",
      "当前目录是:D:\\文档\\Python Scripts\\data_test\\datasets\\titanic\n",
      "'目录下的文件夹:[]'\n",
      "\"目录下的文件:['genderclassmodel.csv', 'gendermodel.csv', 'test.csv', 'train.csv']\"\n",
      "----------------------------------------------\n",
      "当前目录是:D:\\文档\\Python Scripts\\data_test\\datasets\\usda_food\n",
      "'目录下的文件夹:[]'\n",
      "\"目录下的文件:['database.json']\"\n",
      "----------------------------------------------\n"
     ]
    }
   ],
   "source": [
    "import os\n",
    "import pprint\n",
    "\n",
    "path=r\"D:\\文档\\Python Scripts\\data_test\\datasets\"\n",
    "for x,y,z in os.walk(path):\n",
    "    print('当前目录是:{}'.format(x))\n",
    "    pprint.pprint('目录下的文件夹:{}'.format(y))\n",
    "    pprint.pprint('目录下的文件:{}'.format(z))\n",
    "    print('----------------------------------------------')"
   ]
  },
  {
   "cell_type": "markdown",
   "metadata": {},
   "source": [
    "# <center>3.shutil、send2trash</center>"
   ]
  },
  {
   "cell_type": "markdown",
   "metadata": {},
   "source": [
    "## 1.复制文件和文件夹"
   ]
  },
  {
   "cell_type": "code",
   "execution_count": null,
   "metadata": {},
   "outputs": [],
   "source": [
    "import shutil\n",
    "\n",
    "#复制文件\n",
    "path_1=r\"D:\\文档\\Python Scripts\\data_test\\ml-1m\\movies.dat\"\n",
    "shutil.copy(path_1,'D:\\\\音乐')#将path处的文件复制到指定目录\n",
    "\n",
    "#复制整个文件夹\n",
    "#注意 destination必须不存在，才能成功创建,并且'm1-1m'不会出现在新文件夹中\n",
    "path_2=r\"D:\\文档\\Python Scripts\\data_test\\ml-1m\"\n",
    "shutil.copytree(path_2,'D:\\\\音乐\\\\')"
   ]
  },
  {
   "cell_type": "markdown",
   "metadata": {},
   "source": [
    "## 2.文件和文件夹的移动和改名-shutil.move\n",
    "\n",
    ">shutil.move(source,destination)"
   ]
  },
  {
   "cell_type": "code",
   "execution_count": null,
   "metadata": {},
   "outputs": [],
   "source": [
    "import shutil\n",
    "\n",
    "#可以直接移动文件和文件夹\n",
    "#构成目的地的文件夹必须存在\n",
    "shutil.move(source,destination)"
   ]
  },
  {
   "cell_type": "markdown",
   "metadata": {},
   "source": [
    "## 3.安全删除文件"
   ]
  },
  {
   "cell_type": "code",
   "execution_count": 5,
   "metadata": {
    "collapsed": true
   },
   "outputs": [
    {
     "ename": "FileNotFoundError",
     "evalue": "[WinError 2] None: 'D:\\\\文档\\\\Python Scripts\\\\population.txt'",
     "output_type": "error",
     "traceback": [
      "\u001b[1;31m--------------------------------------------------------------------------\u001b[0m",
      "\u001b[1;31mFileNotFoundError\u001b[0m                        Traceback (most recent call last)",
      "\u001b[1;32m<ipython-input-5-02707119c0b8>\u001b[0m in \u001b[0;36m<module>\u001b[1;34m()\u001b[0m\n\u001b[0;32m      2\u001b[0m \u001b[1;33m\u001b[0m\u001b[0m\n\u001b[0;32m      3\u001b[0m \u001b[0mpath\u001b[0m\u001b[1;33m=\u001b[0m\u001b[1;34mr\"D:\\文档\\Python Scripts\\population.txt\"\u001b[0m\u001b[1;33m\u001b[0m\u001b[0m\n\u001b[1;32m----> 4\u001b[1;33m \u001b[0msend2trash\u001b[0m\u001b[1;33m.\u001b[0m\u001b[0msend2trash\u001b[0m\u001b[1;33m(\u001b[0m\u001b[0mpath\u001b[0m\u001b[1;33m)\u001b[0m\u001b[1;33m\u001b[0m\u001b[0m\n\u001b[0m",
      "\u001b[1;32mD:\\python\\lib\\site-packages\\send2trash\\plat_win.py\u001b[0m in \u001b[0;36msend2trash\u001b[1;34m(path)\u001b[0m\n\u001b[0;32m     68\u001b[0m     \u001b[0mresult\u001b[0m \u001b[1;33m=\u001b[0m \u001b[0mSHFileOperationW\u001b[0m\u001b[1;33m(\u001b[0m\u001b[0mbyref\u001b[0m\u001b[1;33m(\u001b[0m\u001b[0mfileop\u001b[0m\u001b[1;33m)\u001b[0m\u001b[1;33m)\u001b[0m\u001b[1;33m\u001b[0m\u001b[0m\n\u001b[0;32m     69\u001b[0m     \u001b[1;32mif\u001b[0m \u001b[0mresult\u001b[0m\u001b[1;33m:\u001b[0m\u001b[1;33m\u001b[0m\u001b[0m\n\u001b[1;32m---> 70\u001b[1;33m         \u001b[1;32mraise\u001b[0m \u001b[0mWindowsError\u001b[0m\u001b[1;33m(\u001b[0m\u001b[1;32mNone\u001b[0m\u001b[1;33m,\u001b[0m \u001b[1;32mNone\u001b[0m\u001b[1;33m,\u001b[0m \u001b[0mpath\u001b[0m\u001b[1;33m,\u001b[0m \u001b[0mresult\u001b[0m\u001b[1;33m)\u001b[0m\u001b[1;33m\u001b[0m\u001b[0m\n\u001b[0m",
      "\u001b[1;31mFileNotFoundError\u001b[0m: [WinError 2] None: 'D:\\\\文档\\\\Python Scripts\\\\population.txt'"
     ]
    }
   ],
   "source": [
    "import send2trash\n",
    "\n",
    "path=r\"D:\\文档\\Python Scripts\\population.txt\"\n",
    "send2trash.send2trash(path)"
   ]
  },
  {
   "cell_type": "markdown",
   "metadata": {},
   "source": [
    "# <center>4.zipfile</center>"
   ]
  },
  {
   "cell_type": "markdown",
   "metadata": {},
   "source": [
    "## 1.读取ZIP文件"
   ]
  },
  {
   "cell_type": "code",
   "execution_count": 24,
   "metadata": {},
   "outputs": [],
   "source": [
    "import zipfile,os\n",
    "\n",
    "path=r\"D:\\文档\\Python Scripts\\python Numpy100题.zip\"\n",
    "data=zipfile.ZipFile(path)\n",
    "data.namelist()\n",
    "info=data.getinfo('numpy-100-master/100_Numpy_exercises.ipynb')\n",
    "[info.file_size,info.compress_size]\n",
    "data.close()"
   ]
  },
  {
   "cell_type": "markdown",
   "metadata": {},
   "source": [
    "## 2.解压缩\n",
    "\n",
    ">extractall(self, path=None, members=None, pwd=None)\n",
    "member是要解压缩的文件列表"
   ]
  },
  {
   "cell_type": "code",
   "execution_count": 28,
   "metadata": {},
   "outputs": [],
   "source": [
    "import zipfile,os\n",
    "\n",
    "path=r\"D:\\文档\\Python Scripts\\python Numpy100题.zip\"\n",
    "data=zipfile.ZipFile(path)\n",
    "x=data.namelist()\n",
    "data.extractall(path=r'D:\\音乐\\python',members=x[1:3])"
   ]
  },
  {
   "cell_type": "markdown",
   "metadata": {},
   "source": [
    "## 3.创建压缩文件"
   ]
  },
  {
   "cell_type": "code",
   "execution_count": 38,
   "metadata": {},
   "outputs": [],
   "source": [
    "import zipfile\n",
    "\n",
    "newfile=zipfile.ZipFile(r'D:\\\\文档\\\\Python Scripts\\\\data_test\\\\zipexample.zip','w')\n",
    "newfile.write(r\"D:\\文档\\Python Scripts\\application.py\",compress_type=zipfile.ZIP_DEFLATED)\n",
    "newfile.write(r\"D:\\文档\\Python Scripts\\chapter5_pandas.py\",compress_type=zipfile.ZIP_DEFLATED)\n",
    "newfile.namelist()\n",
    "newfile.close()"
   ]
  },
  {
   "cell_type": "code",
   "execution_count": null,
   "metadata": {},
   "outputs": [],
   "source": []
  },
  {
   "cell_type": "markdown",
   "metadata": {},
   "source": [
    "# <center>pyperclip</center>"
   ]
  },
  {
   "cell_type": "code",
   "execution_count": 1,
   "metadata": {},
   "outputs": [
    {
     "data": {
      "text/plain": [
       "'hello world'"
      ]
     },
     "execution_count": 1,
     "metadata": {},
     "output_type": "execute_result"
    }
   ],
   "source": [
    "import pyperclip\n",
    "\n",
    "pyperclip.paste()\n",
    "pyperclip.copy('hello world')\n",
    "pyperclip.paste()"
   ]
  },
  {
   "cell_type": "markdown",
   "metadata": {},
   "source": []
  }
 ],
 "metadata": {
  "kernelspec": {
   "display_name": "Python 3",
   "language": "python",
   "name": "python3"
  },
  "language_info": {
   "codemirror_mode": {
    "name": "ipython",
    "version": 3
   },
   "file_extension": ".py",
   "mimetype": "text/x-python",
   "name": "python",
   "nbconvert_exporter": "python",
   "pygments_lexer": "ipython3",
   "version": "3.6.4"
  }
 },
 "nbformat": 4,
 "nbformat_minor": 2
}

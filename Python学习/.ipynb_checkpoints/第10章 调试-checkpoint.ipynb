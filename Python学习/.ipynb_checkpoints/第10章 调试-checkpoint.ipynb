{
 "cells": [
  {
   "cell_type": "markdown",
   "metadata": {},
   "source": [
    "# <center>第10章 调试</center>\n",
    "\n",
    "## 10.1 抛出异常"
   ]
  },
  {
   "cell_type": "code",
   "execution_count": 1,
   "metadata": {
    "collapsed": true
   },
   "outputs": [
    {
     "ename": "Exception",
     "evalue": "error",
     "output_type": "error",
     "traceback": [
      "\u001b[1;31m---------------------------------------------------------------------------\u001b[0m",
      "\u001b[1;31mException\u001b[0m                                 Traceback (most recent call last)",
      "\u001b[1;32m<ipython-input-1-b483ef4ed54f>\u001b[0m in \u001b[0;36m<module>\u001b[1;34m()\u001b[0m\n\u001b[1;32m----> 1\u001b[1;33m \u001b[1;32mraise\u001b[0m \u001b[0mException\u001b[0m\u001b[1;33m(\u001b[0m\u001b[1;34m'error'\u001b[0m\u001b[1;33m)\u001b[0m\u001b[1;33m\u001b[0m\u001b[0m\n\u001b[0m",
      "\u001b[1;31mException\u001b[0m: error"
     ]
    }
   ],
   "source": [
    "raise Exception('error')"
   ]
  },
  {
   "cell_type": "markdown",
   "metadata": {},
   "source": [
    "## 10.2 取得反向跟踪的字符串"
   ]
  },
  {
   "cell_type": "code",
   "execution_count": 2,
   "metadata": {
    "collapsed": true
   },
   "outputs": [
    {
     "name": "stdout",
     "output_type": "stream",
     "text": [
      "Traceback (most recent call last):\n",
      "  File \"<ipython-input-2-e5e59300f264>\", line 4, in <module>\n",
      "    raise ValueError('python error')\n",
      "ValueError: python error\n",
      "\n"
     ]
    }
   ],
   "source": [
    "import traceback\n",
    "\n",
    "try:\n",
    "    raise ValueError('python error')\n",
    "except:\n",
    "    a=traceback.format_exc()\n",
    "print(a)"
   ]
  },
  {
   "cell_type": "markdown",
   "metadata": {},
   "source": [
    "## 10.3 断言\n",
    "\n",
    ">启动时输入 python -O禁用断言"
   ]
  },
  {
   "cell_type": "code",
   "execution_count": 3,
   "metadata": {
    "collapsed": true
   },
   "outputs": [
    {
     "ename": "AssertionError",
     "evalue": "assert error",
     "output_type": "error",
     "traceback": [
      "\u001b[1;31m---------------------------------------------------------------------------\u001b[0m",
      "\u001b[1;31mAssertionError\u001b[0m                            Traceback (most recent call last)",
      "\u001b[1;32m<ipython-input-3-d17a76959400>\u001b[0m in \u001b[0;36m<module>\u001b[1;34m()\u001b[0m\n\u001b[0;32m      1\u001b[0m \u001b[0ma\u001b[0m\u001b[1;33m=\u001b[0m\u001b[1;36m1\u001b[0m\u001b[1;33m\u001b[0m\u001b[0m\n\u001b[1;32m----> 2\u001b[1;33m \u001b[1;32massert\u001b[0m \u001b[0ma\u001b[0m\u001b[1;33m==\u001b[0m\u001b[1;36m3\u001b[0m\u001b[1;33m,\u001b[0m\u001b[1;34m'assert error'\u001b[0m\u001b[1;33m\u001b[0m\u001b[0m\n\u001b[0m",
      "\u001b[1;31mAssertionError\u001b[0m: assert error"
     ]
    }
   ],
   "source": [
    "a=1\n",
    "assert a==3,'assert error'"
   ]
  },
  {
   "cell_type": "markdown",
   "metadata": {},
   "source": [
    "## 10.4 日志\n",
    "\n",
    ">描述函数运行情况\n",
    "\n",
    ">logging.debug(filename,filemode,format,datafmt,level,stream,style,handlers)\n"
   ]
  },
  {
   "cell_type": "markdown",
   "metadata": {},
   "source": [
    "<center>logging模块的日志等级</center>\n",
    "\n",
    "| level | 描述 |\n",
    "| :-: | :-: |\n",
    "| DEBUG | 最详细的日志信息，典型应用场景是问题诊断 |\n",
    "| INFO | 详细程度仅次于DEBUG，通常只记录关键节点信息，用于确认一切都是按照我们的预期 |\n",
    "| WARNING | 当某些不期望的事情发生时记录的信息，此时应用程序还是正常工作 |\n",
    "| ERROR | 由于一个严重的问题导致某些功能不能正常运行时记录的信息 |\n",
    "| CRITICAL | 当发生严重错误，导致应用程序不能继续运行时记录的信息 |\n",
    "\n",
    "常用函数：\n",
    "    1. logging.debug() 创建一条严重级别为DEBUG的日志记录\n",
    "    2. logging.info() 创建一条严重级别为INFO的日志记录\n",
    "    ...以此类推"
   ]
  },
  {
   "cell_type": "code",
   "execution_count": 4,
   "metadata": {},
   "outputs": [
    {
     "name": "stderr",
     "output_type": "stream",
     "text": [
      "2019-07-12 00:33:19,615-->DEBUG-->start of program\n",
      "2019-07-12 00:33:19,617-->DEBUG-->start of factorial\n",
      "2019-07-12 00:33:19,619-->DEBUG-->i is1,total is 1\n",
      "2019-07-12 00:33:19,621-->DEBUG-->i is2,total is 2\n",
      "2019-07-12 00:33:19,622-->DEBUG-->i is3,total is 6\n",
      "2019-07-12 00:33:19,624-->DEBUG-->i is4,total is 24\n",
      "2019-07-12 00:33:19,625-->DEBUG-->i is5,total is 120\n",
      "2019-07-12 00:33:19,626-->DEBUG-->end of factorial\n",
      "2019-07-12 00:33:19,628-->DEBUG-->end\n"
     ]
    },
    {
     "name": "stdout",
     "output_type": "stream",
     "text": [
      "120\n"
     ]
    }
   ],
   "source": [
    "import logging\n",
    "\n",
    "logging.basicConfig(level=logging.DEBUG,format='%(asctime)s-->%(levelname)s-->%(message)s')\n",
    "logging.debug('start of program')\n",
    "\n",
    "def factorial(n):\n",
    "    logging.debug('start of factorial')\n",
    "    total=1\n",
    "    for i in range(1,n+1):\n",
    "        total*=i\n",
    "        logging.debug('i is'+str(i)+',total is '+str(total))\n",
    "    logging.debug('end of factorial')\n",
    "    return total\n",
    "\n",
    "print(factorial(5))\n",
    "logging.debug('end')"
   ]
  }
 ],
 "metadata": {
  "kernelspec": {
   "display_name": "Python 3",
   "language": "python",
   "name": "python3"
  },
  "language_info": {
   "codemirror_mode": {
    "name": "ipython",
    "version": 3
   },
   "file_extension": ".py",
   "mimetype": "text/x-python",
   "name": "python",
   "nbconvert_exporter": "python",
   "pygments_lexer": "ipython3",
   "version": "3.6.4"
  }
 },
 "nbformat": 4,
 "nbformat_minor": 2
}

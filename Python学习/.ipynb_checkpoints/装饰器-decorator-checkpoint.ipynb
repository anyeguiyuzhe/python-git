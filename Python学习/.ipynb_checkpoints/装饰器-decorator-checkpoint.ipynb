{
 "cells": [
  {
   "cell_type": "markdown",
   "metadata": {},
   "source": [
    "### 函数作为返回值\n"
   ]
  },
  {
   "cell_type": "code",
   "execution_count": 1,
   "metadata": {},
   "outputs": [
    {
     "name": "stdout",
     "output_type": "stream",
     "text": [
      "<function lazy_sum.<locals>.sum_ at 0x000002A5BB3E6BF8>\n"
     ]
    },
    {
     "data": {
      "text/plain": [
       "21"
      ]
     },
     "execution_count": 1,
     "metadata": {},
     "output_type": "execute_result"
    }
   ],
   "source": [
    "def lazy_sum(*args):\n",
    "    def sum_():\n",
    "        ax=0\n",
    "        for x in args:\n",
    "            ax+=x\n",
    "        return ax\n",
    "    return sum_\n",
    "a=lazy_sum(3,5,6,7)\n",
    "print(a)\n",
    "a()"
   ]
  },
  {
   "cell_type": "markdown",
   "metadata": {},
   "source": [
    "**闭包**\n",
    "    返回的函数在其内部引用了局部变量 *args* \n"
   ]
  },
  {
   "cell_type": "code",
   "execution_count": 11,
   "metadata": {},
   "outputs": [
    {
     "name": "stdout",
     "output_type": "stream",
     "text": [
      "f\n",
      "9 9 9\n"
     ]
    }
   ],
   "source": [
    "def count():\n",
    "    fs=[]\n",
    "    for i in range(1,4):\n",
    "        def f():\n",
    "            return i*i\n",
    "        fs.append(f)\n",
    "    return fs\n",
    "f1,f2,f3=count()\n",
    "print(f1.__name__)\n",
    "print(f1(),f2(),f3())\n",
    "        "
   ]
  },
  {
   "cell_type": "markdown",
   "metadata": {},
   "source": [
    "----\n",
    "### 装饰器"
   ]
  },
  {
   "cell_type": "code",
   "execution_count": 25,
   "metadata": {},
   "outputs": [
    {
     "name": "stdout",
     "output_type": "stream",
     "text": [
      "调用结束\n",
      "call now():\n",
      "装饰器\n",
      "[datetime.datetime(2019, 4, 1, 23, 16, 8, 560792), 2]\n",
      "wrapper\n"
     ]
    }
   ],
   "source": [
    "from datetime import datetime\n",
    "#假设要增强now()函数的功能,在函数调用前后自动打印日志，但又不希望改变now()函数的定义\n",
    "def log(func):\n",
    "    def wrapper(*args,**kw):\n",
    "        print('call %s():'%func.__name__)\n",
    "        return [func(*args,**kw),2]\n",
    "    print('调用结束')\n",
    "    return wrapper\n",
    "@log\n",
    "def now():\n",
    "    print('装饰器')\n",
    "    return datetime.now()\n",
    "#now()#相当于执行语句now=log(now)\n",
    "a=now()\n",
    "print(a)\n",
    "print(now.__name__)"
   ]
  },
  {
   "cell_type": "code",
   "execution_count": 29,
   "metadata": {},
   "outputs": [
    {
     "name": "stdout",
     "output_type": "stream",
     "text": [
      "hello now()\n",
      "hello,python!!!\n",
      "wrapper\n"
     ]
    }
   ],
   "source": [
    "#如果decorator本身需要传入参数，那就需要编写一个返回decorator的高阶函数\n",
    "def log(text):\n",
    "    def decorator(func):\n",
    "        def wrapper(*args,**kw):\n",
    "            print('%s %s()'%(text,func.__name__))\n",
    "            return func(*args,**kw)\n",
    "        return wrapper\n",
    "    return decorator\n",
    "@log('hello')\n",
    "def now():\n",
    "    print('hello,python!!!')\n",
    "#相当于执行语句now=log('hello')(now)\n",
    "now()\n",
    "print(now.__name__)\n",
    "    "
   ]
  },
  {
   "cell_type": "code",
   "execution_count": null,
   "metadata": {},
   "outputs": [],
   "source": []
  }
 ],
 "metadata": {
  "kernelspec": {
   "display_name": "Python 3",
   "language": "python",
   "name": "python3"
  },
  "language_info": {
   "codemirror_mode": {
    "name": "ipython",
    "version": 3
   },
   "file_extension": ".py",
   "mimetype": "text/x-python",
   "name": "python",
   "nbconvert_exporter": "python",
   "pygments_lexer": "ipython3",
   "version": "3.6.4"
  }
 },
 "nbformat": 4,
 "nbformat_minor": 2
}

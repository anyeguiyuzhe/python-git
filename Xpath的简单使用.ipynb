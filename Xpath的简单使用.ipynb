{
 "cells": [
  {
   "cell_type": "markdown",
   "metadata": {},
   "source": [
    "# <center>Xpath使用</center>"
   ]
  },
  {
   "cell_type": "markdown",
   "metadata": {},
   "source": [
    "1. 路径表达式\n",
    "\n",
    "|表达式|描述|\n",
    "|:-:|:-:|\n",
    "|nodename|选取此节点的所有节点|\n",
    "|/|从根节点选取|\n",
    "|//|从匹配选择的当前节点选择文档中的节点，而不考虑位置|\n",
    "|.|选取当前节点|\n",
    "|..|选取当前节点的父节点|\n",
    "|@|选取属性|\n",
    "|* |匹配任何节点|\n",
    "|@* | 匹配任何属性节点|"
   ]
  },
  {
   "cell_type": "markdown",
   "metadata": {},
   "source": [
    "**bilibili弹幕**"
   ]
  },
  {
   "cell_type": "code",
   "execution_count": 3,
   "metadata": {},
   "outputs": [],
   "source": [
    "import os\n",
    "os.chdir('E:\\文档\\Python Scripts')\n",
    "import requests\n",
    "from bs4 import BeautifulSoup\n",
    "from deal_cookie import deal\n",
    "from lxml import etree\n",
    "from deal_cookie import deal\n",
    "import json\n",
    "from datetime import datetime\n",
    "import logging"
   ]
  },
  {
   "cell_type": "code",
   "execution_count": 2,
   "metadata": {},
   "outputs": [],
   "source": [
    "path=r\"E:\\文档\\Python Scripts\\爬虫\\哔哩哔哩\\登录.txt\"\n",
    "with open(path) as f:\n",
    "    header=deal(f.read())\n",
    "\n",
    "#爬弹幕数据\n",
    "def bullet(oid):\n",
    "    '''\n",
    "    oid的数据在调试中搜索list\n",
    "    '''\n",
    "    url='https://api.bilibili.com/x/v1/dm/list.so?oid={}'.format(oid)\n",
    "    response=requests.get(url,headers=header)\n",
    "    html=etree.HTML(response.content)\n",
    "    danmu=html.xpath('.//d/text()')\n",
    "    return danmu"
   ]
  },
  {
   "cell_type": "code",
   "execution_count": 5,
   "metadata": {},
   "outputs": [
    {
     "data": {
      "text/plain": [
       "['并不是说哭腔不能用，而是你有点不敢唱的感觉',\n",
       " '操',\n",
       " '这个版本？不就是翻唱吗？',\n",
       " 'KTV   B级水平',\n",
       " '操',\n",
       " '？？？？？？？？？？？？？？？？？？']"
      ]
     },
     "execution_count": 5,
     "metadata": {},
     "output_type": "execute_result"
    }
   ],
   "source": [
    "bullet('130973129')"
   ]
  },
  {
   "cell_type": "code",
   "execution_count": 6,
   "metadata": {},
   "outputs": [],
   "source": [
    "import os\n",
    "os.chdir('E:\\\\文档\\\\Python Scripts')\n",
    "\n",
    "from bs4 import BeautifulSoup\n",
    "import requests\n",
    "from lxml import etree\n",
    "import pandas as pd \n",
    "import numpy as np \n",
    "from deal_cookie import deal\n",
    "import requests\n",
    "import re\n",
    "from datetime import datetime"
   ]
  },
  {
   "cell_type": "code",
   "execution_count": 18,
   "metadata": {},
   "outputs": [
    {
     "data": {
      "text/plain": [
       "'OK'"
      ]
     },
     "execution_count": 18,
     "metadata": {},
     "output_type": "execute_result"
    }
   ],
   "source": [
    "path=r\"E:\\文档\\Python Scripts\\爬虫\\京东\\shopping_cart.txt\"\n",
    "url='https://cart.jd.com/cart.action'\n",
    "\n",
    "with open(path,'r') as f:\n",
    "    headers=f.read()\n",
    "header=deal(headers)\n",
    "\n",
    "\n",
    "#京东购物车--BeautifulSoup爬虫\n",
    "response=requests.get(url,headers=header)\n",
    "response.reason\n",
    "a=response.content.decode()"
   ]
  },
  {
   "cell_type": "code",
   "execution_count": 20,
   "metadata": {},
   "outputs": [],
   "source": [
    "item_1=pd.read_excel('爬虫\\\\京东\\\\jd_shopping_cart.xls',index_col='商品',encoding='utf_8_sig')\n",
    "#BeautifulSoup的处理\n",
    "html=BeautifulSoup(a,'lxml')\n",
    "\n",
    "item=html.find_all(target='_blank',clstag='clickcart|keycount|xincart|cart_sku_name')\n",
    "items=[x.text.strip() for x in item]#商品\n",
    "row_price=html.find_all(class_=\"plus-switch\")\n",
    "price=[x.strong.text.strip() for x in row_price]#价格\n",
    "new_items=pd.Series(price,index=items)\n",
    "new_items.name=datetime.now().strftime('%Y-%m-%d')\n",
    "new_items.index.name='商品'\n",
    "shopping_cart=pd.merge(item_1,new_items,left_index=True,right_index=True,how='outer')"
   ]
  },
  {
   "cell_type": "code",
   "execution_count": 22,
   "metadata": {},
   "outputs": [
    {
     "data": {
      "text/html": [
       "<div>\n",
       "<style scoped>\n",
       "    .dataframe tbody tr th:only-of-type {\n",
       "        vertical-align: middle;\n",
       "    }\n",
       "\n",
       "    .dataframe tbody tr th {\n",
       "        vertical-align: top;\n",
       "    }\n",
       "\n",
       "    .dataframe thead th {\n",
       "        text-align: right;\n",
       "    }\n",
       "</style>\n",
       "<table border=\"1\" class=\"dataframe\">\n",
       "  <thead>\n",
       "    <tr style=\"text-align: right;\">\n",
       "      <th></th>\n",
       "      <th>2019-11-15_x</th>\n",
       "      <th>2019-11-15_y</th>\n",
       "    </tr>\n",
       "    <tr>\n",
       "      <th>商品</th>\n",
       "      <th></th>\n",
       "      <th></th>\n",
       "    </tr>\n",
       "  </thead>\n",
       "  <tbody>\n",
       "    <tr>\n",
       "      <th>Python与量化投资：从基础到实战</th>\n",
       "      <td>¥94.10</td>\n",
       "      <td>¥94.10</td>\n",
       "    </tr>\n",
       "    <tr>\n",
       "      <th>Python学习手册 原书第5版(2册) 华章图书 O'Reilly精品图书系列</th>\n",
       "      <td>¥105.10</td>\n",
       "      <td>¥105.10</td>\n",
       "    </tr>\n",
       "    <tr>\n",
       "      <th>Python编程快速上手 让繁琐工作自动化</th>\n",
       "      <td>¥57.80</td>\n",
       "      <td>¥57.80</td>\n",
       "    </tr>\n",
       "    <tr>\n",
       "      <th>【十代酷睿新品】惠普（HP）官方旗舰店 星15进阶版 星系列15.6英寸超轻薄学生游戏笔记本电脑 星空银：i5-10210U丨十代新品 轻薄游戏颜控 旗舰版丨8G 512G固态  2G独显</th>\n",
       "      <td>¥4999.00</td>\n",
       "      <td>¥4999.00</td>\n",
       "    </tr>\n",
       "    <tr>\n",
       "      <th>三星(SAMSUNG)笔记本内存条DDR4 DDR3 DDR3L 4G8G16G兼容联想戴尔华硕惠普 DDR3L 1600 1.35V【笔记本内存条】 8G</th>\n",
       "      <td>¥213.00</td>\n",
       "      <td>¥213.00</td>\n",
       "    </tr>\n",
       "  </tbody>\n",
       "</table>\n",
       "</div>"
      ],
      "text/plain": [
       "                                                   2019-11-15_x 2019-11-15_y\n",
       "商品                                                                          \n",
       "Python与量化投资：从基础到实战                                       ¥94.10       ¥94.10\n",
       "Python学习手册 原书第5版(2册) 华章图书 O'Reilly精品图书系列                ¥105.10      ¥105.10\n",
       "Python编程快速上手 让繁琐工作自动化                                    ¥57.80       ¥57.80\n",
       "【十代酷睿新品】惠普（HP）官方旗舰店 星15进阶版 星系列15.6英寸超轻薄学生游戏笔记本电...     ¥4999.00     ¥4999.00\n",
       "三星(SAMSUNG)笔记本内存条DDR4 DDR3 DDR3L 4G8G16G兼容联想戴尔华...      ¥213.00      ¥213.00"
      ]
     },
     "execution_count": 22,
     "metadata": {},
     "output_type": "execute_result"
    }
   ],
   "source": [
    "shopping_cart.head()"
   ]
  },
  {
   "cell_type": "code",
   "execution_count": 17,
   "metadata": {},
   "outputs": [],
   "source": [
    "#shopping_cart.to_csv('data_test\\\\jd_shopping_cart.csv',index=False,encoding='GB18030')\n",
    "#shopping_cart.to_csv('爬虫\\\\京东\\\\jd_shopping_cart.csv',index=False,encoding='utf_8_sig')\n",
    "shopping_cart.to_excel('爬虫\\\\京东\\\\jd_shopping_cart.xls',index=True,encoding='utf_8_sig')#保存"
   ]
  },
  {
   "cell_type": "markdown",
   "metadata": {},
   "source": [
    "**Xpath的处理方法**"
   ]
  },
  {
   "cell_type": "code",
   "execution_count": 31,
   "metadata": {},
   "outputs": [
    {
     "data": {
      "text/plain": [
       "['华为(HUAWEI)MateBook 14 第三方Linux版 全面屏轻薄性能笔记本电脑(i5-8265U 8+512GB 2k 独显)灰\\r\\n',\n",
       " '惠普(HP)星14 青春版 14英寸轻薄窄边框笔记本电脑(i5-10210U 8G 512GSSD R530 2G FHD IPS)闪耀银\\r\\n',\n",
       " '荣耀MagicBook Pro 第三方Linux版 16.1英寸全面屏轻薄笔记本电脑（AMD R5 3550H 16G 512G）冰河银\\r\\n',\n",
       " '',\n",
       " '联想(Lenovo)小新Air14英寸英特尔酷睿i5 超轻薄笔记本电脑(I5-10210U 12G 512G MX250 72％NTSC)轻奢灰\\r\\n',\n",
       " '',\n",
       " '联想(Lenovo)小新Pro13.3英寸全面屏超轻薄笔记本电脑(标压锐龙R5-3550H 16G 512G 2.5K QHD 100%sRGB)银\\r\\n',\n",
       " '',\n",
       " '联想(Lenovo)小新14英寸 英特尔酷睿i5 轻薄窄边框笔记本电脑(I5-8265U 8G  256G PCIe )渣渣灰\\r\\n',\n",
       " '',\n",
       " '联想(Lenovo)小新Air14英寸 AMD锐龙版(全新12nm)轻薄笔记本电脑(R5-3500U 12G 512G PCIE IPS)轻奢灰\\r\\n',\n",
       " '',\n",
       " '联想(Lenovo)小新Air15.6英寸英特尔酷睿i5超轻薄笔记本电脑(I5-10210U 12G 1TSSD MX250 72%NTSC )轻奢灰\\r\\n',\n",
       " '',\n",
       " '联想(Lenovo)小新Pro13.3英寸 英特尔酷睿i5全面屏超轻薄笔记本电脑(I5-10210U 8G 512G 2.5K QHD100%sRGB)银\\r\\n',\n",
       " '机械革命(MECHREVO)S1 Plus 英特尔酷睿i5 15.6英寸窄边框轻薄笔记本电脑(i5-8265U 8G 512G MX250 银)\\r\\n',\n",
       " '机械革命(MECHREVO)S1 Pro 英特尔酷睿i5 14英寸窄边框轻薄笔记本电脑(i5-10210U 8G 512G MX250 灰)\\r\\n',\n",
       " '',\n",
       " '心相印手帕纸 茶语丝享系列超迷你手帕纸4层6片*24包（新老包装随机发货）\\r\\n',\n",
       " '',\n",
       " '纳美  纳米软毛抗菌牙刷3支装（家庭版） （新老包装随机发货）\\r\\n',\n",
       " '',\n",
       " '机械革命(MECHREVO)S1 Pro  14英寸全金属窄边框轻薄笔记本电脑(i5-8265U 8G 512G MX250   Type-C 银)\\r\\n',\n",
       " '零起点TensorFlow与量化交易\\r\\n',\n",
       " '零起点Python大数据与量化交易\\r\\n',\n",
       " '量化投资：以Python为工具\\r\\n',\n",
       " 'Python与量化投资：从基础到实战\\r\\n',\n",
       " '深度学习入门 基于Python的理论与实现\\r\\n',\n",
       " 'Python编程快速上手 让繁琐工作自动化\\r\\n',\n",
       " '',\n",
       " '心相印手帕纸 茶语系列 3层10片*18包/4层7片*18包（新老包装随机发货）\\r\\n',\n",
       " '',\n",
       " '维达(Vinda) 卷纸 蓝色经典4层140g卫生纸巾*10卷\\r\\n',\n",
       " '【十代酷睿新品】惠普（HP）官方旗舰店 星15进阶版 星系列15.6英寸超轻薄学生游戏笔记本电脑 星空银：i5-10210U丨十代新品 轻薄游戏颜控 旗舰版丨8G 512G固态  2G独显\\r\\n',\n",
       " '联想（Lenovo）小新Air14锐龙版R7笔记本电脑超薄本超级本学生用轻薄女生商务办公游戏超极本 定制丨锐龙7 16G内存 512G固态 荣耀银 2019款\\r\\n',\n",
       " \"Python学习手册 原书第5版(2册) 华章图书 O'Reilly精品图书系列\\n\\r\\n\",\n",
       " '正版Python 3网络爬虫开发实战 Scrapy数据分析处理手册 数据抓取指南python程序设计\\r\\n',\n",
       " '量化投资：以Python为工具 Python语言处理 数据Python金融 量化投资\\r\\n',\n",
       " '超次元游戏 Online 海王星 四女神 黑色之心 诺瓦露 盒装手办摆件\\r\\n',\n",
       " '三星(SAMSUNG)笔记本内存条DDR4 DDR3 DDR3L 4G8G16G兼容联想戴尔华硕惠普 DDR3L 1600 1.35V【笔记本内存条】 8G\\r\\n']"
      ]
     },
     "execution_count": 31,
     "metadata": {},
     "output_type": "execute_result"
    }
   ],
   "source": [
    "import re\n",
    "\n",
    "html=etree.HTML(response.content)\n",
    "xpath1='//div[@class=\"goods-item\"]/div[2]/div/a/text()'#使用//表示查找相对路径\n",
    "xpath1_price='//*[@id=\"product_12531830\"]/div[1]/div[4]/p[1]/strong/text()'\n",
    "#加了text就能直接获取内容了\n",
    "xpaht2='//*[@id=\"product_12487629\"]/div[1]/div[2]/div/div[2]/div[1]/a/text()'\n",
    "#a是个可迭代对象\n",
    "a=[i.strip('\\r').strip('\\n').strip('\\t') for i in html.xpath(xpath1)]\n",
    "#购物车的第一个商品\n",
    "a"
   ]
  },
  {
   "cell_type": "code",
   "execution_count": null,
   "metadata": {},
   "outputs": [],
   "source": []
  }
 ],
 "metadata": {
  "kernelspec": {
   "display_name": "Python 3",
   "language": "python",
   "name": "python3"
  },
  "language_info": {
   "codemirror_mode": {
    "name": "ipython",
    "version": 3
   },
   "file_extension": ".py",
   "mimetype": "text/x-python",
   "name": "python",
   "nbconvert_exporter": "python",
   "pygments_lexer": "ipython3",
   "version": "3.8.5"
  },
  "toc": {
   "base_numbering": 1,
   "nav_menu": {},
   "number_sections": true,
   "sideBar": true,
   "skip_h1_title": true,
   "title_cell": "Table of Contents",
   "title_sidebar": "Contents",
   "toc_cell": false,
   "toc_position": {
    "height": "calc(100% - 180px)",
    "left": "10px",
    "top": "150px",
    "width": "192.529px"
   },
   "toc_section_display": true,
   "toc_window_display": true
  }
 },
 "nbformat": 4,
 "nbformat_minor": 2
}

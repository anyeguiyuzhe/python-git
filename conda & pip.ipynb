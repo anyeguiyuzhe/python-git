{
 "cells": [
  {
   "cell_type": "markdown",
   "metadata": {},
   "source": [
    "# 1.conda简单命令\n",
    "\n",
    "## 1.1 包的管理\n",
    "\n",
    "| 命令 | 说明 |\n",
    "| :-: | :-: |\n",
    "| conda --version | 查看版本 |\n",
    "| conda update conda | 更新 |\n",
    "| conda -h | 帮助 |\n",
    "| conda list | 列出所有的包 |\n",
    "| conda update xxx | 更新 |\n",
    "| conda install pack_name=version | 安装指定版本的包 |\n",
    "|conda remove package_name | 移除环境 |\n",
    "\n",
    "## 1.2 环境管理\n",
    "\n",
    "| 命令 | 说明 |\n",
    "|:-:|:-:|\n",
    "| conda create --help | 查看conda环境管理命令帮助信息 |\n",
    "| conda create --name envname |#创造新环境|\n",
    "| conda create --name python36 python=3.6 | |\n",
    "| conda activate python36| 激活环境 |\n",
    "| decativate | 退出环境 |\n",
    "| conda info -e/conda info list | 列出所有的环境名 | \n",
    "| conda env remove -n python34| 删除已有环境|\n"
   ]
  },
  {
   "cell_type": "markdown",
   "metadata": {},
   "source": [
    "# 2.pip命令\n",
    "\n",
    "| 命令 | 说明 |\n",
    "| :-: | :-: |\n",
    "| pip show itchat | 查看是否已安装某个包 |\n",
    "| pip list outdated | 检查需要更新的包 |\n",
    "| pip install --upgrade matplotlib | 升级包 |\n",
    "| pip uninstall itchat | 卸载包 |\n",
    "| pip --help | 帮助 | "
   ]
  },
  {
   "cell_type": "code",
   "execution_count": null,
   "metadata": {},
   "outputs": [],
   "source": []
  }
 ],
 "metadata": {
  "kernelspec": {
   "display_name": "Python 3",
   "language": "python",
   "name": "python3"
  },
  "language_info": {
   "codemirror_mode": {
    "name": "ipython",
    "version": 3
   },
   "file_extension": ".py",
   "mimetype": "text/x-python",
   "name": "python",
   "nbconvert_exporter": "python",
   "pygments_lexer": "ipython3",
   "version": "3.6.4"
  },
  "toc": {
   "base_numbering": 1,
   "nav_menu": {},
   "number_sections": false,
   "sideBar": true,
   "skip_h1_title": false,
   "title_cell": "Table of Contents",
   "title_sidebar": "Contents",
   "toc_cell": false,
   "toc_position": {},
   "toc_section_display": true,
   "toc_window_display": true
  }
 },
 "nbformat": 4,
 "nbformat_minor": 2
}

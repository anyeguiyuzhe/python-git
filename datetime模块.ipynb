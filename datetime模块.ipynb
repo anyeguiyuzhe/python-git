{
 "cells": [
  {
   "cell_type": "markdown",
   "metadata": {},
   "source": [
    "# <center>datetime模块</center>\n",
    "## 1.当前时间"
   ]
  },
  {
   "cell_type": "code",
   "execution_count": 2,
   "metadata": {
    "scrolled": true
   },
   "outputs": [
    {
     "name": "stdout",
     "output_type": "stream",
     "text": [
      "当前时间 2019-06-23 18:44:19.904827\n",
      "标准日期是： 2019-06-23 10:44:19.904827\n",
      "2018-05-23 12:20:00\n"
     ]
    },
    {
     "data": {
      "text/plain": [
       "0"
      ]
     },
     "execution_count": 2,
     "metadata": {},
     "output_type": "execute_result"
    }
   ],
   "source": [
    "from datetime import datetime\n",
    "\n",
    "now=datetime.now()\n",
    "print('当前时间',now)\n",
    "#标准时间\n",
    "utcnow=datetime.utcnow()\n",
    "print('标准日期是：',utcnow)\n",
    "#构造日期\n",
    "dt=datetime(2018,5,23,12,20)\n",
    "print(dt)\n",
    "dt.year\n",
    "dt.month\n",
    "dt.day\n",
    "dt.hour\n",
    "dt.second"
   ]
  },
  {
   "cell_type": "markdown",
   "metadata": {},
   "source": [
    "## 2.timestamp"
   ]
  },
  {
   "cell_type": "code",
   "execution_count": 1,
   "metadata": {},
   "outputs": [
    {
     "name": "stdout",
     "output_type": "stream",
     "text": [
      "2015-02-03 14:22:00\n",
      "1422944520.0\n",
      "2094-04-28 17:05:38\n",
      "2094-04-28 09:05:38\n"
     ]
    }
   ],
   "source": [
    "#时间戳\n",
    "from datetime import datetime\n",
    "dt=datetime(2015,2,3,14,22)\n",
    "print(dt)\n",
    "print(dt.timestamp())\n",
    "#时间戳转换为datetime\n",
    "t=3923283938\n",
    "print(datetime.fromtimestamp(t))\n",
    "print(datetime.utcfromtimestamp(t))\n"
   ]
  },
  {
   "cell_type": "markdown",
   "metadata": {},
   "source": [
    "## 3.datetime.strptime()把字符串解析为时间(parse)"
   ]
  },
  {
   "cell_type": "code",
   "execution_count": 5,
   "metadata": {},
   "outputs": [
    {
     "name": "stdout",
     "output_type": "stream",
     "text": [
      "2015-06-28 13:34:33\n"
     ]
    },
    {
     "data": {
      "text/plain": [
       "6"
      ]
     },
     "execution_count": 5,
     "metadata": {},
     "output_type": "execute_result"
    }
   ],
   "source": [
    "#把str转换为datetime\n",
    "#from datetime import datetime\n",
    "cday=datetime.strptime('2015,06,28,13,34,33','%Y,%m,%d,%H,%M,%S')\n",
    "print(cday)"
   ]
  },
  {
   "cell_type": "markdown",
   "metadata": {},
   "source": [
    "## 4.strftime格式化输出时间\n",
    "\n",
    "[具体的格式对应表](https://docs.python.org/2/library/datetime.html?highlight=strftime#strftime-and-strptime-behavior)\n",
    "\n",
    "| 代码 | 含义 |\n",
    "| :-: | :-: |\n",
    "| %Y/%y | 四位数/两位数年份 |\n",
    "| %m/%B/%b | 数字表示/完整/简写的月份 |\n",
    "| %w/%A/%a | 一周中的第几天(0是周日)/完整的周几/简写的周几 |\n",
    "| %H/%I | 小时(24小时时钟)/(12小时时钟 |\n",
    "| %M | 分 |\n",
    "| %S | 秒 |"
   ]
  },
  {
   "cell_type": "code",
   "execution_count": 12,
   "metadata": {},
   "outputs": [
    {
     "name": "stdout",
     "output_type": "stream",
     "text": [
      "2015-06-12 22:23:00\n",
      "2015year 06month 12date 22hour 23minute 00second\n"
     ]
    }
   ],
   "source": [
    "from datetime import datetime\n",
    "\n",
    "a=datetime(2015,6,12,22,23)\n",
    "print(a)\n",
    "print(a.strftime('%Yyear %mmonth %ddate %Hhour %Mminute %Ssecond'))"
   ]
  },
  {
   "cell_type": "markdown",
   "metadata": {},
   "source": [
    "## 5.datetime加减法-timedelta\n",
    "\n",
    ">timedelta(days,seconds,microseconds,milliseconds,minutes,hours,weeks)"
   ]
  },
  {
   "cell_type": "code",
   "execution_count": 8,
   "metadata": {},
   "outputs": [
    {
     "name": "stdout",
     "output_type": "stream",
     "text": [
      "2019-04-29 19:05:27.425959\n",
      "将now加10个小时得到2019-04-30 05:05:27.425959\n"
     ]
    }
   ],
   "source": [
    "from datetime import datetime,timedelta\n",
    "\n",
    "now=datetime.now()\n",
    "print(now)\n",
    "print('将now加10个小时得到%s'%(now+timedelta(hours=10)))"
   ]
  }
 ],
 "metadata": {
  "kernelspec": {
   "display_name": "Python 3",
   "language": "python",
   "name": "python3"
  },
  "language_info": {
   "codemirror_mode": {
    "name": "ipython",
    "version": 3
   },
   "file_extension": ".py",
   "mimetype": "text/x-python",
   "name": "python",
   "nbconvert_exporter": "python",
   "pygments_lexer": "ipython3",
   "version": "3.6.4"
  }
 },
 "nbformat": 4,
 "nbformat_minor": 2
}

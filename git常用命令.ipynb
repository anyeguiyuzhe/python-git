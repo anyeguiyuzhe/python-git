{
 "cells": [
  {
   "cell_type": "markdown",
   "metadata": {},
   "source": [
    "常用命令"
   ]
  },
  {
   "cell_type": "code",
   "execution_count": null,
   "metadata": {},
   "outputs": [],
   "source": [
    "$git clone //克隆远程仓库到本地\n",
    "$git init\n",
    "$git add .添加所有文件\n",
    "$git add -u仅添加已track的文件\n",
    "$git commit -m \"本次提交的说明\"\n",
    "$git remote add origin +github上远程仓库的地址\n",
    "$git remote rm origin//移除远程起源\n",
    "$git pull origin master//把本地仓库的变化连接到远程仓库主支\n",
    "$git pull origin master --allow-unrelated-histories//如果报：refusing to merge to merge unrelated histories\n",
    "$git push -u origin master//推送变更到github上面\n"
   ]
  },
  {
   "cell_type": "markdown",
   "metadata": {},
   "source": [
    "# 1.起步\n",
    "\n",
    "## 1.1 基本配置"
   ]
  },
  {
   "cell_type": "code",
   "execution_count": null,
   "metadata": {},
   "outputs": [],
   "source": [
    "$git config --list --show-origin//查看所有的配置以及他们所在的文件\n",
    "//注意如果使用了--global选项，该命令只需要使用一次\n",
    "$git config --global user.name \"Mou Weiyang\"//设置用户名\n",
    "$git config --global user.email \"2570799790@qq.com\"//设置邮箱"
   ]
  },
  {
   "cell_type": "markdown",
   "metadata": {},
   "source": [
    "## 1.2 生成SSH公钥"
   ]
  },
  {
   "cell_type": "code",
   "execution_count": null,
   "metadata": {},
   "outputs": [],
   "source": [
    "$cd ~\n",
    "$ssh-keygen.exe\n",
    "//然后三次回车\n",
    "//目录在\"C:\\Users\\牟魏阳\\.ssh\\id_rsa.pub\""
   ]
  },
  {
   "cell_type": "markdown",
   "metadata": {},
   "source": [
    "## 1.3 检查配置信息"
   ]
  },
  {
   "cell_type": "code",
   "execution_count": null,
   "metadata": {},
   "outputs": [],
   "source": [
    "$git config --list\n",
    "$git congig user.name//通过输入 git config <key>来检查git的某一项配置"
   ]
  },
  {
   "cell_type": "markdown",
   "metadata": {},
   "source": [
    "## 1.4 获取帮助"
   ]
  },
  {
   "cell_type": "code",
   "execution_count": null,
   "metadata": {},
   "outputs": [],
   "source": [
    "$git help <verb>//使用-h选项可以获得更简单的help输出\n",
    "$git <verb> --help\n",
    "$man git-<verb>"
   ]
  },
  {
   "cell_type": "markdown",
   "metadata": {},
   "source": [
    "# 2.Git基础\n",
    "\n",
    "## 2.1 获取git仓库\n",
    ">两种方式，将尚未进行版本控制的本地目录转换为git仓库火灾从其它服务器克隆一个已经存在的Git仓库\n",
    "\n",
    "### 2.1.1在现有项目下导入"
   ]
  },
  {
   "cell_type": "code",
   "execution_count": null,
   "metadata": {},
   "outputs": [],
   "source": [
    "$cd <target directory>\n",
    "$git init//初始化\n",
    "$git add *.c//追踪某些已存在的文件\n",
    "$git add LICENCE\n",
    "$git commit -m 'initial project version'//提交说明\n"
   ]
  },
  {
   "cell_type": "markdown",
   "metadata": {},
   "source": [
    "### 2.1.2 拷贝现有仓库"
   ]
  },
  {
   "cell_type": "code",
   "execution_count": null,
   "metadata": {},
   "outputs": [],
   "source": [
    "$git clone+<github url>//不需要双引号\n",
    "$git clone+<github url>+name//在克隆远程仓库的时候，自定义本地仓库名称"
   ]
  },
  {
   "cell_type": "markdown",
   "metadata": {},
   "source": [
    "## 2.2 记录每次更新到仓库\n",
    ">工作目录下的文件两种状态：**已跟踪**和**未跟踪**.编辑过某些文件之后，将这些修改过的文件放入暂存区，然后提交所有已暂存的修改\n",
    "\n",
    "![流程](https://git-scm.com/book/en/v2/images/lifecycle.png)"
   ]
  },
  {
   "cell_type": "code",
   "execution_count": null,
   "metadata": {},
   "outputs": [],
   "source": [
    "$git status//检查文件状态\n",
    "$git add <filename> //跟踪新文件，使其处于暂存状态(还未提交)\n",
    "$git status -s//得到格式更为紧凑的输出"
   ]
  },
  {
   "cell_type": "markdown",
   "metadata": {},
   "source": [
    "**忽略文件**"
   ]
  },
  {
   "cell_type": "code",
   "execution_count": null,
   "metadata": {},
   "outputs": [],
   "source": [
    "$cat .gitignore//打印忽略的文件\n",
    "$.[oa]//忽略所有以.o或者.a结尾的文件\n",
    "$~//忽略所有以波浪符（~）结尾的文件"
   ]
  }
 ],
 "metadata": {
  "kernelspec": {
   "display_name": "Python 3",
   "language": "python",
   "name": "python3"
  },
  "language_info": {
   "codemirror_mode": {
    "name": "ipython",
    "version": 3
   },
   "file_extension": ".py",
   "mimetype": "text/x-python",
   "name": "python",
   "nbconvert_exporter": "python",
   "pygments_lexer": "ipython3",
   "version": "3.8.5"
  },
  "toc": {
   "base_numbering": 1,
   "nav_menu": {},
   "number_sections": true,
   "sideBar": true,
   "skip_h1_title": false,
   "title_cell": "Table of Contents",
   "title_sidebar": "Contents",
   "toc_cell": false,
   "toc_position": {},
   "toc_section_display": true,
   "toc_window_display": false
  }
 },
 "nbformat": 4,
 "nbformat_minor": 2
}

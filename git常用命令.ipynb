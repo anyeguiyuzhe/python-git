{
 "cells": [
  {
   "cell_type": "code",
   "execution_count": null,
   "metadata": {},
   "outputs": [],
   "source": [
    "$git init\n",
    "$git add .添加所有文件\n",
    "$git add -u仅添加已track的文件\n",
    "$git commit -m \"本次提交的说明\"\n",
    "$git remote add origin +github上远程仓库的地址\n",
    "$git pull origin master//把本地仓库的变化连接到远程仓库主支\n",
    "$git pull origin master --allow-unrelated-histories//如果报：refusing to merge to merge unrelated histories\n",
    "$git push -u origin master//推送变更到github上面\n"
   ]
  }
 ],
 "metadata": {
  "kernelspec": {
   "display_name": "Python 3",
   "language": "python",
   "name": "python3"
  },
  "language_info": {
   "codemirror_mode": {
    "name": "ipython",
    "version": 3
   },
   "file_extension": ".py",
   "mimetype": "text/x-python",
   "name": "python",
   "nbconvert_exporter": "python",
   "pygments_lexer": "ipython3",
   "version": "3.6.4"
  }
 },
 "nbformat": 4,
 "nbformat_minor": 2
}

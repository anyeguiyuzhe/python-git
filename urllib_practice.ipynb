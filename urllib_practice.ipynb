{
 "cells": [
  {
   "cell_type": "code",
   "execution_count": 4,
   "metadata": {},
   "outputs": [
    {
     "name": "stdout",
     "output_type": "stream",
     "text": [
      "[('Accept-Ranges', 'bytes'), ('Cache-Control', 'no-cache'), ('Content-Length', '227'), ('Content-Type', 'text/html'), ('Date', 'Sat, 16 Mar 2019 06:11:04 GMT'), ('Etag', '\"5c7cdb1f-e3\"'), ('Last-Modified', 'Mon, 04 Mar 2019 08:00:31 GMT'), ('P3p', 'CP=\" OTI DSP COR IVA OUR IND COM \"'), ('Pragma', 'no-cache'), ('Server', 'BWS/1.1'), ('Set-Cookie', 'BD_NOT_HTTPS=1; path=/; Max-Age=300'), ('Set-Cookie', 'BIDUPSID=5C4907723682575BA99CD1CCCB0D1074; expires=Thu, 31-Dec-37 23:55:55 GMT; max-age=2147483647; path=/; domain=.baidu.com'), ('Set-Cookie', 'PSTM=1552716664; expires=Thu, 31-Dec-37 23:55:55 GMT; max-age=2147483647; path=/; domain=.baidu.com'), ('Strict-Transport-Security', 'max-age=0'), ('X-Ua-Compatible', 'IE=Edge,chrome=1'), ('Connection', 'close')]\n",
      "<html>\r\n",
      "<head>\r\n",
      "\t<script>\r\n",
      "\t\tlocation.replace(location.href.replace(\"https://\",\"http://\"));\r\n",
      "\t</script>\r\n",
      "</head>\r\n",
      "<body>\r\n",
      "\t<noscript><meta http-equiv=\"refresh\" content=\"0;url=http://www.baidu.com/\"></noscript>\r\n",
      "</body>\r\n",
      "</html>\n",
      "('Accept-Ranges', 'bytes')\n",
      "('Cache-Control', 'no-cache')\n",
      "('Content-Length', '227')\n",
      "('Content-Type', 'text/html')\n",
      "('Date', 'Sat, 16 Mar 2019 06:11:04 GMT')\n",
      "('Etag', '\"5c7cdb1f-e3\"')\n",
      "('Last-Modified', 'Mon, 04 Mar 2019 08:00:31 GMT')\n",
      "('P3p', 'CP=\" OTI DSP COR IVA OUR IND COM \"')\n",
      "('Pragma', 'no-cache')\n",
      "('Server', 'BWS/1.1')\n",
      "('Set-Cookie', 'BD_NOT_HTTPS=1; path=/; Max-Age=300')\n",
      "('Set-Cookie', 'BIDUPSID=5C4907723682575BA99CD1CCCB0D1074; expires=Thu, 31-Dec-37 23:55:55 GMT; max-age=2147483647; path=/; domain=.baidu.com')\n",
      "('Set-Cookie', 'PSTM=1552716664; expires=Thu, 31-Dec-37 23:55:55 GMT; max-age=2147483647; path=/; domain=.baidu.com')\n",
      "('Strict-Transport-Security', 'max-age=0')\n",
      "('X-Ua-Compatible', 'IE=Edge,chrome=1')\n",
      "('Connection', 'close')\n"
     ]
    }
   ],
   "source": [
    "#简单的url请求，打开百度\n",
    "from urllib import request\n",
    "with request.urlopen('https://www.baidu.com') as baidu:\n",
    "    data=baidu.read()\n",
    "    header=baidu.getheaders()\n",
    "    print(header)\n",
    "    print(data.decode())\n",
    "    for x,y in header:\n",
    "        print((x,y))"
   ]
  },
  {
   "cell_type": "code",
   "execution_count": 3,
   "metadata": {},
   "outputs": [],
   "source": [
    "#模拟浏览器登录\n"
   ]
  },
  {
   "cell_type": "code",
   "execution_count": null,
   "metadata": {},
   "outputs": [],
   "source": []
  }
 ],
 "metadata": {
  "kernelspec": {
   "display_name": "Python 3",
   "language": "python",
   "name": "python3"
  },
  "language_info": {
   "codemirror_mode": {
    "name": "ipython",
    "version": 3
   },
   "file_extension": ".py",
   "mimetype": "text/x-python",
   "name": "python",
   "nbconvert_exporter": "python",
   "pygments_lexer": "ipython3",
   "version": "3.6.4"
  }
 },
 "nbformat": 4,
 "nbformat_minor": 2
}

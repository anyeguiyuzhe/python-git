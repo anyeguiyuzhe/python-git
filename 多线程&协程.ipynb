{
 "cells": [
  {
   "cell_type": "markdown",
   "metadata": {},
   "source": [
    "# 1.多进程(multiprocessing)和多线程"
   ]
  },
  {
   "cell_type": "markdown",
   "metadata": {},
   "source": [
    "## 1.1 multiprocessing"
   ]
  },
  {
   "cell_type": "code",
   "execution_count": 1,
   "metadata": {},
   "outputs": [
    {
     "ename": "ModuleNotFoundError",
     "evalue": "No module named 'deal_cookie'",
     "output_type": "error",
     "traceback": [
      "\u001b[1;31m---------------------------------------------------------------------------\u001b[0m",
      "\u001b[1;31mModuleNotFoundError\u001b[0m                       Traceback (most recent call last)",
      "\u001b[1;32m<ipython-input-1-f9ecaf1c27e5>\u001b[0m in \u001b[0;36m<module>\u001b[1;34m()\u001b[0m\n\u001b[0;32m      1\u001b[0m \u001b[1;32mimport\u001b[0m \u001b[0mmultiprocessing\u001b[0m\u001b[1;33m,\u001b[0m\u001b[0mos\u001b[0m\u001b[1;33m\u001b[0m\u001b[0m\n\u001b[1;32m----> 2\u001b[1;33m \u001b[1;32mfrom\u001b[0m \u001b[0mdeal_cookie\u001b[0m \u001b[1;32mimport\u001b[0m \u001b[0mdeal\u001b[0m\u001b[1;33m\u001b[0m\u001b[0m\n\u001b[0m\u001b[0;32m      3\u001b[0m \u001b[1;32mfrom\u001b[0m \u001b[0mtask\u001b[0m \u001b[1;32mimport\u001b[0m \u001b[0mlong_time_task\u001b[0m\u001b[1;33m\u001b[0m\u001b[0m\n\u001b[0;32m      4\u001b[0m \u001b[1;33m\u001b[0m\u001b[0m\n\u001b[0;32m      5\u001b[0m \u001b[0mpath\u001b[0m\u001b[1;33m=\u001b[0m\u001b[1;34mr\"D:\\文档\\Python Scripts\\爬虫\\萌图cookie.txt\"\u001b[0m\u001b[1;33m\u001b[0m\u001b[0m\n",
      "\u001b[1;31mModuleNotFoundError\u001b[0m: No module named 'deal_cookie'"
     ]
    }
   ],
   "source": [
    "import multiprocessing,os\n",
    "from deal_cookie import deal\n",
    "from task import long_time_task\n",
    "\n",
    "path=r\"D:\\文档\\Python Scripts\\爬虫\\萌图cookie.txt\"\n",
    "with open(path) as a:\n",
    "    data=a.read()\n",
    "def run_pro(name):\n",
    "    print('run chile process %s (%s)'%(name,os.getpid()))\n",
    "\n",
    "p=mp.Process(target=long_time_task,args=('hello',))\n",
    "p.start()\n"
   ]
  },
  {
   "cell_type": "code",
   "execution_count": null,
   "metadata": {},
   "outputs": [],
   "source": [
    "import multiprocessing,os\n",
    "from deal_cookie import deal\n",
    "from task import long_time_task\n",
    "\n",
    "path=r\"D:\\文档\\Python Scripts\\爬虫\\萌图cookie.txt\"\n",
    "with open(path) as a:\n",
    "    data=a.read()\n",
    "def run_pro(name):\n",
    "    print('run chile process %s (%s)'%(name,os.getpid()))\n",
    "\n",
    "p=mp.Process(target=long_time_task,args=('hello',))\n",
    "p.start()"
   ]
  },
  {
   "cell_type": "markdown",
   "metadata": {},
   "source": [
    "## 1.2 pool进程池"
   ]
  },
  {
   "cell_type": "code",
   "execution_count": null,
   "metadata": {},
   "outputs": [
    {
     "name": "stdout",
     "output_type": "stream",
     "text": [
      "parent process is 96592\n"
     ]
    },
    {
     "data": {
      "text/plain": [
       "<multiprocessing.pool.ApplyResult at 0x19e15192860>"
      ]
     },
     "execution_count": 2,
     "metadata": {},
     "output_type": "execute_result"
    },
    {
     "data": {
      "text/plain": [
       "<multiprocessing.pool.ApplyResult at 0x19e151dbe48>"
      ]
     },
     "execution_count": 2,
     "metadata": {},
     "output_type": "execute_result"
    },
    {
     "data": {
      "text/plain": [
       "<multiprocessing.pool.ApplyResult at 0x19e151dbef0>"
      ]
     },
     "execution_count": 2,
     "metadata": {},
     "output_type": "execute_result"
    },
    {
     "data": {
      "text/plain": [
       "<multiprocessing.pool.ApplyResult at 0x19e151dbf98>"
      ]
     },
     "execution_count": 2,
     "metadata": {},
     "output_type": "execute_result"
    },
    {
     "data": {
      "text/plain": [
       "<multiprocessing.pool.ApplyResult at 0x19e151f70b8>"
      ]
     },
     "execution_count": 2,
     "metadata": {},
     "output_type": "execute_result"
    },
    {
     "name": "stdout",
     "output_type": "stream",
     "text": [
      "waiting for all subprocesses done...\n"
     ]
    }
   ],
   "source": [
    "import multiprocessing,os,time,random\n",
    "from multiprocessing import Pool\n",
    "\n",
    "os.chdir('D:\\\\文档\\\\Python Scripts')\n",
    "from task import long_time_task\n",
    "\n",
    "#启动大量进程池\n",
    "print('parent process is {}'.format(os.getpid()))\n",
    "p=Pool(4)\n",
    "for i in range(5):\n",
    "    p.apply_async(long_time_task,args=(i,))\n",
    "\n",
    "print('waiting for all subprocesses done...')\n",
    "p.close()#调用close之后就不能添加新的process了\n",
    "p.join()\n",
    "print('all subprocesses done')"
   ]
  },
  {
   "cell_type": "markdown",
   "metadata": {},
   "source": [
    "## 1.3 子进程"
   ]
  },
  {
   "cell_type": "code",
   "execution_count": null,
   "metadata": {},
   "outputs": [],
   "source": [
    "import subprocess\n",
    "\n",
    "print('$ nslookup www.python.org')\n",
    "r=subprocess.call(['nslookup','www.baidu.com'])\n",
    "print('exit code:',r)\n",
    "\n",
    "#如果子进程还需要输入,通过communicate方法\n",
    "print('$nslookup')\n",
    "p=subprocess.Popen(['nslookup'],stdin=subprocess.PIPE,stdout=subprocess.PIPE)\n",
    "output,err=p.communicate(b'set q=mx\\nwww.python.org\\nexit\\n')\n",
    "print(output.decode('gbk'))\n",
    "print('exis code:',p.returncode)"
   ]
  },
  {
   "cell_type": "markdown",
   "metadata": {},
   "source": [
    "## 1.4 进程间通信"
   ]
  },
  {
   "cell_type": "code",
   "execution_count": null,
   "metadata": {},
   "outputs": [],
   "source": [
    "from multiprocessing import Process,Queue\n",
    "import os,time,random\n",
    "os.chdir(r\"D:\\文档\\Python Scripts\")\n",
    "from task import read,write\n",
    "\n",
    "#在父进程中创建两个子进程，分别往Queue里读写数据\n",
    "q=Queue()\n",
    "pw=Process(target=write,args=(q,))\n",
    "pr=Process(target=read,args=(q,))\n",
    "pw.start()\n",
    "pr.start()\n",
    "pw.join()\n",
    "pr.terminate()\n"
   ]
  },
  {
   "cell_type": "markdown",
   "metadata": {},
   "source": [
    "## 1.5 多线程\n",
    "\n",
    "> threading是高级模块，对_thread进行了封装"
   ]
  },
  {
   "cell_type": "code",
   "execution_count": null,
   "metadata": {},
   "outputs": [],
   "source": [
    "import threading,time"
   ]
  },
  {
   "cell_type": "code",
   "execution_count": null,
   "metadata": {},
   "outputs": [],
   "source": [
    "def loop():\n",
    "    print('thread %s is running'%threading.current_thread().name)\n",
    "    n=0\n",
    "    while n<5:\n",
    "        n=n+1\n",
    "        print('thread %s %d>>>%s'%(threading.current_thread().name,threading.current_thread().ident,n))\n",
    "        time.sleep(1)\n",
    "    print('thread %s is running...'%threading.current_thread().name)\n",
    "\n",
    "print('thread %s is running...'%threading.current_thread().name)\n",
    "t=threading.Thread(target=loop,name='LoopThread')\n",
    "t.start()\n",
    "t.join()\n",
    "print('thread %s ended'%threading.current_thread().name)\n",
    "\n",
    "#### lock\n",
    "#>多线程的所有变量共享\n",
    "import time,threading\n",
    "balance=0\n",
    "def change_it(n):\n",
    "    global balance\n",
    "    balance=balance+n\n",
    "    balance=balance-n\n",
    "\n",
    "def run_thread(n):\n",
    "    for i in range(100000):\n",
    "        change_it(n)\n",
    "\n",
    "t1=threading.Thread(target=run_thread,args=(5,))\n",
    "t2=threading.Thread(target=run_thread,args=(8,))\n",
    "t1.start()\n",
    "t2.start()\n",
    "t1.join()\n",
    "t2.join()\n",
    "print(balance)\n",
    "\n",
    "#为了确保结果正确，当某个线程开始执行change_it时，其他线程不能同时执行change_it\n",
    "balance=0\n",
    "lock=threading.Lock()\n",
    "def run_thread(n):\n",
    "    for i in range(100000):\n",
    "        lock.acquire()#当多个线程同时执行lock.acquire()是，只有一个线程能够成功获得锁，然后执行代码\n",
    "    try:\n",
    "        change_it(n)\n",
    "    finally:\n",
    "        lock.release()\n",
    "t1=threading.Thread(target=run_thread,args=(5,))\n",
    "t2=threading.Thread(target=run_thread,args=(8,))\n",
    "t1.start()\n",
    "t2.start()\n",
    "t1.join()\n",
    "t2.join()\n",
    "print(balance)"
   ]
  },
  {
   "cell_type": "markdown",
   "metadata": {},
   "source": [
    "# 2.协程"
   ]
  },
  {
   "cell_type": "markdown",
   "metadata": {},
   "source": [
    "## 2.1 yield from"
   ]
  },
  {
   "cell_type": "code",
   "execution_count": null,
   "metadata": {},
   "outputs": [],
   "source": [
    "def consumer():\n",
    "    r='hello world'\n",
    "    while True:\n",
    "        n=yield r\n",
    "        if not n:\n",
    "            return None\n",
    "        print('[Consumer] Consuming %s'%n)\n",
    "        r='200 OK'\n",
    "\n",
    "def produce(c):\n",
    "    c.send(None)#启动生成器\n",
    "    n=0\n",
    "    while n<5:\n",
    "        n=n+1\n",
    "        print('[Produce] Producing %s...'%n)\n",
    "        r=c.send(n)\n",
    "        print('[Produce] Consumer return:%s'%r)\n",
    "    c.close()\n",
    "\n",
    "c=consumer()\n",
    "produce(c)"
   ]
  },
  {
   "cell_type": "code",
   "execution_count": null,
   "metadata": {},
   "outputs": [],
   "source": [
    "def coroutine_example(name):\n",
    "    print('start coroutine_example...%s'%name)\n",
    "    x=yield name\n",
    "    print('send值 %s'%x)\n",
    "    yield('ok')\n",
    "    return 'coroutine example end'\n",
    "\n",
    "def grouper2():\n",
    "    results=yield from coroutine_example('tarzan')\n",
    "    print('results的值...',results)\n",
    "\n",
    "x=grouper2()\n",
    "x.send(None)\n",
    "x.send('hello')"
   ]
  },
  {
   "cell_type": "markdown",
   "metadata": {},
   "source": [
    "## 2.2 asyncio\n",
    "\n",
    "> <font color='#9AFF9A'>用户可主动控制程序，在认为耗时的IO处添加await(yield from)，在asyncio库中，协程使用@asyncio.coroutine来装饰，使用yield from来驱动，在Python3.5中，做了如下修改：\n",
    "@asyncio.coroutine -> async\n",
    "yield from -> await</font>\n",
    "\n",
    "1. 事件循环\n",
    "2. Future表示尚未完成的计算，还未完成的结果\n",
    "3. Task是Future的子类，作用是在运行某个人物的同时可以并发运行多个任务\n"
   ]
  },
  {
   "cell_type": "code",
   "execution_count": null,
   "metadata": {},
   "outputs": [],
   "source": [
    "import asyncio\n",
    "import requests"
   ]
  },
  {
   "cell_type": "code",
   "execution_count": null,
   "metadata": {},
   "outputs": [],
   "source": [
    "@asyncio.coroutine\n",
    "def hello():\n",
    "    print('hello')\n",
    "    r=yield from asyncio.sleep(1)\n",
    "    print('hello again')\n",
    "    \n",
    "#获取eventloop\n",
    "loop=asyncio.get_event_loop()\n",
    "loop.run_until_complete(hello())\n",
    "loop.close()   "
   ]
  },
  {
   "cell_type": "code",
   "execution_count": null,
   "metadata": {},
   "outputs": [],
   "source": [
    "@asyncio.coroutine\n",
    "def coroutine_example():\n",
    "    yield from asyncio.sleep(1)\n",
    "    print('one')\n",
    "    return 'hello,python'\n",
    "\n",
    "coro=coroutine_example()\n",
    "loop=asyncio.get_event_loop()\n",
    "task=loop.create_task(coro)\n",
    "print('运行情况:',task)\n",
    "loop.run_until_complete(task)\n",
    "print('再看下运行情况:',task)\n",
    "#loop.close()\n",
    "task.result()#通过这个方法获得协程的返回值,但是只有运行完成后才能获取"
   ]
  },
  {
   "cell_type": "markdown",
   "metadata": {},
   "source": [
    "### 2.2.1用task封装2个coroutine"
   ]
  },
  {
   "cell_type": "code",
   "execution_count": null,
   "metadata": {},
   "outputs": [],
   "source": [
    "import threading\n",
    "import asyncio"
   ]
  },
  {
   "cell_type": "code",
   "execution_count": null,
   "metadata": {},
   "outputs": [],
   "source": [
    "@asyncio.coroutine\n",
    "def hello():\n",
    "    print('hello world (%s)'%threading.currentThread())\n",
    "    yield from asyncio.sleep(1)\n",
    "    print('hello again (%s)'%threading.currentThread())\n",
    "\n",
    "loop=asyncio.get_event_loop()\n",
    "tasks=[hello(),hello()]\n",
    "loop.run_until_complete(asyncio.wait(tasks))"
   ]
  },
  {
   "cell_type": "markdown",
   "metadata": {},
   "source": [
    "# 3 aiohttp"
   ]
  },
  {
   "cell_type": "code",
   "execution_count": null,
   "metadata": {},
   "outputs": [],
   "source": [
    "import asyncio,aiohttp"
   ]
  },
  {
   "cell_type": "code",
   "execution_count": null,
   "metadata": {},
   "outputs": [],
   "source": [
    "async def fetch(session,url):\n",
    "    async with session.get(url) as response:\n",
    "        return await response.text()\n",
    "\n",
    "async def main():\n",
    "    async with aiohttp.ClientSession() as session:\n",
    "        html=await fetch(session,'https://www.baidu.com')\n",
    "        print(html)\n",
    "\n",
    "loop=asyncio.get_event_loop()\n",
    "loop.run_until_complete(main())"
   ]
  },
  {
   "cell_type": "code",
   "execution_count": null,
   "metadata": {},
   "outputs": [],
   "source": []
  }
 ],
 "metadata": {
  "kernelspec": {
   "display_name": "Python 3",
   "language": "python",
   "name": "python3"
  },
  "language_info": {
   "codemirror_mode": {
    "name": "ipython",
    "version": 3
   },
   "file_extension": ".py",
   "mimetype": "text/x-python",
   "name": "python",
   "nbconvert_exporter": "python",
   "pygments_lexer": "ipython3",
   "version": "3.6.4"
  }
 },
 "nbformat": 4,
 "nbformat_minor": 2
}

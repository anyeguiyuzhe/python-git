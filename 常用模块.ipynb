{
 "cells": [
  {
   "cell_type": "markdown",
   "metadata": {
    "slideshow": {
     "slide_type": "-"
    }
   },
   "source": [
    "# 1 os模块\n",
    "\n",
    "## 1.1 os下的常用操作"
   ]
  },
  {
   "cell_type": "code",
   "execution_count": 2,
   "metadata": {
    "collapsed": true
   },
   "outputs": [
    {
     "ename": "FileNotFoundError",
     "evalue": "[WinError 2] 系统找不到指定的文件。: 'D:\\\\MATLAB\\\\hello.py'",
     "output_type": "error",
     "traceback": [
      "\u001B[1;31m---------------------------------------------------------------------------\u001B[0m",
      "\u001B[1;31mFileNotFoundError\u001B[0m                         Traceback (most recent call last)",
      "\u001B[1;32m<ipython-input-2-659d32fbb808>\u001B[0m in \u001B[0;36m<module>\u001B[1;34m()\u001B[0m\n\u001B[0;32m      5\u001B[0m \u001B[0mos\u001B[0m\u001B[1;33m.\u001B[0m\u001B[0mlistdir\u001B[0m\u001B[1;33m(\u001B[0m\u001B[1;34mr\"D:\\文档\"\u001B[0m\u001B[1;33m)\u001B[0m\u001B[1;33m\u001B[0m\u001B[0m\n\u001B[0;32m      6\u001B[0m \u001B[1;31m#删除文件\u001B[0m\u001B[1;33m\u001B[0m\u001B[1;33m\u001B[0m\u001B[0m\n\u001B[1;32m----> 7\u001B[1;33m \u001B[0mos\u001B[0m\u001B[1;33m.\u001B[0m\u001B[0mremove\u001B[0m\u001B[1;33m(\u001B[0m\u001B[1;34mr'D:\\MATLAB\\hello.py'\u001B[0m\u001B[1;33m)\u001B[0m\u001B[1;33m\u001B[0m\u001B[0m\n\u001B[0m\u001B[0;32m      8\u001B[0m \u001B[1;31m#删除目录\u001B[0m\u001B[1;33m\u001B[0m\u001B[1;33m\u001B[0m\u001B[0m\n",
      "\u001B[1;31mFileNotFoundError\u001B[0m: [WinError 2] 系统找不到指定的文件。: 'D:\\\\MATLAB\\\\hello.py'"
     ]
    }
   ],
   "source": [
    "import os\n",
    "\n",
    "os.name\n",
    "os.getcwd()\n",
    "os.chdir(path)\n",
    "\n",
    "#列出path目录下的所有文件和目录\n",
    "os.listdir('.')\n",
    "os.listdir(r\"D:\\文档\")\n",
    "\n",
    "#删除文件\n",
    "os.unlink()\n",
    "os.remove(r'D:\\MATLAB\\hello.py')\n",
    "#删除目录\n",
    "os.rmdir(r'D:\\MATLAB')\n",
    "\n",
    "#执行shell命令\n",
    "os.system('cls')"
   ]
  },
  {
   "cell_type": "markdown",
   "metadata": {},
   "source": [
    "## 1.2 os.path下的常用操作"
   ]
  },
  {
   "cell_type": "code",
   "execution_count": null,
   "metadata": {},
   "outputs": [],
   "source": [
    "import os.path\n",
    "\n",
    "#绝对路径\n",
    "os.path.isabs()\n",
    "os.path.abspath()\n",
    "\n",
    "#文件与目录\n",
    "os.path.isfile(path)\n",
    "os.path.isdir(path)\n",
    "os.path.exists(path)\n",
    "#返回路径的目录和文件名\n",
    "os.path.split(path)\n",
    "os.path.split(os.path.sep)\n",
    "#获得文件的大小，如果为目录，返回0\n",
    "os.path.getsize(path)\n",
    "#连接目录和文件名\n",
    "os.path.join(path,name)\n",
    "\n",
    "#检查路径存在\n",
    "os.path.exists\n",
    "os.path.isfile\n",
    "os.path.isdir"
   ]
  },
  {
   "cell_type": "markdown",
   "metadata": {},
   "source": [
    "# 2 glob模块"
   ]
  },
  {
   "cell_type": "code",
   "execution_count": 1,
   "metadata": {
    "scrolled": false
   },
   "outputs": [
    {
     "name": "stdout",
     "output_type": "stream",
     "text": [
      "False\n"
     ]
    },
    {
     "data": {
      "text/plain": [
       "False"
      ]
     },
     "execution_count": 1,
     "metadata": {},
     "output_type": "execute_result"
    }
   ],
   "source": [
    "import glob\n",
    "#参数glob(pathname,recursive=False)\n",
    "#recursive表示遍历所有目录，与通配符'**'结合使用\n",
    "path=r'E:\\图片\\**\\*.jpg'\n",
    "a=glob.glob(path)\n",
    "print(\"E:\\图片\\TIM图片20190221131059.jpg\" in a)\n",
    "b=glob.glob(path,recursive=True)\n",
    "\"D:\\图片\\TIM图片20190221131059.jpg\" in b"
   ]
  },
  {
   "cell_type": "markdown",
   "metadata": {},
   "source": [
    "- os.walk()"
   ]
  },
  {
   "cell_type": "code",
   "execution_count": 2,
   "metadata": {
    "collapsed": true
   },
   "outputs": [
    {
     "name": "stdout",
     "output_type": "stream",
     "text": [
      "当前目录是:D:\\文档\\Python Scripts\\data_test\\datasets\n",
      "(\"目录下的文件夹:['babynames', 'bitly_usagov', 'fec', 'haiti', 'movielens', \"\n",
      " \"'mta_perf', 'titanic', 'usda_food']\")\n",
      "'目录下的文件:[]'\n",
      "----------------------------------------------\n",
      "当前目录是:D:\\文档\\Python Scripts\\data_test\\datasets\\babynames\n",
      "'目录下的文件夹:[]'\n",
      "(\"目录下的文件:['NationalReadMe.pdf', 'yob1880.txt', 'yob1881.txt', 'yob1882.txt', \"\n",
      " \"'yob1883.txt', 'yob1884.txt', 'yob1885.txt', 'yob1886.txt', 'yob1887.txt', \"\n",
      " \"'yob1888.txt', 'yob1889.txt', 'yob1890.txt', 'yob1891.txt', 'yob1892.txt', \"\n",
      " \"'yob1893.txt', 'yob1894.txt', 'yob1895.txt', 'yob1896.txt', 'yob1897.txt', \"\n",
      " \"'yob1898.txt', 'yob1899.txt', 'yob1900.txt', 'yob1901.txt', 'yob1902.txt', \"\n",
      " \"'yob1903.txt', 'yob1904.txt', 'yob1905.txt', 'yob1906.txt', 'yob1907.txt', \"\n",
      " \"'yob1908.txt', 'yob1909.txt', 'yob1910.txt', 'yob1911.txt', 'yob1912.txt', \"\n",
      " \"'yob1913.txt', 'yob1914.txt', 'yob1915.txt', 'yob1916.txt', 'yob1917.txt', \"\n",
      " \"'yob1918.txt', 'yob1919.txt', 'yob1920.txt', 'yob1921.txt', 'yob1922.txt', \"\n",
      " \"'yob1923.txt', 'yob1924.txt', 'yob1925.txt', 'yob1926.txt', 'yob1927.txt', \"\n",
      " \"'yob1928.txt', 'yob1929.txt', 'yob1930.txt', 'yob1931.txt', 'yob1932.txt', \"\n",
      " \"'yob1933.txt', 'yob1934.txt', 'yob1935.txt', 'yob1936.txt', 'yob1937.txt', \"\n",
      " \"'yob1938.txt', 'yob1939.txt', 'yob1940.txt', 'yob1941.txt', 'yob1942.txt', \"\n",
      " \"'yob1943.txt', 'yob1944.txt', 'yob1945.txt', 'yob1946.txt', 'yob1947.txt', \"\n",
      " \"'yob1948.txt', 'yob1949.txt', 'yob1950.txt', 'yob1951.txt', 'yob1952.txt', \"\n",
      " \"'yob1953.txt', 'yob1954.txt', 'yob1955.txt', 'yob1956.txt', 'yob1957.txt', \"\n",
      " \"'yob1958.txt', 'yob1959.txt', 'yob1960.txt', 'yob1961.txt', 'yob1962.txt', \"\n",
      " \"'yob1963.txt', 'yob1964.txt', 'yob1965.txt', 'yob1966.txt', 'yob1967.txt', \"\n",
      " \"'yob1968.txt', 'yob1969.txt', 'yob1970.txt', 'yob1971.txt', 'yob1972.txt', \"\n",
      " \"'yob1973.txt', 'yob1974.txt', 'yob1975.txt', 'yob1976.txt', 'yob1977.txt', \"\n",
      " \"'yob1978.txt', 'yob1979.txt', 'yob1980.txt', 'yob1981.txt', 'yob1982.txt', \"\n",
      " \"'yob1983.txt', 'yob1984.txt', 'yob1985.txt', 'yob1986.txt', 'yob1987.txt', \"\n",
      " \"'yob1988.txt', 'yob1989.txt', 'yob1990.txt', 'yob1991.txt', 'yob1992.txt', \"\n",
      " \"'yob1993.txt', 'yob1994.txt', 'yob1995.txt', 'yob1996.txt', 'yob1997.txt', \"\n",
      " \"'yob1998.txt', 'yob1999.txt', 'yob2000.txt', 'yob2001.txt', 'yob2002.txt', \"\n",
      " \"'yob2003.txt', 'yob2004.txt', 'yob2005.txt', 'yob2006.txt', 'yob2007.txt', \"\n",
      " \"'yob2008.txt', 'yob2009.txt', 'yob2010.txt']\")\n",
      "----------------------------------------------\n",
      "当前目录是:D:\\文档\\Python Scripts\\data_test\\datasets\\bitly_usagov\n",
      "'目录下的文件夹:[]'\n",
      "\"目录下的文件:['example.txt']\"\n",
      "----------------------------------------------\n",
      "当前目录是:D:\\文档\\Python Scripts\\data_test\\datasets\\fec\n",
      "'目录下的文件夹:[]'\n",
      "\"目录下的文件:['fec.zip']\"\n",
      "----------------------------------------------\n",
      "当前目录是:D:\\文档\\Python Scripts\\data_test\\datasets\\haiti\n",
      "\"目录下的文件夹:['PortAuPrince_Roads']\"\n",
      "\"目录下的文件:['Haiti.csv']\"\n",
      "----------------------------------------------\n",
      "当前目录是:D:\\文档\\Python Scripts\\data_test\\datasets\\haiti\\PortAuPrince_Roads\n",
      "'目录下的文件夹:[]'\n",
      "(\"目录下的文件:['PortAuPrince_Roads.dbf', 'PortAuPrince_Roads.prj', \"\n",
      " \"'PortAuPrince_Roads.sbn', 'PortAuPrince_Roads.sbx', \"\n",
      " \"'PortAuPrince_Roads.shp', 'PortAuPrince_Roads.shx', \"\n",
      " \"'PortAuPrince_Roads_README.txt', 'PortAuPrince_Roads_sample.jpg']\")\n",
      "----------------------------------------------\n",
      "当前目录是:D:\\文档\\Python Scripts\\data_test\\datasets\\movielens\n",
      "'目录下的文件夹:[]'\n",
      "\"目录下的文件:['movies.dat', 'ratings.dat', 'README', 'users.dat']\"\n",
      "----------------------------------------------\n",
      "当前目录是:D:\\文档\\Python Scripts\\data_test\\datasets\\mta_perf\n",
      "'目录下的文件夹:[]'\n",
      "(\"目录下的文件:['parse.py', 'Performance_LIBUS.xml', 'Performance_LIBUS.xsd', \"\n",
      " \"'Performance_LIRR.xml', 'Performance_LIRR.xsd', 'Performance_MNR.xml', \"\n",
      " \"'Performance_MNR.xsd', 'Performance_MTABUS.xml', 'Performance_MTABUS.xsd', \"\n",
      " \"'Performance_NYCT.xml', 'Performance_NYCT.xsd', 'Performance_TBTA.xml', \"\n",
      " \"'Performance_TBTA.xsd']\")\n",
      "----------------------------------------------\n",
      "当前目录是:D:\\文档\\Python Scripts\\data_test\\datasets\\titanic\n",
      "'目录下的文件夹:[]'\n",
      "\"目录下的文件:['genderclassmodel.csv', 'gendermodel.csv', 'test.csv', 'train.csv']\"\n",
      "----------------------------------------------\n",
      "当前目录是:D:\\文档\\Python Scripts\\data_test\\datasets\\usda_food\n",
      "'目录下的文件夹:[]'\n",
      "\"目录下的文件:['database.json']\"\n",
      "----------------------------------------------\n"
     ]
    }
   ],
   "source": [
    "import os\n",
    "import pprint\n",
    "\n",
    "path=r\"D:\\文档\\Python Scripts\\data_test\\datasets\"\n",
    "for x,y,z in os.walk(path):\n",
    "    print('当前目录是:{}'.format(x))\n",
    "    pprint.pprint('目录下的文件夹:{}'.format(y))\n",
    "    pprint.pprint('目录下的文件:{}'.format(z))\n",
    "    print('----------------------------------------------')"
   ]
  },
  {
   "cell_type": "markdown",
   "metadata": {},
   "source": [
    "# 3 shutil、send2trash"
   ]
  },
  {
   "cell_type": "markdown",
   "metadata": {},
   "source": [
    "## 3.1 复制文件和文件夹"
   ]
  },
  {
   "cell_type": "code",
   "execution_count": null,
   "metadata": {},
   "outputs": [],
   "source": [
    "import shutil\n",
    "\n",
    "#复制文件\n",
    "path_1=r\"D:\\文档\\Python Scripts\\data_test\\ml-1m\\movies.dat\"\n",
    "shutil.copy(path_1,'D:\\\\音乐')#将path处的文件复制到指定目录\n",
    "\n",
    "#复制整个文件夹\n",
    "#注意 destination必须不存在，才能成功创建,并且'm1-1m'不会出现在新文件夹中\n",
    "path_2=r\"D:\\文档\\Python Scripts\\data_test\\ml-1m\"\n",
    "shutil.copytree(path_2,'D:\\\\音乐\\\\')"
   ]
  },
  {
   "cell_type": "markdown",
   "metadata": {},
   "source": [
    "## 3.2 文件和文件夹的移动和改名-shutil.move\n",
    "\n",
    ">shutil.move(source,destination)"
   ]
  },
  {
   "cell_type": "code",
   "execution_count": null,
   "metadata": {},
   "outputs": [],
   "source": [
    "import shutil\n",
    "\n",
    "#可以直接移动文件和文件夹\n",
    "#构成目的地的文件夹必须存在\n",
    "shutil.move(source,destination)"
   ]
  },
  {
   "cell_type": "markdown",
   "metadata": {},
   "source": [
    "## 3.3 安全删除文件"
   ]
  },
  {
   "cell_type": "code",
   "execution_count": 5,
   "metadata": {
    "scrolled": true
   },
   "outputs": [
    {
     "ename": "FileNotFoundError",
     "evalue": "[WinError 2] None: 'D:\\\\文档\\\\Python Scripts\\\\population.txt'",
     "output_type": "error",
     "traceback": [
      "\u001B[1;31m--------------------------------------------------------------------------\u001B[0m",
      "\u001B[1;31mFileNotFoundError\u001B[0m                        Traceback (most recent call last)",
      "\u001B[1;32m<ipython-input-5-02707119c0b8>\u001B[0m in \u001B[0;36m<module>\u001B[1;34m()\u001B[0m\n\u001B[0;32m      2\u001B[0m \u001B[1;33m\u001B[0m\u001B[0m\n\u001B[0;32m      3\u001B[0m \u001B[0mpath\u001B[0m\u001B[1;33m=\u001B[0m\u001B[1;34mr\"D:\\文档\\Python Scripts\\population.txt\"\u001B[0m\u001B[1;33m\u001B[0m\u001B[0m\n\u001B[1;32m----> 4\u001B[1;33m \u001B[0msend2trash\u001B[0m\u001B[1;33m.\u001B[0m\u001B[0msend2trash\u001B[0m\u001B[1;33m(\u001B[0m\u001B[0mpath\u001B[0m\u001B[1;33m)\u001B[0m\u001B[1;33m\u001B[0m\u001B[0m\n\u001B[0m",
      "\u001B[1;32mD:\\python\\lib\\site-packages\\send2trash\\plat_win.py\u001B[0m in \u001B[0;36msend2trash\u001B[1;34m(path)\u001B[0m\n\u001B[0;32m     68\u001B[0m     \u001B[0mresult\u001B[0m \u001B[1;33m=\u001B[0m \u001B[0mSHFileOperationW\u001B[0m\u001B[1;33m(\u001B[0m\u001B[0mbyref\u001B[0m\u001B[1;33m(\u001B[0m\u001B[0mfileop\u001B[0m\u001B[1;33m)\u001B[0m\u001B[1;33m)\u001B[0m\u001B[1;33m\u001B[0m\u001B[0m\n\u001B[0;32m     69\u001B[0m     \u001B[1;32mif\u001B[0m \u001B[0mresult\u001B[0m\u001B[1;33m:\u001B[0m\u001B[1;33m\u001B[0m\u001B[0m\n\u001B[1;32m---> 70\u001B[1;33m         \u001B[1;32mraise\u001B[0m \u001B[0mWindowsError\u001B[0m\u001B[1;33m(\u001B[0m\u001B[1;32mNone\u001B[0m\u001B[1;33m,\u001B[0m \u001B[1;32mNone\u001B[0m\u001B[1;33m,\u001B[0m \u001B[0mpath\u001B[0m\u001B[1;33m,\u001B[0m \u001B[0mresult\u001B[0m\u001B[1;33m)\u001B[0m\u001B[1;33m\u001B[0m\u001B[0m\n\u001B[0m",
      "\u001B[1;31mFileNotFoundError\u001B[0m: [WinError 2] None: 'D:\\\\文档\\\\Python Scripts\\\\population.txt'"
     ]
    }
   ],
   "source": [
    "import send2trash\n",
    "\n",
    "path=r\"E:\\文档\\Python Scripts\\population.txt\"\n",
    "send2trash.send2trash(path)"
   ]
  },
  {
   "cell_type": "markdown",
   "metadata": {},
   "source": [
    "# 4 pyperclip\n",
    ">写入和读取剪切板"
   ]
  },
  {
   "cell_type": "code",
   "execution_count": 11,
   "metadata": {},
   "outputs": [
    {
     "ename": "ModuleNotFoundError",
     "evalue": "No module named 'pyperclip'",
     "output_type": "error",
     "traceback": [
      "\u001B[1;31m---------------------------------------------------------------------------\u001B[0m",
      "\u001B[1;31mModuleNotFoundError\u001B[0m                       Traceback (most recent call last)",
      "\u001B[1;32m<ipython-input-11-a0d2f612da6a>\u001B[0m in \u001B[0;36m<module>\u001B[1;34m\u001B[0m\n\u001B[1;32m----> 1\u001B[1;33m \u001B[1;32mimport\u001B[0m \u001B[0mpyperclip\u001B[0m\u001B[1;33m\u001B[0m\u001B[1;33m\u001B[0m\u001B[0m\n\u001B[0m\u001B[0;32m      2\u001B[0m \u001B[1;33m\u001B[0m\u001B[0m\n\u001B[0;32m      3\u001B[0m \u001B[0mpyperclip\u001B[0m\u001B[1;33m.\u001B[0m\u001B[0mpaste\u001B[0m\u001B[1;33m(\u001B[0m\u001B[1;33m)\u001B[0m\u001B[1;33m\u001B[0m\u001B[1;33m\u001B[0m\u001B[0m\n\u001B[0;32m      4\u001B[0m \u001B[0mpyperclip\u001B[0m\u001B[1;33m.\u001B[0m\u001B[0mcopy\u001B[0m\u001B[1;33m(\u001B[0m\u001B[1;34m'hello world'\u001B[0m\u001B[1;33m)\u001B[0m\u001B[1;33m\u001B[0m\u001B[1;33m\u001B[0m\u001B[0m\n\u001B[0;32m      5\u001B[0m \u001B[0mpyperclip\u001B[0m\u001B[1;33m.\u001B[0m\u001B[0mpaste\u001B[0m\u001B[1;33m(\u001B[0m\u001B[1;33m)\u001B[0m\u001B[1;33m\u001B[0m\u001B[1;33m\u001B[0m\u001B[0m\n",
      "\u001B[1;31mModuleNotFoundError\u001B[0m: No module named 'pyperclip'"
     ]
    }
   ],
   "source": [
    "import pyperclip\n",
    "\n",
    "pyperclip.paste()\n",
    "pyperclip.copy('hello world')\n",
    "pyperclip.paste()"
   ]
  },
  {
   "cell_type": "markdown",
   "metadata": {},
   "source": [
    "# 5 MySQLdb\n",
    ">数据库读写"
   ]
  },
  {
   "cell_type": "code",
   "execution_count": 1,
   "metadata": {},
   "outputs": [],
   "source": [
    "import MySQLdb as mq\n",
    "import pandas as pd"
   ]
  },
  {
   "cell_type": "code",
   "execution_count": 2,
   "metadata": {},
   "outputs": [
    {
     "data": {
      "text/plain": "14"
     },
     "execution_count": 2,
     "metadata": {},
     "output_type": "execute_result"
    },
    {
     "data": {
      "text/plain": "('ANV01',\n 1001,\n '.5 ton anvil',\n Decimal('5.99'),\n '.5 ton anvil, black, complete with handy hook')"
     },
     "execution_count": 2,
     "metadata": {},
     "output_type": "execute_result"
    },
    {
     "data": {
      "text/plain": "         0     1               2      3  \\\n0    ANV02  1001     1 ton anvil   9.99   \n1    ANV03  1001     2 ton anvil  14.99   \n2    DTNTR  1003       Detonator  13.00   \n3       FB  1003       Bird seed  10.00   \n4       FC  1003         Carrots   2.50   \n5      FU1  1002           Fuses   3.42   \n6   JP1000  1005    JetPack 1000  35.00   \n7   JP2000  1005    JetPack 2000  55.00   \n8      OL1  1002         Oil can   8.99   \n9     SAFE  1003            Safe  50.00   \n10   SLING  1003           Sling   4.49   \n11    TNT1  1003   TNT (1 stick)   2.50   \n12    TNT2  1003  TNT (5 sticks)  10.00   \n\n                                                    4  \n0   1 ton anvil, black, complete with handy hook a...  \n1   2 ton anvil, black, complete with handy hook a...  \n2     Detonator (plunger powered), fuses not included  \n3               Large bag (suitable for road runners)  \n4                Carrots (rabbit hunting season only)  \n5                                 1 dozen, extra long  \n6               JetPack 1000, intended for single use  \n7                             JetPack 2000, multi-use  \n8                                        Oil can, red  \n9                          Safe with combination lock  \n10                           Sling, one size fits all  \n11                             TNT, red, single stick  \n12                        TNT, red, pack of 10 sticks  ",
      "text/html": "<div>\n<style scoped>\n    .dataframe tbody tr th:only-of-type {\n        vertical-align: middle;\n    }\n\n    .dataframe tbody tr th {\n        vertical-align: top;\n    }\n\n    .dataframe thead th {\n        text-align: right;\n    }\n</style>\n<table border=\"1\" class=\"dataframe\">\n  <thead>\n    <tr style=\"text-align: right;\">\n      <th></th>\n      <th>0</th>\n      <th>1</th>\n      <th>2</th>\n      <th>3</th>\n      <th>4</th>\n    </tr>\n  </thead>\n  <tbody>\n    <tr>\n      <th>0</th>\n      <td>ANV02</td>\n      <td>1001</td>\n      <td>1 ton anvil</td>\n      <td>9.99</td>\n      <td>1 ton anvil, black, complete with handy hook a...</td>\n    </tr>\n    <tr>\n      <th>1</th>\n      <td>ANV03</td>\n      <td>1001</td>\n      <td>2 ton anvil</td>\n      <td>14.99</td>\n      <td>2 ton anvil, black, complete with handy hook a...</td>\n    </tr>\n    <tr>\n      <th>2</th>\n      <td>DTNTR</td>\n      <td>1003</td>\n      <td>Detonator</td>\n      <td>13.00</td>\n      <td>Detonator (plunger powered), fuses not included</td>\n    </tr>\n    <tr>\n      <th>3</th>\n      <td>FB</td>\n      <td>1003</td>\n      <td>Bird seed</td>\n      <td>10.00</td>\n      <td>Large bag (suitable for road runners)</td>\n    </tr>\n    <tr>\n      <th>4</th>\n      <td>FC</td>\n      <td>1003</td>\n      <td>Carrots</td>\n      <td>2.50</td>\n      <td>Carrots (rabbit hunting season only)</td>\n    </tr>\n    <tr>\n      <th>5</th>\n      <td>FU1</td>\n      <td>1002</td>\n      <td>Fuses</td>\n      <td>3.42</td>\n      <td>1 dozen, extra long</td>\n    </tr>\n    <tr>\n      <th>6</th>\n      <td>JP1000</td>\n      <td>1005</td>\n      <td>JetPack 1000</td>\n      <td>35.00</td>\n      <td>JetPack 1000, intended for single use</td>\n    </tr>\n    <tr>\n      <th>7</th>\n      <td>JP2000</td>\n      <td>1005</td>\n      <td>JetPack 2000</td>\n      <td>55.00</td>\n      <td>JetPack 2000, multi-use</td>\n    </tr>\n    <tr>\n      <th>8</th>\n      <td>OL1</td>\n      <td>1002</td>\n      <td>Oil can</td>\n      <td>8.99</td>\n      <td>Oil can, red</td>\n    </tr>\n    <tr>\n      <th>9</th>\n      <td>SAFE</td>\n      <td>1003</td>\n      <td>Safe</td>\n      <td>50.00</td>\n      <td>Safe with combination lock</td>\n    </tr>\n    <tr>\n      <th>10</th>\n      <td>SLING</td>\n      <td>1003</td>\n      <td>Sling</td>\n      <td>4.49</td>\n      <td>Sling, one size fits all</td>\n    </tr>\n    <tr>\n      <th>11</th>\n      <td>TNT1</td>\n      <td>1003</td>\n      <td>TNT (1 stick)</td>\n      <td>2.50</td>\n      <td>TNT, red, single stick</td>\n    </tr>\n    <tr>\n      <th>12</th>\n      <td>TNT2</td>\n      <td>1003</td>\n      <td>TNT (5 sticks)</td>\n      <td>10.00</td>\n      <td>TNT, red, pack of 10 sticks</td>\n    </tr>\n  </tbody>\n</table>\n</div>"
     },
     "execution_count": 2,
     "metadata": {},
     "output_type": "execute_result"
    }
   ],
   "source": [
    "db=mq.connect('localhost','root',charset='utf8',db='list')\n",
    "cursor=db.cursor()\n",
    "cursor.execute('SELECT * FROM list.products;')\n",
    "cursor.fetchone()\n",
    "y=cursor.fetchall()\n",
    "db.close()\n",
    "pd.DataFrame(y)"
   ]
  },
  {
   "cell_type": "code",
   "execution_count": 3,
   "metadata": {},
   "outputs": [
    {
     "data": {
      "text/plain": [
       "5"
      ]
     },
     "execution_count": 3,
     "metadata": {},
     "output_type": "execute_result"
    },
    {
     "data": {
      "text/plain": [
       "(('prod_id', 'char(10)', 'NO', 'PRI', None, ''),\n",
       " ('vend_id', 'int(11)', 'NO', 'MUL', None, ''),\n",
       " ('prod_name', 'char(255)', 'NO', '', None, ''),\n",
       " ('prod_price', 'decimal(8,2)', 'NO', '', None, ''),\n",
       " ('prod_desc', 'text', 'YES', '', None, ''))"
      ]
     },
     "execution_count": 3,
     "metadata": {},
     "output_type": "execute_result"
    }
   ],
   "source": [
    "db=mq.connect('localhost','root',charset='utf8',db='list')\n",
    "cursor=db.cursor()\n",
    "cursor.execute('SHOW COLUMNS FROM list.products;')\n",
    "cursor.fetchall()"
   ]
  },
  {
   "cell_type": "code",
   "execution_count": null,
   "metadata": {},
   "outputs": [],
   "source": []
  }
 ],
 "metadata": {
  "kernelspec": {
   "display_name": "Python 3",
   "language": "python",
   "name": "python3"
  },
  "language_info": {
   "codemirror_mode": {
    "name": "ipython",
    "version": 3
   },
   "file_extension": ".py",
   "mimetype": "text/x-python",
   "name": "python",
   "nbconvert_exporter": "python",
   "pygments_lexer": "ipython3",
   "version": "3.8.5"
  },
  "toc": {
   "base_numbering": 1,
   "nav_menu": {},
   "number_sections": false,
   "sideBar": true,
   "skip_h1_title": false,
   "title_cell": "Table of Contents",
   "title_sidebar": "Contents",
   "toc_cell": false,
   "toc_position": {},
   "toc_section_display": true,
   "toc_window_display": false
  }
 },
 "nbformat": 4,
 "nbformat_minor": 2
}
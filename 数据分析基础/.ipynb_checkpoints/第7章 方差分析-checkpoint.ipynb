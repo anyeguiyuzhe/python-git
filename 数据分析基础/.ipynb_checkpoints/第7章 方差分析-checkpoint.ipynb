{
 "cells": [
  {
   "cell_type": "markdown",
   "metadata": {},
   "source": [
    "# 第7章 方差分析\n",
    "\n",
    "## 7.1方差分析的基本原理\n",
    "\n",
    ">比较两个样本的方差是否相等，用F统计量"
   ]
  },
  {
   "cell_type": "code",
   "execution_count": 3,
   "metadata": {},
   "outputs": [
    {
     "name": "stdout",
     "output_type": "stream",
     "text": [
      "   market  pixel  sales\n",
      "0       1      1     70\n",
      "1       1      2    101\n",
      "2       1      3    114\n",
      "3       1      4    120\n",
      "4       1      5    132\n"
     ]
    }
   ],
   "source": [
    "import pandas as pd\n",
    "import numpy as np\n",
    "from scipy import stats\n",
    "import statsmodels.api as sm\n",
    "\n",
    "path=r\"D:\\文档\\Python Scripts\\Python数据分析基础（第2版）数据\\ch7\\dc_sales.csv\"\n",
    "data=pd.read_csv(path)\n",
    "print(data.head())\n",
    "data['pixel']=data['pixel'].astype('category')\n",
    "data.cat.categories=['<500','500-600','600-800','800-1000','>1000']\n",
    "print(pd.pivot_table(data,index='pixel',columns='market',values='sales'))\n"
   ]
  },
  {
   "cell_type": "code",
   "execution_count": null,
   "metadata": {},
   "outputs": [],
   "source": []
  }
 ],
 "metadata": {
  "kernelspec": {
   "display_name": "Python 3",
   "language": "python",
   "name": "python3"
  },
  "language_info": {
   "codemirror_mode": {
    "name": "ipython",
    "version": 3
   },
   "file_extension": ".py",
   "mimetype": "text/x-python",
   "name": "python",
   "nbconvert_exporter": "python",
   "pygments_lexer": "ipython3",
   "version": "3.6.4"
  }
 },
 "nbformat": 4,
 "nbformat_minor": 2
}

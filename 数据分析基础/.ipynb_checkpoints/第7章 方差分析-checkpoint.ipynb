{
 "cells": [
  {
   "cell_type": "markdown",
   "metadata": {},
   "source": [
    "# 第7章 方差分析(Analysis of Variance,ANOVA)\n",
    "\n",
    "## 7.1方差分析的基本原理\n",
    "\n",
    ">比较两个样本的方差是否相等，用F统计量"
   ]
  },
  {
   "cell_type": "code",
   "execution_count": 3,
   "metadata": {},
   "outputs": [
    {
     "name": "stdout",
     "output_type": "stream",
     "text": [
      "   market  pixel  sales\n",
      "0       1      1     70\n",
      "1       1      2    101\n",
      "2       1      3    114\n",
      "3       1      4    120\n",
      "4       1      5    132\n",
      "market      1    2    3    4    5    6    7    8\n",
      "pixel                                           \n",
      "<500       70   67   82   87   80   80   87   96\n",
      "500-600   101   76   97   88   92   99  123   90\n",
      "600-800   114   96  128  103  107   91   99  119\n",
      "800-1000  120   98  132  128  132  132  131  119\n",
      ">1000     132  102  123  119  123  135  126  117\n"
     ]
    }
   ],
   "source": [
    "import pandas as pd\n",
    "import numpy as np\n",
    "from scipy import stats\n",
    "import statsmodels.api as sm\n",
    "\n",
    "path=r\"D:\\文档\\Python Scripts\\Python数据分析基础（第2版）数据\\ch7\\dc_sales.csv\"\n",
    "data=pd.read_csv(path)\n",
    "print(data.head())\n",
    "data['pixel']=data['pixel'].astype('category')\n",
    "data['pixel'].cat.categories=['<500','500-600','600-800','800-1000','>1000']\n",
    "print(pd.pivot_table(data,index='pixel',columns='market',values='sales'))\n"
   ]
  },
  {
   "cell_type": "markdown",
   "metadata": {},
   "source": [
    "## 7.2 一元方差分析(one way ANOVA)\n",
    "\n",
    "### 7.2.1 一元单因素方差分析"
   ]
  },
  {
   "cell_type": "code",
   "execution_count": 13,
   "metadata": {},
   "outputs": [
    {
     "data": {
      "image/png": "[encoded data removed]",
      "text/plain": [
       "<Figure size 432x288 with 1 Axes>"
      ]
     },
     "metadata": {},
     "output_type": "display_data"
    }
   ],
   "source": [
    "import matplotlib.pyplot as plt\n",
    "\n",
    "g=data['pixel'].unique()\n",
    "args=[]\n",
    "for i in g:\n",
    "    args.append(data[data['pixel']==i]['sales'])#获得每种像素销量的列表\n",
    "\n",
    "#绘制盒须图\n",
    "plot=plt.boxplot(args,vert=True,patch_artist=True)\n",
    "color=['#FF83FA','#FF34B3','#C6E2FF','#7EC0EE','#4876FF']\n",
    "for x,y in zip(plot['boxes'],color):\n",
    "    x.set_facecolor(y)\n",
    "plt.xticks(ticks=range(len(g)),labels=g)\n",
    "plt.show()"
   ]
  },
  {
   "cell_type": "markdown",
   "metadata": {},
   "source": [
    "#### 7.2.1.1 方差同质性检验\n",
    "\n",
    ">对于一元方差分析采用Levene's检验,多元方差分析采用Bartlett's球形检验法"
   ]
  },
  {
   "cell_type": "code",
   "execution_count": 15,
   "metadata": {},
   "outputs": [
    {
     "data": {
      "text/plain": [
       "LeveneResult(statistic=0.233384556281214, pvalue=0.9176929576341715)"
      ]
     },
     "execution_count": 15,
     "metadata": {},
     "output_type": "execute_result"
    }
   ],
   "source": [
    "stats.levene(*args)"
   ]
  },
  {
   "cell_type": "markdown",
   "metadata": {},
   "source": [
    "#### 7.2.1.2 方差来源分解以及检验过程\n",
    "\n",
    ">scipy.stats的f_oneway函数可以进行一元单因素方差分析并直接得到最终结果"
   ]
  },
  {
   "cell_type": "code",
   "execution_count": 16,
   "metadata": {},
   "outputs": [
    {
     "data": {
      "text/plain": [
       "F_onewayResult(statistic=19.57176228742291, pvalue=1.5491302153222814e-08)"
      ]
     },
     "execution_count": 16,
     "metadata": {},
     "output_type": "execute_result"
    }
   ],
   "source": [
    "stats.f_oneway(*args)"
   ]
  },
  {
   "cell_type": "code",
   "execution_count": null,
   "metadata": {},
   "outputs": [],
   "source": [
    "#使用statsmodels的anova_lm配合OLS函数得到更加详细的计算结果\n",
    "from statsmodels.formula.api import ols\n",
    "\n",
    "data_anova=sm.stats.anova_lm(ols('sales~C(pixel)',data).fit())\n",
    "print(data_anova)\n"
   ]
  },
  {
   "cell_type": "markdown",
   "metadata": {},
   "source": [
    "#### 7.2.1.3 多重比较检验\n",
    "\n",
    ">进一步探究因素的哪一个水平对观察变量产生了显著影响,statsmodels.stats.multicomp中提供了pairwise_tukeyhsd函数可以进行TukeyHSD事后多重比较检验"
   ]
  },
  {
   "cell_type": "code",
   "execution_count": 19,
   "metadata": {},
   "outputs": [
    {
     "name": "stdout",
     "output_type": "stream",
     "text": [
      "   Multiple Comparison of Means - Tukey HSD, FWER=0.05    \n",
      "==========================================================\n",
      " group1   group2  meandiff p-adj   lower    upper   reject\n",
      "----------------------------------------------------------\n",
      " 500-600  600-800   11.375 0.3029  -5.2516  28.0016  False\n",
      " 500-600 800-1000    28.25  0.001  11.6234  44.8766   True\n",
      " 500-600     <500  -14.625 0.1072 -31.2516   2.0016  False\n",
      " 500-600    >1000   26.375  0.001   9.7484  43.0016   True\n",
      " 600-800 800-1000   16.875 0.0453   0.2484  33.5016   True\n",
      " 600-800     <500    -26.0  0.001 -42.6266  -9.3734   True\n",
      " 600-800    >1000     15.0 0.0934  -1.6266  31.6266  False\n",
      "800-1000     <500  -42.875  0.001 -59.5016 -26.2484   True\n",
      "800-1000    >1000   -1.875    0.9 -18.5016  14.7516  False\n",
      "    <500    >1000     41.0  0.001  24.3734  57.6266   True\n",
      "----------------------------------------------------------\n"
     ]
    }
   ],
   "source": [
    "from statsmodels.stats.multicomp import pairwise_tukeyhsd\n",
    "\n",
    "data_anova_post=pairwise_tukeyhsd(data['sales'],data['pixel'],alpha=0.05)\n",
    "print(data_anova_post)"
   ]
  },
  {
   "cell_type": "markdown",
   "metadata": {},
   "source": [
    "#### 7.2.1.4 方差分析模型的参数估计和预测"
   ]
  },
  {
   "cell_type": "code",
   "execution_count": 20,
   "metadata": {},
   "outputs": [
    {
     "name": "stdout",
     "output_type": "stream",
     "text": [
      "                            OLS Regression Results                            \n",
      "==============================================================================\n",
      "Dep. Variable:                  sales   R-squared:                       0.691\n",
      "Model:                            OLS   Adj. R-squared:                  0.656\n",
      "Method:                 Least Squares   F-statistic:                     19.57\n",
      "Date:                Sun, 01 Sep 2019   Prob (F-statistic):           1.55e-08\n",
      "Time:                        23:06:17   Log-Likelihood:                -152.01\n",
      "No. Observations:                  40   AIC:                             314.0\n",
      "Df Residuals:                      35   BIC:                             322.5\n",
      "Df Model:                           4                                         \n",
      "Covariance Type:            nonrobust                                         \n",
      "========================================================================================\n",
      "                           coef    std err          t      P>|t|      [0.025      0.975]\n",
      "----------------------------------------------------------------------------------------\n",
      "Intercept               81.1250      4.089     19.839      0.000      72.823      89.427\n",
      "C(pixel)[T.500-600]     14.6250      5.783      2.529      0.016       2.885      26.365\n",
      "C(pixel)[T.600-800]     26.0000      5.783      4.496      0.000      14.260      37.740\n",
      "C(pixel)[T.800-1000]    42.8750      5.783      7.414      0.000      31.135      54.615\n",
      "C(pixel)[T.>1000]       41.0000      5.783      7.090      0.000      29.260      52.740\n",
      "==============================================================================\n",
      "Omnibus:                        0.757   Durbin-Watson:                   1.535\n",
      "Prob(Omnibus):                  0.685   Jarque-Bera (JB):                0.172\n",
      "Skew:                          -0.090   Prob(JB):                        0.917\n",
      "Kurtosis:                       3.266   Cond. No.                         5.83\n",
      "==============================================================================\n",
      "\n",
      "Warnings:\n",
      "[1] Standard Errors assume that the covariance matrix of the errors is correctly specified.\n"
     ]
    }
   ],
   "source": [
    "formula='sales~C(pixel)'\n",
    "data_est=ols(formula,data).fit()\n",
    "print(data_est.summary())"
   ]
  },
  {
   "cell_type": "code",
   "execution_count": null,
   "metadata": {},
   "outputs": [],
   "source": []
  }
 ],
 "metadata": {
  "kernelspec": {
   "display_name": "Python 3",
   "language": "python",
   "name": "python3"
  },
  "language_info": {
   "codemirror_mode": {
    "name": "ipython",
    "version": 3
   },
   "file_extension": ".py",
   "mimetype": "text/x-python",
   "name": "python",
   "nbconvert_exporter": "python",
   "pygments_lexer": "ipython3",
   "version": "3.6.4"
  }
 },
 "nbformat": 4,
 "nbformat_minor": 2
}

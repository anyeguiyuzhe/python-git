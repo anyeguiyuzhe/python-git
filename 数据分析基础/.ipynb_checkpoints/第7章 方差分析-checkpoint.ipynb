{
 "cells": [
  {
   "cell_type": "markdown",
   "metadata": {},
   "source": [
    "# 第7章 方差分析(Analysis of Variance,ANOVA)\n",
    "\n",
    "## 7.1方差分析的基本原理\n",
    "\n",
    ">比较两个样本的方差是否相等，用F统计量\n",
    "$$F=\\frac{S_1^2}{S_2^2}$$"
   ]
  },
  {
   "cell_type": "markdown",
   "metadata": {},
   "source": [
    "## 7.2 一元方差分析(one way ANOVA)\n",
    "\n",
    "### 7.2.1 一元单因素方差分析"
   ]
  },
  {
   "cell_type": "code",
   "execution_count": 1,
   "metadata": {},
   "outputs": [],
   "source": [
    "import pandas as pd\n",
    "import numpy as np\n",
    "from scipy import stats\n",
    "import statsmodels.api as sm"
   ]
  },
  {
   "cell_type": "code",
   "execution_count": 2,
   "metadata": {},
   "outputs": [
    {
     "name": "stdout",
     "output_type": "stream",
     "text": [
      "   market  pixel  sales\n",
      "0       1      1     70\n",
      "1       1      2    101\n",
      "2       1      3    114\n",
      "3       1      4    120\n",
      "4       1      5    132\n",
      "market      1    2    3    4    5    6    7    8\n",
      "pixel                                           \n",
      "<500       70   67   82   87   80   80   87   96\n",
      "500-600   101   76   97   88   92   99  123   90\n",
      "600-800   114   96  128  103  107   91   99  119\n",
      "800-1000  120   98  132  128  132  132  131  119\n",
      ">1000     132  102  123  119  123  135  126  117\n"
     ]
    }
   ],
   "source": [
    "path=r\"D:\\文档\\Python Scripts\\Python数据分析基础（第2版）数据\\ch7\\dc_sales.csv\"\n",
    "data=pd.read_csv(path)\n",
    "print(data.head())\n",
    "data['pixel']=data['pixel'].astype('category')\n",
    "data['pixel'].cat.categories=['<500','500-600','600-800','800-1000','>1000']\n",
    "print(pd.pivot_table(data,index='pixel',columns='market',values='sales'))\n"
   ]
  },
  {
   "cell_type": "code",
   "execution_count": 11,
   "metadata": {},
   "outputs": [
    {
     "data": {
      "text/plain": [
       "([<matplotlib.axis.XTick at 0x28c52bd2c18>,\n",
       "  <matplotlib.axis.XTick at 0x28c52d260f0>,\n",
       "  <matplotlib.axis.XTick at 0x28c52b8aac8>,\n",
       "  <matplotlib.axis.XTick at 0x28c52b3d0b8>,\n",
       "  <matplotlib.axis.XTick at 0x28c52b689b0>,\n",
       "  <matplotlib.axis.XTick at 0x28c52b68748>],\n",
       " <a list of 6 Text xticklabel objects>)"
      ]
     },
     "execution_count": 11,
     "metadata": {},
     "output_type": "execute_result"
    },
    {
     "data": {
      "image/png": "[encoded data removed]",
      "text/plain": [
       "<Figure size 432x288 with 1 Axes>"
      ]
     },
     "metadata": {},
     "output_type": "display_data"
    }
   ],
   "source": [
    "import matplotlib.pyplot as plt\n",
    "\n",
    "g=data['pixel'].unique()\n",
    "args=[]\n",
    "for i in g:\n",
    "    args.append(data[data['pixel']==i]['sales'])#获得每种像素销量的列表\n",
    "\n",
    "#绘制盒须图\n",
    "plot=plt.boxplot(args,vert=True,patch_artist=True)\n",
    "color=['#FF83FA','#FF34B3','#C6E2FF','#7EC0EE','#4876FF']\n",
    "for x,y in zip(plot['boxes'],color):\n",
    "    x.set_facecolor(y)\n",
    "plt.xticks(ticks=range(len(g)+1),labels=['0',*g])\n",
    "plt.show()"
   ]
  },
  {
   "cell_type": "markdown",
   "metadata": {},
   "source": [
    "#### 7.2.1.1 方差同质性检验\n",
    "\n",
    ">对于一元方差分析采用Levene's检验,多元方差分析采用Bartlett's球形检验法"
   ]
  },
  {
   "cell_type": "code",
   "execution_count": 12,
   "metadata": {},
   "outputs": [
    {
     "data": {
      "text/plain": [
       "LeveneResult(statistic=0.233384556281214, pvalue=0.9176929576341715)"
      ]
     },
     "execution_count": 12,
     "metadata": {},
     "output_type": "execute_result"
    }
   ],
   "source": [
    "stats.levene(*args)#P值非常大，满足方差齐性假设"
   ]
  },
  {
   "cell_type": "markdown",
   "metadata": {},
   "source": [
    "#### 7.2.1.2 方差来源分解以及检验过程\n",
    "\n",
    ">scipy.stats的f_oneway函数可以进行一元单因素方差分析并直接得到最终结果"
   ]
  },
  {
   "cell_type": "code",
   "execution_count": 16,
   "metadata": {},
   "outputs": [
    {
     "data": {
      "text/plain": [
       "F_onewayResult(statistic=19.57176228742291, pvalue=1.5491302153222814e-08)"
      ]
     },
     "execution_count": 16,
     "metadata": {},
     "output_type": "execute_result"
    }
   ],
   "source": [
    "stats.f_oneway(*args)"
   ]
  },
  {
   "cell_type": "markdown",
   "metadata": {},
   "source": [
    "使用statsmodels的anova_lm配合OLS函数得到更加详细的计算结果"
   ]
  },
  {
   "cell_type": "code",
   "execution_count": 13,
   "metadata": {},
   "outputs": [
    {
     "name": "stdout",
     "output_type": "stream",
     "text": [
      "            df     sum_sq    mean_sq          F        PR(>F)\n",
      "C(pixel)   4.0  10472.850  2618.2125  19.571762  1.549130e-08\n",
      "Residual  35.0   4682.125   133.7750        NaN           NaN\n"
     ]
    }
   ],
   "source": [
    "from statsmodels.formula.api import ols\n",
    "\n",
    "data_anova=sm.stats.anova_lm(ols('sales~C(pixel)',data).fit())\n",
    "print(data_anova)\n"
   ]
  },
  {
   "cell_type": "markdown",
   "metadata": {},
   "source": [
    "#### 7.2.1.3 多重比较检验\n",
    "\n",
    ">  进一步探究因素的哪一个水平对观察变量产生了显著影响,statsmodels.stats.multicomp中提供了pairwise_tukeyhsd函数可以进行TukeyHSD事后多重比较检验"
   ]
  },
  {
   "cell_type": "code",
   "execution_count": 19,
   "metadata": {},
   "outputs": [
    {
     "name": "stdout",
     "output_type": "stream",
     "text": [
      "   Multiple Comparison of Means - Tukey HSD, FWER=0.05    \n",
      "==========================================================\n",
      " group1   group2  meandiff p-adj   lower    upper   reject\n",
      "----------------------------------------------------------\n",
      " 500-600  600-800   11.375 0.3029  -5.2516  28.0016  False\n",
      " 500-600 800-1000    28.25  0.001  11.6234  44.8766   True\n",
      " 500-600     <500  -14.625 0.1072 -31.2516   2.0016  False\n",
      " 500-600    >1000   26.375  0.001   9.7484  43.0016   True\n",
      " 600-800 800-1000   16.875 0.0453   0.2484  33.5016   True\n",
      " 600-800     <500    -26.0  0.001 -42.6266  -9.3734   True\n",
      " 600-800    >1000     15.0 0.0934  -1.6266  31.6266  False\n",
      "800-1000     <500  -42.875  0.001 -59.5016 -26.2484   True\n",
      "800-1000    >1000   -1.875    0.9 -18.5016  14.7516  False\n",
      "    <500    >1000     41.0  0.001  24.3734  57.6266   True\n",
      "----------------------------------------------------------\n"
     ]
    }
   ],
   "source": [
    "from statsmodels.stats.multicomp import pairwise_tukeyhsd\n",
    "\n",
    "data_anova_post=pairwise_tukeyhsd(data['sales'],data['pixel'],alpha=0.05)\n",
    "print(data_anova_post)"
   ]
  },
  {
   "cell_type": "markdown",
   "metadata": {},
   "source": [
    "#### 7.2.1.4 方差分析模型的参数估计和预测"
   ]
  },
  {
   "cell_type": "code",
   "execution_count": 15,
   "metadata": {},
   "outputs": [
    {
     "name": "stdout",
     "output_type": "stream",
     "text": [
      "                            OLS Regression Results                            \n",
      "==============================================================================\n",
      "Dep. Variable:                  sales   R-squared:                       0.691\n",
      "Model:                            OLS   Adj. R-squared:                  0.656\n",
      "Method:                 Least Squares   F-statistic:                     19.57\n",
      "Date:                Sat, 09 Nov 2019   Prob (F-statistic):           1.55e-08\n",
      "Time:                        20:57:33   Log-Likelihood:                -152.01\n",
      "No. Observations:                  40   AIC:                             314.0\n",
      "Df Residuals:                      35   BIC:                             322.5\n",
      "Df Model:                           4                                         \n",
      "Covariance Type:            nonrobust                                         \n",
      "========================================================================================\n",
      "                           coef    std err          t      P>|t|      [0.025      0.975]\n",
      "----------------------------------------------------------------------------------------\n",
      "Intercept               81.1250      4.089     19.839      0.000      72.823      89.427\n",
      "C(pixel)[T.500-600]     14.6250      5.783      2.529      0.016       2.885      26.365\n",
      "C(pixel)[T.600-800]     26.0000      5.783      4.496      0.000      14.260      37.740\n",
      "C(pixel)[T.800-1000]    42.8750      5.783      7.414      0.000      31.135      54.615\n",
      "C(pixel)[T.>1000]       41.0000      5.783      7.090      0.000      29.260      52.740\n",
      "==============================================================================\n",
      "Omnibus:                        0.757   Durbin-Watson:                   1.535\n",
      "Prob(Omnibus):                  0.685   Jarque-Bera (JB):                0.172\n",
      "Skew:                          -0.090   Prob(JB):                        0.917\n",
      "Kurtosis:                       3.266   Cond. No.                         5.83\n",
      "==============================================================================\n",
      "\n",
      "Warnings:\n",
      "[1] Standard Errors assume that the covariance matrix of the errors is correctly specified.\n"
     ]
    }
   ],
   "source": [
    "formula='sales~C(pixel)'\n",
    "data_est=ols(formula,data).fit()\n",
    "print(data_est.summary())"
   ]
  },
  {
   "cell_type": "markdown",
   "metadata": {},
   "source": [
    "#### 7.2.1.5方差分析模型的预测\n",
    "\n",
    ">对statsmodels的模型对象使用fittedvalues属性就可以直接依据模型参数估计结果对因变量进行预测"
   ]
  },
  {
   "cell_type": "code",
   "execution_count": 17,
   "metadata": {},
   "outputs": [
    {
     "data": {
      "text/plain": [
       "0      81.125\n",
       "1      95.750\n",
       "2     107.125\n",
       "3     124.000\n",
       "4     122.125\n",
       "5      81.125\n",
       "6      95.750\n",
       "7     107.125\n",
       "8     124.000\n",
       "9     122.125\n",
       "10     81.125\n",
       "11     95.750\n",
       "12    107.125\n",
       "13    124.000\n",
       "14    122.125\n",
       "15     81.125\n",
       "16     95.750\n",
       "17    107.125\n",
       "18    124.000\n",
       "19    122.125\n",
       "20     81.125\n",
       "21     95.750\n",
       "22    107.125\n",
       "23    124.000\n",
       "24    122.125\n",
       "25     81.125\n",
       "26     95.750\n",
       "27    107.125\n",
       "28    124.000\n",
       "29    122.125\n",
       "30     81.125\n",
       "31     95.750\n",
       "32    107.125\n",
       "33    124.000\n",
       "34    122.125\n",
       "35     81.125\n",
       "36     95.750\n",
       "37    107.125\n",
       "38    124.000\n",
       "39    122.125\n",
       "dtype: float64"
      ]
     },
     "execution_count": 17,
     "metadata": {},
     "output_type": "execute_result"
    },
    {
     "data": {
      "text/html": [
       "<table class=\"simpletable\">\n",
       "<tr>\n",
       "   <th>obs</th> <th>endog</th>       <th>fitted</th>               <th>Cook's</th>               <th>student.</th>             <th>hat diag</th>              <th>dffits </th>              <th>ext.stud.</th>               <th>dffits</th>        \n",
       "</tr>\n",
       "<tr>\n",
       "    <th></th>     <th></th>           <th>value</th>                  <th>d</th>                 <th>residual</th>                 <th></th>                 <th>internal</th>              <th>residual</th>                   <th></th>           \n",
       "</tr>\n",
       "<tr>\n",
       "   <td>0.0</td> <td>70.0</td>        <td>81.125</td>         <td>0.03020987875621187</td>   <td>-1.0282731915534002</td>  <td>0.12499999999999996</td>  <td>-0.3886507349549971</td>   <td>-1.0291414533361096</td>   <td>-0.38897890706213284</td> \n",
       "</tr>\n",
       "<tr>\n",
       "   <td>1.0</td> <td>101.0</td>  <td>95.74999999999994</td>  <td>0.0067277144458981085</td>  <td>0.48525251736228403</td>  <td>0.12500000000000003</td>  <td>0.18340821200123658</td>   <td>0.47988709866950074</td>    <td>0.1813802743525449</td>  \n",
       "</tr>\n",
       "<tr>\n",
       "   <td>2.0</td> <td>114.0</td>       <td>107.125</td>       <td>0.011537038661474689</td>   <td>0.6354497251172698</td>   <td>0.12500000000000008</td>  <td>0.24017742047780727</td>   <td>0.6299505105573793</td>     <td>0.23809891274471356</td> \n",
       "</tr>\n",
       "<tr>\n",
       "   <td>3.0</td> <td>120.0</td> <td>123.99999999999994</td>  <td>0.0039054306080494997</td> <td>-0.36971620370458813</td>  <td>0.12499999999999999</td> <td>-0.13973959009617676</td>   <td>-0.365109921937426</td>    <td>-0.13799857923551928</td> \n",
       "</tr>\n",
       "<tr>\n",
       "   <td>4.0</td> <td>132.0</td>       <td>122.125</td>        <td>0.02380253166488049</td>   <td>0.9127368778957149</td>   <td>0.12499999999999999</td>  <td>0.34498211304994125</td>   <td>0.9105047080607075</td>     <td>0.34413843215458556</td> \n",
       "</tr>\n",
       "<tr>\n",
       "   <td>5.0</td> <td>67.0</td>        <td>81.125</td>         <td>0.04869965179119675</td>   <td>-1.3055603443318453</td>  <td>0.12499999999999997</td>  <td>-0.4934554275271311</td>   <td>-1.319299988481735</td>    <td>-0.49864852488757844</td> \n",
       "</tr>\n",
       "<tr>\n",
       "   <td>6.0</td> <td>76.0</td>   <td>95.74999999999994</td>   <td>0.0952101266595214</td>    <td>-1.8254737557914245</td>         <td>0.125</td>         <td>-0.6899642260998804</td>   <td>-1.8915035659173784</td>    <td>-0.714921148487036</td>  \n",
       "</tr>\n",
       "<tr>\n",
       "   <td>7.0</td> <td>96.0</td>        <td>107.125</td>       <td>0.030209878756211884</td>   <td>-1.0282731915534002</td>  <td>0.12500000000000003</td> <td>-0.38865073495499713</td>   <td>-1.0291414533361098</td>    <td>-0.388978907062133</td>  \n",
       "</tr>\n",
       "<tr>\n",
       "   <td>8.0</td> <td>98.0</td>  <td>123.99999999999994</td>   <td>0.16500444319009533</td>   <td>-2.4031553240798518</td>  <td>0.12499999999999999</td>  <td>-0.9083073356251598</td>   <td>-2.5920608685832773</td>    <td>-0.9797069202019182</td> \n",
       "</tr>\n",
       "<tr>\n",
       "   <td>9.0</td> <td>102.0</td>       <td>122.125</td>        <td>0.09886002616333395</td>   <td>-1.8601346498887354</td>  <td>0.12499999999999999</td>  <td>-0.7030648126713992</td>   <td>-1.9313175702173577</td>    <td>-0.7299694276406647</td> \n",
       "</tr>\n",
       "<tr>\n",
       "  <td>10.0</td> <td>82.0</td>        <td>81.125</td>       <td>0.00018688095683049892</td>  <td>0.0808754195603798</td>   <td>0.12499999999999997</td> <td>0.030568035333539096</td>   <td>0.07971913312948083</td>   <td>0.030131000142036644</td> \n",
       "</tr>\n",
       "<tr>\n",
       "  <td>11.0</td> <td>97.0</td>   <td>95.74999999999994</td> <td>0.00038138970781737946</td>  <td>0.11553631365769068</td>         <td>0.125</td>         <td>0.04366862190505784</td>   <td>0.11389555534969752</td>    <td>0.04304847355584169</td> \n",
       "</tr>\n",
       "<tr>\n",
       "  <td>12.0</td> <td>128.0</td>       <td>107.125</td>        <td>0.1063657756131793</td>    <td>1.9294564380833465</td>   <td>0.12500000000000003</td>  <td>0.7292659858144328</td>     <td>2.011687501382349</td>     <td>0.7603464063192288</td>  \n",
       "</tr>\n",
       "<tr>\n",
       "  <td>13.0</td> <td>132.0</td> <td>123.99999999999994</td>  <td>0.015621722432198662</td>   <td>0.7394324074091919</td>   <td>0.12499999999999999</td>  <td>0.2794791801923594</td>    <td>0.7345526100906958</td>     <td>0.2776347901704822</td>  \n",
       "</tr>\n",
       "<tr>\n",
       "  <td>14.0</td> <td>123.0</td>       <td>122.125</td>      <td>0.00018688095683049895</td>  <td>0.0808754195603798</td>   <td>0.12499999999999999</td> <td>0.030568035333539096</td>   <td>0.07971913312948083</td>   <td>0.030131000142036644</td> \n",
       "</tr>\n",
       "<tr>\n",
       "  <td>15.0</td> <td>87.0</td>        <td>81.125</td>        <td>0.008424898645685143</td>   <td>0.5430206741911214</td>   <td>0.12499999999999997</td>  <td>0.20524252295376247</td>   <td>0.5374758985774136</td>      <td>0.203146794760973</td>  \n",
       "</tr>\n",
       "<tr>\n",
       "  <td>16.0</td> <td>88.0</td>   <td>95.74999999999994</td>  <td>0.014660620368498519</td>   <td>-0.7163251446776444</td>         <td>0.125</td>         <td>-0.2707454558113443</td>   <td>-0.711250709355363</td>     <td>-0.2688274995389388</td> \n",
       "</tr>\n",
       "<tr>\n",
       "  <td>17.0</td> <td>103.0</td>       <td>107.125</td>       <td>0.004153333918130885</td>   <td>-0.3812698350703619</td>  <td>0.12500000000000003</td>  <td>-0.1441064522866843</td>  <td>-0.37656646895564894</td>    <td>-0.1423287469917674</td> \n",
       "</tr>\n",
       "<tr>\n",
       "  <td>18.0</td> <td>128.0</td> <td>123.99999999999994</td>  <td>0.003905430608049722</td>   <td>0.3697162037045986</td>   <td>0.12499999999999999</td>  <td>0.1397395900961807</td>    <td>0.36510992193743635</td>    <td>0.13799857923552322</td> \n",
       "</tr>\n",
       "<tr>\n",
       "  <td>19.0</td> <td>119.0</td>       <td>122.125</td>       <td>0.0023836856738584052</td>  <td>-0.2888407841442136</td>  <td>0.12499999999999999</td> <td>-0.10917155476263964</td>  <td>-0.28502449203326513</td>   <td>-0.10772913192607574</td> \n",
       "</tr>\n",
       "<tr>\n",
       "  <td>20.0</td> <td>80.0</td>        <td>81.125</td>        <td>0.0003089256633320492</td> <td>-0.10398268229191689</td>  <td>0.12499999999999997</td> <td>-0.039301759714550265</td> <td>-0.10250228460002658</td>   <td>-0.038742221981090876</td>\n",
       "</tr>\n",
       "<tr>\n",
       "  <td>21.0</td> <td>92.0</td>   <td>95.74999999999994</td>  <td>0.0034325073703559985</td>  <td>-0.346608940973051</td>          <td>0.125</td>        <td>-0.13100586571516556</td>   <td>-0.3422093248214063</td>    <td>-0.1293429671149663</td> \n",
       "</tr>\n",
       "<tr>\n",
       "  <td>22.0</td> <td>107.0</td>       <td>107.125</td>       <td>3.813897078173448e-06</td> <td>-0.011553631365768542</td> <td>0.12500000000000003</td> <td>-0.004366862190505585</td> <td>-0.011387405113429259</td> <td>-0.0043040345726398695</td>\n",
       "</tr>\n",
       "<tr>\n",
       "  <td>23.0</td> <td>132.0</td> <td>123.99999999999994</td>  <td>0.015621722432198662</td>   <td>0.7394324074091919</td>   <td>0.12499999999999999</td>  <td>0.2794791801923594</td>    <td>0.7345526100906958</td>     <td>0.2776347901704822</td>  \n",
       "</tr>\n",
       "<tr>\n",
       "  <td>24.0</td> <td>123.0</td>       <td>122.125</td>      <td>0.00018688095683049895</td>  <td>0.0808754195603798</td>   <td>0.12499999999999999</td> <td>0.030568035333539096</td>   <td>0.07971913312948083</td>   <td>0.030131000142036644</td> \n",
       "</tr>\n",
       "<tr>\n",
       "  <td>25.0</td> <td>80.0</td>        <td>81.125</td>        <td>0.0003089256633320492</td> <td>-0.10398268229191689</td>  <td>0.12499999999999997</td> <td>-0.039301759714550265</td> <td>-0.10250228460002658</td>   <td>-0.038742221981090876</td>\n",
       "</tr>\n",
       "<tr>\n",
       "  <td>26.0</td> <td>99.0</td>   <td>95.74999999999994</td>  <td>0.0025781944248453406</td>  <td>0.30039441550998736</td>         <td>0.125</td>         <td>0.11353841695314719</td>   <td>0.29645437349780535</td>    <td>0.11204922105037861</td> \n",
       "</tr>\n",
       "<tr>\n",
       "  <td>27.0</td> <td>91.0</td>        <td>107.125</td>        <td>0.06346706127788435</td>   <td>-1.4904184461841419</td>  <td>0.12500000000000003</td>  <td>-0.5633252225752206</td>   <td>-1.5179313306740314</td>    <td>-0.5737241154624053</td> \n",
       "</tr>\n",
       "<tr>\n",
       "  <td>28.0</td> <td>132.0</td> <td>123.99999999999994</td>  <td>0.015621722432198662</td>   <td>0.7394324074091919</td>   <td>0.12499999999999999</td>  <td>0.2794791801923594</td>    <td>0.7345526100906958</td>     <td>0.2776347901704822</td>  \n",
       "</tr>\n",
       "<tr>\n",
       "  <td>29.0</td> <td>135.0</td>       <td>122.125</td>       <td>0.040461634102342124</td>    <td>1.19002403067416</td>    <td>0.12499999999999999</td>  <td>0.44978680562207535</td>    <td>1.197374474497991</td>     <td>0.45256501224833356</td> \n",
       "</tr>\n",
       "<tr>\n",
       "  <td>30.0</td> <td>87.0</td>        <td>81.125</td>        <td>0.008424898645685143</td>   <td>0.5430206741911214</td>   <td>0.12499999999999997</td>  <td>0.20524252295376247</td>   <td>0.5374758985774135</td>     <td>0.20314679476097294</td> \n",
       "</tr>\n",
       "<tr>\n",
       "  <td>31.0</td> <td>123.0</td>  <td>95.74999999999994</td>   <td>0.1812516447431157</td>    <td>2.5186916377375477</td>          <td>0.125</td>         <td>0.9519759575302196</td>    <td>2.7435015907090206</td>     <td>1.0369461329323115</td>  \n",
       "</tr>\n",
       "<tr>\n",
       "  <td>32.0</td> <td>99.0</td>        <td>107.125</td>       <td>0.016113715155282822</td>   <td>-0.7509860387749553</td>  <td>0.12500000000000003</td>  <td>-0.2838460423828631</td>   <td>-0.7462164976069288</td>    <td>-0.2820433252687941</td> \n",
       "</tr>\n",
       "<tr>\n",
       "  <td>33.0</td> <td>131.0</td> <td>123.99999999999994</td>  <td>0.011960381237152127</td>   <td>0.6470033564830436</td>   <td>0.12499999999999999</td>  <td>0.24454428266831474</td>   <td>0.6415415518117056</td>     <td>0.24247991454403311</td> \n",
       "</tr>\n",
       "<tr>\n",
       "  <td>34.0</td> <td>126.0</td>       <td>122.125</td>       <td>0.003665155092124683</td>   <td>0.3581625723388248</td>   <td>0.12499999999999999</td>  <td>0.13537272790567315</td>   <td>0.35365758523636914</td>    <td>0.1336700028295801</td>  \n",
       "</tr>\n",
       "<tr>\n",
       "  <td>35.0</td> <td>96.0</td>        <td>81.125</td>        <td>0.054008596524014185</td>   <td>1.3748821325264566</td>   <td>0.12499999999999997</td>  <td>0.5196566006701646</td>     <td>1.393244410771842</td>     <td>0.5265968894904305</td>  \n",
       "</tr>\n",
       "<tr>\n",
       "  <td>36.0</td> <td>90.0</td>   <td>95.74999999999994</td>  <td>0.008070206217414859</td>   <td>-0.5314670428253477</td>         <td>0.125</td>        <td>-0.20087566076325494</td>   <td>-0.5259461825016191</td>   <td>-0.19878897170043927</td> \n",
       "</tr>\n",
       "<tr>\n",
       "  <td>37.0</td> <td>119.0</td>       <td>107.125</td>        <td>0.03442042113051536</td>   <td>1.0975949797480113</td>   <td>0.12500000000000003</td>  <td>0.4148519080980306</td>    <td>1.1009142981819748</td>     <td>0.4161064925406734</td>  \n",
       "</tr>\n",
       "<tr>\n",
       "  <td>38.0</td> <td>119.0</td> <td>123.99999999999994</td>  <td>0.006102235325077377</td>   <td>-0.4621452546307364</td>  <td>0.12499999999999999</td>  <td>-0.1746744876202214</td>   <td>-0.4568914988384255</td>   <td>-0.17268875458086144</td> \n",
       "</tr>\n",
       "<tr>\n",
       "  <td>39.0</td> <td>117.0</td>       <td>122.125</td>       <td>0.006411160988409565</td>   <td>-0.4736988859965102</td>  <td>0.12499999999999999</td> <td>-0.17904134981072897</td>   <td>-0.4683865844818675</td>    <td>-0.1770334885682809</td> \n",
       "</tr>\n",
       "</table>"
      ],
      "text/plain": [
       "<class 'statsmodels.iolib.table.SimpleTable'>"
      ]
     },
     "execution_count": 17,
     "metadata": {},
     "output_type": "execute_result"
    }
   ],
   "source": [
    "data_est.fittedvalues\n",
    "#使用模型对象的get_influence得到更加详细的预测信息\n",
    "sales_influence=data_est.get_influence()\n",
    "sales_influence.summary_table()"
   ]
  },
  {
   "cell_type": "markdown",
   "metadata": {},
   "source": [
    "### 7.2.2 一元多因素方差分析\n",
    "#### 7.2.2.1 只考虑主效应的多因素方差分析"
   ]
  },
  {
   "cell_type": "code",
   "execution_count": 6,
   "metadata": {},
   "outputs": [],
   "source": [
    "import pandas as pd\n",
    "import numpy as np\n",
    "from scipy import stats\n",
    "import statsmodels.api as sm\n",
    "from statsmodels.formula.api import ols\n",
    "from statsmodels.stats.multicomp import pairwise_tukeyhsd"
   ]
  },
  {
   "cell_type": "code",
   "execution_count": 4,
   "metadata": {},
   "outputs": [
    {
     "data": {
      "text/html": [
       "<div>\n",
       "<style scoped>\n",
       "    .dataframe tbody tr th:only-of-type {\n",
       "        vertical-align: middle;\n",
       "    }\n",
       "\n",
       "    .dataframe tbody tr th {\n",
       "        vertical-align: top;\n",
       "    }\n",
       "\n",
       "    .dataframe thead th {\n",
       "        text-align: right;\n",
       "    }\n",
       "</style>\n",
       "<table border=\"1\" class=\"dataframe\">\n",
       "  <thead>\n",
       "    <tr style=\"text-align: right;\">\n",
       "      <th></th>\n",
       "      <th>education</th>\n",
       "      <th>unit</th>\n",
       "      <th>income</th>\n",
       "      <th>type</th>\n",
       "      <th>space</th>\n",
       "    </tr>\n",
       "  </thead>\n",
       "  <tbody>\n",
       "    <tr>\n",
       "      <th>0</th>\n",
       "      <td>1</td>\n",
       "      <td>3</td>\n",
       "      <td>2</td>\n",
       "      <td>2</td>\n",
       "      <td>75.0</td>\n",
       "    </tr>\n",
       "    <tr>\n",
       "      <th>1</th>\n",
       "      <td>1</td>\n",
       "      <td>5</td>\n",
       "      <td>1</td>\n",
       "      <td>6</td>\n",
       "      <td>55.0</td>\n",
       "    </tr>\n",
       "    <tr>\n",
       "      <th>2</th>\n",
       "      <td>3</td>\n",
       "      <td>1</td>\n",
       "      <td>2</td>\n",
       "      <td>8</td>\n",
       "      <td>56.0</td>\n",
       "    </tr>\n",
       "    <tr>\n",
       "      <th>3</th>\n",
       "      <td>2</td>\n",
       "      <td>6</td>\n",
       "      <td>2</td>\n",
       "      <td>4</td>\n",
       "      <td>51.0</td>\n",
       "    </tr>\n",
       "    <tr>\n",
       "      <th>4</th>\n",
       "      <td>2</td>\n",
       "      <td>4</td>\n",
       "      <td>1</td>\n",
       "      <td>5</td>\n",
       "      <td>60.0</td>\n",
       "    </tr>\n",
       "  </tbody>\n",
       "</table>\n",
       "</div>"
      ],
      "text/plain": [
       "   education  unit  income  type  space\n",
       "0          1     3       2     2   75.0\n",
       "1          1     5       1     6   55.0\n",
       "2          3     1       2     8   56.0\n",
       "3          2     6       2     4   51.0\n",
       "4          2     4       1     5   60.0"
      ]
     },
     "execution_count": 4,
     "metadata": {},
     "output_type": "execute_result"
    },
    {
     "data": {
      "text/html": [
       "<div>\n",
       "<style scoped>\n",
       "    .dataframe tbody tr th:only-of-type {\n",
       "        vertical-align: middle;\n",
       "    }\n",
       "\n",
       "    .dataframe tbody tr th {\n",
       "        vertical-align: top;\n",
       "    }\n",
       "\n",
       "    .dataframe thead th {\n",
       "        text-align: right;\n",
       "    }\n",
       "</style>\n",
       "<table border=\"1\" class=\"dataframe\">\n",
       "  <thead>\n",
       "    <tr style=\"text-align: right;\">\n",
       "      <th></th>\n",
       "      <th>education</th>\n",
       "      <th>unit</th>\n",
       "      <th>income</th>\n",
       "      <th>type</th>\n",
       "      <th>space</th>\n",
       "    </tr>\n",
       "  </thead>\n",
       "  <tbody>\n",
       "    <tr>\n",
       "      <th>0</th>\n",
       "      <td>初中及以下</td>\n",
       "      <td>大专院校科研单位</td>\n",
       "      <td>10000-25000</td>\n",
       "      <td>二室一厅</td>\n",
       "      <td>75.0</td>\n",
       "    </tr>\n",
       "    <tr>\n",
       "      <th>1</th>\n",
       "      <td>初中及以下</td>\n",
       "      <td>失业</td>\n",
       "      <td>&lt;10000</td>\n",
       "      <td>三室三厅</td>\n",
       "      <td>55.0</td>\n",
       "    </tr>\n",
       "    <tr>\n",
       "      <th>2</th>\n",
       "      <td>大学</td>\n",
       "      <td>国营企业</td>\n",
       "      <td>10000-25000</td>\n",
       "      <td>四室二厅二卫</td>\n",
       "      <td>56.0</td>\n",
       "    </tr>\n",
       "    <tr>\n",
       "      <th>3</th>\n",
       "      <td>高中</td>\n",
       "      <td>其他</td>\n",
       "      <td>10000-25000</td>\n",
       "      <td>三室一厅</td>\n",
       "      <td>51.0</td>\n",
       "    </tr>\n",
       "    <tr>\n",
       "      <th>4</th>\n",
       "      <td>高中</td>\n",
       "      <td>私营企业</td>\n",
       "      <td>&lt;10000</td>\n",
       "      <td>三室二厅</td>\n",
       "      <td>60.0</td>\n",
       "    </tr>\n",
       "  </tbody>\n",
       "</table>\n",
       "</div>"
      ],
      "text/plain": [
       "  education      unit       income    type  space\n",
       "0     初中及以下  大专院校科研单位  10000-25000    二室一厅   75.0\n",
       "1     初中及以下        失业       <10000    三室三厅   55.0\n",
       "2        大学      国营企业  10000-25000  四室二厅二卫   56.0\n",
       "3        高中        其他  10000-25000    三室一厅   51.0\n",
       "4        高中      私营企业       <10000    三室二厅   60.0"
      ]
     },
     "execution_count": 4,
     "metadata": {},
     "output_type": "execute_result"
    }
   ],
   "source": [
    "path=r'D:\\文档\\Python Scripts\\Python数据分析基础（第2版）数据\\ch7\\house.csv'\n",
    "house=pd.read_csv(path)\n",
    "house.head()\n",
    "education=['初中及以下','高中','大学','研究生及以上']\n",
    "unit=['国营企业','行政事业单位','大专院校科研单位','私营企业','失业','其他']\n",
    "type_=['一室一厅','二室一厅','二室二厅','三室一厅','三室二厅','三室三厅','四室二厅一卫','四室二厅二卫','四室三厅一卫','四室三厅二卫','更大']\n",
    "income=['<10000','10000-25000','25000-50000','50000-75000','>75000']\n",
    "house.education=house.education.astype('category')\n",
    "house.education.cat.categories=education\n",
    "house.unit=house.unit.astype('category')\n",
    "house.unit.cat.categories=unit\n",
    "house.type=house.type.astype('category')\n",
    "house.type.cat.categories=type_\n",
    "house.income=house.income.astype('category')\n",
    "house.income.cat.categories=income\n",
    "house.head()"
   ]
  },
  {
   "cell_type": "code",
   "execution_count": 7,
   "metadata": {},
   "outputs": [
    {
     "data": {
      "text/html": [
       "<div>\n",
       "<style scoped>\n",
       "    .dataframe tbody tr th:only-of-type {\n",
       "        vertical-align: middle;\n",
       "    }\n",
       "\n",
       "    .dataframe tbody tr th {\n",
       "        vertical-align: top;\n",
       "    }\n",
       "\n",
       "    .dataframe thead th {\n",
       "        text-align: right;\n",
       "    }\n",
       "</style>\n",
       "<table border=\"1\" class=\"dataframe\">\n",
       "  <thead>\n",
       "    <tr style=\"text-align: right;\">\n",
       "      <th></th>\n",
       "      <th>sum_sq</th>\n",
       "      <th>df</th>\n",
       "      <th>F</th>\n",
       "      <th>PR(&gt;F)</th>\n",
       "    </tr>\n",
       "  </thead>\n",
       "  <tbody>\n",
       "    <tr>\n",
       "      <th>Intercept</th>\n",
       "      <td>28663.946440</td>\n",
       "      <td>1.0</td>\n",
       "      <td>89.701281</td>\n",
       "      <td>1.591592e-19</td>\n",
       "    </tr>\n",
       "    <tr>\n",
       "      <th>C(education)</th>\n",
       "      <td>1519.401986</td>\n",
       "      <td>3.0</td>\n",
       "      <td>1.584945</td>\n",
       "      <td>1.922550e-01</td>\n",
       "    </tr>\n",
       "    <tr>\n",
       "      <th>C(unit)</th>\n",
       "      <td>886.371451</td>\n",
       "      <td>5.0</td>\n",
       "      <td>0.554764</td>\n",
       "      <td>7.347011e-01</td>\n",
       "    </tr>\n",
       "    <tr>\n",
       "      <th>C(income)</th>\n",
       "      <td>10545.816026</td>\n",
       "      <td>4.0</td>\n",
       "      <td>8.250549</td>\n",
       "      <td>1.990132e-06</td>\n",
       "    </tr>\n",
       "    <tr>\n",
       "      <th>C(type)</th>\n",
       "      <td>9604.428837</td>\n",
       "      <td>10.0</td>\n",
       "      <td>3.005621</td>\n",
       "      <td>1.093296e-03</td>\n",
       "    </tr>\n",
       "    <tr>\n",
       "      <th>Residual</th>\n",
       "      <td>143477.460152</td>\n",
       "      <td>449.0</td>\n",
       "      <td>NaN</td>\n",
       "      <td>NaN</td>\n",
       "    </tr>\n",
       "  </tbody>\n",
       "</table>\n",
       "</div>"
      ],
      "text/plain": [
       "                     sum_sq     df          F        PR(>F)\n",
       "Intercept      28663.946440    1.0  89.701281  1.591592e-19\n",
       "C(education)    1519.401986    3.0   1.584945  1.922550e-01\n",
       "C(unit)          886.371451    5.0   0.554764  7.347011e-01\n",
       "C(income)      10545.816026    4.0   8.250549  1.990132e-06\n",
       "C(type)         9604.428837   10.0   3.005621  1.093296e-03\n",
       "Residual      143477.460152  449.0        NaN           NaN"
      ]
     },
     "execution_count": 7,
     "metadata": {},
     "output_type": "execute_result"
    }
   ],
   "source": [
    "formula='space~C(education)+C(unit)+C(income)+C(type)'\n",
    "house_anova=sm.stats.anova_lm(ols(formula,data=house).fit(),typ=3)\n",
    "house_anova"
   ]
  },
  {
   "cell_type": "markdown",
   "metadata": {},
   "source": [
    "多重比较检验"
   ]
  },
  {
   "cell_type": "code",
   "execution_count": 9,
   "metadata": {},
   "outputs": [],
   "source": [
    "from statsmodels.stats.multicomp import pairwise_tukeyhsd"
   ]
  },
  {
   "cell_type": "code",
   "execution_count": 10,
   "metadata": {},
   "outputs": [
    {
     "data": {
      "text/html": [
       "<table class=\"simpletable\">\n",
       "<caption>Multiple Comparison of Means - Tukey HSD, FWER=0.05</caption>\n",
       "<tr>\n",
       "    <th>group1</th>      <th>group2</th>    <th>meandiff</th>  <th>p-adj</th>   <th>lower</th>   <th>upper</th>  <th>reject</th>\n",
       "</tr>\n",
       "<tr>\n",
       "  <td>10000-25000</td> <td>25000-50000</td>  <td>7.6175</td>  <td>0.0042</td>  <td>1.7029</td>  <td>13.5321</td>  <td>True</td> \n",
       "</tr>\n",
       "<tr>\n",
       "  <td>10000-25000</td> <td>50000-75000</td>  <td>12.1263</td> <td>0.1151</td>  <td>-1.665</td>  <td>25.9176</td>  <td>False</td>\n",
       "</tr>\n",
       "<tr>\n",
       "  <td>10000-25000</td>   <td><10000</td>     <td>-4.6062</td> <td>0.1992</td> <td>-10.4621</td> <td>1.2497</td>   <td>False</td>\n",
       "</tr>\n",
       "<tr>\n",
       "  <td>10000-25000</td>   <td>>75000</td>     <td>31.2777</td>  <td>0.001</td>  <td>15.812</td>  <td>46.7435</td>  <td>True</td> \n",
       "</tr>\n",
       "<tr>\n",
       "  <td>25000-50000</td> <td>50000-75000</td>  <td>4.5088</td>    <td>0.9</td>   <td>-9.7758</td> <td>18.7933</td>  <td>False</td>\n",
       "</tr>\n",
       "<tr>\n",
       "  <td>25000-50000</td>   <td><10000</td>    <td>-12.2238</td>  <td>0.001</td> <td>-19.1621</td> <td>-5.2854</td>  <td>True</td> \n",
       "</tr>\n",
       "<tr>\n",
       "  <td>25000-50000</td>   <td>>75000</td>     <td>23.6602</td>  <td>0.001</td>   <td>7.753</td>  <td>39.5674</td>  <td>True</td> \n",
       "</tr>\n",
       "<tr>\n",
       "  <td>50000-75000</td>   <td><10000</td>    <td>-16.7325</td> <td>0.0122</td> <td>-30.9929</td> <td>-2.4722</td>  <td>True</td> \n",
       "</tr>\n",
       "<tr>\n",
       "  <td>50000-75000</td>   <td>>75000</td>     <td>19.1514</td>  <td>0.073</td>  <td>-1.0539</td> <td>39.3567</td>  <td>False</td>\n",
       "</tr>\n",
       "<tr>\n",
       "    <td><10000</td>      <td>>75000</td>     <td>35.884</td>   <td>0.001</td>  <td>19.9985</td> <td>51.7694</td>  <td>True</td> \n",
       "</tr>\n",
       "</table>"
      ],
      "text/plain": [
       "<class 'statsmodels.iolib.table.SimpleTable'>"
      ]
     },
     "execution_count": 10,
     "metadata": {},
     "output_type": "execute_result"
    }
   ],
   "source": [
    "house_anova_post=pairwise_tukeyhsd(house['space'],house['income'],alpha=0.05)\n",
    "house_anova_post.summary()"
   ]
  },
  {
   "cell_type": "markdown",
   "metadata": {},
   "source": [
    "OLS回归"
   ]
  },
  {
   "cell_type": "code",
   "execution_count": 17,
   "metadata": {},
   "outputs": [
    {
     "data": {
      "text/html": [
       "<table class=\"simpletable\">\n",
       "<tr>\n",
       "        <td>Model:</td>               <td>OLS</td>         <td>Adj. R-squared:</td>     <td>0.146</td>  \n",
       "</tr>\n",
       "<tr>\n",
       "  <td>Dependent Variable:</td>       <td>space</td>             <td>AIC:</td>         <td>4076.2755</td>\n",
       "</tr>\n",
       "<tr>\n",
       "         <td>Date:</td>        <td>2019-11-10 12:17</td>        <td>BIC:</td>         <td>4138.6302</td>\n",
       "</tr>\n",
       "<tr>\n",
       "   <td>No. Observations:</td>         <td>472</td>         <td>Log-Likelihood:</td>    <td>-2023.1</td> \n",
       "</tr>\n",
       "<tr>\n",
       "       <td>Df Model:</td>             <td>14</td>           <td>F-statistic:</td>       <td>6.752</td>  \n",
       "</tr>\n",
       "<tr>\n",
       "     <td>Df Residuals:</td>           <td>457</td>       <td>Prob (F-statistic):</td> <td>1.38e-12</td> \n",
       "</tr>\n",
       "<tr>\n",
       "      <td>R-squared:</td>            <td>0.171</td>            <td>Scale:</td>         <td>319.59</td>  \n",
       "</tr>\n",
       "</table>\n",
       "<table class=\"simpletable\">\n",
       "<tr>\n",
       "             <td></td>              <th>Coef.</th>  <th>Std.Err.</th>    <th>t</th>     <th>P>|t|</th>  <th>[0.025</th>   <th>0.975]</th> \n",
       "</tr>\n",
       "<tr>\n",
       "  <th>C(income)[<10000]</th>       <td>86.1464</td>  <td>9.0005</td>  <td>9.5713</td>  <td>0.0000</td>  <td>68.4589</td> <td>103.8339</td>\n",
       "</tr>\n",
       "<tr>\n",
       "  <th>C(income)[10000-25000]</th>  <td>90.3536</td>  <td>9.0005</td>  <td>10.0387</td> <td>0.0000</td>  <td>72.6661</td> <td>108.0411</td>\n",
       "</tr>\n",
       "<tr>\n",
       "  <th>C(income)[25000-50000]</th>  <td>96.1065</td>  <td>9.1886</td>  <td>10.4593</td> <td>0.0000</td>  <td>78.0492</td> <td>114.1637</td>\n",
       "</tr>\n",
       "<tr>\n",
       "  <th>C(income)[50000-75000]</th> <td>102.2754</td>  <td>10.2017</td> <td>10.0253</td> <td>0.0000</td>  <td>82.2273</td> <td>122.3236</td>\n",
       "</tr>\n",
       "<tr>\n",
       "  <th>C(income)[>75000]</th>      <td>115.4981</td>  <td>10.6282</td> <td>10.8671</td> <td>0.0000</td>  <td>94.6119</td> <td>136.3844</td>\n",
       "</tr>\n",
       "<tr>\n",
       "  <th>C(type)[T.二室一厅]</th>        <td>-23.0808</td>  <td>9.1696</td>  <td>-2.5171</td> <td>0.0122</td> <td>-41.1005</td>  <td>-5.0610</td>\n",
       "</tr>\n",
       "<tr>\n",
       "  <th>C(type)[T.二室二厅]</th>        <td>-22.5007</td>  <td>9.2538</td>  <td>-2.4315</td> <td>0.0154</td> <td>-40.6859</td>  <td>-4.3155</td>\n",
       "</tr>\n",
       "<tr>\n",
       "  <th>C(type)[T.三室一厅]</th>        <td>-23.0634</td>  <td>9.1100</td>  <td>-2.5317</td> <td>0.0117</td> <td>-40.9660</td>  <td>-5.1608</td>\n",
       "</tr>\n",
       "<tr>\n",
       "  <th>C(type)[T.三室二厅]</th>        <td>-19.4782</td>  <td>9.0933</td>  <td>-2.1420</td> <td>0.0327</td> <td>-37.3481</td>  <td>-1.6083</td>\n",
       "</tr>\n",
       "<tr>\n",
       "  <th>C(type)[T.三室三厅]</th>        <td>-28.6264</td>  <td>15.5200</td> <td>-1.8445</td> <td>0.0658</td> <td>-59.1259</td>  <td>1.8730</td> \n",
       "</tr>\n",
       "<tr>\n",
       "  <th>C(type)[T.四室二厅一卫]</th>       <td>-7.2395</td>  <td>10.1864</td> <td>-0.7107</td> <td>0.4776</td> <td>-27.2575</td>  <td>12.7784</td>\n",
       "</tr>\n",
       "<tr>\n",
       "  <th>C(type)[T.四室二厅二卫]</th>      <td>-12.6134</td>  <td>9.5902</td>  <td>-1.3152</td> <td>0.1891</td> <td>-31.4598</td>  <td>6.2329</td> \n",
       "</tr>\n",
       "<tr>\n",
       "  <th>C(type)[T.四室三厅一卫]</th>      <td>-38.3536</td>  <td>20.0149</td> <td>-1.9162</td> <td>0.0560</td> <td>-77.6864</td>  <td>0.9791</td> \n",
       "</tr>\n",
       "<tr>\n",
       "  <th>C(type)[T.四室三厅二卫]</th>      <td>-26.4948</td>  <td>12.0484</td> <td>-2.1990</td> <td>0.0284</td> <td>-50.1719</td>  <td>-2.8176</td>\n",
       "</tr>\n",
       "<tr>\n",
       "  <th>C(type)[T.更大]</th>           <td>-4.5995</td>  <td>10.5095</td> <td>-0.4377</td> <td>0.6618</td> <td>-25.2524</td>  <td>16.0533</td>\n",
       "</tr>\n",
       "</table>\n",
       "<table class=\"simpletable\">\n",
       "<tr>\n",
       "     <td>Omnibus:</td>    <td>88.385</td>  <td>Durbin-Watson:</td>    <td>1.372</td> \n",
       "</tr>\n",
       "<tr>\n",
       "  <td>Prob(Omnibus):</td>  <td>0.000</td> <td>Jarque-Bera (JB):</td> <td>157.668</td>\n",
       "</tr>\n",
       "<tr>\n",
       "       <td>Skew:</td>      <td>1.083</td>     <td>Prob(JB):</td>      <td>0.000</td> \n",
       "</tr>\n",
       "<tr>\n",
       "     <td>Kurtosis:</td>    <td>4.825</td>  <td>Condition No.:</td>     <td>35</td>   \n",
       "</tr>\n",
       "</table>"
      ],
      "text/plain": [
       "<class 'statsmodels.iolib.summary2.Summary'>\n",
       "\"\"\"\n",
       "                     Results: Ordinary least squares\n",
       "=========================================================================\n",
       "Model:                 OLS                Adj. R-squared:       0.146    \n",
       "Dependent Variable:    space              AIC:                  4076.2755\n",
       "Date:                  2019-11-10 12:17   BIC:                  4138.6302\n",
       "No. Observations:      472                Log-Likelihood:       -2023.1  \n",
       "Df Model:              14                 F-statistic:          6.752    \n",
       "Df Residuals:          457                Prob (F-statistic):   1.38e-12 \n",
       "R-squared:             0.171              Scale:                319.59   \n",
       "-------------------------------------------------------------------------\n",
       "                        Coef.   Std.Err.    t    P>|t|   [0.025   0.975] \n",
       "-------------------------------------------------------------------------\n",
       "C(income)[<10000]       86.1464   9.0005  9.5713 0.0000  68.4589 103.8339\n",
       "C(income)[10000-25000]  90.3536   9.0005 10.0387 0.0000  72.6661 108.0411\n",
       "C(income)[25000-50000]  96.1065   9.1886 10.4593 0.0000  78.0492 114.1637\n",
       "C(income)[50000-75000] 102.2754  10.2017 10.0253 0.0000  82.2273 122.3236\n",
       "C(income)[>75000]      115.4981  10.6282 10.8671 0.0000  94.6119 136.3844\n",
       "C(type)[T.二室一厅]        -23.0808   9.1696 -2.5171 0.0122 -41.1005  -5.0610\n",
       "C(type)[T.二室二厅]        -22.5007   9.2538 -2.4315 0.0154 -40.6859  -4.3155\n",
       "C(type)[T.三室一厅]        -23.0634   9.1100 -2.5317 0.0117 -40.9660  -5.1608\n",
       "C(type)[T.三室二厅]        -19.4782   9.0933 -2.1420 0.0327 -37.3481  -1.6083\n",
       "C(type)[T.三室三厅]        -28.6264  15.5200 -1.8445 0.0658 -59.1259   1.8730\n",
       "C(type)[T.四室二厅一卫]       -7.2395  10.1864 -0.7107 0.4776 -27.2575  12.7784\n",
       "C(type)[T.四室二厅二卫]      -12.6134   9.5902 -1.3152 0.1891 -31.4598   6.2329\n",
       "C(type)[T.四室三厅一卫]      -38.3536  20.0149 -1.9162 0.0560 -77.6864   0.9791\n",
       "C(type)[T.四室三厅二卫]      -26.4948  12.0484 -2.1990 0.0284 -50.1719  -2.8176\n",
       "C(type)[T.更大]           -4.5995  10.5095 -0.4377 0.6618 -25.2524  16.0533\n",
       "-------------------------------------------------------------------------\n",
       "Omnibus:                 88.385         Durbin-Watson:            1.372  \n",
       "Prob(Omnibus):           0.000          Jarque-Bera (JB):         157.668\n",
       "Skew:                    1.083          Prob(JB):                 0.000  \n",
       "Kurtosis:                4.825          Condition No.:            35     \n",
       "=========================================================================\n",
       "\n",
       "\"\"\""
      ]
     },
     "execution_count": 17,
     "metadata": {},
     "output_type": "execute_result"
    }
   ],
   "source": [
    "formula='space~C(income)+C(type)-1'\n",
    "ols(formula,house).fit().summary2()"
   ]
  },
  {
   "cell_type": "markdown",
   "metadata": {},
   "source": [
    "#### 7.2.2.2 存在交互效应的多因素方差分析"
   ]
  },
  {
   "cell_type": "code",
   "execution_count": 22,
   "metadata": {},
   "outputs": [
    {
     "data": {
      "text/html": [
       "<div>\n",
       "<style scoped>\n",
       "    .dataframe tbody tr th:only-of-type {\n",
       "        vertical-align: middle;\n",
       "    }\n",
       "\n",
       "    .dataframe tbody tr th {\n",
       "        vertical-align: top;\n",
       "    }\n",
       "\n",
       "    .dataframe thead th {\n",
       "        text-align: right;\n",
       "    }\n",
       "</style>\n",
       "<table border=\"1\" class=\"dataframe\">\n",
       "  <thead>\n",
       "    <tr style=\"text-align: right;\">\n",
       "      <th></th>\n",
       "      <th>df</th>\n",
       "      <th>sum_sq</th>\n",
       "      <th>mean_sq</th>\n",
       "      <th>F</th>\n",
       "      <th>PR(&gt;F)</th>\n",
       "    </tr>\n",
       "  </thead>\n",
       "  <tbody>\n",
       "    <tr>\n",
       "      <th>C(income)</th>\n",
       "      <td>4.0</td>\n",
       "      <td>19655.107559</td>\n",
       "      <td>4913.776890</td>\n",
       "      <td>16.629186</td>\n",
       "      <td>1.077135e-12</td>\n",
       "    </tr>\n",
       "    <tr>\n",
       "      <th>C(type)</th>\n",
       "      <td>10.0</td>\n",
       "      <td>10553.485226</td>\n",
       "      <td>1055.348523</td>\n",
       "      <td>3.571507</td>\n",
       "      <td>1.438294e-04</td>\n",
       "    </tr>\n",
       "    <tr>\n",
       "      <th>C(income):C(type)</th>\n",
       "      <td>40.0</td>\n",
       "      <td>19729.421811</td>\n",
       "      <td>493.235545</td>\n",
       "      <td>1.669206</td>\n",
       "      <td>7.857478e-03</td>\n",
       "    </tr>\n",
       "    <tr>\n",
       "      <th>Residual</th>\n",
       "      <td>436.0</td>\n",
       "      <td>128834.132740</td>\n",
       "      <td>295.491130</td>\n",
       "      <td>NaN</td>\n",
       "      <td>NaN</td>\n",
       "    </tr>\n",
       "  </tbody>\n",
       "</table>\n",
       "</div>"
      ],
      "text/plain": [
       "                      df         sum_sq      mean_sq          F        PR(>F)\n",
       "C(income)            4.0   19655.107559  4913.776890  16.629186  1.077135e-12\n",
       "C(type)             10.0   10553.485226  1055.348523   3.571507  1.438294e-04\n",
       "C(income):C(type)   40.0   19729.421811   493.235545   1.669206  7.857478e-03\n",
       "Residual           436.0  128834.132740   295.491130        NaN           NaN"
      ]
     },
     "execution_count": 22,
     "metadata": {},
     "output_type": "execute_result"
    },
    {
     "data": {
      "text/plain": [
       "0.26907101524187094"
      ]
     },
     "execution_count": 22,
     "metadata": {},
     "output_type": "execute_result"
    }
   ],
   "source": [
    "formula='space~C(income)*C(type)'\n",
    "fit=ols(formula,house).fit()\n",
    "sm.stats.anova_lm(fit)#方差分析结果\n",
    "fit.rsquared"
   ]
  },
  {
   "cell_type": "markdown",
   "metadata": {},
   "source": [
    "## 7.3 协方差分析"
   ]
  },
  {
   "cell_type": "code",
   "execution_count": null,
   "metadata": {},
   "outputs": [],
   "source": [
    "import pandas as pd\n",
    "import numpy as np\n",
    "from scipy import stats\n",
    "from statsmodels.formula.api import ols\n",
    "import statsmodels.api as sm"
   ]
  },
  {
   "cell_type": "code",
   "execution_count": 24,
   "metadata": {},
   "outputs": [
    {
     "data": {
      "text/html": [
       "<div>\n",
       "<style scoped>\n",
       "    .dataframe tbody tr th:only-of-type {\n",
       "        vertical-align: middle;\n",
       "    }\n",
       "\n",
       "    .dataframe tbody tr th {\n",
       "        vertical-align: top;\n",
       "    }\n",
       "\n",
       "    .dataframe thead th {\n",
       "        text-align: right;\n",
       "    }\n",
       "</style>\n",
       "<table border=\"1\" class=\"dataframe\">\n",
       "  <thead>\n",
       "    <tr style=\"text-align: right;\">\n",
       "      <th></th>\n",
       "      <th>market</th>\n",
       "      <th>warranty</th>\n",
       "      <th>sales</th>\n",
       "      <th>points</th>\n",
       "    </tr>\n",
       "  </thead>\n",
       "  <tbody>\n",
       "    <tr>\n",
       "      <th>0</th>\n",
       "      <td>1</td>\n",
       "      <td>1</td>\n",
       "      <td>26.0</td>\n",
       "      <td>1.8</td>\n",
       "    </tr>\n",
       "    <tr>\n",
       "      <th>1</th>\n",
       "      <td>1</td>\n",
       "      <td>1</td>\n",
       "      <td>22.0</td>\n",
       "      <td>1.1</td>\n",
       "    </tr>\n",
       "    <tr>\n",
       "      <th>2</th>\n",
       "      <td>1</td>\n",
       "      <td>1</td>\n",
       "      <td>21.8</td>\n",
       "      <td>0.9</td>\n",
       "    </tr>\n",
       "    <tr>\n",
       "      <th>3</th>\n",
       "      <td>1</td>\n",
       "      <td>1</td>\n",
       "      <td>33.1</td>\n",
       "      <td>2.2</td>\n",
       "    </tr>\n",
       "    <tr>\n",
       "      <th>4</th>\n",
       "      <td>2</td>\n",
       "      <td>1</td>\n",
       "      <td>22.0</td>\n",
       "      <td>2.0</td>\n",
       "    </tr>\n",
       "  </tbody>\n",
       "</table>\n",
       "</div>"
      ],
      "text/plain": [
       "   market  warranty  sales  points\n",
       "0       1         1   26.0     1.8\n",
       "1       1         1   22.0     1.1\n",
       "2       1         1   21.8     0.9\n",
       "3       1         1   33.1     2.2\n",
       "4       2         1   22.0     2.0"
      ]
     },
     "execution_count": 24,
     "metadata": {},
     "output_type": "execute_result"
    }
   ],
   "source": [
    "path=r'D:\\文档\\Python Scripts\\Python数据分析基础（第2版）数据\\ch7\\sale_points.csv'\n",
    "sale=pd.read_csv(path)\n",
    "sale.head()"
   ]
  },
  {
   "cell_type": "code",
   "execution_count": 28,
   "metadata": {},
   "outputs": [
    {
     "data": {
      "text/html": [
       "<div>\n",
       "<style scoped>\n",
       "    .dataframe tbody tr th:only-of-type {\n",
       "        vertical-align: middle;\n",
       "    }\n",
       "\n",
       "    .dataframe tbody tr th {\n",
       "        vertical-align: top;\n",
       "    }\n",
       "\n",
       "    .dataframe thead th {\n",
       "        text-align: right;\n",
       "    }\n",
       "</style>\n",
       "<table border=\"1\" class=\"dataframe\">\n",
       "  <thead>\n",
       "    <tr style=\"text-align: right;\">\n",
       "      <th></th>\n",
       "      <th>df</th>\n",
       "      <th>sum_sq</th>\n",
       "      <th>mean_sq</th>\n",
       "      <th>F</th>\n",
       "      <th>PR(&gt;F)</th>\n",
       "    </tr>\n",
       "  </thead>\n",
       "  <tbody>\n",
       "    <tr>\n",
       "      <th>C(market)</th>\n",
       "      <td>2.0</td>\n",
       "      <td>593.160833</td>\n",
       "      <td>296.580417</td>\n",
       "      <td>56.984051</td>\n",
       "      <td>2.903413e-08</td>\n",
       "    </tr>\n",
       "    <tr>\n",
       "      <th>C(warranty)</th>\n",
       "      <td>1.0</td>\n",
       "      <td>512.450417</td>\n",
       "      <td>512.450417</td>\n",
       "      <td>98.460650</td>\n",
       "      <td>1.734504e-08</td>\n",
       "    </tr>\n",
       "    <tr>\n",
       "      <th>C(market):C(warranty)</th>\n",
       "      <td>2.0</td>\n",
       "      <td>167.155833</td>\n",
       "      <td>83.577917</td>\n",
       "      <td>16.058404</td>\n",
       "      <td>1.211601e-04</td>\n",
       "    </tr>\n",
       "    <tr>\n",
       "      <th>points</th>\n",
       "      <td>1.0</td>\n",
       "      <td>196.523934</td>\n",
       "      <td>196.523934</td>\n",
       "      <td>37.759505</td>\n",
       "      <td>1.079351e-05</td>\n",
       "    </tr>\n",
       "    <tr>\n",
       "      <th>Residual</th>\n",
       "      <td>17.0</td>\n",
       "      <td>88.478566</td>\n",
       "      <td>5.204622</td>\n",
       "      <td>NaN</td>\n",
       "      <td>NaN</td>\n",
       "    </tr>\n",
       "  </tbody>\n",
       "</table>\n",
       "</div>"
      ],
      "text/plain": [
       "                         df      sum_sq     mean_sq          F        PR(>F)\n",
       "C(market)               2.0  593.160833  296.580417  56.984051  2.903413e-08\n",
       "C(warranty)             1.0  512.450417  512.450417  98.460650  1.734504e-08\n",
       "C(market):C(warranty)   2.0  167.155833   83.577917  16.058404  1.211601e-04\n",
       "points                  1.0  196.523934  196.523934  37.759505  1.079351e-05\n",
       "Residual               17.0   88.478566    5.204622        NaN           NaN"
      ]
     },
     "execution_count": 28,
     "metadata": {},
     "output_type": "execute_result"
    }
   ],
   "source": [
    "formula='sales~points+C(market)*C(warranty)'\n",
    "sm.stats.anova_lm(ols(formula,data=sale).fit())"
   ]
  },
  {
   "cell_type": "code",
   "execution_count": 29,
   "metadata": {},
   "outputs": [
    {
     "data": {
      "text/html": [
       "<table class=\"simpletable\">\n",
       "<tr>\n",
       "        <td>Model:</td>               <td>OLS</td>         <td>Adj. R-squared:</td>     <td>0.923</td> \n",
       "</tr>\n",
       "<tr>\n",
       "  <td>Dependent Variable:</td>       <td>sales</td>             <td>AIC:</td>         <td>113.4220</td>\n",
       "</tr>\n",
       "<tr>\n",
       "         <td>Date:</td>        <td>2019-11-10 12:32</td>        <td>BIC:</td>         <td>121.6684</td>\n",
       "</tr>\n",
       "<tr>\n",
       "   <td>No. Observations:</td>         <td>24</td>          <td>Log-Likelihood:</td>    <td>-49.711</td>\n",
       "</tr>\n",
       "<tr>\n",
       "       <td>Df Model:</td>              <td>6</td>           <td>F-statistic:</td>       <td>47.05</td> \n",
       "</tr>\n",
       "<tr>\n",
       "     <td>Df Residuals:</td>           <td>17</td>        <td>Prob (F-statistic):</td> <td>1.16e-09</td>\n",
       "</tr>\n",
       "<tr>\n",
       "      <td>R-squared:</td>            <td>0.943</td>            <td>Scale:</td>         <td>5.2046</td> \n",
       "</tr>\n",
       "</table>\n",
       "<table class=\"simpletable\">\n",
       "<tr>\n",
       "                 <td></td>                  <th>Coef.</th>  <th>Std.Err.</th>    <th>t</th>     <th>P>|t|</th>  <th>[0.025</th>  <th>0.975]</th> \n",
       "</tr>\n",
       "<tr>\n",
       "  <th>Intercept</th>                       <td>12.8441</td>  <td>2.3865</td>  <td>5.3821</td>  <td>0.0000</td>  <td>7.8091</td>  <td>17.8791</td>\n",
       "</tr>\n",
       "<tr>\n",
       "  <th>C(market)[T.2]</th>                  <td>-8.0349</td>  <td>1.7073</td>  <td>-4.7063</td> <td>0.0002</td> <td>-11.6369</td> <td>-4.4329</td>\n",
       "</tr>\n",
       "<tr>\n",
       "  <th>C(market)[T.3]</th>                  <td>1.3456</td>   <td>1.6147</td>  <td>0.8334</td>  <td>0.4162</td>  <td>-2.0610</td> <td>4.7523</td> \n",
       "</tr>\n",
       "<tr>\n",
       "  <th>C(warranty)[T.2]</th>                <td>3.0485</td>   <td>1.6731</td>  <td>1.8221</td>  <td>0.0861</td>  <td>-0.4813</td> <td>6.5784</td> \n",
       "</tr>\n",
       "<tr>\n",
       "  <th>C(market)[T.2]:C(warranty)[T.2]</th> <td>5.4217</td>   <td>2.4781</td>  <td>2.1878</td>  <td>0.0429</td>  <td>0.1933</td>  <td>10.6501</td>\n",
       "</tr>\n",
       "<tr>\n",
       "  <th>C(market)[T.3]:C(warranty)[T.2]</th> <td>14.0594</td>  <td>2.3377</td>  <td>6.0142</td>  <td>0.0000</td>  <td>9.1273</td>  <td>18.9914</td>\n",
       "</tr>\n",
       "<tr>\n",
       "  <th>points</th>                          <td>8.5873</td>   <td>1.3975</td>  <td>6.1449</td>  <td>0.0000</td>  <td>5.6389</td>  <td>11.5357</td>\n",
       "</tr>\n",
       "</table>\n",
       "<table class=\"simpletable\">\n",
       "<tr>\n",
       "     <td>Omnibus:</td>     <td>0.619</td>  <td>Durbin-Watson:</td>   <td>3.022</td>\n",
       "</tr>\n",
       "<tr>\n",
       "  <td>Prob(Omnibus):</td>  <td>0.734</td> <td>Jarque-Bera (JB):</td> <td>0.690</td>\n",
       "</tr>\n",
       "<tr>\n",
       "       <td>Skew:</td>     <td>-0.305</td>     <td>Prob(JB):</td>     <td>0.708</td>\n",
       "</tr>\n",
       "<tr>\n",
       "     <td>Kurtosis:</td>    <td>2.435</td>  <td>Condition No.:</td>    <td>17</td>  \n",
       "</tr>\n",
       "</table>"
      ],
      "text/plain": [
       "<class 'statsmodels.iolib.summary2.Summary'>\n",
       "\"\"\"\n",
       "                        Results: Ordinary least squares\n",
       "================================================================================\n",
       "Model:                   OLS                   Adj. R-squared:          0.923   \n",
       "Dependent Variable:      sales                 AIC:                     113.4220\n",
       "Date:                    2019-11-10 12:32      BIC:                     121.6684\n",
       "No. Observations:        24                    Log-Likelihood:          -49.711 \n",
       "Df Model:                6                     F-statistic:             47.05   \n",
       "Df Residuals:            17                    Prob (F-statistic):      1.16e-09\n",
       "R-squared:               0.943                 Scale:                   5.2046  \n",
       "--------------------------------------------------------------------------------\n",
       "                                 Coef.  Std.Err.    t    P>|t|   [0.025   0.975]\n",
       "--------------------------------------------------------------------------------\n",
       "Intercept                       12.8441   2.3865  5.3821 0.0000   7.8091 17.8791\n",
       "C(market)[T.2]                  -8.0349   1.7073 -4.7063 0.0002 -11.6369 -4.4329\n",
       "C(market)[T.3]                   1.3456   1.6147  0.8334 0.4162  -2.0610  4.7523\n",
       "C(warranty)[T.2]                 3.0485   1.6731  1.8221 0.0861  -0.4813  6.5784\n",
       "C(market)[T.2]:C(warranty)[T.2]  5.4217   2.4781  2.1878 0.0429   0.1933 10.6501\n",
       "C(market)[T.3]:C(warranty)[T.2] 14.0594   2.3377  6.0142 0.0000   9.1273 18.9914\n",
       "points                           8.5873   1.3975  6.1449 0.0000   5.6389 11.5357\n",
       "--------------------------------------------------------------------------------\n",
       "Omnibus:                    0.619             Durbin-Watson:               3.022\n",
       "Prob(Omnibus):              0.734             Jarque-Bera (JB):            0.690\n",
       "Skew:                       -0.305            Prob(JB):                    0.708\n",
       "Kurtosis:                   2.435             Condition No.:               17   \n",
       "================================================================================\n",
       "\n",
       "\"\"\""
      ]
     },
     "execution_count": 29,
     "metadata": {},
     "output_type": "execute_result"
    }
   ],
   "source": [
    "ols(formula,data=sale).fit().summary2()"
   ]
  },
  {
   "cell_type": "code",
   "execution_count": null,
   "metadata": {},
   "outputs": [],
   "source": []
  }
 ],
 "metadata": {
  "kernelspec": {
   "display_name": "Python 3",
   "language": "python",
   "name": "python3"
  },
  "language_info": {
   "codemirror_mode": {
    "name": "ipython",
    "version": 3
   },
   "file_extension": ".py",
   "mimetype": "text/x-python",
   "name": "python",
   "nbconvert_exporter": "python",
   "pygments_lexer": "ipython3",
   "version": "3.6.4"
  }
 },
 "nbformat": 4,
 "nbformat_minor": 2
}

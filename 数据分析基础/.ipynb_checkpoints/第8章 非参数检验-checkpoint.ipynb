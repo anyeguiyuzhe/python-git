{
 "cells": [
  {
   "cell_type": "markdown",
   "metadata": {},
   "source": [
    "# <center>第8章 非参数检验</center>\n",
    "\n",
    "## 8.2 单样本非参数检验\n",
    "### 8.2.1 中位数检验--wilcoxon符号秩检验\n",
    "\n",
    ">wilcoxon符号秩检验，statsmodels.stats.descriptivestats提供了sign_test进行单样本wilcoxon符号检验，scipy.stats.wilcoxon提供了成对样本的符号秩检验\n",
    "\n",
    ">基本思想是：假设总体的总位数是$M_0$，从总体中得到样本，观测值为$x_1,x_2,x_n$，记$D_i=x_i-M_0$，然后按$|D_i|$进行排序，每个$|D_i|$得到相应的秩，然后把$D_i$的符号加到相应的秩上，分别求出带负号和正号的秩的绝对值之和，记为$W^+$与$W^-$，如果$M=M_0$确实是中位数，那么$W^+$与$W^-$应该相差不大"
   ]
  },
  {
   "cell_type": "code",
   "execution_count": 5,
   "metadata": {},
   "outputs": [],
   "source": [
    "import pandas as pd\n",
    "import numpy as np\n",
    "from statsmodels.stats.descriptivestats import sign_test\n",
    "from scipy.stats import wilcoxon"
   ]
  },
  {
   "cell_type": "code",
   "execution_count": 2,
   "metadata": {},
   "outputs": [
    {
     "name": "stdout",
     "output_type": "stream",
     "text": [
      "Help on function sign_test in module statsmodels.stats.descriptivestats:\n",
      "\n",
      "sign_test(samp, mu0=0)\n",
      "    Signs test.\n",
      "    \n",
      "    Parameters\n",
      "    ----------\n",
      "    samp : array-like\n",
      "        1d array. The sample for which you want to perform the signs\n",
      "        test.\n",
      "    mu0 : float\n",
      "        See Notes for the definition of the sign test. mu0 is 0 by\n",
      "        default, but it is common to set it to the median.\n",
      "    \n",
      "    Returns\n",
      "    --------\n",
      "    M, p-value\n",
      "    \n",
      "    Notes\n",
      "    -----\n",
      "    The signs test returns\n",
      "    \n",
      "    M = (N(+) - N(-))/2\n",
      "    \n",
      "    where N(+) is the number of values above `mu0`, N(-) is the number of\n",
      "    values below.  Values equal to `mu0` are discarded.\n",
      "    \n",
      "    The p-value for M is calculated using the binomial distrubution\n",
      "    and can be intrepreted the same as for a t-test. The test-statistic\n",
      "    is distributed Binom(min(N(+), N(-)), n_trials, .5) where n_trials\n",
      "    equals N(+) + N(-).\n",
      "    \n",
      "    See Also\n",
      "    --------\n",
      "    scipy.stats.wilcoxon\n",
      "\n"
     ]
    }
   ],
   "source": [
    "help(sign_test)"
   ]
  },
  {
   "cell_type": "code",
   "execution_count": 4,
   "metadata": {},
   "outputs": [
    {
     "data": {
      "text/html": [
       "<div>\n",
       "<style scoped>\n",
       "    .dataframe tbody tr th:only-of-type {\n",
       "        vertical-align: middle;\n",
       "    }\n",
       "\n",
       "    .dataframe tbody tr th {\n",
       "        vertical-align: top;\n",
       "    }\n",
       "\n",
       "    .dataframe thead th {\n",
       "        text-align: right;\n",
       "    }\n",
       "</style>\n",
       "<table border=\"1\" class=\"dataframe\">\n",
       "  <thead>\n",
       "    <tr style=\"text-align: right;\">\n",
       "      <th></th>\n",
       "      <th>Net</th>\n",
       "    </tr>\n",
       "  </thead>\n",
       "  <tbody>\n",
       "    <tr>\n",
       "      <th>0</th>\n",
       "      <td>598.78</td>\n",
       "    </tr>\n",
       "    <tr>\n",
       "      <th>1</th>\n",
       "      <td>599.98</td>\n",
       "    </tr>\n",
       "    <tr>\n",
       "      <th>2</th>\n",
       "      <td>600.48</td>\n",
       "    </tr>\n",
       "    <tr>\n",
       "      <th>3</th>\n",
       "      <td>598.19</td>\n",
       "    </tr>\n",
       "    <tr>\n",
       "      <th>4</th>\n",
       "      <td>597.87</td>\n",
       "    </tr>\n",
       "  </tbody>\n",
       "</table>\n",
       "</div>"
      ],
      "text/plain": [
       "      Net\n",
       "0  598.78\n",
       "1  599.98\n",
       "2  600.48\n",
       "3  598.19\n",
       "4  597.87"
      ]
     },
     "execution_count": 4,
     "metadata": {},
     "output_type": "execute_result"
    },
    {
     "data": {
      "text/plain": [
       "(-4.5, 0.12207812070846553)"
      ]
     },
     "execution_count": 4,
     "metadata": {},
     "output_type": "execute_result"
    }
   ],
   "source": [
    "path=r\"D:\\文档\\Python Scripts\\Python数据分析基础（第2版）数据\\ch8\\water.csv\"\n",
    "data=pd.read_csv(path)\n",
    "data.head()\n",
    "sign_test(data['Net'],mu0=600)#符号检验"
   ]
  },
  {
   "cell_type": "code",
   "execution_count": 7,
   "metadata": {},
   "outputs": [
    {
     "name": "stdout",
     "output_type": "stream",
     "text": [
      "Help on function wilcoxon in module scipy.stats.morestats:\n",
      "\n",
      "wilcoxon(x, y=None, zero_method='wilcox', correction=False)\n",
      "    Calculate the Wilcoxon signed-rank test.\n",
      "    \n",
      "    The Wilcoxon signed-rank test tests the null hypothesis that two\n",
      "    related paired samples come from the same distribution. In particular,\n",
      "    it tests whether the distribution of the differences x - y is symmetric\n",
      "    about zero. It is a non-parametric version of the paired T-test.\n",
      "    \n",
      "    Parameters\n",
      "    ----------\n",
      "    x : array_like\n",
      "        The first set of measurements.\n",
      "    y : array_like, optional\n",
      "        The second set of measurements.  If `y` is not given, then the `x`\n",
      "        array is considered to be the differences between the two sets of\n",
      "        measurements.\n",
      "    zero_method : string, {\"pratt\", \"wilcox\", \"zsplit\"}, optional\n",
      "        \"pratt\":\n",
      "            Pratt treatment: includes zero-differences in the ranking process\n",
      "            (more conservative)\n",
      "        \"wilcox\":\n",
      "            Wilcox treatment: discards all zero-differences\n",
      "        \"zsplit\":\n",
      "            Zero rank split: just like Pratt, but spliting the zero rank\n",
      "            between positive and negative ones\n",
      "    correction : bool, optional\n",
      "        If True, apply continuity correction by adjusting the Wilcoxon rank\n",
      "        statistic by 0.5 towards the mean value when computing the\n",
      "        z-statistic.  Default is False.\n",
      "    \n",
      "    Returns\n",
      "    -------\n",
      "    statistic : float\n",
      "        The sum of the ranks of the differences above or below zero, whichever\n",
      "        is smaller.\n",
      "    pvalue : float\n",
      "        The two-sided p-value for the test.\n",
      "    \n",
      "    Notes\n",
      "    -----\n",
      "    Because the normal approximation is used for the calculations, the\n",
      "    samples used should be large.  A typical rule is to require that\n",
      "    n > 20.\n",
      "    \n",
      "    References\n",
      "    ----------\n",
      "    .. [1] http://en.wikipedia.org/wiki/Wilcoxon_signed-rank_test\n",
      "\n"
     ]
    }
   ],
   "source": [
    "help(wilcoxon)"
   ]
  },
  {
   "cell_type": "code",
   "execution_count": 11,
   "metadata": {},
   "outputs": [
    {
     "ename": "TypeError",
     "evalue": "wilcoxon() got an unexpected keyword argument 'alternative'",
     "output_type": "error",
     "traceback": [
      "\u001b[1;31m---------------------------------------------------------------------------\u001b[0m",
      "\u001b[1;31mTypeError\u001b[0m                                 Traceback (most recent call last)",
      "\u001b[1;32m<ipython-input-11-a4eb5f8c042d>\u001b[0m in \u001b[0;36m<module>\u001b[1;34m()\u001b[0m\n\u001b[1;32m----> 1\u001b[1;33m \u001b[0mwilcoxon\u001b[0m\u001b[1;33m(\u001b[0m\u001b[0mdata\u001b[0m\u001b[1;33m[\u001b[0m\u001b[1;33m[\u001b[0m\u001b[1;34m'Net'\u001b[0m\u001b[1;33m]\u001b[0m\u001b[1;33m]\u001b[0m\u001b[1;33m,\u001b[0m\u001b[1;33m[\u001b[0m\u001b[1;36m600\u001b[0m\u001b[1;33m]\u001b[0m\u001b[1;33m*\u001b[0m\u001b[0mlen\u001b[0m\u001b[1;33m(\u001b[0m\u001b[0mdata\u001b[0m\u001b[1;33m[\u001b[0m\u001b[1;33m[\u001b[0m\u001b[1;34m'Net'\u001b[0m\u001b[1;33m]\u001b[0m\u001b[1;33m]\u001b[0m\u001b[1;33m)\u001b[0m\u001b[1;33m,\u001b[0m\u001b[0mcorrection\u001b[0m\u001b[1;33m=\u001b[0m\u001b[1;32mTrue\u001b[0m\u001b[1;33m,\u001b[0m\u001b[0malternative\u001b[0m\u001b[1;33m=\u001b[0m\u001b[1;34m'greater'\u001b[0m\u001b[1;33m)\u001b[0m\u001b[1;33m\u001b[0m\u001b[0m\n\u001b[0m",
      "\u001b[1;31mTypeError\u001b[0m: wilcoxon() got an unexpected keyword argument 'alternative'"
     ]
    }
   ],
   "source": [
    "wilcoxon(data[['Net']],[600]*len(data[['Net']]),correction=True,alternative='greater')"
   ]
  },
  {
   "cell_type": "markdown",
   "metadata": {},
   "source": [
    "### 8.2.2 分布的检验\n",
    "\n",
    ">K-S检验，主要用来检验样本数据所反映的总体是否服从某种理论分布，statsmodels.api.stats.diagnostic提供kstest_normal函数和lilliefors函数进行正态检验。scipy中stats.kstest对上百种分布进行检验"
   ]
  },
  {
   "cell_type": "code",
   "execution_count": 6,
   "metadata": {},
   "outputs": [],
   "source": [
    "import pandas as pd\n",
    "import numpy as np\n",
    "import statsmodels.api as sm\n",
    "from scipy import stats"
   ]
  },
  {
   "cell_type": "code",
   "execution_count": 4,
   "metadata": {},
   "outputs": [
    {
     "data": {
      "text/html": [
       "<div>\n",
       "<style scoped>\n",
       "    .dataframe tbody tr th:only-of-type {\n",
       "        vertical-align: middle;\n",
       "    }\n",
       "\n",
       "    .dataframe tbody tr th {\n",
       "        vertical-align: top;\n",
       "    }\n",
       "\n",
       "    .dataframe thead th {\n",
       "        text-align: right;\n",
       "    }\n",
       "</style>\n",
       "<table border=\"1\" class=\"dataframe\">\n",
       "  <thead>\n",
       "    <tr style=\"text-align: right;\">\n",
       "      <th></th>\n",
       "      <th>observation</th>\n",
       "    </tr>\n",
       "  </thead>\n",
       "  <tbody>\n",
       "    <tr>\n",
       "      <th>0</th>\n",
       "      <td>77</td>\n",
       "    </tr>\n",
       "    <tr>\n",
       "      <th>1</th>\n",
       "      <td>92</td>\n",
       "    </tr>\n",
       "    <tr>\n",
       "      <th>2</th>\n",
       "      <td>90</td>\n",
       "    </tr>\n",
       "    <tr>\n",
       "      <th>3</th>\n",
       "      <td>71</td>\n",
       "    </tr>\n",
       "    <tr>\n",
       "      <th>4</th>\n",
       "      <td>74</td>\n",
       "    </tr>\n",
       "  </tbody>\n",
       "</table>\n",
       "</div>"
      ],
      "text/plain": [
       "   observation\n",
       "0           77\n",
       "1           92\n",
       "2           90\n",
       "3           71\n",
       "4           74"
      ]
     },
     "execution_count": 4,
     "metadata": {},
     "output_type": "execute_result"
    }
   ],
   "source": [
    "ks=pd.read_csv(r\"D:\\文档\\Python Scripts\\Python数据分析基础（第2版）数据\\ch8\\ks.csv\")\n",
    "ks.head()"
   ]
  },
  {
   "cell_type": "code",
   "execution_count": 8,
   "metadata": {},
   "outputs": [
    {
     "data": {
      "text/plain": [
       "(0.11085609021293796, 0.021718830360242317)"
      ]
     },
     "execution_count": 8,
     "metadata": {},
     "output_type": "execute_result"
    },
    {
     "data": {
      "text/plain": [
       "(0.11085609021293796, 0.021718830360242317)"
      ]
     },
     "execution_count": 8,
     "metadata": {},
     "output_type": "execute_result"
    }
   ],
   "source": [
    "sm.stats.diagnostic.kstest_normal(ks['observation'])#返回统计量和p值\n",
    "sm.stats.diagnostic.lilliefors(ks['observation'],dist='norm')"
   ]
  },
  {
   "cell_type": "markdown",
   "metadata": {},
   "source": [
    "### 8.2.3 游程检验\n",
    "\n",
    ">按照数据是否大于中位数或者平均值来分割\n",
    "$H_0$:取值是随机的"
   ]
  },
  {
   "cell_type": "code",
   "execution_count": 13,
   "metadata": {},
   "outputs": [],
   "source": [
    "import pandas as pd\n",
    "import numpy as np\n",
    "import statsmodels.api as sm"
   ]
  },
  {
   "cell_type": "code",
   "execution_count": 15,
   "metadata": {},
   "outputs": [
    {
     "data": {
      "text/html": [
       "<div>\n",
       "<style scoped>\n",
       "    .dataframe tbody tr th:only-of-type {\n",
       "        vertical-align: middle;\n",
       "    }\n",
       "\n",
       "    .dataframe tbody tr th {\n",
       "        vertical-align: top;\n",
       "    }\n",
       "\n",
       "    .dataframe thead th {\n",
       "        text-align: right;\n",
       "    }\n",
       "</style>\n",
       "<table border=\"1\" class=\"dataframe\">\n",
       "  <thead>\n",
       "    <tr style=\"text-align: right;\">\n",
       "      <th></th>\n",
       "      <th>economics</th>\n",
       "      <th>statistics</th>\n",
       "    </tr>\n",
       "  </thead>\n",
       "  <tbody>\n",
       "    <tr>\n",
       "      <th>0</th>\n",
       "      <td>66</td>\n",
       "      <td>72</td>\n",
       "    </tr>\n",
       "    <tr>\n",
       "      <th>1</th>\n",
       "      <td>77</td>\n",
       "      <td>60</td>\n",
       "    </tr>\n",
       "    <tr>\n",
       "      <th>2</th>\n",
       "      <td>70</td>\n",
       "      <td>65</td>\n",
       "    </tr>\n",
       "    <tr>\n",
       "      <th>3</th>\n",
       "      <td>99</td>\n",
       "      <td>45</td>\n",
       "    </tr>\n",
       "    <tr>\n",
       "      <th>4</th>\n",
       "      <td>53</td>\n",
       "      <td>78</td>\n",
       "    </tr>\n",
       "  </tbody>\n",
       "</table>\n",
       "</div>"
      ],
      "text/plain": [
       "   economics  statistics\n",
       "0         66          72\n",
       "1         77          60\n",
       "2         70          65\n",
       "3         99          45\n",
       "4         53          78"
      ]
     },
     "execution_count": 15,
     "metadata": {},
     "output_type": "execute_result"
    }
   ],
   "source": [
    "path=r\"D:\\文档\\Python Scripts\\Python数据分析基础（第2版）数据\\ch8\\runs.csv\"\n",
    "runs=pd.read_csv(path)\n",
    "runs.head()"
   ]
  },
  {
   "cell_type": "code",
   "execution_count": 20,
   "metadata": {},
   "outputs": [
    {
     "data": {
      "text/plain": [
       "(-1.3394253515905177, 0.18043224087490017)"
      ]
     },
     "execution_count": 20,
     "metadata": {},
     "output_type": "execute_result"
    },
    {
     "data": {
      "text/plain": [
       "(-1.3394253515905177, 0.18043224087490017)"
      ]
     },
     "execution_count": 20,
     "metadata": {},
     "output_type": "execute_result"
    }
   ],
   "source": [
    "sm.stats.runstest_1samp(np.asarray(runs['economics']),cutoff='median')#cutoff表示采用中位数分割点\n",
    "sm.stats.runstest_1samp(np.asarray(runs['economics']),cutoff='mean')"
   ]
  },
  {
   "cell_type": "markdown",
   "metadata": {},
   "source": [
    "## 8.3 两个样本的非参数检验\n",
    "\n",
    "### 8.3.1 独立样本中位数比较的Wilcoxon秩和检验\n",
    "\n",
    "$H_0$:两独立样本中位数相等\n",
    "\n",
    ">Wilcoxon检验的前提条件是两个总体的分布具有类似的形状。假定第两个样本的容量分别为$n_1,n_2$，将两个样本合并，把合并之后的样本数据从大到小排序，得到相应的秩，分别加总两个样本的秩，比较大小。如果差距较大，则可以拒绝两个独立样本中位数相等的假设"
   ]
  },
  {
   "cell_type": "markdown",
   "metadata": {},
   "source": [
    "### 8.3.2 独立样本的分布检验\n",
    "\n",
    "$H_0:F_1(x)=F_2(X)$"
   ]
  },
  {
   "cell_type": "code",
   "execution_count": 22,
   "metadata": {},
   "outputs": [],
   "source": [
    "import pandas as pd\n",
    "import numpy as  np\n",
    "from scipy import stats"
   ]
  },
  {
   "cell_type": "code",
   "execution_count": 21,
   "metadata": {},
   "outputs": [
    {
     "data": {
      "text/html": [
       "<div>\n",
       "<style scoped>\n",
       "    .dataframe tbody tr th:only-of-type {\n",
       "        vertical-align: middle;\n",
       "    }\n",
       "\n",
       "    .dataframe tbody tr th {\n",
       "        vertical-align: top;\n",
       "    }\n",
       "\n",
       "    .dataframe thead th {\n",
       "        text-align: right;\n",
       "    }\n",
       "</style>\n",
       "<table border=\"1\" class=\"dataframe\">\n",
       "  <thead>\n",
       "    <tr style=\"text-align: right;\">\n",
       "      <th></th>\n",
       "      <th>city</th>\n",
       "      <th>Cafe_No</th>\n",
       "      <th>Computers</th>\n",
       "    </tr>\n",
       "  </thead>\n",
       "  <tbody>\n",
       "    <tr>\n",
       "      <th>0</th>\n",
       "      <td>1</td>\n",
       "      <td>1</td>\n",
       "      <td>200</td>\n",
       "    </tr>\n",
       "    <tr>\n",
       "      <th>1</th>\n",
       "      <td>1</td>\n",
       "      <td>2</td>\n",
       "      <td>50</td>\n",
       "    </tr>\n",
       "    <tr>\n",
       "      <th>2</th>\n",
       "      <td>1</td>\n",
       "      <td>3</td>\n",
       "      <td>160</td>\n",
       "    </tr>\n",
       "    <tr>\n",
       "      <th>3</th>\n",
       "      <td>1</td>\n",
       "      <td>4</td>\n",
       "      <td>50</td>\n",
       "    </tr>\n",
       "    <tr>\n",
       "      <th>4</th>\n",
       "      <td>1</td>\n",
       "      <td>5</td>\n",
       "      <td>80</td>\n",
       "    </tr>\n",
       "  </tbody>\n",
       "</table>\n",
       "</div>"
      ],
      "text/plain": [
       "   city  Cafe_No  Computers\n",
       "0     1        1        200\n",
       "1     1        2         50\n",
       "2     1        3        160\n",
       "3     1        4         50\n",
       "4     1        5         80"
      ]
     },
     "execution_count": 21,
     "metadata": {},
     "output_type": "execute_result"
    }
   ],
   "source": [
    "path=r\"D:\\文档\\Python Scripts\\Python数据分析基础（第2版）数据\\ch8\\cafe_scale.csv\"\n",
    "cafe_scale=pd.read_csv(path)\n",
    "cafe_scale.head()"
   ]
  },
  {
   "cell_type": "code",
   "execution_count": 25,
   "metadata": {},
   "outputs": [
    {
     "data": {
      "text/plain": [
       "Ks_2sampResult(statistic=0.19010989010989013, pvalue=0.43759043646877016)"
      ]
     },
     "execution_count": 25,
     "metadata": {},
     "output_type": "execute_result"
    }
   ],
   "source": [
    "stats.ks_2samp(cafe_scale[cafe_scale['city']==1]['Computers'],cafe_scale[cafe_scale['city']==2]['Computers'])\n"
   ]
  },
  {
   "cell_type": "code",
   "execution_count": 33,
   "metadata": {},
   "outputs": [
    {
     "data": {
      "text/plain": [
       "<matplotlib.axes._subplots.AxesSubplot at 0x15bfc4f2ac8>"
      ]
     },
     "execution_count": 33,
     "metadata": {},
     "output_type": "execute_result"
    },
    {
     "data": {
      "text/plain": [
       "<matplotlib.axes._subplots.AxesSubplot at 0x15bfc4f2ac8>"
      ]
     },
     "execution_count": 33,
     "metadata": {},
     "output_type": "execute_result"
    },
    {
     "data": {
      "text/plain": [
       "Text(0.5, 0, 'Computers')"
      ]
     },
     "execution_count": 33,
     "metadata": {},
     "output_type": "execute_result"
    },
    {
     "data": {
      "text/plain": [
       "Text(0, 0.5, 'frequency')"
      ]
     },
     "execution_count": 33,
     "metadata": {},
     "output_type": "execute_result"
    },
    {
     "data": {
      "text/plain": [
       "<matplotlib.legend.Legend at 0x15bfc31ae48>"
      ]
     },
     "execution_count": 33,
     "metadata": {},
     "output_type": "execute_result"
    },
    {
     "data": {
      "image/png": "[encoded data removed]",
      "text/plain": [
       "<Figure size 432x288 with 1 Axes>"
      ]
     },
     "metadata": {},
     "output_type": "display_data"
    }
   ],
   "source": [
    "import matplotlib.pyplot as plt\n",
    "\n",
    "cafe_scale[cafe_scale['city']==1]['Computers'].hist(bins=50,density=True,histtype='step',cumulative=True,label='city_1')\n",
    "cafe_scale[cafe_scale['city']==2]['Computers'].hist(bins=50,density=True,histtype='step',cumulative=True,label='city_2')\n",
    "plt.xlabel('Computers')\n",
    "plt.ylabel('frequency')\n",
    "plt.legend(loc='best')\n",
    "plt.show()"
   ]
  },
  {
   "cell_type": "markdown",
   "metadata": {},
   "source": [
    "### 8.3.3 成对样本中位数的检验\n",
    "\n",
    ">先求出成对样本观测值的差，然后再利用单样本中位数的非参数检验方法"
   ]
  },
  {
   "cell_type": "code",
   "execution_count": 2,
   "metadata": {},
   "outputs": [],
   "source": [
    "import pandas as pd\n",
    "import numpy as np\n",
    "from scipy import stats"
   ]
  },
  {
   "cell_type": "code",
   "execution_count": 3,
   "metadata": {},
   "outputs": [
    {
     "data": {
      "text/html": [
       "<div>\n",
       "<style scoped>\n",
       "    .dataframe tbody tr th:only-of-type {\n",
       "        vertical-align: middle;\n",
       "    }\n",
       "\n",
       "    .dataframe tbody tr th {\n",
       "        vertical-align: top;\n",
       "    }\n",
       "\n",
       "    .dataframe thead th {\n",
       "        text-align: right;\n",
       "    }\n",
       "</style>\n",
       "<table border=\"1\" class=\"dataframe\">\n",
       "  <thead>\n",
       "    <tr style=\"text-align: right;\">\n",
       "      <th></th>\n",
       "      <th>Year2015</th>\n",
       "      <th>Year2016</th>\n",
       "    </tr>\n",
       "  </thead>\n",
       "  <tbody>\n",
       "    <tr>\n",
       "      <th>0</th>\n",
       "      <td>69.48</td>\n",
       "      <td>77.44</td>\n",
       "    </tr>\n",
       "    <tr>\n",
       "      <th>1</th>\n",
       "      <td>82.51</td>\n",
       "      <td>67.49</td>\n",
       "    </tr>\n",
       "    <tr>\n",
       "      <th>2</th>\n",
       "      <td>82.12</td>\n",
       "      <td>64.56</td>\n",
       "    </tr>\n",
       "    <tr>\n",
       "      <th>3</th>\n",
       "      <td>70.32</td>\n",
       "      <td>70.14</td>\n",
       "    </tr>\n",
       "    <tr>\n",
       "      <th>4</th>\n",
       "      <td>75.29</td>\n",
       "      <td>74.72</td>\n",
       "    </tr>\n",
       "  </tbody>\n",
       "</table>\n",
       "</div>"
      ],
      "text/plain": [
       "   Year2015  Year2016\n",
       "0     69.48     77.44\n",
       "1     82.51     67.49\n",
       "2     82.12     64.56\n",
       "3     70.32     70.14\n",
       "4     75.29     74.72"
      ]
     },
     "execution_count": 3,
     "metadata": {},
     "output_type": "execute_result"
    }
   ],
   "source": [
    "path=r\"D:\\文档\\Python Scripts\\Python数据分析基础（第2版）数据\\ch8\\happiness.csv\"\n",
    "happiness=pd.read_csv(path)\n",
    "happiness.head()"
   ]
  },
  {
   "cell_type": "code",
   "execution_count": 6,
   "metadata": {},
   "outputs": [
    {
     "data": {
      "text/plain": [
       "WilcoxonResult(statistic=9744.0, pvalue=0.708871410161084)"
      ]
     },
     "execution_count": 6,
     "metadata": {},
     "output_type": "execute_result"
    }
   ],
   "source": [
    "stats.wilcoxon(happiness['Year2015'],happiness['Year2016'])"
   ]
  },
  {
   "cell_type": "markdown",
   "metadata": {},
   "source": [
    "###  8.3.4 两样本的游程检验\n",
    "\n",
    ">主要检验两个样本数据是否来自于同一个分布\n",
    "\n",
    "$H_0$：两个样本来自于统一总体"
   ]
  },
  {
   "cell_type": "code",
   "execution_count": 7,
   "metadata": {},
   "outputs": [],
   "source": [
    "import pandas as pd\n",
    "import numpy as np\n",
    "import statsmodels.api as sm"
   ]
  },
  {
   "cell_type": "code",
   "execution_count": 8,
   "metadata": {},
   "outputs": [],
   "source": [
    "path=r\"D:\\文档\\Python Scripts\\Python数据分析基础（第2版）数据\\ch8\\runs.csv\"\n",
    "runs=pd.read_csv(path)\n",
    "runs.head()"
   ]
  },
  {
   "cell_type": "code",
   "execution_count": 14,
   "metadata": {},
   "outputs": [
    {
     "name": "stdout",
     "output_type": "stream",
     "text": [
      "ties detected\n"
     ]
    },
    {
     "data": {
      "text/plain": [
       "(-9.288960762896162, 1.558020813536555e-20)"
      ]
     },
     "execution_count": 14,
     "metadata": {},
     "output_type": "execute_result"
    }
   ],
   "source": [
    "sm.stats.runstest_2samp(np.asarray(runs['economics']).astype(np.float64),np.asarray(runs['statistics']).astype(np.float64))"
   ]
  },
  {
   "cell_type": "code",
   "execution_count": 15,
   "metadata": {},
   "outputs": [
    {
     "data": {
      "text/html": [
       "<div>\n",
       "<style scoped>\n",
       "    .dataframe tbody tr th:only-of-type {\n",
       "        vertical-align: middle;\n",
       "    }\n",
       "\n",
       "    .dataframe tbody tr th {\n",
       "        vertical-align: top;\n",
       "    }\n",
       "\n",
       "    .dataframe thead th {\n",
       "        text-align: right;\n",
       "    }\n",
       "</style>\n",
       "<table border=\"1\" class=\"dataframe\">\n",
       "  <thead>\n",
       "    <tr style=\"text-align: right;\">\n",
       "      <th></th>\n",
       "      <th>score</th>\n",
       "      <th>group</th>\n",
       "    </tr>\n",
       "  </thead>\n",
       "  <tbody>\n",
       "    <tr>\n",
       "      <th>0</th>\n",
       "      <td>66</td>\n",
       "      <td>0</td>\n",
       "    </tr>\n",
       "    <tr>\n",
       "      <th>1</th>\n",
       "      <td>77</td>\n",
       "      <td>0</td>\n",
       "    </tr>\n",
       "    <tr>\n",
       "      <th>2</th>\n",
       "      <td>72</td>\n",
       "      <td>1</td>\n",
       "    </tr>\n",
       "    <tr>\n",
       "      <th>3</th>\n",
       "      <td>60</td>\n",
       "      <td>1</td>\n",
       "    </tr>\n",
       "    <tr>\n",
       "      <th>4</th>\n",
       "      <td>65</td>\n",
       "      <td>1</td>\n",
       "    </tr>\n",
       "  </tbody>\n",
       "</table>\n",
       "</div>"
      ],
      "text/plain": [
       "   score  group\n",
       "0     66      0\n",
       "1     77      0\n",
       "2     72      1\n",
       "3     60      1\n",
       "4     65      1"
      ]
     },
     "execution_count": 15,
     "metadata": {},
     "output_type": "execute_result"
    }
   ],
   "source": [
    "path_2=r\"D:\\文档\\Python Scripts\\Python数据分析基础（第2版）数据\\ch8\\runs2.csv\"\n",
    "runs2=pd.read_csv(path_2)\n",
    "runs2.head()"
   ]
  },
  {
   "cell_type": "code",
   "execution_count": 17,
   "metadata": {},
   "outputs": [
    {
     "name": "stdout",
     "output_type": "stream",
     "text": [
      "ties detected\n"
     ]
    },
    {
     "data": {
      "text/plain": [
       "(-9.288960762896162, 1.558020813536555e-20)"
      ]
     },
     "execution_count": 17,
     "metadata": {},
     "output_type": "execute_result"
    }
   ],
   "source": [
    "#还可以使用参数groups\n",
    "sm.stats.runstest_2samp(np.asarray(runs2['score']).astype(np.float64),groups=np.asarray(runs2['group']))"
   ]
  },
  {
   "cell_type": "code",
   "execution_count": null,
   "metadata": {},
   "outputs": [],
   "source": [
    "## 8.4 多个样本的非参数检验\n",
    "### 8.4.1 多个样本的分布检验\n",
    "\n",
    ">多样本Anderson-Darling检验是一种在单样本Aanderson-Darling检验改进的方法，主要用于检验各样本数据是否来自于同一个总体。\n",
    "\n",
    "$H_0$：各样本来自于同一个整体"
   ]
  },
  {
   "cell_type": "code",
   "execution_count": 18,
   "metadata": {},
   "outputs": [],
   "source": [
    "import pandas as pd\n",
    "import numpy as np\n",
    "from scipy import stats"
   ]
  },
  {
   "cell_type": "code",
   "execution_count": 21,
   "metadata": {},
   "outputs": [
    {
     "data": {
      "text/html": [
       "<div>\n",
       "<style scoped>\n",
       "    .dataframe tbody tr th:only-of-type {\n",
       "        vertical-align: middle;\n",
       "    }\n",
       "\n",
       "    .dataframe tbody tr th {\n",
       "        vertical-align: top;\n",
       "    }\n",
       "\n",
       "    .dataframe thead th {\n",
       "        text-align: right;\n",
       "    }\n",
       "</style>\n",
       "<table border=\"1\" class=\"dataframe\">\n",
       "  <thead>\n",
       "    <tr style=\"text-align: right;\">\n",
       "      <th></th>\n",
       "      <th>statistics_score</th>\n",
       "      <th>class</th>\n",
       "    </tr>\n",
       "  </thead>\n",
       "  <tbody>\n",
       "    <tr>\n",
       "      <th>0</th>\n",
       "      <td>91</td>\n",
       "      <td>2</td>\n",
       "    </tr>\n",
       "    <tr>\n",
       "      <th>1</th>\n",
       "      <td>95</td>\n",
       "      <td>3</td>\n",
       "    </tr>\n",
       "    <tr>\n",
       "      <th>2</th>\n",
       "      <td>75</td>\n",
       "      <td>1</td>\n",
       "    </tr>\n",
       "    <tr>\n",
       "      <th>3</th>\n",
       "      <td>52</td>\n",
       "      <td>3</td>\n",
       "    </tr>\n",
       "    <tr>\n",
       "      <th>4</th>\n",
       "      <td>57</td>\n",
       "      <td>2</td>\n",
       "    </tr>\n",
       "  </tbody>\n",
       "</table>\n",
       "</div>"
      ],
      "text/plain": [
       "   statistics_score  class\n",
       "0                91      2\n",
       "1                95      3\n",
       "2                75      1\n",
       "3                52      3\n",
       "4                57      2"
      ]
     },
     "execution_count": 21,
     "metadata": {},
     "output_type": "execute_result"
    }
   ],
   "source": [
    "path=r\"D:\\文档\\Python Scripts\\Python数据分析基础（第2版）数据\\ch8\\ksampledis.csv\"\n",
    "ksampledis=pd.read_csv(path)\n",
    "ksampledis.head()"
   ]
  },
  {
   "cell_type": "code",
   "execution_count": 25,
   "metadata": {},
   "outputs": [
    {
     "data": {
      "text/plain": [
       "Anderson_ksampResult(statistic=0.5632008353358472, critical_values=array([0.44925884, 1.3052767 , 1.9434184 , 2.57696569, 3.41634856]), significance_level=0.22153444857207932)"
      ]
     },
     "execution_count": 25,
     "metadata": {},
     "output_type": "execute_result"
    }
   ],
   "source": [
    "g=ksampledis['class'].unique()\n",
    "args=[]\n",
    "for i in g:\n",
    "    args.append(ksampledis[ksampledis['class']==i]['statistics_score'])\n",
    "stats.anderson_ksamp(args)#关键值的显著性水平分别是25%,10%,5%,2.5%,1%"
   ]
  },
  {
   "cell_type": "code",
   "execution_count": null,
   "metadata": {},
   "outputs": [],
   "source": [
    "### 8.4.2 独立样本位置参数的检验\n",
    "\n",
    ">检验多个独立样本的位置参数是否一致.通常情况下，多个独立样本的秩和检验可以使用近似服从卡方分布的Kruskal-Wallis统计量进行检验\n",
    "\n",
    "$H_0$：各总体位置参数相同"
   ]
  },
  {
   "cell_type": "code",
   "execution_count": 29,
   "metadata": {},
   "outputs": [],
   "source": [
    "import pandas as pd\n",
    "import numpy as np\n",
    "from scipy import stats\n",
    "from statsmodels.sandbox.stats.runs import median_test_ksample"
   ]
  },
  {
   "cell_type": "code",
   "execution_count": 26,
   "metadata": {},
   "outputs": [
    {
     "data": {
      "text/html": [
       "<div>\n",
       "<style scoped>\n",
       "    .dataframe tbody tr th:only-of-type {\n",
       "        vertical-align: middle;\n",
       "    }\n",
       "\n",
       "    .dataframe tbody tr th {\n",
       "        vertical-align: top;\n",
       "    }\n",
       "\n",
       "    .dataframe thead th {\n",
       "        text-align: right;\n",
       "    }\n",
       "</style>\n",
       "<table border=\"1\" class=\"dataframe\">\n",
       "  <thead>\n",
       "    <tr style=\"text-align: right;\">\n",
       "      <th></th>\n",
       "      <th>season</th>\n",
       "      <th>terminal_no</th>\n",
       "      <th>Sales</th>\n",
       "    </tr>\n",
       "  </thead>\n",
       "  <tbody>\n",
       "    <tr>\n",
       "      <th>0</th>\n",
       "      <td>1</td>\n",
       "      <td>1</td>\n",
       "      <td>98.96</td>\n",
       "    </tr>\n",
       "    <tr>\n",
       "      <th>1</th>\n",
       "      <td>2</td>\n",
       "      <td>1</td>\n",
       "      <td>88.97</td>\n",
       "    </tr>\n",
       "    <tr>\n",
       "      <th>2</th>\n",
       "      <td>3</td>\n",
       "      <td>1</td>\n",
       "      <td>88.55</td>\n",
       "    </tr>\n",
       "    <tr>\n",
       "      <th>3</th>\n",
       "      <td>4</td>\n",
       "      <td>1</td>\n",
       "      <td>84.34</td>\n",
       "    </tr>\n",
       "    <tr>\n",
       "      <th>4</th>\n",
       "      <td>1</td>\n",
       "      <td>2</td>\n",
       "      <td>94.43</td>\n",
       "    </tr>\n",
       "  </tbody>\n",
       "</table>\n",
       "</div>"
      ],
      "text/plain": [
       "   season  terminal_no  Sales\n",
       "0       1            1  98.96\n",
       "1       2            1  88.97\n",
       "2       3            1  88.55\n",
       "3       4            1  84.34\n",
       "4       1            2  94.43"
      ]
     },
     "execution_count": 26,
     "metadata": {},
     "output_type": "execute_result"
    }
   ],
   "source": [
    "path=r\"D:\\文档\\Python Scripts\\Python数据分析基础（第2版）数据\\ch8\\drinks.csv\"\n",
    "drinks=pd.read_csv(path)\n",
    "drinks.head()\n"
   ]
  },
  {
   "cell_type": "code",
   "execution_count": 28,
   "metadata": {},
   "outputs": [
    {
     "data": {
      "text/plain": [
       "KruskalResult(statistic=23.95945806717496, pvalue=2.5471577250553795e-05)"
      ]
     },
     "execution_count": 28,
     "metadata": {},
     "output_type": "execute_result"
    },
    {
     "data": {
      "text/plain": [
       "(26.0, 9.537406942615968e-06, 90.82, array([[10, 14,  8,  0],\n",
       "        [ 6,  2,  8, 16]], dtype=int64))"
      ]
     },
     "execution_count": 28,
     "metadata": {},
     "output_type": "execute_result"
    }
   ],
   "source": [
    "g=drinks['season'].unique()\n",
    "args=[]\n",
    "for i in g:\n",
    "    args.append(drinks[drinks['season']==i]['Sales'])\n",
    "stats.kruskal(*args)\n",
    "stats.median_test(*args)#多个独立样本的Mood's中位数检验法.返回统计量、p值、所有样本数据中位数、和(2,n)的列联表，表示每个样本大于中位数和小于中位数的个数"
   ]
  },
  {
   "cell_type": "markdown",
   "metadata": {},
   "source": [
    ">median_test_ksample可以用来检验各样本数据大于中位数的比例是否相同，可以用用来对多独立样本中位数是否相同进行检验"
   ]
  },
  {
   "cell_type": "code",
   "execution_count": 30,
   "metadata": {},
   "outputs": [
    {
     "data": {
      "text/plain": [
       "(Power_divergenceResult(statistic=26.0, pvalue=0.00022264244658763393),\n",
       " array([[ 6,  2,  8, 16],\n",
       "        [10, 14,  8,  0]]),\n",
       " array([[8., 8., 8., 8.],\n",
       "        [8., 8., 8., 8.]]))"
      ]
     },
     "execution_count": 30,
     "metadata": {},
     "output_type": "execute_result"
    }
   ],
   "source": [
    "median_test_ksample(drinks['Sales'],drinks['season'])"
   ]
  },
  {
   "cell_type": "code",
   "execution_count": null,
   "metadata": {},
   "outputs": [],
   "source": [
    "median=drinks['Sales'].median()\n"
   ]
  }
 ],
 "metadata": {
  "kernelspec": {
   "display_name": "Python 3",
   "language": "python",
   "name": "python3"
  },
  "language_info": {
   "codemirror_mode": {
    "name": "ipython",
    "version": 3
   },
   "file_extension": ".py",
   "mimetype": "text/x-python",
   "name": "python",
   "nbconvert_exporter": "python",
   "pygments_lexer": "ipython3",
   "version": "3.6.4"
  }
 },
 "nbformat": 4,
 "nbformat_minor": 2
}

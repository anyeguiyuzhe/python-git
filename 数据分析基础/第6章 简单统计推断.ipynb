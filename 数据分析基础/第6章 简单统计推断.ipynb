{
 "cells": [
  {
   "cell_type": "markdown",
   "metadata": {},
   "source": [
    "# <center>第6章 简单统计推断</center>\n",
    "\n",
    "# 6.2 单总体参数的参数估计\n",
    "\n",
    "#### 6.2.1.1 单总体均值的参数估计"
   ]
  },
  {
   "cell_type": "code",
   "execution_count": 6,
   "metadata": {},
   "outputs": [
    {
     "name": "stdout",
     "output_type": "stream",
     "text": [
      "(array([3.85610519]), array([4.09109481]))\n",
      "(array([3.85313112]), array([4.09406888]))\n",
      "Mean(statistic=3.9736000000000002, minmax=(3.853131123764977, 4.094068876235023))\n",
      "Variance(statistic=0.18733089361702127, minmax=(0.12538093683821308, 0.2790231439977582))\n",
      "Std_dev(statistic=0.43052145521911656, minmax=(0.35409170681931124, 0.5282264135744805))\n"
     ]
    }
   ],
   "source": [
    "import pandas as pd\n",
    "import numpy as np\n",
    "import statsmodels.api as sm\n",
    "from scipy import stats\n",
    "\n",
    "path=r\"D:\\文档\\Python Scripts\\Python数据分析基础（第2版）数据\\ch6\\moisture.csv\"\n",
    "moisture=pd.read_csv(path)\n",
    "#Z估计\n",
    "print(sm.stats.DescrStatsW(moisture).zconfint_mean(alpha=0.05))\n",
    "#t分布下的估计区间\n",
    "print(sm.stats.DescrStatsW(moisture).tconfint_mean(alpha=0.05))\n",
    "#scipy的t分布估计\n",
    "mean,var,std=stats.bayes_mvs(moisture,alpha=0.95)\n",
    "print(mean,var,std,sep='\\n')"
   ]
  },
  {
   "cell_type": "markdown",
   "metadata": {},
   "source": [
    "#### 6.2.1.2 单总体方差、标准差的参数估计"
   ]
  },
  {
   "cell_type": "code",
   "execution_count": 7,
   "metadata": {},
   "outputs": [
    {
     "name": "stdout",
     "output_type": "stream",
     "text": [
      "(3.853131123764977, 4.094068876235023)\n",
      "(0.12538093683821308, 0.2790231439977582)\n",
      "(0.35409170681931124, 0.5282264135744805)\n"
     ]
    }
   ],
   "source": [
    "#使用scipy.stats的mvsdist函数\n",
    "m,v,s=stats.mvsdist(moisture)\n",
    "print(m.interval(0.95))#返回95%置信度下总体均值\n",
    "print(m.std())#返回均值标准差\n",
    "print(v.interval(0.95))#总体方差\n",
    "print(s.interval(0.95))#总体均值\n"
   ]
  },
  {
   "cell_type": "markdown",
   "metadata": {},
   "source": [
    "#### 6.2.1.1 单总体比例的参数估计"
   ]
  },
  {
   "cell_type": "code",
   "execution_count": 9,
   "metadata": {},
   "outputs": [
    {
     "data": {
      "text/plain": [
       "(0.9072835752920528, 0.9927164247079471)"
      ]
     },
     "execution_count": 9,
     "metadata": {},
     "output_type": "execute_result"
    }
   ],
   "source": [
    "#比如说产品的合格率问题\n",
    "\n",
    "sm.stats.proportion_confint(95,100,alpha=0.05,method='normal')"
   ]
  },
  {
   "cell_type": "markdown",
   "metadata": {},
   "source": [
    "### 6.2.2 单总体参数的假设检验\n",
    "\n",
    "#### 6.2.2.1 总体均值的假设检验"
   ]
  },
  {
   "cell_type": "code",
   "execution_count": 2,
   "metadata": {},
   "outputs": [
    {
     "data": {
      "text/plain": [
       "(array([-0.44038583]), array([0.67017116]))"
      ]
     },
     "execution_count": 2,
     "metadata": {},
     "output_type": "execute_result"
    }
   ],
   "source": [
    "import pandas as pd\n",
    "import numpy as np\n",
    "import statsmodels.api as sm\n",
    "from scipy import stats\n",
    "\n",
    "path=r\"D:\\文档\\Python Scripts\\Python数据分析基础（第2版）数据\\ch6\\moisture.csv\"\n",
    "moisture=pd.read_csv(path)\n",
    "\n",
    "#总体方差已知，用Z统计量，返回z统计量和p值\n",
    "#alternative可选参数为：'two-sided','larger','smaller'\n",
    "print(sm.stats.DescrStatsW(moisture).ztest_mean(value=4,alternative='larger'))\n",
    "\n",
    "#总体方差未知,使用t统计量\n",
    "print(sm.statas.DescrStatsW(moisture).ttest_mean(value=4,alternative='larger'))"
   ]
  },
  {
   "cell_type": "markdown",
   "metadata": {},
   "source": [
    "#### 6.2.2.2 总体比例的假设检验"
   ]
  },
  {
   "cell_type": "code",
   "execution_count": 7,
   "metadata": {},
   "outputs": [
    {
     "name": "stdout",
     "output_type": "stream",
     "text": [
      "0.9191628710986264\n",
      "0.9191628710986264\n",
      "(-0.9176629354822475, 0.8206023210565294)\n"
     ]
    }
   ],
   "source": [
    "#产品合格率的检验\n",
    "print(stats.binom_test(95,100,p=0.97,alternative='greater'))#返回p值\n",
    "print(sm.stats.binom_test(95,100,prop=0.97,alternative='larger'))\n",
    "print(sm.stats.proportions_ztest(95,100,value=0.97,alternative='larger'))#返回z统计量和p值"
   ]
  },
  {
   "cell_type": "markdown",
   "metadata": {},
   "source": [
    "## 6.3 两总体参数的假设检验\n",
    "\n",
    ">主要考察两个总体的参数是否有差异\n",
    "\n",
    "### 6.3.1 独立样本的假设检验\n",
    "\n",
    "#### 6.3.1.1 独立样本均值的假设检验"
   ]
  },
  {
   "cell_type": "code",
   "execution_count": 15,
   "metadata": {},
   "outputs": [
    {
     "name": "stdout",
     "output_type": "stream",
     "text": [
      "   Endurance  tech\n",
      "0        4.1     1\n",
      "1        3.7     1\n",
      "2        3.5     1\n",
      "3        3.9     1\n",
      "4        4.1     1\n",
      "BartlettResult(statistic=3.3228777945188592, pvalue=0.06832213694213818)\n",
      "Ttest_indResult(statistic=-2.9908265619140626, pvalue=0.0038722567339729993)\n",
      "(-2.9908265619140626, 0.0038722567339729993, 68.0)\n"
     ]
    }
   ],
   "source": [
    "import pandas as pd\n",
    "import numpy as np\n",
    "from scipy import stats\n",
    "import statsmodels.api as sm\n",
    "\n",
    "path=r\"D:\\文档\\Python Scripts\\Python数据分析基础（第2版）数据\\ch6\\battery.csv\"\n",
    "data=pd.read_csv(path)\n",
    "print(data.head())\n",
    "\n",
    "#进行独立样本均值的t检验，需要实现对两样本总体方差是否相等进行检验\n",
    "print(stats.bartlett(data[data['tech']==1]['Endurance'],data[data['tech']==2]['Endurance']))#根据结果可以认为总体方差相等\n",
    "\n",
    "#均值检验\n",
    "print(stats.ttest_ind(data[data['tech']==1]['Endurance'],data[data['tech']==2]['Endurance'],equal_var=True))\n",
    "print(sm.stats.ttest_ind(data[data['tech']==1]['Endurance'],data[data['tech']==2]['Endurance'],alternative='two-sided',usevar='pooled',value=0))"
   ]
  },
  {
   "cell_type": "markdown",
   "metadata": {},
   "source": [
    "#### 6.3.1.2 独立样本比例之差的假设检验"
   ]
  },
  {
   "cell_type": "code",
   "execution_count": 20,
   "metadata": {},
   "outputs": [
    {
     "name": "stdout",
     "output_type": "stream",
     "text": [
      "   name  gender\n",
      "0     1       1\n",
      "1     1       2\n",
      "2     1       1\n",
      "3     1       1\n",
      "4     1       1\n",
      "Cosmetic    35\n",
      "Fashion     16\n",
      "Name: name, dtype: int64\n"
     ]
    },
    {
     "data": {
      "text/plain": [
       "(-0.0893894201435671, 0.4643862156571413)"
      ]
     },
     "execution_count": 20,
     "metadata": {},
     "output_type": "execute_result"
    }
   ],
   "source": [
    "path=r\"D:\\文档\\Python Scripts\\Python数据分析基础（第2版）数据\\ch6\\magzine.csv\"\n",
    "magzine=pd.read_csv(path)\n",
    "print(magzine.head())\n",
    "magzine['name']=magzine['name'].astype('category')\n",
    "magzine['name'].cat.categories=['Fashion','Cosmetic']\n",
    "magzine['gender']=magzine['gender'].astype('category')\n",
    "magzine['gender'].cat.categories=['Male','Female']\n",
    "female=magzine[magzine['gender']=='Female']['name'].value_counts()\n",
    "print(female)\n",
    "name=magzine['name'].value_counts()\n",
    "sm.stats.proportions_ztest(female,name,value=0.3,alternative='smaller',prop_var=False)"
   ]
  },
  {
   "cell_type": "markdown",
   "metadata": {},
   "source": [
    "### 6.3.2 成对样本的假设检验"
   ]
  },
  {
   "cell_type": "code",
   "execution_count": 23,
   "metadata": {},
   "outputs": [
    {
     "name": "stdout",
     "output_type": "stream",
     "text": [
      "   Year2015  Year2016\n",
      "0     69.48     77.44\n",
      "1     82.51     67.49\n",
      "2     82.12     64.56\n",
      "3     70.32     70.14\n",
      "4     75.29     74.72\n"
     ]
    },
    {
     "data": {
      "text/plain": [
       "Ttest_relResult(statistic=-0.45945807951277384, pvalue=0.6464067663555169)"
      ]
     },
     "execution_count": 23,
     "metadata": {},
     "output_type": "execute_result"
    }
   ],
   "source": [
    "import pandas as pd\n",
    "import numpy as np\n",
    "from scipy import stats\n",
    "import statsmodels.api as sm\n",
    "\n",
    "\n",
    "path=r\"D:\\文档\\Python Scripts\\Python数据分析基础（第2版）数据\\ch6\\happiness.csv\"\n",
    "data=pd.read_csv(path)\n",
    "print(data.head())\n",
    "#原假设是H0：u1-u2>=0即居民幸福指数没有提高\n",
    "stats.ttest_rel(data['Year2015'],data['Year2016'])"
   ]
  },
  {
   "cell_type": "code",
   "execution_count": null,
   "metadata": {},
   "outputs": [],
   "source": []
  }
 ],
 "metadata": {
  "kernelspec": {
   "display_name": "Python 3",
   "language": "python",
   "name": "python3"
  },
  "language_info": {
   "codemirror_mode": {
    "name": "ipython",
    "version": 3
   },
   "file_extension": ".py",
   "mimetype": "text/x-python",
   "name": "python",
   "nbconvert_exporter": "python",
   "pygments_lexer": "ipython3",
   "version": "3.6.4"
  }
 },
 "nbformat": 4,
 "nbformat_minor": 2
}

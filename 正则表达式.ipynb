{
 "cells": [
  {
   "cell_type": "markdown",
   "metadata": {},
   "source": [
    "# <center>正则表达式</center>"
   ]
  },
  {
   "cell_type": "markdown",
   "metadata": {},
   "source": [
    "**1.区分match/search/findall**"
   ]
  },
  {
   "cell_type": "markdown",
   "metadata": {},
   "source": [
    "|code|description|\n",
    "|:-:|:-:|\n",
    "|re.match|从开始位置开始匹配，如果开头没有则无|\n",
    "|re.search|搜索整个字符串,只匹配一次|\n",
    "|re.findall|搜索整个字符串，返回list，不能用group方法|"
   ]
  },
  {
   "cell_type": "markdown",
   "metadata": {},
   "source": [
    "**2.常用修饰符**\n",
    "\n",
    "| 修饰符 | 描述 |\n",
    "| :-: | :-: |\n",
    "| re.I | 使匹配对大小写不敏感 |\n",
    "| re.L | 做本地化匹配 |\n",
    "| re.M | 多行匹配，影响 ^ 和 $ |\n",
    "| re.S | 使 . 匹配包括换行在内的所有字符 |\n",
    "| re.U | 根据unicode字符集解析字符。这个标志影响 \\w,\\w,\\b,\\B |\n",
    "| re.X/re.VERBOSE | 该标志通过给予你更灵活的格式以便你将正则表达式写得更易于理解 |"
   ]
  },
  {
   "cell_type": "markdown",
   "metadata": {},
   "source": [
    "**3.特殊元素**\n",
    "\n",
    "&emsp;下表列出了正则表达式语法中的特殊元素。如果你使用模式的同时提供了可选的标志参数，某些模式元素的含义会改变。\n",
    "\n",
    "\n",
    "| 模式 | 描述 |\n",
    "| :- | -: |\n",
    "| ^ | 匹配字符串的开头 |\n",
    "| $ | 匹配字符串的末尾 |\n",
    "| . | 匹配任意字符 |\n",
    "| [...] | 用来表示一组字符，单独列出:[amk]匹配 'a','m'或者'k' |\n",
    "| [^...] | 不在[]中的字符，[^abc]匹配除了a,b,c之外的字符 |\n",
    "| re* | 匹配0个或者多个的表达式 |\n",
    "| re+ | 匹配一个或者多个的表达式 |\n",
    "| re? | 匹配0个或者1个由前面的正则表达式定义的片段，非贪婪方式 |\n",
    "| re{n} | 精确匹配前面n个表达式 |\n",
    "| re{m,n} | 匹配m到n次由前面的正则表达式定义片段，贪婪方式 |\n",
    "| a&#124;b | 匹配a或者b |\n",
    "| (re) | 匹配括号内的表达式，也表示一个组 |\n",
    "| (?imx) | 正则表达式包含三种可选标志: i,m或者x.只影响括号中的区域 |\n",
    "| (?-imx) | 关闭 i,m或x可选标志，只影响括号中的区域 |\n",
    "| (?:re) | 类似(...),但是不表示一个组 |\n",
    "| (?imx:re) | 在括号中使用i,m或x可选标志 |\n",
    "| (?-imx:re) | 在括号中不使用i,m或x可选标志 |\n",
    "| (?#...) | 注释 |\n",
    "| (?=re) | 前向肯定界定符 |\n",
    "| (?!re) | 前向否定界定符 |\n",
    "| (?>re) | 匹配的独立模式，省去回溯 |\n",
    "| \\w | 匹配字母数字 |\n",
    "| \\W | 匹配非字母数字 |\n",
    "| \\s | 匹配任意空白字符，等价于[\\t\\n\\r\\f] |\n",
    "| \\S | 匹配任意非空白字符 |\n",
    "| \\d | 匹配任意数字，等价于[0-9]\n",
    "| \\D | 匹配任意非数字 |\n",
    "| \\A | 匹配字符串的开始 |\n",
    "| \\Z | 匹配字符串结束，如果存在换行，只匹配到换行前的结束字符串 |\n",
    "| \\z | 匹配字符串结束 |\n",
    "| \\G | 匹配最后匹配完成的位置 |\n",
    "| \\b | 匹配一个单词边界，也就是单词和空格间的位置。例如，'er\\b'可以匹配'never'中的'er'，但是不能匹配'verb'中的'er' |\n",
    "| \\B | 匹配非单词边界。'er\\B'能匹配'verb'中的'er',但是不能匹配'never'中的'er' |\n",
    "| \\n,\\t | 匹配一个换行符，匹配一个制表符 |\n",
    "| \\1,\\2-\\n | 匹配第n个分组的子表达式 |\n"
   ]
  },
  {
   "cell_type": "markdown",
   "metadata": {},
   "source": [
    "\n",
    "4.**正则表达式实例:**\n",
    "\n",
    "| 实例 | 描述 |\n",
    "| :-: | :-: |\n",
    "| [Pp]ython | 匹配'Python'或者'python' |\n",
    "| rub[ye] | 匹配'ruby'或者'rube' |\n",
    "| [aeiou] | 匹配括号内的任意一个字母 |\n",
    "| [0-9] | 匹配任意数字 |\n",
    "| [a-z] | 匹配任何小写字母 |\n",
    "| [A-Z] | 匹配任何大写字母 |\n",
    "| [a-zA-Z0-9] | 匹配任何字母及数字 |\n",
    "| [^aeiou] | 除了'aeiou'外的所有字符 |\n",
    "| [^0-9] | 匹配除了数字外的所有字符 |\n"
   ]
  },
  {
   "cell_type": "markdown",
   "metadata": {},
   "source": [
    "**5.特殊字符类**\n",
    "\n",
    "| 实例 | 描述 |\n",
    "| :-: | :-: |\n",
    "| . | 匹配除了'\\n'之外的任何单个字符(所以'\\t'也是可以匹配的，要匹配包括'\\n'在内的任何字符，请使用像'[.\\n]'的模式，如果使用了re.S选项，则匹配包括'\\n'的所有字符 |\n",
    "| \\d | 匹配一个数字 |\n",
    "| \\D | 匹配一个非数字字符串 |\n",
    "| \\s | 匹配任何空白字符串，等价于[\\f\\n\\r\\t\\v] |\n",
    "| \\w | 匹配包括下划线的任何单词字符，等价于[a-zA-Z0-9_] |\n",
    "| \\W | 匹配任何非单词字符,等价于[^a-zA-Z0-9_] |\n",
    "\n",
    "----"
   ]
  },
  {
   "cell_type": "markdown",
   "metadata": {},
   "source": [
    "## 1.1 基本规则"
   ]
  },
  {
   "cell_type": "markdown",
   "metadata": {},
   "source": [
    "1. '[]'设定字符集合：\n",
    "能够匹配包含在其中的任意一个字符，还可以通过'-'来指定范围，如'a-z'\n",
    "\n",
    "2. '|' 规则：\n",
    "将两个规则并列起来，表示只要满足其中之一就可以匹配，比如[a-zA-Z]|[0-9]表示满足字母或者数字就可以匹配\n",
    "\n",
    "\n",
    " > <font color=\"#6495ED\">注意：\n",
    " 1. '|', '\\*', '?', '()'在'[]'之中不再表示或，而表示它本来的字符\n",
    " 2. '|'的有效范围是它的两边的整条规则，比如'dog|cat'匹配的是'dog'和'cat',而不是'g'和'c'。如果想限定它的有效范围，用一个无捕获组'(?:)'包起来。比如要匹配'I have a dog'或者'I have a cat'，需要写成 r'I have a (?:dog|cat)'\n",
    " </font><br/>\n",
    "\n",
    "3. '.'匹配除'\\n'外的所有字符，如果使用了're.S'选项，匹配包括'\\n’的所有字符\n",
    "\n",
    "4. '^'和'$'匹配字符串开头和结尾\n",
    "\n",
    " > <font color='#dd0000'>注意：'^'不能在'[]'中，否则含义就会发生变化，在多行模式下，它们可以匹配每一行的行首和行位</font>\n",
    "\n",
    "5. '\\A'匹配字符串开头\n",
    " > 和'^'的区别是，即使在'M'模式下，他也不会匹配其他行的行首\n",
    "\n",
    "7. '\\Z'匹配字符串结尾\n",
    " > 和'$'的区别，即使在'M'模式下，他也不会匹配其他各行的行尾\n",
    "\n",
    "```python\n",
    "s= '12 34/n56 78/n90'\n",
    "re.findall( r'^/d+' , s , re.M )#匹配位于行首的数字\n",
    "['12', '56', '90']\n",
    "re.findall( r’/A/d+’, s , re.M )#匹配位于字符串开头的数字\n",
    "['12']\n",
    "re.findall( r'/d+$' , s , re.M )#匹配位于行尾的数字\n",
    "['34', '78', '90']\n",
    "re.findall( r’/d+/Z’ , s , re.M )#匹配位于字符串尾的数字\n",
    "['90']\n",
    "```\n",
    "\n",
    "\n",
    "- (?:)无捕获组：当你要将一部分规则作为一个整体对它进行某些操作，比如指定其重复次数时，你需要将这部分规则用 '(?:)' 把它包围起来，而不能仅仅只用一对括号，那样将得到绝对出人意料的结果。只用一个括号，匹配的结果就是括号里的东西。\n",
    "\n",
    "- '(?#)'注释，在'(?# )'之间的内容将会被忽略\n",
    "\n",
    "\n"
   ]
  },
  {
   "cell_type": "markdown",
   "metadata": {},
   "source": [
    "## 1.2 重复"
   ]
  },
  {
   "cell_type": "markdown",
   "metadata": {},
   "source": [
    "- **多次匹配**\n",
    "\n",
    "    1. '*' 0或多次匹配\n",
    "    2. '+' 1次或者多次匹配\n",
    "    3. '?' 0或者1次匹配\n",
    "    \n",
    "</br>\n",
    "\n",
    "- **精确匹配和最小匹配**\n",
    "\n",
    "    1. '{m}' 精确匹配m次\n",
    "    2. '{m,n}' 匹配m-n次，如果你只想指定一个上限或者下限，你可以把另一个参数空起来\n",
    "    3. '*?' '+?' '??' 最小匹配（非贪婪匹配），使用'?'"
   ]
  },
  {
   "cell_type": "markdown",
   "metadata": {},
   "source": [
    "## 1.3向前/向后界定与非界定\n",
    "\n",
    "### 1.3.1 向前/向后界定\n",
    "\n",
    ">有时需要匹配跟在特定内容后面(?<=)或者前面(?=)的字符串\n",
    "\n",
    "1. '(?<=...)'向前界定,'...'代表你希望匹配的字符串的前面应该出现的字符串\n",
    "2. '(?=...)'向后界定,'...'代表你希望匹配的字符串后面应该出现的字符串"
   ]
  },
  {
   "cell_type": "code",
   "execution_count": 2,
   "metadata": {},
   "outputs": [],
   "source": [
    "import re"
   ]
  },
  {
   "cell_type": "markdown",
   "metadata": {},
   "source": [
    "```python\n",
    "#你希望找出c语言的注释中的内容,它们是包含在 ’/*’ 和 ’*/’ 之间，不过你并不希望匹配的结果把 ’/*’ 和 ’*/’ 也包括进来，那么你可以这样用：\n",
    ">>>s=r'/* comment 1 */  code  /* comment 2 */'\n",
    ">>>re.findall( r'(?<=//*).+?(?=/*/)',s )\n",
    "[' comment 1 ', ' comment 2 ']\n",
    "```"
   ]
  },
  {
   "cell_type": "markdown",
   "metadata": {},
   "source": [
    "### 1.3.2 向前非界定与向后非界定\n",
    "\n",
    ">希望前面/后面的字符串不是某些内容\n",
    "\n",
    "1. '(?<!...)'向前非界定\n",
    "2. '(?!...)'向后非界定"
   ]
  },
  {
   "cell_type": "code",
   "execution_count": 14,
   "metadata": {},
   "outputs": [
    {
     "data": {
      "text/plain": [
       "['djs', 'lfk', 'jd123', 'aff1']"
      ]
     },
     "execution_count": 14,
     "metadata": {},
     "output_type": "execute_result"
    }
   ],
   "source": [
    "re.findall(r'(?<!\\d{3})\\w{3,5}?(?!\\d{3})','djslfkjd12345aaff123')"
   ]
  },
  {
   "cell_type": "markdown",
   "metadata": {},
   "source": [
    "## 1.4 组的基本知识"
   ]
  },
  {
   "cell_type": "markdown",
   "metadata": {},
   "source": [
    "- '(?P<name>...)' 命名组\n",
    "- '(?P=name)' 调用已匹配的命名组.要注意，再次调用的这个组是已被匹配的组，也就是说它里面的内容是和前面命名组里的内容是一样的.\n"
   ]
  },
  {
   "cell_type": "code",
   "execution_count": null,
   "metadata": {},
   "outputs": [],
   "source": [
    "import re"
   ]
  },
  {
   "cell_type": "code",
   "execution_count": 13,
   "metadata": {},
   "outputs": [
    {
     "data": {
      "text/plain": [
       "[('aaa', 'aaa'), ('fff', 'ggg')]"
      ]
     },
     "execution_count": 13,
     "metadata": {},
     "output_type": "execute_result"
    },
    {
     "data": {
      "text/plain": [
       "['aaa']"
      ]
     },
     "execution_count": 13,
     "metadata": {},
     "output_type": "execute_result"
    },
    {
     "data": {
      "text/plain": [
       "[('111', 'aaa'), ('777', 'ggg')]"
      ]
     },
     "execution_count": 13,
     "metadata": {},
     "output_type": "execute_result"
    }
   ],
   "source": [
    "s='aaa111aaa,bbb222,333ccc,444ddd444,555eee666,fff777ggg'\n",
    "re.findall( r'([a-z]+)\\d+([a-z]+)',s)# 找出中间夹有数字的字母\n",
    "\n",
    "re.findall(r'(?P<g1>[a-z]+)\\d+(?P=g1)',s)# 找出被中间夹有数字的前后同样的字母\n",
    "\n",
    "re.findall( r'[a-z]+(\\d+)([a-z]+)',s)# 找出前面有字母引导，中间是数字，后面是字母的字符串中的中间的数字和后面的字母"
   ]
  },
  {
   "cell_type": "markdown",
   "metadata": {},
   "source": [
    " - '\\number' 通过序号调用已匹配的组,序号从1开始"
   ]
  },
  {
   "cell_type": "code",
   "execution_count": 5,
   "metadata": {},
   "outputs": [
    {
     "data": {
      "text/plain": [
       "['aaa']"
      ]
     },
     "execution_count": 5,
     "metadata": {},
     "output_type": "execute_result"
    },
    {
     "data": {
      "text/plain": [
       "[('111', 'aaa', '222', 'aaa', '111')]"
      ]
     },
     "execution_count": 5,
     "metadata": {},
     "output_type": "execute_result"
    }
   ],
   "source": [
    "s='aaa111aaa,bbb222,333ccc,444ddd444,555eee666,fff777ggg'\n",
    "re.findall( r'([a-z]+)\\d+\\1',s)\n",
    "\n",
    "s='111aaa222aaa111 , 333bbb444bb33'\n",
    "re.findall( r'(\\d+)([a-z]+)(\\d+)(\\2)(\\1)',s)# 找出完全对称的 数字－字母－数字－字母－数字 中的数字和字母"
   ]
  },
  {
   "cell_type": "markdown",
   "metadata": {},
   "source": [
    "# 2. findall/match/search/sub用法\n",
    "\n",
    "## 2.1 使用compile加速-将正则规则编译成一个Pattern对象，以供接下来使用"
   ]
  },
  {
   "cell_type": "code",
   "execution_count": null,
   "metadata": {},
   "outputs": [],
   "source": [
    "import re"
   ]
  },
  {
   "cell_type": "code",
   "execution_count": 1,
   "metadata": {},
   "outputs": [
    {
     "data": {
      "text/plain": [
       "['111', '222']"
      ]
     },
     "execution_count": 1,
     "metadata": {},
     "output_type": "execute_result"
    },
    {
     "data": {
      "text/plain": [
       "['111', '222']"
      ]
     },
     "execution_count": 1,
     "metadata": {},
     "output_type": "execute_result"
    }
   ],
   "source": [
    "s='111,222,aaa,bbb,ccc333,444ddd'\n",
    "rule=r'\\b\\d+\\b'\n",
    "compiled_rule=re.compile(rule)\n",
    "compiled_rule.findall(s)"
   ]
  },
  {
   "cell_type": "markdown",
   "metadata": {},
   "source": [
    "## 2.2 re.match与re.search"
   ]
  },
  {
   "cell_type": "markdown",
   "metadata": {},
   "source": [
    "> 它们返回的不是一个简单的字符串列表，而是一个MatchObject（如果成功的话），如果不成功，返回None.两个函数唯一的区别是match从字符串的开头开始匹配，如果开头位置没有匹配成功，就算失败，而search会跳过开头，继续向后寻找是否有字符串匹配\n",
    "\n",
    "```python\n",
    "re.match(rule,targetString [,flag] )\n",
    "re.search(rule,targetString [,flag] )\n",
    "```\n",
    "\n",
    "**说明：**\n",
    "   re.match().group(0/1/2)依次返回匹配的所有字符串/匹配的第一个组/匹配的第二个组\n",
    "   re.match().groups()以元组的形式返回匹配的所有组"
   ]
  }
 ],
 "metadata": {
  "kernelspec": {
   "display_name": "Python 3",
   "language": "python",
   "name": "python3"
  },
  "language_info": {
   "codemirror_mode": {
    "name": "ipython",
    "version": 3
   },
   "file_extension": ".py",
   "mimetype": "text/x-python",
   "name": "python",
   "nbconvert_exporter": "python",
   "pygments_lexer": "ipython3",
   "version": "3.6.4"
  },
  "toc": {
   "base_numbering": 1,
   "nav_menu": {},
   "number_sections": false,
   "sideBar": true,
   "skip_h1_title": false,
   "title_cell": "Table of Contents",
   "title_sidebar": "Contents",
   "toc_cell": false,
   "toc_position": {},
   "toc_section_display": true,
   "toc_window_display": false
  }
 },
 "nbformat": 4,
 "nbformat_minor": 2
}

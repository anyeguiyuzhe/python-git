{
 "cells": [
  {
   "cell_type": "code",
   "execution_count": null,
   "metadata": {},
   "outputs": [],
   "source": [
    "from bs4 import BeautifulSoup\n",
    "import os,sys\n",
    "from urllib.parse import urlparse\n",
    "from urllib.request import urlopen\n",
    "import requests\n",
    "from datetime import datetime\n",
    "\n",
    "url='http://moe.005.tv'\n",
    "domain='{}://{}'.format(urlparse(url).scheme,urlparse(url).hostname)\n",
    "html=requests.get(url).content.decode()#解码方式要自己看源码了\n",
    "sp=BeautifulSoup(html,'lxml')\n",
    "all_links=sp.find_all(['a','img'])\n",
    "t=0\n",
    "for links in all_links:\n",
    "    href=links.get('href')\n",
    "    src=links.get('src')\n",
    "    target=[src,href]\n",
    "    for t in target:\n",
    "        if t!=None and ('.jpg' in t or '.png' in t):\n",
    "            if t.startswith('http'):\n",
    "                full_path=t\n",
    "            else:\n",
    "                full_path=domain+t\n",
    "            print(full_path)\n",
    "            image_dir=r\"D:\\图片\\hello\"\n",
    "            if '.jpg' in t:\n",
    "                file_name=datetime.now().strftime('%Y-%m-%d%H-%M-%S')+'.jpg'\n",
    "            else:\n",
    "                file_name=datetime.now().strftime('%Y-%m-%d%H-%M-%S')+'.png'\n",
    "            abs_dir=os.path.join(image_dir,file_name)\n",
    "            f=urlopen(full_path)\n",
    "            image=open(abs_dir,'wb')\n",
    "            image.write(f.read())\n",
    "            image.close()\n",
    "            print('正在爬第{}张图片'.format(t+1))"
   ]
  }
 ],
 "metadata": {
  "kernelspec": {
   "display_name": "Python 3",
   "language": "python",
   "name": "python3"
  },
  "language_info": {
   "codemirror_mode": {
    "name": "ipython",
    "version": 3
   },
   "file_extension": ".py",
   "mimetype": "text/x-python",
   "name": "python",
   "nbconvert_exporter": "python",
   "pygments_lexer": "ipython3",
   "version": "3.6.4"
  }
 },
 "nbformat": 4,
 "nbformat_minor": 2
}

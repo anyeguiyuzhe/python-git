{
 "cells": [
  {
   "cell_type": "markdown",
   "metadata": {},
   "source": [
    "# <center>第11章 时间序列</center>\n",
    "\n",
    "## 11.1 日期和时间数据类型及工具\n"
   ]
  },
  {
   "cell_type": "code",
   "execution_count": 1,
   "metadata": {},
   "outputs": [],
   "source": [
    "import pandas as pd\n",
    "import numpy as np\n",
    "from datetime import datetime\n",
    "from dateutil.parser import parse"
   ]
  },
  {
   "cell_type": "code",
   "execution_count": 1,
   "metadata": {},
   "outputs": [],
   "source": [
    "now=datetime.now()\n",
    "print(now)\n",
    "print(now.year,now.month,now.day,now.hour)\n",
    "#将时间转化为时间戳\n",
    "a.timestamp\n",
    "\n",
    "#timedelta\n",
    "a=datetime(2018,9,10,12,33)\n",
    "b=datetime(2019,12,3,19,8)\n",
    "\n",
    "\n",
    "#dateutil几乎可以解析人类能够理解的日期表示形式\n",
    "a='2017/2/3'\n",
    "parse(a)\n",
    "b='Jan 31,1997 10:45 am'\n",
    "parse(b)\n",
    "#在国际通用的格式中，日在月前面很普遍，传入dayfirst=True就可以了\n",
    "parse('6/12/2011',dayfirst=True)\n",
    "\n",
    "#pandas解析标准日期\n",
    "date_str=['2019-07-06 12:00:03','2019-08-09 13:13:11','']\n",
    "pd.to_datetime(date_str)\n",
    "a=pd.to_datetime(date_str)\n",
    "type(a[0])"
   ]
  },
  {
   "cell_type": "markdown",
   "metadata": {},
   "source": [
    "## 11.2 时间序列基础\n",
    "\n",
    "### 1.DatatimeIndex对象"
   ]
  },
  {
   "cell_type": "code",
   "execution_count": 4,
   "metadata": {},
   "outputs": [],
   "source": [
    "from datetime import datetime\n",
    "import numpy as np\n",
    "import pandas as pd"
   ]
  },
  {
   "cell_type": "markdown",
   "metadata": {},
   "source": [
    "- 直接传入datetime对象构造时间序列"
   ]
  },
  {
   "cell_type": "code",
   "execution_count": 7,
   "metadata": {},
   "outputs": [
    {
     "data": {
      "text/plain": [
       "DatetimeIndex(['2011-01-02', '2011-01-05', '2011-01-07', '2011-01-08',\n",
       "               '2011-01-10', '2011-01-12'],\n",
       "              dtype='datetime64[ns]', freq=None)"
      ]
     },
     "execution_count": 7,
     "metadata": {},
     "output_type": "execute_result"
    },
    {
     "data": {
      "text/plain": [
       "pandas._libs.tslibs.timestamps.Timestamp"
      ]
     },
     "execution_count": 7,
     "metadata": {},
     "output_type": "execute_result"
    },
    {
     "data": {
      "text/plain": [
       "2011-01-02    2.580655\n",
       "2011-01-05         NaN\n",
       "2011-01-07   -0.964280\n",
       "2011-01-08         NaN\n",
       "2011-01-10    1.540072\n",
       "2011-01-12         NaN\n",
       "dtype: float64"
      ]
     },
     "execution_count": 7,
     "metadata": {},
     "output_type": "execute_result"
    }
   ],
   "source": [
    "dates=[datetime(2011,1,2),datetime(2011,1,5),\n",
    "        datetime(2011,1,7),datetime(2011,1,8),\n",
    "        datetime(2011,1,10),datetime(2011,1,12)]\n",
    "ts=pd.Series(np.random.randn(6),index=dates)\n",
    "#返回一个DatetimeIndex对象，由timestamp构成\n",
    "ts.index\n",
    "type(ts.index[0])\n",
    "\n",
    "#跟其他Series一样，不同索引的时间序列之间的运算会按index对齐\n",
    "ts+ts[::2]"
   ]
  },
  {
   "cell_type": "markdown",
   "metadata": {},
   "source": [
    "- 使用pd.to_datetime将字符串转化为时间序列index"
   ]
  },
  {
   "cell_type": "code",
   "execution_count": 8,
   "metadata": {},
   "outputs": [
    {
     "data": {
      "text/plain": [
       "DatetimeIndex(['2019-02-04', '2019-03-04'], dtype='datetime64[ns]', freq=None)"
      ]
     },
     "execution_count": 8,
     "metadata": {},
     "output_type": "execute_result"
    },
    {
     "name": "stdout",
     "output_type": "stream",
     "text": [
      "['2019/2/4', '2019/3/4']\n"
     ]
    }
   ],
   "source": [
    "date=['2019/2/4','2019/3/4']\n",
    "pd.to_datetime(date)"
   ]
  },
  {
   "cell_type": "markdown",
   "metadata": {},
   "source": [
    "### 2.索引、选取、子集构造"
   ]
  },
  {
   "cell_type": "code",
   "execution_count": null,
   "metadata": {},
   "outputs": [],
   "source": [
    "import pandas as pd\n",
    "import numpy as np\n",
    "from datetime import datetime"
   ]
  },
  {
   "cell_type": "code",
   "execution_count": 7,
   "metadata": {
    "collapsed": true
   },
   "outputs": [
    {
     "name": "stdout",
     "output_type": "stream",
     "text": [
      "2000-01-01    2.280889\n",
      "2000-01-02    1.191388\n",
      "2000-01-03   -2.157509\n",
      "2000-01-04    0.606439\n",
      "2000-01-05    1.348917\n",
      "Freq: D, dtype: float64\n"
     ]
    },
    {
     "data": {
      "text/html": [
       "<div>\n",
       "<style scoped>\n",
       "    .dataframe tbody tr th:only-of-type {\n",
       "        vertical-align: middle;\n",
       "    }\n",
       "\n",
       "    .dataframe tbody tr th {\n",
       "        vertical-align: top;\n",
       "    }\n",
       "\n",
       "    .dataframe thead th {\n",
       "        text-align: right;\n",
       "    }\n",
       "</style>\n",
       "<table border=\"1\" class=\"dataframe\">\n",
       "  <thead>\n",
       "    <tr style=\"text-align: right;\">\n",
       "      <th></th>\n",
       "      <th>2001-12-31 00:00:00</th>\n",
       "      <th>2002-12-31 00:00:00</th>\n",
       "      <th>2003-12-31 00:00:00</th>\n",
       "      <th>2004-12-31 00:00:00</th>\n",
       "    </tr>\n",
       "  </thead>\n",
       "  <tbody>\n",
       "    <tr>\n",
       "      <th>2001-01-04</th>\n",
       "      <td>2.117965</td>\n",
       "      <td>-1.058711</td>\n",
       "      <td>-0.548315</td>\n",
       "      <td>-1.582022</td>\n",
       "    </tr>\n",
       "    <tr>\n",
       "      <th>2001-01-11</th>\n",
       "      <td>-0.298024</td>\n",
       "      <td>-0.866429</td>\n",
       "      <td>-0.337269</td>\n",
       "      <td>-2.632261</td>\n",
       "    </tr>\n",
       "    <tr>\n",
       "      <th>2001-01-18</th>\n",
       "      <td>-0.377953</td>\n",
       "      <td>-0.344914</td>\n",
       "      <td>-0.090029</td>\n",
       "      <td>-0.979966</td>\n",
       "    </tr>\n",
       "    <tr>\n",
       "      <th>2001-01-25</th>\n",
       "      <td>0.831877</td>\n",
       "      <td>0.507370</td>\n",
       "      <td>1.112137</td>\n",
       "      <td>0.357263</td>\n",
       "    </tr>\n",
       "    <tr>\n",
       "      <th>2001-02-01</th>\n",
       "      <td>-0.198154</td>\n",
       "      <td>0.076994</td>\n",
       "      <td>0.803819</td>\n",
       "      <td>1.457046</td>\n",
       "    </tr>\n",
       "    <tr>\n",
       "      <th>2001-02-08</th>\n",
       "      <td>0.229013</td>\n",
       "      <td>-0.534590</td>\n",
       "      <td>0.250387</td>\n",
       "      <td>0.835561</td>\n",
       "    </tr>\n",
       "    <tr>\n",
       "      <th>2001-02-15</th>\n",
       "      <td>0.254507</td>\n",
       "      <td>-0.127585</td>\n",
       "      <td>-0.174553</td>\n",
       "      <td>0.292854</td>\n",
       "    </tr>\n",
       "    <tr>\n",
       "      <th>2001-02-22</th>\n",
       "      <td>-0.596166</td>\n",
       "      <td>-1.285598</td>\n",
       "      <td>-0.077126</td>\n",
       "      <td>0.043754</td>\n",
       "    </tr>\n",
       "    <tr>\n",
       "      <th>2001-03-01</th>\n",
       "      <td>1.626449</td>\n",
       "      <td>-0.704081</td>\n",
       "      <td>0.974380</td>\n",
       "      <td>0.209992</td>\n",
       "    </tr>\n",
       "    <tr>\n",
       "      <th>2001-03-08</th>\n",
       "      <td>0.770617</td>\n",
       "      <td>-0.778238</td>\n",
       "      <td>1.643298</td>\n",
       "      <td>0.760754</td>\n",
       "    </tr>\n",
       "    <tr>\n",
       "      <th>2001-03-15</th>\n",
       "      <td>-0.701154</td>\n",
       "      <td>-1.131223</td>\n",
       "      <td>-0.526032</td>\n",
       "      <td>0.655085</td>\n",
       "    </tr>\n",
       "    <tr>\n",
       "      <th>2001-03-22</th>\n",
       "      <td>0.085493</td>\n",
       "      <td>-0.546384</td>\n",
       "      <td>0.786268</td>\n",
       "      <td>0.185998</td>\n",
       "    </tr>\n",
       "    <tr>\n",
       "      <th>2001-03-29</th>\n",
       "      <td>-2.184630</td>\n",
       "      <td>-1.127935</td>\n",
       "      <td>0.629458</td>\n",
       "      <td>0.028811</td>\n",
       "    </tr>\n",
       "    <tr>\n",
       "      <th>2001-04-05</th>\n",
       "      <td>-0.230916</td>\n",
       "      <td>0.984614</td>\n",
       "      <td>0.732704</td>\n",
       "      <td>0.480379</td>\n",
       "    </tr>\n",
       "    <tr>\n",
       "      <th>2001-04-12</th>\n",
       "      <td>0.874648</td>\n",
       "      <td>-0.167279</td>\n",
       "      <td>0.184337</td>\n",
       "      <td>-0.785877</td>\n",
       "    </tr>\n",
       "    <tr>\n",
       "      <th>2001-04-19</th>\n",
       "      <td>-1.712169</td>\n",
       "      <td>1.080663</td>\n",
       "      <td>-0.590327</td>\n",
       "      <td>1.340757</td>\n",
       "    </tr>\n",
       "    <tr>\n",
       "      <th>2001-04-26</th>\n",
       "      <td>-0.351734</td>\n",
       "      <td>1.649394</td>\n",
       "      <td>-0.907618</td>\n",
       "      <td>-1.956020</td>\n",
       "    </tr>\n",
       "    <tr>\n",
       "      <th>2001-05-03</th>\n",
       "      <td>-0.088789</td>\n",
       "      <td>1.091418</td>\n",
       "      <td>1.123954</td>\n",
       "      <td>-1.408778</td>\n",
       "    </tr>\n",
       "    <tr>\n",
       "      <th>2001-05-10</th>\n",
       "      <td>-0.527632</td>\n",
       "      <td>0.423372</td>\n",
       "      <td>-0.880998</td>\n",
       "      <td>-0.676938</td>\n",
       "    </tr>\n",
       "    <tr>\n",
       "      <th>2001-05-17</th>\n",
       "      <td>0.703913</td>\n",
       "      <td>-0.036403</td>\n",
       "      <td>0.409859</td>\n",
       "      <td>0.010890</td>\n",
       "    </tr>\n",
       "    <tr>\n",
       "      <th>2001-05-24</th>\n",
       "      <td>0.504922</td>\n",
       "      <td>0.829605</td>\n",
       "      <td>1.387951</td>\n",
       "      <td>-0.511773</td>\n",
       "    </tr>\n",
       "    <tr>\n",
       "      <th>2001-05-31</th>\n",
       "      <td>0.047097</td>\n",
       "      <td>0.713667</td>\n",
       "      <td>-0.525964</td>\n",
       "      <td>-1.095366</td>\n",
       "    </tr>\n",
       "    <tr>\n",
       "      <th>2001-06-07</th>\n",
       "      <td>-0.653526</td>\n",
       "      <td>-0.457726</td>\n",
       "      <td>-1.511755</td>\n",
       "      <td>0.621124</td>\n",
       "    </tr>\n",
       "    <tr>\n",
       "      <th>2001-06-14</th>\n",
       "      <td>0.614889</td>\n",
       "      <td>1.360167</td>\n",
       "      <td>0.399638</td>\n",
       "      <td>1.194859</td>\n",
       "    </tr>\n",
       "    <tr>\n",
       "      <th>2001-06-21</th>\n",
       "      <td>0.314225</td>\n",
       "      <td>0.388678</td>\n",
       "      <td>0.412272</td>\n",
       "      <td>-0.593559</td>\n",
       "    </tr>\n",
       "    <tr>\n",
       "      <th>2001-06-28</th>\n",
       "      <td>1.612045</td>\n",
       "      <td>0.879987</td>\n",
       "      <td>0.096377</td>\n",
       "      <td>0.021149</td>\n",
       "    </tr>\n",
       "    <tr>\n",
       "      <th>2001-07-05</th>\n",
       "      <td>-1.542518</td>\n",
       "      <td>0.846867</td>\n",
       "      <td>1.780523</td>\n",
       "      <td>-0.756793</td>\n",
       "    </tr>\n",
       "    <tr>\n",
       "      <th>2001-07-12</th>\n",
       "      <td>-0.689978</td>\n",
       "      <td>-1.914057</td>\n",
       "      <td>1.661687</td>\n",
       "      <td>0.643390</td>\n",
       "    </tr>\n",
       "    <tr>\n",
       "      <th>2001-07-19</th>\n",
       "      <td>0.174377</td>\n",
       "      <td>-0.304066</td>\n",
       "      <td>0.535764</td>\n",
       "      <td>-0.716066</td>\n",
       "    </tr>\n",
       "    <tr>\n",
       "      <th>2001-07-26</th>\n",
       "      <td>-1.152775</td>\n",
       "      <td>1.334380</td>\n",
       "      <td>-0.273837</td>\n",
       "      <td>-2.489199</td>\n",
       "    </tr>\n",
       "    <tr>\n",
       "      <th>...</th>\n",
       "      <td>...</td>\n",
       "      <td>...</td>\n",
       "      <td>...</td>\n",
       "      <td>...</td>\n",
       "    </tr>\n",
       "    <tr>\n",
       "      <th>2001-09-06</th>\n",
       "      <td>-0.947146</td>\n",
       "      <td>-1.458258</td>\n",
       "      <td>0.629238</td>\n",
       "      <td>-0.512223</td>\n",
       "    </tr>\n",
       "    <tr>\n",
       "      <th>2001-09-13</th>\n",
       "      <td>0.752700</td>\n",
       "      <td>-0.459941</td>\n",
       "      <td>-0.226712</td>\n",
       "      <td>-1.901878</td>\n",
       "    </tr>\n",
       "    <tr>\n",
       "      <th>2001-09-20</th>\n",
       "      <td>0.169345</td>\n",
       "      <td>1.539567</td>\n",
       "      <td>0.207044</td>\n",
       "      <td>-0.861436</td>\n",
       "    </tr>\n",
       "    <tr>\n",
       "      <th>2001-09-27</th>\n",
       "      <td>0.089931</td>\n",
       "      <td>-1.486108</td>\n",
       "      <td>0.921063</td>\n",
       "      <td>1.369599</td>\n",
       "    </tr>\n",
       "    <tr>\n",
       "      <th>2001-10-04</th>\n",
       "      <td>-0.275849</td>\n",
       "      <td>0.533887</td>\n",
       "      <td>-0.961486</td>\n",
       "      <td>-0.239620</td>\n",
       "    </tr>\n",
       "    <tr>\n",
       "      <th>2001-10-11</th>\n",
       "      <td>-0.507443</td>\n",
       "      <td>-1.127627</td>\n",
       "      <td>-0.231779</td>\n",
       "      <td>-0.252603</td>\n",
       "    </tr>\n",
       "    <tr>\n",
       "      <th>2001-10-18</th>\n",
       "      <td>1.173850</td>\n",
       "      <td>0.985380</td>\n",
       "      <td>0.193368</td>\n",
       "      <td>-0.665492</td>\n",
       "    </tr>\n",
       "    <tr>\n",
       "      <th>2001-10-25</th>\n",
       "      <td>-0.738772</td>\n",
       "      <td>0.293302</td>\n",
       "      <td>-0.485298</td>\n",
       "      <td>0.439017</td>\n",
       "    </tr>\n",
       "    <tr>\n",
       "      <th>2001-11-01</th>\n",
       "      <td>0.829060</td>\n",
       "      <td>-0.451520</td>\n",
       "      <td>-0.600965</td>\n",
       "      <td>-1.056524</td>\n",
       "    </tr>\n",
       "    <tr>\n",
       "      <th>2001-11-08</th>\n",
       "      <td>-0.681608</td>\n",
       "      <td>1.156032</td>\n",
       "      <td>-0.048201</td>\n",
       "      <td>-0.383987</td>\n",
       "    </tr>\n",
       "    <tr>\n",
       "      <th>2001-11-15</th>\n",
       "      <td>-0.959264</td>\n",
       "      <td>0.083175</td>\n",
       "      <td>0.466761</td>\n",
       "      <td>-1.244924</td>\n",
       "    </tr>\n",
       "    <tr>\n",
       "      <th>2001-11-22</th>\n",
       "      <td>0.435476</td>\n",
       "      <td>0.580831</td>\n",
       "      <td>-1.261549</td>\n",
       "      <td>0.355269</td>\n",
       "    </tr>\n",
       "    <tr>\n",
       "      <th>2001-11-29</th>\n",
       "      <td>0.779684</td>\n",
       "      <td>-0.672092</td>\n",
       "      <td>-0.990817</td>\n",
       "      <td>1.350469</td>\n",
       "    </tr>\n",
       "    <tr>\n",
       "      <th>2001-12-06</th>\n",
       "      <td>0.387216</td>\n",
       "      <td>2.696797</td>\n",
       "      <td>-0.276044</td>\n",
       "      <td>0.183178</td>\n",
       "    </tr>\n",
       "    <tr>\n",
       "      <th>2001-12-13</th>\n",
       "      <td>-1.276042</td>\n",
       "      <td>2.576249</td>\n",
       "      <td>0.843120</td>\n",
       "      <td>-0.428660</td>\n",
       "    </tr>\n",
       "    <tr>\n",
       "      <th>2001-12-20</th>\n",
       "      <td>-0.863276</td>\n",
       "      <td>1.106118</td>\n",
       "      <td>-0.029063</td>\n",
       "      <td>1.384634</td>\n",
       "    </tr>\n",
       "    <tr>\n",
       "      <th>2001-12-27</th>\n",
       "      <td>0.509561</td>\n",
       "      <td>0.330934</td>\n",
       "      <td>-0.456049</td>\n",
       "      <td>0.604270</td>\n",
       "    </tr>\n",
       "    <tr>\n",
       "      <th>2002-01-03</th>\n",
       "      <td>-0.325893</td>\n",
       "      <td>-0.316650</td>\n",
       "      <td>-0.253363</td>\n",
       "      <td>1.320514</td>\n",
       "    </tr>\n",
       "    <tr>\n",
       "      <th>2002-01-10</th>\n",
       "      <td>0.808969</td>\n",
       "      <td>0.502718</td>\n",
       "      <td>0.801667</td>\n",
       "      <td>-1.345299</td>\n",
       "    </tr>\n",
       "    <tr>\n",
       "      <th>2002-01-17</th>\n",
       "      <td>-1.975038</td>\n",
       "      <td>0.101715</td>\n",
       "      <td>-0.254421</td>\n",
       "      <td>0.632431</td>\n",
       "    </tr>\n",
       "    <tr>\n",
       "      <th>2002-01-24</th>\n",
       "      <td>0.212088</td>\n",
       "      <td>2.181003</td>\n",
       "      <td>-1.607620</td>\n",
       "      <td>1.702840</td>\n",
       "    </tr>\n",
       "    <tr>\n",
       "      <th>2002-01-31</th>\n",
       "      <td>0.146652</td>\n",
       "      <td>-0.283704</td>\n",
       "      <td>0.699537</td>\n",
       "      <td>0.490309</td>\n",
       "    </tr>\n",
       "    <tr>\n",
       "      <th>2002-02-07</th>\n",
       "      <td>0.092598</td>\n",
       "      <td>1.235052</td>\n",
       "      <td>-1.633114</td>\n",
       "      <td>-0.447089</td>\n",
       "    </tr>\n",
       "    <tr>\n",
       "      <th>2002-02-14</th>\n",
       "      <td>0.000677</td>\n",
       "      <td>-0.654088</td>\n",
       "      <td>-0.658589</td>\n",
       "      <td>0.452435</td>\n",
       "    </tr>\n",
       "    <tr>\n",
       "      <th>2002-02-21</th>\n",
       "      <td>-0.780646</td>\n",
       "      <td>0.841207</td>\n",
       "      <td>0.596370</td>\n",
       "      <td>-0.700818</td>\n",
       "    </tr>\n",
       "    <tr>\n",
       "      <th>2002-02-28</th>\n",
       "      <td>1.079926</td>\n",
       "      <td>1.160599</td>\n",
       "      <td>-1.131873</td>\n",
       "      <td>-0.600959</td>\n",
       "    </tr>\n",
       "    <tr>\n",
       "      <th>2002-03-07</th>\n",
       "      <td>-0.075322</td>\n",
       "      <td>-1.663131</td>\n",
       "      <td>1.393317</td>\n",
       "      <td>-0.106597</td>\n",
       "    </tr>\n",
       "    <tr>\n",
       "      <th>2002-03-14</th>\n",
       "      <td>0.148520</td>\n",
       "      <td>1.958635</td>\n",
       "      <td>0.475711</td>\n",
       "      <td>0.127640</td>\n",
       "    </tr>\n",
       "    <tr>\n",
       "      <th>2002-03-21</th>\n",
       "      <td>0.186294</td>\n",
       "      <td>1.061478</td>\n",
       "      <td>1.029612</td>\n",
       "      <td>-0.357940</td>\n",
       "    </tr>\n",
       "    <tr>\n",
       "      <th>2002-03-28</th>\n",
       "      <td>-0.323501</td>\n",
       "      <td>0.805894</td>\n",
       "      <td>1.848682</td>\n",
       "      <td>1.750144</td>\n",
       "    </tr>\n",
       "  </tbody>\n",
       "</table>\n",
       "<p>65 rows × 4 columns</p>\n",
       "</div>"
      ],
      "text/plain": [
       "            2001-12-31  2002-12-31  2003-12-31  2004-12-31\n",
       "2001-01-04    2.117965   -1.058711   -0.548315   -1.582022\n",
       "2001-01-11   -0.298024   -0.866429   -0.337269   -2.632261\n",
       "2001-01-18   -0.377953   -0.344914   -0.090029   -0.979966\n",
       "2001-01-25    0.831877    0.507370    1.112137    0.357263\n",
       "2001-02-01   -0.198154    0.076994    0.803819    1.457046\n",
       "2001-02-08    0.229013   -0.534590    0.250387    0.835561\n",
       "2001-02-15    0.254507   -0.127585   -0.174553    0.292854\n",
       "2001-02-22   -0.596166   -1.285598   -0.077126    0.043754\n",
       "2001-03-01    1.626449   -0.704081    0.974380    0.209992\n",
       "2001-03-08    0.770617   -0.778238    1.643298    0.760754\n",
       "2001-03-15   -0.701154   -1.131223   -0.526032    0.655085\n",
       "2001-03-22    0.085493   -0.546384    0.786268    0.185998\n",
       "2001-03-29   -2.184630   -1.127935    0.629458    0.028811\n",
       "2001-04-05   -0.230916    0.984614    0.732704    0.480379\n",
       "2001-04-12    0.874648   -0.167279    0.184337   -0.785877\n",
       "2001-04-19   -1.712169    1.080663   -0.590327    1.340757\n",
       "2001-04-26   -0.351734    1.649394   -0.907618   -1.956020\n",
       "2001-05-03   -0.088789    1.091418    1.123954   -1.408778\n",
       "2001-05-10   -0.527632    0.423372   -0.880998   -0.676938\n",
       "2001-05-17    0.703913   -0.036403    0.409859    0.010890\n",
       "2001-05-24    0.504922    0.829605    1.387951   -0.511773\n",
       "2001-05-31    0.047097    0.713667   -0.525964   -1.095366\n",
       "2001-06-07   -0.653526   -0.457726   -1.511755    0.621124\n",
       "2001-06-14    0.614889    1.360167    0.399638    1.194859\n",
       "2001-06-21    0.314225    0.388678    0.412272   -0.593559\n",
       "2001-06-28    1.612045    0.879987    0.096377    0.021149\n",
       "2001-07-05   -1.542518    0.846867    1.780523   -0.756793\n",
       "2001-07-12   -0.689978   -1.914057    1.661687    0.643390\n",
       "2001-07-19    0.174377   -0.304066    0.535764   -0.716066\n",
       "2001-07-26   -1.152775    1.334380   -0.273837   -2.489199\n",
       "...                ...         ...         ...         ...\n",
       "2001-09-06   -0.947146   -1.458258    0.629238   -0.512223\n",
       "2001-09-13    0.752700   -0.459941   -0.226712   -1.901878\n",
       "2001-09-20    0.169345    1.539567    0.207044   -0.861436\n",
       "2001-09-27    0.089931   -1.486108    0.921063    1.369599\n",
       "2001-10-04   -0.275849    0.533887   -0.961486   -0.239620\n",
       "2001-10-11   -0.507443   -1.127627   -0.231779   -0.252603\n",
       "2001-10-18    1.173850    0.985380    0.193368   -0.665492\n",
       "2001-10-25   -0.738772    0.293302   -0.485298    0.439017\n",
       "2001-11-01    0.829060   -0.451520   -0.600965   -1.056524\n",
       "2001-11-08   -0.681608    1.156032   -0.048201   -0.383987\n",
       "2001-11-15   -0.959264    0.083175    0.466761   -1.244924\n",
       "2001-11-22    0.435476    0.580831   -1.261549    0.355269\n",
       "2001-11-29    0.779684   -0.672092   -0.990817    1.350469\n",
       "2001-12-06    0.387216    2.696797   -0.276044    0.183178\n",
       "2001-12-13   -1.276042    2.576249    0.843120   -0.428660\n",
       "2001-12-20   -0.863276    1.106118   -0.029063    1.384634\n",
       "2001-12-27    0.509561    0.330934   -0.456049    0.604270\n",
       "2002-01-03   -0.325893   -0.316650   -0.253363    1.320514\n",
       "2002-01-10    0.808969    0.502718    0.801667   -1.345299\n",
       "2002-01-17   -1.975038    0.101715   -0.254421    0.632431\n",
       "2002-01-24    0.212088    2.181003   -1.607620    1.702840\n",
       "2002-01-31    0.146652   -0.283704    0.699537    0.490309\n",
       "2002-02-07    0.092598    1.235052   -1.633114   -0.447089\n",
       "2002-02-14    0.000677   -0.654088   -0.658589    0.452435\n",
       "2002-02-21   -0.780646    0.841207    0.596370   -0.700818\n",
       "2002-02-28    1.079926    1.160599   -1.131873   -0.600959\n",
       "2002-03-07   -0.075322   -1.663131    1.393317   -0.106597\n",
       "2002-03-14    0.148520    1.958635    0.475711    0.127640\n",
       "2002-03-21    0.186294    1.061478    1.029612   -0.357940\n",
       "2002-03-28   -0.323501    0.805894    1.848682    1.750144\n",
       "\n",
       "[65 rows x 4 columns]"
      ]
     },
     "execution_count": 7,
     "metadata": {},
     "output_type": "execute_result"
    }
   ],
   "source": [
    "dates=[datetime(2011,1,2),datetime(2011,1,5),\n",
    "        datetime(2011,1,7),datetime(2011,1,8),\n",
    "        datetime(2011,1,10),datetime(2011,1,12)]\n",
    "ts=pd.Series(np.random.randn(6),index=dates)\n",
    "stamp=ts.index[2]\n",
    "ts[stamp]\n",
    "\n",
    "#传入一个可以被解释为日期的字符串,就可以实现索引\n",
    "ts['2011/1/5']\n",
    "ts['20110105']\n",
    "#datetime对象也可以切片\n",
    "ts['2011-1-5':]\n",
    "ts[datetime(2011,1,5):]\n",
    "#这个也可以，不过注意步进是按照series来的，不是按时间来的\n",
    "ts[datetime(2011,1,7)::2]\n",
    "#由于大部分时间序列数据都是按照时间先后排列的，因此，你也可以用不存在于该序列中的时间戳对其切片\n",
    "ts[datetime(2011,1,9):]\n",
    "#对于较长的时间序列，只需传入'年'或者'年月'即可轻松选取数据的切片\n",
    "longer_ts=pd.Series(np.random.randn(1000),index=pd.date_range('2000/1/1',periods=1000))\n",
    "print(longer_ts.head(5))\n",
    "#比如说要获得5月份的数据\n",
    "longer_ts['2000-05']\n",
    "#切片\n",
    "longer_ts[datetime(2001,2,2):datetime(2003,2,8)]\n",
    "\n",
    "#还有一个等价的办法也可以截取两个时间日期之间的Series\n",
    "# ts.truncate(before,after,axis,copy(bool))\n",
    "ts.truncate(after='2011-1-6')\n",
    "\n",
    "#这些索引对DataFrame同样有效\n",
    "date=pd.date_range('2001-1-1',periods=100,freq='W-THU')\n",
    "date_1=pd.date_range('2001-1-1',periods=4,freq='Y')\n",
    "df=pd.DataFrame(np.random.randn(100,4),index=date,columns=date_1)\n",
    "df['2001':'2003']\n",
    "df.loc['2001-01':'2002-03']"
   ]
  },
  {
   "cell_type": "markdown",
   "metadata": {},
   "source": [
    "### 3.带有重复索引的时间序列"
   ]
  },
  {
   "cell_type": "code",
   "execution_count": null,
   "metadata": {},
   "outputs": [],
   "source": [
    "import pandas as pd \n",
    "import numpy as np\n",
    "from datetime import datetime "
   ]
  },
  {
   "cell_type": "code",
   "execution_count": 10,
   "metadata": {},
   "outputs": [
    {
     "data": {
      "text/plain": [
       "2000-01-01    0\n",
       "2000-01-02    1\n",
       "2000-01-02    2\n",
       "2000-01-02    3\n",
       "2000-01-03    4\n",
       "dtype: int32"
      ]
     },
     "execution_count": 10,
     "metadata": {},
     "output_type": "execute_result"
    },
    {
     "data": {
      "text/plain": [
       "False"
      ]
     },
     "execution_count": 10,
     "metadata": {},
     "output_type": "execute_result"
    },
    {
     "data": {
      "text/plain": [
       "hello\n",
       "2000-01-01    1\n",
       "2000-01-02    3\n",
       "2000-01-03    1\n",
       "dtype: int64"
      ]
     },
     "execution_count": 10,
     "metadata": {},
     "output_type": "execute_result"
    },
    {
     "name": "stdout",
     "output_type": "stream",
     "text": [
      "hello\n",
      "2000-01-01    0\n",
      "dtype: int32\n",
      "hello\n",
      "2000-01-02    1\n",
      "2000-01-02    2\n",
      "2000-01-02    3\n",
      "dtype: int32\n",
      "hello\n",
      "2000-01-03    4\n",
      "dtype: int32\n"
     ]
    }
   ],
   "source": [
    "#dates=pd.to_datetime(['2000/1/1','2000/1/2','2000/1/2','2000/1/3','2000/1/3'])\n",
    "dates=pd.DatetimeIndex(['2000/1/1','2000/1/2','2000/1/2','2000/1/2','2000/1/3'])\n",
    "ts=pd.Series(np.arange(5),index=dates)\n",
    "ts\n",
    "ts.index.is_unique\n",
    "\n",
    "#假如想对时间戳数据进行聚合，用groupby\n",
    "ts.index.name='hello'\n",
    "a=ts.groupby('hello')\n",
    "a.count()\n",
    "for m,n in a:\n",
    "    print(n)"
   ]
  },
  {
   "cell_type": "markdown",
   "metadata": {},
   "source": [
    "## 11.3 日期的范围、频率以及移动\n",
    "\n",
    "### 1.data_range生成日期范围"
   ]
  },
  {
   "cell_type": "code",
   "execution_count": null,
   "metadata": {},
   "outputs": [],
   "source": [
    "import pandas as pd \n",
    "import numpy as np\n",
    "from datetime import datetime"
   ]
  },
  {
   "cell_type": "markdown",
   "metadata": {},
   "source": [
    "- 使用pd.date_range生成日期范围:\n",
    "\n",
    ">pd.date_range(start,end,periods,freq,normalize,name)"
   ]
  },
  {
   "cell_type": "code",
   "execution_count": null,
   "metadata": {},
   "outputs": [],
   "source": [
    "x=pd.date_range(datetime.now(),freq='B',periods=20,name='index_name')"
   ]
  },
  {
   "cell_type": "markdown",
   "metadata": {},
   "source": [
    "### <center>freq取值</center>\n",
    "\n",
    "|缩写|描述|\n",
    "|:-:|:-:|\n",
    "|B|businessday|\n",
    "|D|calendar day|\n",
    "|W|week|\n",
    "|W-WED/THU|一周内的某一天|\n",
    "|M|month|\n",
    "|SM|semi_month end|\n",
    "|BM|businee month end|\n",
    "|MS|month start|\n",
    "|Q|quarter|\n",
    "|A/Y|year|"
   ]
  },
  {
   "cell_type": "markdown",
   "metadata": {},
   "source": [
    "### 2.频率和日期偏移量\n",
    "\n",
    ">pandas中的频率是由一个基础频率(base frequency)和一个乘数组成的,基础频率通常以一个字符串别名表示，如'M'表示每月对于每个基础频率，都有一个被称为日期偏移量(date offset)的对象与之对应"
   ]
  },
  {
   "cell_type": "code",
   "execution_count": null,
   "metadata": {},
   "outputs": [],
   "source": [
    "import pandas as pd \n",
    "import numpy as np \n",
    "from datetime import datetime\n",
    "from pandas.tseries.offsets import Hour,Minute,BDay,MonthBegin,WeekOfMonth"
   ]
  },
  {
   "cell_type": "code",
   "execution_count": 12,
   "metadata": {},
   "outputs": [
    {
     "data": {
      "text/plain": [
       "DatetimeIndex(['2019-07-05', '2019-08-02', '2019-09-06'], dtype='datetime64[ns]', freq='WOM-1FRI')"
      ]
     },
     "execution_count": 12,
     "metadata": {},
     "output_type": "execute_result"
    }
   ],
   "source": [
    "#获取所有日期偏移量 dir(pd.tseries.offsets)\n",
    "hour=Hour()\n",
    "type(hour)\n",
    "#传入一个整数即可定义\n",
    "Hour(4)\n",
    "#加法也是适用的\n",
    "Hour(4)+Minute(100)\n",
    "#这样创建时间序列就方便了\n",
    "pd.date_range('2011-3-3',freq=Hour(4),periods=4)\n",
    "pd.date_range('2011-3-3',freq=MonthBegin(2),periods=4)\n",
    "#或者简单一点\n",
    "pd.date_range('2019-3-4',freq='4d',periods=4)\n",
    "\n",
    "### WOM(Week of Month)能获得诸如'每月第3个星期五'之类的日期\n",
    "pd.date_range(start='2019-5-5',end='2019-10-1',freq='WOM-3WED')\n",
    "pd.date_range(start='2019-6-30',end='2019-10-1',freq=WeekOfMonth(weekday=4))"
   ]
  },
  {
   "cell_type": "markdown",
   "metadata": {},
   "source": [
    "### 3.移动数据，指的是沿着时间轴将数据前移或者后移"
   ]
  },
  {
   "cell_type": "code",
   "execution_count": null,
   "metadata": {},
   "outputs": [],
   "source": [
    "import pandas as pd \n",
    "import numpy as np\n",
    "from datetime import datetime"
   ]
  },
  {
   "cell_type": "markdown",
   "metadata": {},
   "source": [
    "**shift-移动数据**"
   ]
  },
  {
   "cell_type": "code",
   "execution_count": null,
   "metadata": {},
   "outputs": [],
   "source": [
    "ts=pd.Series(np.random.randn(4),index=pd.date_range('2019-04-04',periods=4,freq='M'))\n",
    "ts\n",
    "#将数值(value)向下移动一个单位,会产生缺失值\n",
    "ts.shift(1)\n",
    "ts.shift(3)\n",
    "ts.shift(5)\n",
    "\n",
    "#通常用于计算时间序列变化百分比\n",
    "(ts/ts.shift(1)-1)*100\n",
    "\n",
    "#如果频率已知,则可以将其传入shift以便实现对时间戳的位移而不是对数据进行简单位移\n",
    "ts.shift(2,freq='M')"
   ]
  },
  {
   "cell_type": "markdown",
   "metadata": {},
   "source": [
    "**truncate-截取数据**\n",
    "\n",
    "<font color='#7EC0EE'>truncate(before,after,axis)</font>"
   ]
  },
  {
   "cell_type": "code",
   "execution_count": 14,
   "metadata": {},
   "outputs": [
    {
     "data": {
      "text/html": [
       "<div>\n",
       "<style scoped>\n",
       "    .dataframe tbody tr th:only-of-type {\n",
       "        vertical-align: middle;\n",
       "    }\n",
       "\n",
       "    .dataframe tbody tr th {\n",
       "        vertical-align: top;\n",
       "    }\n",
       "\n",
       "    .dataframe thead th {\n",
       "        text-align: right;\n",
       "    }\n",
       "</style>\n",
       "<table border=\"1\" class=\"dataframe\">\n",
       "  <thead>\n",
       "    <tr style=\"text-align: right;\">\n",
       "      <th></th>\n",
       "      <th>0</th>\n",
       "      <th>1</th>\n",
       "    </tr>\n",
       "  </thead>\n",
       "  <tbody>\n",
       "    <tr>\n",
       "      <th>2019-03-01</th>\n",
       "      <td>0</td>\n",
       "      <td>2</td>\n",
       "    </tr>\n",
       "    <tr>\n",
       "      <th>2019-03-04</th>\n",
       "      <td>2</td>\n",
       "      <td>3</td>\n",
       "    </tr>\n",
       "    <tr>\n",
       "      <th>2019-03-05</th>\n",
       "      <td>3</td>\n",
       "      <td>2</td>\n",
       "    </tr>\n",
       "    <tr>\n",
       "      <th>2019-03-06</th>\n",
       "      <td>2</td>\n",
       "      <td>3</td>\n",
       "    </tr>\n",
       "    <tr>\n",
       "      <th>2019-03-07</th>\n",
       "      <td>1</td>\n",
       "      <td>2</td>\n",
       "    </tr>\n",
       "    <tr>\n",
       "      <th>2019-03-08</th>\n",
       "      <td>2</td>\n",
       "      <td>3</td>\n",
       "    </tr>\n",
       "    <tr>\n",
       "      <th>2019-03-11</th>\n",
       "      <td>3</td>\n",
       "      <td>1</td>\n",
       "    </tr>\n",
       "  </tbody>\n",
       "</table>\n",
       "</div>"
      ],
      "text/plain": [
       "            0  1\n",
       "2019-03-01  0  2\n",
       "2019-03-04  2  3\n",
       "2019-03-05  3  2\n",
       "2019-03-06  2  3\n",
       "2019-03-07  1  2\n",
       "2019-03-08  2  3\n",
       "2019-03-11  3  1"
      ]
     },
     "execution_count": 14,
     "metadata": {},
     "output_type": "execute_result"
    }
   ],
   "source": [
    "time=pd.date_range(start='2019/2/26',periods=10,freq='B')\n",
    "data=pd.DataFrame(np.random.randint(0,4,(10,2)),index=time)\n",
    "data.truncate(before='2019/3')"
   ]
  },
  {
   "cell_type": "markdown",
   "metadata": {},
   "source": [
    "### 4.通过偏移量对日期进行位移"
   ]
  },
  {
   "cell_type": "code",
   "execution_count": null,
   "metadata": {},
   "outputs": [],
   "source": [
    "#pandas的日期偏移量还可以用在datetime或者timestamp上\n",
    "import pandas as pd \n",
    "import numpy as np\n",
    "from datetime import datetime\n",
    "from pandas.tseries.offsets import Day,MonthEnd\n",
    "\n",
    "now=datetime(2011,11,17)\n",
    "now+3*Day()\n",
    "now+Day(5)\n",
    "now+MonthEnd(3)\n",
    "\n",
    "#通过锚点偏移量的rollforward和rollback,可以明确地将日期向前后者向后滚\n",
    "MonthEnd().rollback(datetime.now())\n",
    "Day().rollback(datetime.now())#没有变化\n",
    "\n",
    "#日期偏移量结合groupby还有一个巧妙的用法\n",
    "ts=pd.Series(np.random.randn(20),index=pd.date_range('2000/11/3',periods=20,freq='5d'))\n",
    "ts.groupby(MonthEnd().rollforward).mean()\n"
   ]
  },
  {
   "cell_type": "markdown",
   "metadata": {},
   "source": [
    "---\n",
    "## 11.4 时区处理"
   ]
  },
  {
   "cell_type": "code",
   "execution_count": null,
   "metadata": {},
   "outputs": [],
   "source": [
    "import pytz\n",
    "import pandas as pd\n",
    "\n",
    "pytz.common_timezones[1:5]\n",
    "len(pytz.common_timezones)\n",
    "#从pytz中获取时区对象\n",
    "tz=pytz.timezone('Asia/Shanghai')\n",
    "tz=pytz.timezone('America/New_York')\n",
    "tz"
   ]
  },
  {
   "cell_type": "markdown",
   "metadata": {},
   "source": [
    "### 1.时区本地化和转换"
   ]
  },
  {
   "cell_type": "code",
   "execution_count": null,
   "metadata": {},
   "outputs": [],
   "source": [
    "import pandas as pd\n",
    "import numpy as np\n",
    "from datetime import datetime"
   ]
  },
  {
   "cell_type": "code",
   "execution_count": null,
   "metadata": {},
   "outputs": [],
   "source": [
    "#默认情况下，pandas中的时间序列是单纯的时区\n",
    "date=pd.date_range('2012/3/9 9:30',periods=20,freq='4d')\n",
    "print(date.tz)\n",
    "#可以用时区集生成日期范围\n",
    "pd.date_range('2012/3/9 9:30',periods=20,freq='D',tz='UTC')\n",
    "#从单纯到本地化的转换是通过tz_localize处理的\n",
    "ts=pd.Series(np.random.randn(20),index=date)\n",
    "print(ts.index.tz)\n",
    "#这个相当于给没有tz属性的时间序列进行时区初始赋值，不能转换时区\n",
    "ts_utc=ts.tz_localize('UTC')\n",
    "#一旦时间序列被本地化到某个时区，就可以用tz_conver将其转换到别的时区了\n",
    "#utc时间是比上海时间早8个小时的\n",
    "ts_utc.tz_convert('Asia/Shanghai')\n",
    "ts_utc.tz_convert('America/New_York')\n",
    "#tz_localize和tz_convert也可以用于DatetimeIndex对象\n",
    "ts_index=ts.index.tz_localize('UTC')"
   ]
  },
  {
   "cell_type": "markdown",
   "metadata": {},
   "source": [
    "### 2.操作时区意识型Timestamp对象"
   ]
  },
  {
   "cell_type": "code",
   "execution_count": null,
   "metadata": {},
   "outputs": [],
   "source": [
    "#跟时间序列和日期范围差不多，独立的Timestamp对象也能从单纯(naive)本地化为时区意识型(time zone-aware)\n",
    "import pandas as pd\n",
    "import numpy as np\n",
    "from datetime import datetime\n",
    "\n",
    "stamp=pd.Timestamp('2011-03-12 04:00')\n",
    "stamp_utc=stamp.tz_localize('UTC')\n",
    "stamp_china=stamp_utc.tz_convert('Asia/Shanghai')\n",
    "#创建Timestamp是，还可以传入时区信息\n",
    "stamp_moscow=pd.Timestamp('2011-03-12 04:00',tz='Europe/Moscow')\n",
    "stamp_moscow\n",
    "\n",
    "#Timestamp对象在内部保存了一个UTC时间戳的值,在时区转换过程中不变\n",
    "stamp_moscow.value==stamp_moscow.tz_convert('Asia/Shanghai').value"
   ]
  },
  {
   "cell_type": "markdown",
   "metadata": {},
   "source": [
    "### 3.不同时区之间的运算"
   ]
  },
  {
   "cell_type": "code",
   "execution_count": 13,
   "metadata": {
    "collapsed": true
   },
   "outputs": [
    {
     "data": {
      "text/plain": [
       "DatetimeIndex(['2012-03-07 09:30:00+00:00', '2012-03-08 09:30:00+00:00',\n",
       "               '2012-03-09 09:30:00+00:00', '2012-03-12 09:30:00+00:00',\n",
       "               '2012-03-13 09:30:00+00:00', '2012-03-14 09:30:00+00:00',\n",
       "               '2012-03-15 09:30:00+00:00', '2012-03-16 01:30:00+00:00',\n",
       "               '2012-03-19 01:30:00+00:00', '2012-03-20 01:30:00+00:00'],\n",
       "              dtype='datetime64[ns, UTC]', freq=None)"
      ]
     },
     "execution_count": 13,
     "metadata": {},
     "output_type": "execute_result"
    }
   ],
   "source": [
    "import pandas as pd \n",
    "import numpy as np\n",
    "from datetime import datetime\n",
    "\n",
    "#如果两个时间序列的时区不同，合并时的结果是UTC\n",
    "date=pd.date_range('2012/3/7 9:30',periods=10,freq='B')\n",
    "ts=pd.Series(np.random.randn(10),index=date)\n",
    "ts_1=ts[:7].tz_localize('Europe/London')\n",
    "ts_2=ts[7:].tz_localize('Asia/Shanghai')\n",
    "(ts_1+ts_2).index"
   ]
  },
  {
   "cell_type": "markdown",
   "metadata": {},
   "source": [
    "## 11.5 时期及其算术运算\n",
    "\n",
    ">时期(period)表示的是时间区间，比如几天，几个月等"
   ]
  },
  {
   "cell_type": "code",
   "execution_count": null,
   "metadata": {},
   "outputs": [],
   "source": [
    "#p1表示从2007-12-01到2007-12-31的整段时间\n",
    "p1=pd.Period('2007',freq='A-DEC')\n",
    "p1\n",
    "#加减运算根据其频率进行位移\n",
    "p1+5\n",
    "#不同频率无法运算\n",
    "p2=pd.Period('2007',freq='A-May')\n",
    "p1-p2\n",
    "\n",
    "#period_range函数可用于创建规则的时期范围\n",
    "date_1=pd.period_range('2001-01-01','2001-06-30',freq='M')\n",
    "#PeriodIndex保存了一组Period，可以在任何pandas数据结构中被用作索引\n",
    "obj=pd.Series(np.random.randn(6),index=date_1)\n",
    "obj[date_1[0:4]]\n",
    "#如果你有一个字符串数组，也可以使用PeriodIndex类\n",
    "values=['2001Q3','2002Q2','2003Q3']\n",
    "index=pd.PeriodIndex(values,freq='Q-DEC')\n",
    "index"
   ]
  },
  {
   "cell_type": "markdown",
   "metadata": {},
   "source": [
    "### 1.时区的频率转换"
   ]
  },
  {
   "cell_type": "code",
   "execution_count": null,
   "metadata": {},
   "outputs": [],
   "source": [
    "import pandas as pd\n",
    "import numpy as np\n",
    "from datetime import datetime\n",
    "\n",
    "#Period和PeriodIndex对象都可以通过asfreq方法被转化为别的频率\n",
    "p1=pd.Period('2007',freq='A-DEC')\n",
    "p1\n",
    "p1.asfreq('M',how='start')#升频\n",
    "p1.asfreq('D',how='end')#升频\n",
    "\n",
    "p2=pd.Period('2007',freq='A-JUN')\n",
    "p2.asfreq('M','start')\n",
    "p2.asfreq('M','end')\n",
    "p2.asfreq('Y','end')\n",
    "#在将高频率转换为低频率时，超时期(superperiod)是有子时期(subperiod)所属的位置决定的\n",
    "p3=pd.Period('2007-08','M')\n",
    "p3.asfreq('A-JUN',how='end')\n",
    "p4=pd.Period('2007-3','M')\n",
    "p4.asfreq('A-JUN')\n",
    "#完整的PeriodIndex或TimeStamp的频率转换方式\n",
    "date=pd.period_range('2006','2009',freq='A-DEC')\n",
    "ts=pd.Series(np.random.randn(len(date)),index=date)\n",
    "ts.index\n",
    "ts.asfreq('M',how='end')\n",
    "#根据年度最后一个工作日\n",
    "ts.asfreq('B',how='end')"
   ]
  },
  {
   "cell_type": "markdown",
   "metadata": {},
   "source": [
    "### 2.按季度计算的时间频率\n",
    "\n",
    "![理解财年](https://upload-images.jianshu.io/upload_images/7178691-e2e1d52c9766f6ff.png?imageMogr2/auto-orient/)"
   ]
  },
  {
   "cell_type": "code",
   "execution_count": null,
   "metadata": {},
   "outputs": [],
   "source": [
    "import pandas as pd\n",
    "improt numpy as np\n",
    "from datetime import datetime\n",
    "\n",
    "#许多季度型数据会涉及财年末的概念，时期'2014Q4根据财年末的不同有不同含义\n",
    "#以1月结束的财年,2012Q4是从2011年11月到2012年1月\n",
    "#https://upload-images.jianshu.io/upload_images/7178691-e2e1d52c9766f6ff.png?imageMogr2/auto-orient/\n",
    "p=pd.Period('2012Q4',freq='Q-JAN')\n",
    "p.asfreq('D','start')\n",
    "p.asfreq('D','end')\n",
    "#period之间的算术运算,以频率为基础加减\n",
    "p.asfreq('D',how='end')+1\n",
    "#获取该季度倒数第二个工作日下午4点的时间戳\n",
    "(p.asfreq('B',how='end')-1).asfreq('T',how='s')+16*60\n",
    "#period可用于生成季度型范围\n",
    "date=pd.period_range('2011Q3','2014Q4',freq='Q-JAN')\n",
    "date.asfreq('D','end')"
   ]
  },
  {
   "cell_type": "markdown",
   "metadata": {},
   "source": [
    "### 3.将Timestamp转换为Period及逆过程"
   ]
  },
  {
   "cell_type": "code",
   "execution_count": null,
   "metadata": {},
   "outputs": [],
   "source": [
    "import pandas as pd\n",
    "import numpy as np\n",
    "from datetime import datetime\n",
    "\n",
    "#由于时期指的是非重叠时间区间，对于给定的频率，一个时间戳只能属于一个时期,新PeriodIndex的频率根据时间戳推断而来\n",
    "#freq参数https://blog.csdn.net/wangqi_qiangku/article/details/79384731\n",
    "date=pd.date_range('2000-1-1',periods=3,freq='M')\n",
    "ts=pd.Series(np.random.randint(-1,2,3),index=date)\n",
    "pts=ts.to_period()\n",
    "pts\n",
    "pts.index\n",
    "\n",
    "date_1=pd.date_range('2011-1-4','2011-4-6',freq='D')\n",
    "ts_1=pd.Series(np.random.randn(len(date_1)),index=date_1)\n",
    "ts_1\n",
    "ts_1.to_period('M')\n",
    "#这样应该也可以实现按月分组和rollback有类似的作用\n",
    "ts_1.groupby(ts_1.index.to_period('M')).mean()\n",
    "\n",
    "#要转换回时间戳，使用to_timestamp即可\n",
    "pts.to_timestamp(freq='D',how='start')"
   ]
  },
  {
   "cell_type": "markdown",
   "metadata": {},
   "source": [
    "### 4.通过数组创建PeriodeIndex"
   ]
  },
  {
   "cell_type": "code",
   "execution_count": null,
   "metadata": {},
   "outputs": [],
   "source": [
    "import pandas as pd\n",
    "import numpy as np\n",
    "from datetime import datetime\n",
    "\n",
    "path='D:\\\\文档\\\\Python Scripts\\\\data_test\\\\macro_data.csv'\n",
    "data=pd.read_csv(path)\n",
    "data.head()\n",
    "data['year']\n",
    "data['quarter']\n",
    "#通过将这些数组以及一个频率传入PeriodIndex,就可以合并成DataFrame的索引\n",
    "index=pd.PeriodIndex(year=data.year,quarter=data.quarter,freq='Q-DEC')\n",
    "data.index=index\n",
    "data.sort_index()"
   ]
  },
  {
   "cell_type": "markdown",
   "metadata": {},
   "source": [
    "----\n",
    "## 11.6 重采样及频率转换\n",
    "\n",
    ">重采样(resampling)是指将时间序列从一个频率转换为另一个频率的过程将高频数据聚合到低频称为降采样(downsampling)将低频数据转换到高频数据称为升采样(upsampling)"
   ]
  },
  {
   "cell_type": "markdown",
   "metadata": {},
   "source": [
    "### 1.resample(freq,axis,fill_method,closed,label,loffset,limit,kind,convention)\n",
    "\n",
    ">closed表示哪一段是闭合，默认right,kind聚合到周期或者时间戳，默认聚合到时间序列索引类型,convention将低频转化为高频的惯用法start or end"
   ]
  },
  {
   "cell_type": "code",
   "execution_count": null,
   "metadata": {},
   "outputs": [],
   "source": [
    "import pandas as pd\n",
    "import numpy as np\n",
    "from datetime import datetime\n",
    "\n",
    "date=pd.date_range('2001-01-01',periods=100,freq='D')\n",
    "ts=pd.Series(np.random.randn(len(date)),index=date)\n",
    "ts.head()\n",
    "ts.resample('M').mean()"
   ]
  },
  {
   "cell_type": "markdown",
   "metadata": {},
   "source": [
    "### 2.降采样,有点类似于groupby\n",
    "\n",
    "![原理](https://upload-images.jianshu.io/upload_images/7178691-7a77f47844f2ee8c.png?imageMogr2/auto-orient/strip%7CimageView2/2/w/1000/format/webp)"
   ]
  },
  {
   "cell_type": "code",
   "execution_count": 15,
   "metadata": {
    "collapsed": true
   },
   "outputs": [
    {
     "data": {
      "text/plain": [
       "1999-12-31 23:54:59    1\n",
       "1999-12-31 23:59:59   -1\n",
       "2000-01-01 00:04:59   -1\n",
       "2000-01-01 00:09:59    1\n",
       "Freq: 5T, dtype: int32"
      ]
     },
     "execution_count": 15,
     "metadata": {},
     "output_type": "execute_result"
    }
   ],
   "source": [
    "import pandas as pd\n",
    "import numpy as np \n",
    "from datetime import datetime\n",
    "\n",
    "date=pd.date_range('2000-01-01',periods=12,freq='T')\n",
    "ts=pd.Series(np.random.randint(-1,2,12),index=date)\n",
    "\n",
    "#通过求和的方式将这些数据聚合到'5分钟'块中\n",
    "ts.resample('5min',closed='right',label='left').sum()\n",
    "ts.resample('5min')\n",
    "\n",
    "#对结果索引做一些位移，以便更容易明白该时间戳到底表示的是那个区间\n",
    "ts.resample('5min',closed='right',loffset='-1s').sum()"
   ]
  },
  {
   "cell_type": "markdown",
   "metadata": {},
   "source": [
    "### 3.OHLC(Open&High&Low&Close)重采样"
   ]
  },
  {
   "cell_type": "code",
   "execution_count": null,
   "metadata": {},
   "outputs": [],
   "source": [
    "import pandas as pd \n",
    "import numpy as np\n",
    "from datetime import datetime\n",
    "\n",
    "#金融领域中的采样方式,OHLC(open,high,low,close)\n",
    "date=pd.date_range('2000-01-01',periods=12,freq='T')\n",
    "ts=pd.Series(np.random.randint(-1,2,12),index=date)\n",
    "ts.resample('5min').ohlc()"
   ]
  },
  {
   "cell_type": "markdown",
   "metadata": {},
   "source": [
    "### 4.升采样和差值"
   ]
  },
  {
   "cell_type": "code",
   "execution_count": null,
   "metadata": {},
   "outputs": [],
   "source": [
    "import pandas as pd\n",
    "import numpy as np\n",
    "\n",
    "#将数据从低频率转换到高频率时，就不需要聚合了\n",
    "frame=pd.DataFrame(np.random.randn(2,4),\n",
    "                    index=pd.date_range('2000/1/1',periods=2,freq='W-WED'),\n",
    "                    columns=['Colorado','Texas','New York','Ohio'])\n",
    "frame \n",
    "df_daily=frame.resample('D').asfreq()\n",
    "df_daily1=frame.resample('D').ffill()\n",
    "df_daily2=frame.resample('7D').asfreq()\n",
    "df_daily\n",
    "df_daily1\n",
    "df_daily2"
   ]
  },
  {
   "cell_type": "markdown",
   "metadata": {},
   "source": [
    "### 5.通过时区进行重采样"
   ]
  },
  {
   "cell_type": "code",
   "execution_count": null,
   "metadata": {},
   "outputs": [],
   "source": [
    "import pandas as pd\n",
    "import numpy as np\n",
    "\n",
    "frame=pd.DataFrame(np.random.randn(24,4),\n",
    "                    index=pd.period_range('2000-1','2001-12',freq='M'),\n",
    "                    columns=['Colorado','Texas','New York','Ohio'])\n",
    "frame.head()\n",
    "#以12月为财年末的季度采样\n",
    "frame_1=frame.resample('Q-DEC').mean()\n",
    "frame_1\n",
    "#以1月为财年末的年度采样\n",
    "frame_2=frame.resample('A-JAN').mean()\n",
    "frame_2\n",
    "\n",
    "#时期的升采样要麻烦一点，需要决定新频率中各区间的哪端放置原来的值\n",
    "#默认区间是左开右闭\n",
    "a=frame_2.resample('Q-DEC',convention='start',closed='right').ffill()\n",
    "b=frame_2.resample('Q-DEC',convention='end').ffill()\n",
    "c=frame_2.resample('Q-DEC',convention='start',closed='left').ffill()\n",
    "a.head()\n",
    "b.head()\n",
    "c.head()\n"
   ]
  },
  {
   "cell_type": "markdown",
   "metadata": {},
   "source": [
    "----\n",
    "## 11.7 移动窗口函数"
   ]
  },
  {
   "cell_type": "code",
   "execution_count": 22,
   "metadata": {},
   "outputs": [
    {
     "name": "stderr",
     "output_type": "stream",
     "text": [
      "D:\\python\\lib\\site-packages\\ipykernel_launcher.py:10: SettingWithCopyWarning: \n",
      "A value is trying to be set on a copy of a slice from a DataFrame\n",
      "\n",
      "See the caveats in the documentation: http://pandas.pydata.org/pandas-docs/stable/indexing.html#indexing-view-versus-copy\n",
      "  # Remove the CWD from sys.path while we load stuff.\n"
     ]
    },
    {
     "data": {
      "text/plain": [
       "<matplotlib.legend.Legend at 0x20705b92eb8>"
      ]
     },
     "execution_count": 22,
     "metadata": {},
     "output_type": "execute_result"
    },
    {
     "data": {
      "image/png": "[encoded data removed]",
      "text/plain": [
       "<Figure size 432x288 with 1 Axes>"
      ]
     },
     "metadata": {},
     "output_type": "display_data"
    }
   ],
   "source": [
    "import pandas as pd\n",
    "import numpy as np\n",
    "from datetime import datetime\n",
    "import matplotlib.pyplot as plt\n",
    "\n",
    "#加载一些时间序列数据\n",
    "path=\"D:\\文档\\Python Scripts\\data_test\\stock_price.csv\"\n",
    "data=pd.read_csv(path)\n",
    "data.head()\n",
    "data['Close'][4:5]=np.nan\n",
    "data['Close'].plot(kind='line',color='r',label='ordinary price')\n",
    "#rolling(250)与groupby很像，但不是分组，而是创建一个按照250分组的滑动窗口对象\n",
    "#rolling().mean()是移动平均\n",
    "data['Close'].rolling(25,min_periods=5).mean().plot(kind='line',color='b',label='moving average')\n",
    "\n",
    "\n",
    "#要计算累计平均，用expanding\n",
    "data['Close'].expanding(min_periods=10).mean().plot(label='weighted average')\n",
    "plt.legend()"
   ]
  },
  {
   "cell_type": "markdown",
   "metadata": {},
   "source": [
    "### 1.指数加权平均"
   ]
  },
  {
   "cell_type": "code",
   "execution_count": 24,
   "metadata": {
    "collapsed": true
   },
   "outputs": [
    {
     "data": {
      "text/plain": [
       "<matplotlib.legend.Legend at 0x20705d91ef0>"
      ]
     },
     "execution_count": 24,
     "metadata": {},
     "output_type": "execute_result"
    },
    {
     "data": {
      "image/png": "[encoded data removed]",
      "text/plain": [
       "<Figure size 432x288 with 1 Axes>"
      ]
     },
     "metadata": {},
     "output_type": "display_data"
    }
   ],
   "source": [
    "import pandas as pd\n",
    "import numpy as np\n",
    "import matplotlib.pyplot as plt\n",
    "\n",
    "path=\"D:\\文档\\Python Scripts\\data_test\\stock_price.csv\"\n",
    "data=pd.read_csv(path)\n",
    "\n",
    "#另一种使用rolling的方法是定义一个衰减因子(decay factor)\n",
    "#对比股价的30移动平均和span=30的移动加权平均\n",
    "data['Close'].rolling(30,min_periods=10).mean().plot(label='moving average')\n",
    "data['Close'].ewm(span=30).mean().plot(label='weighted average')\n",
    "plt.legend()\n"
   ]
  },
  {
   "cell_type": "markdown",
   "metadata": {},
   "source": [
    "### 2.二元窗口函数"
   ]
  },
  {
   "cell_type": "code",
   "execution_count": null,
   "metadata": {},
   "outputs": [],
   "source": [
    "import pandas as pd\n",
    "import numpy as np\n",
    "import matplotlib.pyplot as plt\n",
    "\n",
    "path=\"D:\\文档\\Python Scripts\\data_test\\stock_price1.csv\"\n",
    "data=pd.read_csv(path)\n",
    "data.drop([0,1],axis=0,inplace=True)\n",
    "data.head()\n",
    "#有些统计运算需要在两个时间序列上进行，比如相关系数\n",
    "#这个数据因为不规范所以读进来的数据都变成了str类型\n",
    "data.dtypes\n",
    "pct=data[['Close','Close.1']].applymap(float).pct_change()\n",
    "#相当于显示移动相关系数\n",
    "pct['Close'].rolling(10,min_periods=10).corr(pct['Close.1']).plot()\n",
    "\n",
    "#累计相关系数，不过好像没什么用\n",
    "pct['Close'].expanding(min_periods=10).corr(pct['Close.1']).plot()"
   ]
  }
 ],
 "metadata": {
  "kernelspec": {
   "display_name": "Python 3",
   "language": "python",
   "name": "python3"
  },
  "language_info": {
   "codemirror_mode": {
    "name": "ipython",
    "version": 3
   },
   "file_extension": ".py",
   "mimetype": "text/x-python",
   "name": "python",
   "nbconvert_exporter": "python",
   "pygments_lexer": "ipython3",
   "version": "3.6.4"
  }
 },
 "nbformat": 4,
 "nbformat_minor": 2
}

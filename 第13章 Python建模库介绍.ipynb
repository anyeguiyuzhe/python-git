{
 "cells": [
  {
   "cell_type": "markdown",
   "metadata": {},
   "source": [
    "# <center>第13章 Python建模库介绍\n",
    "\n",
    "## 13.1 pandas与模型代码接口"
   ]
  },
  {
   "cell_type": "code",
   "execution_count": null,
   "metadata": {},
   "outputs": [],
   "source": [
    "data=pd.DataFrame({'x1':[1,2,3,4,5],\n",
    "                   'x2':[0.01,-0.01,0.25,-4.1,0],\n",
    "                   'y':[chr(x) for x in np.random.randint(98,100,5)]})\n",
    "data.values\n",
    "data['y']=data['y'].astype('category')\n",
    "dummy=pd.get_dummies(data['y'],prefix='category')\n",
    "data.drop('y',axis=1,inplace=True)"
   ]
  },
  {
   "cell_type": "markdown",
   "metadata": {},
   "source": [
    "## 13.2 用Patsy创建模型描述\n",
    "\n",
    "### 1.Patsy简介\n",
    "\n",
    ">Patsy是Python的一个库，使用简短的字符串“公式语法”描述统计模型（尤其是线性模型），可能是受到了R和S统计编程语言的公式语法的启发。Patsy适合描述statsmodels的线性模型。Patsy的公式是一个特殊的字符串语法\n",
    "<font color='#AEEEEE'><center>y~x0+x1</center></font>"
   ]
  },
  {
   "cell_type": "code",
   "execution_count": null,
   "metadata": {},
   "outputs": [],
   "source": [
    "import pandas as pd\n",
    "import numpy as np\n",
    "import patsy\n",
    "\n",
    "data=pd.DataFrame({'x0':[1,2,3,4,5],\n",
    "                   'x1':[0.01,-0.01,0.25,-4.1,0.1],\n",
    "                   'y':[-1.5,0,3.6,1.3,-2]})\n",
    "data\n",
    "y,x=patsy.dmatrices('y~x0+x1',data)\n",
    "#x,y是Patsy的DesignMatrix实例,这些实例是Numpy的ndarray\n",
    "type(y)\n",
    "y\n",
    "x\n",
    "#np.asarray: convert the input to an array\n",
    "np.asarray(y)\n",
    "np.asarray(x)\n",
    "#x会有一个截距1，添加0到模型可以不显示intercept\n",
    "patsy.dmatrices('y~0+x0+x1',data)\n",
    "#Patsy对象可以直接传递到算法\n",
    "#np.linalg.lstsq执行普通最小二乘法\n",
    "#a是x的rank，b是x的特征值\n",
    "coef,resid,a,b=np.linalg.lstsq(x,y)"
   ]
  },
  {
   "cell_type": "markdown",
   "metadata": {},
   "source": [
    "### 2.用Patsy公式进行数据转换"
   ]
  },
  {
   "cell_type": "code",
   "execution_count": null,
   "metadata": {},
   "outputs": [],
   "source": [
    "import pandas as pd\n",
    "import numpy as np\n",
    "import patsy\n",
    "\n",
    "data=pd.DataFrame({'x0':[1,2,3,4,5],\n",
    "                   'x1':[0.01,-0.01,0.25,-4.1,0.1],\n",
    "                   'y':[-1.5,0,3.6,1.3,-2]})\n",
    "y,x=patsy.dmatrices('y~x0+np.log(x0+1)+1',data)\n",
    "#常见的变量转换包括标准化和中心化\n",
    "y,x=patsy.dmatrices('y~standardize(x0)+center(x1)+1',data)\n",
    "\n",
    "#拟合模型到另一个数据集\n",
    "#patsy.build_design_matrices可以使用原始样本数据的处理信息来转换新数据\n",
    "new_data=pd.DataFrame({'x0':[6,7,8,9],\n",
    "                       'x1':[3.1,-0.5,0,2.3],\n",
    "                       'y':[1,2,3,4]})\n",
    "new_x=patsy.build_design_matrices([x.design_info],new_data)\n",
    "#Patsy中的'+'不是加法的含义，把数据集相加时，用特殊的'I'函数封装起来\n",
    "y1,x1=patsy.dmatrices('y~I(x0+x1)',new_data)"
   ]
  },
  {
   "cell_type": "markdown",
   "metadata": {},
   "source": [
    "### 3.分类数据和Patsy"
   ]
  },
  {
   "cell_type": "code",
   "execution_count": null,
   "metadata": {},
   "outputs": [],
   "source": [
    "import pandas as pd \n",
    "import numpy as np \n",
    "import patsy\n",
    "\n",
    "#在Patsy中使用非数值数据，会默认转换为虚拟变量\n",
    "data=pd.DataFrame({'key1':[chr(x) for x in np.random.randint(97,99,7)],\n",
    "                   'key2':[0,1,1,0,0,1,1],\n",
    "                   'v1':[1,2,3,4,5,6,7],\n",
    "                   'v2':[-1,0,2.5,-0.5,4,-1.4,-1.2]})\n",
    "y,x=patsy.dmatrices('v2~key1',data)\n",
    "x\n",
    "#使用C函数，数值列可以截取为分类量\n",
    "y1,x1=patsy.dmatrices('v2~C(v1)',data)\n",
    "np.array(x1)\n",
    "#在分类模型中使用多个分类名，事情就会变复杂\n",
    "data['key2']=data['key2'].map({0:'zero',1:'one'})\n",
    "y1,x1=patsy.dmatrices('v2~key1+key2',data)\n",
    "x1\n",
    "# v1:v2的意思是v1*v2,如果把v1*v2写进公式,v1和v2也会列式出来\n",
    "y2,x2=patsy.dmatrices('key1~v1:v2',data)\n",
    "x2"
   ]
  },
  {
   "cell_type": "markdown",
   "metadata": {},
   "source": [
    "## 13.3 statsmodels介绍\n",
    "\n",
    ">statsmodes是python拟合统计模型、进行统计试验和数据探索可视化的库包含的模型有：\n",
    " 1. 线型模型、广义线型模型和健壮线型模型；\n",
    " 2. 线型混合效应模型方差(ANOVA)方法分析；\n",
    " 3. 时间序列过程和状态空间模型；\n",
    " 4. 广义矩估计\n",
    " \n",
    " \n",
    "### 1.估计线性模型"
   ]
  },
  {
   "cell_type": "code",
   "execution_count": null,
   "metadata": {},
   "outputs": [],
   "source": [
    "import pandas as pd\n",
    "import numpy as np\n",
    "import patsy\n",
    "import statsmodels.api as sm\n",
    "import statsmodels.formula.api as smf\n",
    "\n",
    "#线性模型有两种不同的接口：基于数组和基于公式\n",
    "\n",
    "#这个np.concatenate可以用np.c_代替\n",
    "#这样：x=np.c_[dnorm(0,0.4,100),dnorm(0,0.6,100),dnorm(0,0.2,100)]\n",
    "x=np.concatenate([np.random.randn(100,1),np.random.randn(100,1),np.random.randn(100,1)],axis=1)\n",
    "eps=dnorm(0,0.1,100)\n",
    "beta=np.array([0.1,0.3,0.5]).reshape((3,1))\n",
    "y=np.dot(x,beta)+eps\n",
    "y.shape\n",
    "#sm_add_constant函数可以添加一个截距到现存的列\n",
    "x_model=sm.add_constant(x)\n",
    "x_model.shape\n",
    "model=sm.OLS(y,x_model)\n",
    "#模型的fit方法返回了一个回归结果对象，它包含估计模型参数和其他内容\n",
    "result=model.fit()\n",
    "result.params\n",
    "\n",
    "#现在使用statsmodels的公式API和Patsy\n",
    "data=pd.DataFrame(x,columns=['col1','col2','col3'])\n",
    "data['y']=y\n",
    "data.head()\n",
    "result=smf.ols('y~1+col1+col2+col3',data=data).fit()\n",
    "result.params\n",
    "result.tvalues\n",
    "result.pvalues\n",
    "result.rsquared\n",
    "#根据回归参数预测值\n",
    "a=pd.DataFrame(np.random.randn(3,5),columns=['col1','col2','a','b','col3'])\n",
    "result.predict(a)\n"
   ]
  },
  {
   "cell_type": "markdown",
   "metadata": {},
   "source": [
    "### 2.估计时间序列"
   ]
  },
  {
   "cell_type": "code",
   "execution_count": null,
   "metadata": {},
   "outputs": [],
   "source": [
    "import pandas as pd\n",
    "import numpy as np\n",
    "import random\n",
    "\n",
    "x0=4\n",
    "value=[x0,x0]\n",
    "noise=np.random.randn(100)*0.1\n",
    "for i in np.arange(100):\n",
    "    x=value[-1]*0.8+value[-2]*(-0.4)+noise[i]\n",
    "    value.append(x)\n",
    "\n",
    "#这个数据有两个延迟(也就是AR(2))\n",
    "#由于不知道滞后量的个数，先用多的来拟合\n",
    "maxlag=5\n",
    "model=sm.tsa.AR(value)\n",
    "result=model.fit(maxlag)\n",
    "result.params\n",
    "result.summary()"
   ]
  },
  {
   "cell_type": "markdown",
   "metadata": {},
   "source": [
    "## 13.4 scikit-learn介绍\n",
    "\n",
    ">scikit-learn是一个广泛使用、用途多样的Python机器学习库"
   ]
  },
  {
   "cell_type": "code",
   "execution_count": null,
   "metadata": {},
   "outputs": [],
   "source": [
    "import pandas as pd\n",
    "import numpy as np\n",
    "from sklearn.linear_model import LogisticRegression\n",
    "\n",
    "path=r\"D:\\文档\\Python Scripts\\data_test\\titanic.csv\"\n",
    "train=pd.read_csv(path)\n",
    "train.head()\n",
    "#检查缺失值\n",
    "train.isnull().astype(int).sum()\n",
    "train['Age']=train['Age'].fillna(train['Age'].median())\n",
    "#增加IsFemale作为'Sex'列的编码\n",
    "train['IsFemale']=(train['Sex']=='female').astype(int)\n",
    "predictor=['Pclass','IsFemale','Age']\n",
    "model=LogisticRegression()\n",
    "model.fit(train[predictor],train['Survived'])\n",
    "#预测\n",
    "model.predict(?)\n",
    "\n",
    "#交叉验证通过分割训练数据来模拟样本外预测\n",
    "from sklearn.linear_model import LogisticRegressionCV\n",
    "\n",
    "model_cv=LogisticRegressionCV(10)\n",
    "model_cv.fit(train[predictor],train['Survived'])\n",
    "\n",
    "#手动交叉验证，使用cross_val_scroe处理数据分割\n",
    "from sklearn.model_selection import cross_val_score\n",
    "\n",
    "model=LogisticRegression(C=10)\n",
    "scores=cross_val_score(model,train[predictor],train['Survived'],cv=4)\n",
    "scores"
   ]
  }
 ],
 "metadata": {
  "kernelspec": {
   "display_name": "Python 3",
   "language": "python",
   "name": "python3"
  },
  "language_info": {
   "codemirror_mode": {
    "name": "ipython",
    "version": 3
   },
   "file_extension": ".py",
   "mimetype": "text/x-python",
   "name": "python",
   "nbconvert_exporter": "python",
   "pygments_lexer": "ipython3",
   "version": "3.6.4"
  }
 },
 "nbformat": 4,
 "nbformat_minor": 2
}

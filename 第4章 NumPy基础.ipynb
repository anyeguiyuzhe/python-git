{
 "cells": [
  {
   "cell_type": "markdown",
   "metadata": {},
   "source": [
    "# <center>第四章 numpy基础</center>\n"
   ]
  },
  {
   "cell_type": "markdown",
   "metadata": {},
   "source": [
    "# 4.1numpy的基本数据结构\n",
    "\n",
    "## 1.多维数组\n",
    "\n",
    "### 1.1一维数组"
   ]
  },
  {
   "cell_type": "code",
   "execution_count": 2,
   "metadata": {},
   "outputs": [
    {
     "data": {
      "text/plain": [
       "dtype('int32')"
      ]
     },
     "execution_count": 2,
     "metadata": {},
     "output_type": "execute_result"
    },
    {
     "data": {
      "text/plain": [
       "array([1., 3., 3., 4., 4.])"
      ]
     },
     "execution_count": 2,
     "metadata": {},
     "output_type": "execute_result"
    },
    {
     "data": {
      "text/plain": [
       "dtype('int32')"
      ]
     },
     "execution_count": 2,
     "metadata": {},
     "output_type": "execute_result"
    },
    {
     "data": {
      "text/plain": [
       "array([0. , 2.5, 5. ])"
      ]
     },
     "execution_count": 2,
     "metadata": {},
     "output_type": "execute_result"
    },
    {
     "data": {
      "text/plain": [
       "array([  4.,   8.,  16.,  32.,  64., 128.])"
      ]
     },
     "execution_count": 2,
     "metadata": {},
     "output_type": "execute_result"
    }
   ],
   "source": [
    "import numpy as np\n",
    "\n",
    "#一维数组\n",
    "arr=np.array([1,3,3,4,4])\n",
    "arr.dtype\n",
    "arr.astype(np.float64)\n",
    "arr.dtype\n",
    "#等差数列\n",
    "np.linspace(0,5,3)\n",
    "\n",
    "#等比数列-np.logspace(start,stop,num,base是底数)\n",
    "np.logspace(2,7,6,base=2)"
   ]
  },
  {
   "cell_type": "markdown",
   "metadata": {},
   "source": [
    "### 1.2多维数组"
   ]
  },
  {
   "cell_type": "code",
   "execution_count": 2,
   "metadata": {},
   "outputs": [],
   "source": [
    "import numpy as np\n",
    "\n",
    "my_arr=np.arange(100)\n",
    "#产生若干个服从正态分布的数\n",
    "data=np.random.randn(2,3)#数组的长度和维数\n",
    "data.size\n",
    "data.shape\n",
    "data.dtype\n",
    "data.ndim#维度\n",
    "data.itemsize#每个元素字节数\n",
    "data.nbytes#元素在内存中占用的字节数\n",
    "list(data.flat)#data.flat将data变为一维，返回迭代器\n",
    "np.random.normal(1,4,(100,100))\n",
    "\n",
    "#将list转换为array对象\n",
    "a=[[1,3,4],[2,4,4]]\n",
    "b=np.array(a)\n",
    "print(b)\n",
    "\n",
    "#zeros和ones创建全为0或1的数组\n",
    "np.ones((2,3))#输入为元组\n",
    "np.zeros((2,2))\n",
    "\n",
    "#np.eye创建单位矩阵\n",
    "np.eye(3)\n",
    "\n",
    "#用fromfunction创建数组\n",
    "fun=lambda x,y:(x+1)*(y+1)\n",
    "np.fromfunction(fun,(4,4))"
   ]
  },
  {
   "cell_type": "markdown",
   "metadata": {},
   "source": [
    "### 1.3结构数组"
   ]
  },
  {
   "cell_type": "code",
   "execution_count": 14,
   "metadata": {},
   "outputs": [
    {
     "data": {
      "text/plain": [
       "978"
      ]
     },
     "execution_count": 14,
     "metadata": {},
     "output_type": "execute_result"
    }
   ],
   "source": [
    "goodlist=np.dtype([('name',np.str_,50),('location',np.str_,30),('price',np.float16),('volume',np.int32)])\n",
    "good=np.array([('gree','jd.com',6245,1),\n",
    "               ('sony','amazon.com',3210,2),\n",
    "               ('apple','tmall.com',12388,1)],dtype=goodlist)\n",
    "good.dtype\n",
    "good.itemsize\n",
    "good.nbytes"
   ]
  },
  {
   "cell_type": "markdown",
   "metadata": {},
   "source": [
    "numpy的数据类型：\n",
    "\n",
    "| 类型 | 代码 | 说明 |\n",
    "|:-:|:-:|:-:|\n",
    "| int8,uint8 | i1,u1 | 有符号和无符号的8位整数|\n",
    "| int16,uint16 | i2,u2 | 16位整数 |\n",
    "| int32,uint32 | i4,u4 | 32位整数 |\n",
    "| int64,uint64 | i8,u8 | 64位整数 |\n",
    "| float16 | f2 | 半精度浮点数 |\n",
    "| float32 | f4或者f | 标准单精度浮点数 |\n",
    "| float64 | f8或者d | 标准双精度浮点值 |\n",
    "| bool | ? | 存储布尔类型"
   ]
  },
  {
   "cell_type": "markdown",
   "metadata": {},
   "source": [
    "## 2.numpy数组运算"
   ]
  },
  {
   "cell_type": "code",
   "execution_count": null,
   "metadata": {},
   "outputs": [],
   "source": [
    "#numpy数组的运算\n",
    "#大小相同的数组之间的任何运算都会将运算运用到元素级\n",
    "import numpy as np\n",
    "\n",
    "arr=np.array([[1,3,4,4],[5,6,7,8]])\n",
    "arr\n",
    "arr.dtype\n",
    "#可以写类似于'float32','int64'之类的字符\n",
    "float_arr=arr.astype('float')\n",
    "#对应元素相乘，不是矩阵的乘法\n",
    "arr*arr\n",
    "arr-1\n",
    "arr/3\n",
    "arr//3\n",
    "#数值与标量之间的运算会将标量传播到各个元素\n",
    "1/arr\n",
    "#大小相同的数组之间的比较会生成布尔数组\n",
    "import numpy as np\n",
    "a=np.array([3,3,4])\n",
    "b=np.array([4,5,1])\n",
    "c=a>b\n",
    "a[c]"
   ]
  },
  {
   "cell_type": "markdown",
   "metadata": {},
   "source": [
    "## 3.array的索引和切片\n",
    "\n",
    "### 3.1基本索引"
   ]
  },
  {
   "cell_type": "code",
   "execution_count": null,
   "metadata": {},
   "outputs": [],
   "source": [
    "import numpy as np\n",
    "\n",
    "arr=np.arange(100)\n",
    "arr[5]\n",
    "\n",
    "#赋值修改\n",
    "arr[5:8]=[3,3,3]\n",
    "#跟列表最重要的区别是数组切片是原始数组的视图，这意味着数据不会被复制，视\n",
    "# 图上的任何修改都会反应到原始数据中来\n",
    "arr=np.arange(100)\n",
    "arrt=arr[1:10]\n",
    "arr_get=arrt[3:6]\n",
    "#当我修改arr_get中的值时，变动也会体现在原始数组arr中去\n",
    "#切片会给数组中的所有元素赋值\n",
    "arr_get[:]=64\n",
    "arr\n",
    "\n",
    "#如果只是想获得ndarray切片的一份副本而非视图，就需要明确的复制操作array.copy()\n",
    "paste=arr[5:8].copy()"
   ]
  },
  {
   "cell_type": "markdown",
   "metadata": {},
   "source": [
    "### 3.2高维数组索引"
   ]
  },
  {
   "cell_type": "code",
   "execution_count": null,
   "metadata": {},
   "outputs": [],
   "source": [
    "import numpy as np\n",
    "\n",
    "#高维数组索引\n",
    "array_2d=np.array([[1,3,4],[2,3,4],[3,6,7]])\n",
    "array_2d[2]\n",
    "#下面2种索引方式是等价的\n",
    "array_2d[0,2]\n",
    "#只输入一个相当于对行索引\n",
    "array_2d[0][2]\n",
    "array_2d[0:,1]\n",
    "\n",
    "#下面两种结果不同\n",
    "a=np.arange(1,100)\n",
    "b=a.reshape(10,10)#注意reshape()不会改变原视图\n",
    "\n",
    "b[:,2]#输出1维数组\n",
    "b[:,[2]]#输出10*1维数组\n",
    "\n",
    "#这种索引不包括结尾数字的\n",
    "b[:,2:3]#输出10*1维数组\n",
    "b[:,[2,3]]#10X2的数组"
   ]
  },
  {
   "cell_type": "markdown",
   "metadata": {},
   "source": [
    "### 3.3布尔型索引\n",
    "\n",
    "> <font color=#00FGFF>布尔型索引的长度必须跟被索引的轴长度一致</font>"
   ]
  },
  {
   "cell_type": "code",
   "execution_count": null,
   "metadata": {},
   "outputs": [],
   "source": [
    "import numpy as np\n",
    "\n",
    "names=np.array(['Bob','Mary','Jack','Bob','Navi','Ghost'])\n",
    "data=np.random.randn(6,4)\n",
    "names.dtype\n",
    "data[names=='Bob']\n",
    "data[names=='Bob',2]\n",
    "buer=names=='Bob'\n",
    "buer=~buer\n",
    "date[buer]\n",
    "#取至少两个名字\n",
    "mask=(names=='Bob')|(names=='Navi')\n",
    "data[mask]"
   ]
  },
  {
   "cell_type": "markdown",
   "metadata": {},
   "source": [
    "### 3.4 Fancy indexing花式索引\n",
    "\n",
    "> 是指利用整数数组进行索引。和切片不一样，总是将结果复制到新数组中"
   ]
  },
  {
   "cell_type": "code",
   "execution_count": 5,
   "metadata": {},
   "outputs": [
    {
     "name": "stdout",
     "output_type": "stream",
     "text": [
      "[[0 1 2 0]\n",
      " [0 2 0 1]\n",
      " [3 3 3 3]\n",
      " [1 3 0 2]\n",
      " [0 0 1 3]\n",
      " [2 2 2 0]\n",
      " [3 0 3 0]\n",
      " [0 2 2 1]]\n",
      "[[0 0 1 3]\n",
      " [1 3 0 2]\n",
      " [0 1 2 0]\n",
      " [3 0 3 0]]\n",
      "[0 2 1 0]\n"
     ]
    }
   ],
   "source": [
    "import numpy as np\n",
    "\n",
    "arr=np.random.randint(0,4,(8,4))\n",
    "print(arr)\n",
    "print(arr[[4,3,0,6]])\n",
    "\n",
    "#一次传入多个索引数组\n",
    "print(arr[[1,3,7,3],[0,3,3,2]])\n",
    "\n",
    "#数组转置\n",
    "arr.T"
   ]
  },
  {
   "cell_type": "markdown",
   "metadata": {},
   "source": [
    "## 4.数组排序"
   ]
  },
  {
   "cell_type": "code",
   "execution_count": 15,
   "metadata": {},
   "outputs": [
    {
     "data": {
      "text/plain": [
       "array([21, 34, 59, 94, 42, 82, 11,  4, 89, 64, 25, 33, 73,  5, 54])"
      ]
     },
     "execution_count": 15,
     "metadata": {},
     "output_type": "execute_result"
    }
   ],
   "source": [
    "import numpy as np\n",
    "\n",
    "s=np.random.randint(0,100,15)\n",
    "s.sort()#或者np.sort(s),这两种操作都会直接改变s\n",
    "s.argsort()#返回排名"
   ]
  },
  {
   "cell_type": "markdown",
   "metadata": {},
   "source": [
    "## 5.数组组合\n",
    "\n",
    "### 5.1水平组合-np.hstack\n",
    ">各数组行数应该相等"
   ]
  },
  {
   "cell_type": "code",
   "execution_count": 18,
   "metadata": {},
   "outputs": [
    {
     "data": {
      "text/plain": [
       "array([[ 1.        ,  3.        ,  4.        ,  0.88526653,  1.05373237,\n",
       "        -0.7580484 ,  0.92355707],\n",
       "       [ 1.        ,  2.        ,  0.        , -1.34064641,  1.69815597,\n",
       "         0.0563325 , -0.01651125],\n",
       "       [ 3.        ,  0.        ,  1.        , -2.67511182, -0.59065087,\n",
       "        -0.48230434,  0.10663151],\n",
       "       [ 3.        ,  3.        ,  3.        ,  0.76130585, -2.30602418,\n",
       "         1.05718707,  0.41362557]])"
      ]
     },
     "execution_count": 18,
     "metadata": {},
     "output_type": "execute_result"
    }
   ],
   "source": [
    "import numpy as np\n",
    "\n",
    "s1=np.random.randint(0,5,(4,3))\n",
    "s2=np.random.randn(4,4)\n",
    "np.hstack([s1,s2])"
   ]
  },
  {
   "cell_type": "markdown",
   "metadata": {},
   "source": [
    "### 5.2垂直组合-np.vstack\n",
    ">列数应该相等"
   ]
  },
  {
   "cell_type": "code",
   "execution_count": 19,
   "metadata": {},
   "outputs": [
    {
     "data": {
      "text/plain": [
       "array([[ 0.        ,  3.        ,  4.        ],\n",
       "       [ 0.        ,  1.        ,  0.        ],\n",
       "       [ 1.        ,  2.        ,  2.        ],\n",
       "       [ 1.        ,  4.        ,  0.        ],\n",
       "       [-0.69962587,  0.12161376, -0.90159627],\n",
       "       [ 0.03545835,  1.29782328,  0.368993  ],\n",
       "       [-0.49602728, -0.97834997,  1.25374292]])"
      ]
     },
     "execution_count": 19,
     "metadata": {},
     "output_type": "execute_result"
    }
   ],
   "source": [
    "s1=np.random.randint(0,5,(4,3))\n",
    "s2=np.random.randn(3,3)\n",
    "np.vstack([s1,s2])"
   ]
  },
  {
   "cell_type": "markdown",
   "metadata": {},
   "source": [
    "### 5.3深度组合\n",
    ">把数组相同位置的数据组合在一起，要求参与合并的数组形状相同\n"
   ]
  },
  {
   "cell_type": "code",
   "execution_count": 22,
   "metadata": {
    "scrolled": true
   },
   "outputs": [
    {
     "data": {
      "text/plain": [
       "array([[[ 0.00000000e+00, -4.55589045e-01, -4.55589045e-01],\n",
       "        [ 3.00000000e+00,  1.23766295e+00,  1.23766295e+00],\n",
       "        [ 3.00000000e+00, -3.33077766e-01, -3.33077766e-01],\n",
       "        [ 1.00000000e+00, -5.73389693e-01, -5.73389693e-01]],\n",
       "\n",
       "       [[ 2.00000000e+00,  8.19019995e-01,  8.19019995e-01],\n",
       "        [ 2.00000000e+00, -1.30677152e+00, -1.30677152e+00],\n",
       "        [ 3.00000000e+00, -1.40777228e+00, -1.40777228e+00],\n",
       "        [ 0.00000000e+00, -1.79654334e-03, -1.79654334e-03]],\n",
       "\n",
       "       [[ 2.00000000e+00,  7.38452698e-01,  7.38452698e-01],\n",
       "        [ 3.00000000e+00,  2.91053631e-02,  2.91053631e-02],\n",
       "        [ 3.00000000e+00,  2.31539469e-01,  2.31539469e-01],\n",
       "        [ 1.00000000e+00,  1.03535920e+00,  1.03535920e+00]]])"
      ]
     },
     "execution_count": 22,
     "metadata": {},
     "output_type": "execute_result"
    }
   ],
   "source": [
    "s1=np.delete(np.random.randint(0,4,(4,4)),1,axis=0)\n",
    "s2=np.random.randn(3,4)\n",
    "np.dstack([s1,s2,s2])"
   ]
  },
  {
   "cell_type": "markdown",
   "metadata": {},
   "source": [
    "## 6.数组分拆\n",
    "\n",
    "### 6.1水平拆分"
   ]
  },
  {
   "cell_type": "code",
   "execution_count": 23,
   "metadata": {},
   "outputs": [
    {
     "data": {
      "text/plain": [
       "[array([[-0.11057327],\n",
       "        [ 0.93443505],\n",
       "        [ 0.89291923]]), array([[ 0.33904146],\n",
       "        [ 0.24125994],\n",
       "        [-1.09700178]]), array([[-0.81993594],\n",
       "        [ 0.04985951],\n",
       "        [-2.86756416]])]"
      ]
     },
     "execution_count": 23,
     "metadata": {},
     "output_type": "execute_result"
    }
   ],
   "source": [
    "import numpy as np\n",
    "\n",
    "s1=np.random.randn(3,3)\n",
    "np.hsplit(s1,3)"
   ]
  },
  {
   "cell_type": "markdown",
   "metadata": {},
   "source": [
    "# 4.2 通用函数(ufunc)\n",
    "\n",
    "> 是一种对ndarray中的数据执行元素级运算的函数\n",
    "\n",
    "## 1.快速的元素级别组函数"
   ]
  },
  {
   "cell_type": "code",
   "execution_count": null,
   "metadata": {},
   "outputs": [],
   "source": [
    "import numpy as np\n",
    "\n",
    "arr=np.arange(10)\n",
    "arr=arr.reshape((2,5))\n",
    "np.sqrt(arr)\n",
    "arr1=np.random.randn(2,5)\n",
    "maxi=np.maximum(arr,arr1)#返回元素中的最大值\n",
    "remain,whole_part=np.modf(arr1)\n",
    "d=np.log(arr1)\n",
    "np.isnan(d)#返回bool\n",
    "x=np.random.randn(5)\n",
    "y=np.random.randn(5)\n",
    "#meshgrid生成坐标\n",
    "xs,ys=np.meshgrid(x,y)\n",
    "distance=np.sqrt(xs**2+ys**2)\n",
    "\n",
    "\n",
    "#生成多项式\n",
    "p=np.poly1d([3,-1,3,3])#幂指数从高到低\n",
    "p.deriv(m=2)#二阶导\n",
    "p.integ(m=1)#一阶积分\n",
    "x=np.arange(5)\n",
    "p(x)"
   ]
  },
  {
   "cell_type": "markdown",
   "metadata": {},
   "source": [
    "### 2.将条件逻辑表达为数组运算"
   ]
  },
  {
   "cell_type": "code",
   "execution_count": null,
   "metadata": {},
   "outputs": [],
   "source": [
    "import numpy as np\n",
    "\n",
    "x=np.random.randn(5)\n",
    "y=np.random.randn(5)\n",
    "#这里的x和y是标量也行的\n",
    "result=np.where(x>0,x,y)"
   ]
  },
  {
   "cell_type": "markdown",
   "metadata": {},
   "source": [
    "###  3.数学和统计方法\n",
    "\n",
    ">通过数组上的一组数学函数对整个数组或者某个轴向的数据进行统计计算"
   ]
  },
  {
   "cell_type": "code",
   "execution_count": null,
   "metadata": {},
   "outputs": [],
   "source": [
    "arr=np.random.binomial(5,0.5,(5,5))\n",
    "arr.mean()\n",
    "np.mean(arr)\n",
    "arr.sum\n",
    "np.sum(arr)\n",
    "np.sum(arr,axis=0)\n",
    "np.sum(arr,1)\n",
    "np.cumsum(arr,1)\n",
    "np.cumprod(arr,1)\n",
    "np.std(arr,0)\n",
    "np.std(arr,1)\n",
    "np.var(arr,0)\n",
    "np.var(arr,1)\n",
    "np.argmin(arr,1)"
   ]
  },
  {
   "cell_type": "markdown",
   "metadata": {},
   "source": [
    "### 4.用于布尔型数组的方法"
   ]
  },
  {
   "cell_type": "code",
   "execution_count": null,
   "metadata": {},
   "outputs": [],
   "source": [
    "import numpy as np\n",
    "\n",
    "arr=np.random.randn(100)\n",
    "bo=arr>0\n",
    "#bo用于测试数组中是否存在一个或多个true\n",
    "#all检查数组中所有的值是否都是true\n",
    "bo.any(axis=1)\n",
    "bo.all(axis=0)"
   ]
  },
  {
   "cell_type": "markdown",
   "metadata": {},
   "source": [
    "### 5.排序"
   ]
  },
  {
   "cell_type": "code",
   "execution_count": null,
   "metadata": {},
   "outputs": [],
   "source": [
    "import numpy as np\n",
    "\n",
    "arr=np.random.binomial(5,0.2,(5,5))\n",
    "arr.shape\n",
    "#sort会直接改变原数组，默认按行排序\n",
    "#输入数字指定轴\n",
    "arr.sort(axis=0)"
   ]
  },
  {
   "cell_type": "markdown",
   "metadata": {},
   "source": [
    "### 6.唯一化"
   ]
  },
  {
   "cell_type": "code",
   "execution_count": null,
   "metadata": {},
   "outputs": [],
   "source": [
    "import numpy as np\n",
    "\n",
    "#最常用的可能要数np.unique了，用于找出数组中的唯一值\n",
    "names=np.array(['Bob','Mary','Joy','Teddy','Bob'])\n",
    "#获取其中唯一元素，加参数1会显示元素索引\n",
    "np.unique(names,1)\n",
    "\n",
    "#另一个函数np.in1d测试一个数组中的值在另一个数组中的成员资格\n",
    "value=np.array([6,0,0,3,2,5,6])\n",
    "np.in1d(value,[2,3,4])"
   ]
  },
  {
   "cell_type": "markdown",
   "metadata": {},
   "source": [
    "方法 | 说明\n",
    ":-: | :-:\n",
    "unique(x) | 计算x中的唯一元素，并返回有序结果\n",
    "intersect1d(x,y) | 计算x和y的公共元素，并返回有序结果\n",
    "union1d(x,y) |计算x和y的并集，并返回有序结果\n",
    "in1d(x,y) | 得到一个表示'x的元素是否包含于y'的布尔型数组\n",
    "setdiff1d(x,y) | 集合的差，即元素在x中且不再y中\n",
    "setxor1d | 集合的对称差，即存在于一个数组中但不同时存在于两个数组中的元素\n"
   ]
  },
  {
   "cell_type": "markdown",
   "metadata": {},
   "source": [
    "### 7.线性代数"
   ]
  },
  {
   "cell_type": "code",
   "execution_count": null,
   "metadata": {},
   "outputs": [],
   "source": [
    "#numpy.dot矩阵的乘法\n",
    "import numpy as np\n",
    "x=np.random.randn(2,3)\n",
    "y=np.random.randn(3,2)\n",
    "np.dot(x,y)\n",
    "np.dot(x,3)\n",
    "\n",
    "#标准线性代数库\n",
    "from numpy.linalg import inv,qr\n",
    "x=np.random.randn(5,5)\n",
    "inv(x)\n",
    "np.dot(x,inv(x))\n",
    "a,b=qr(x)"
   ]
  },
  {
   "cell_type": "markdown",
   "metadata": {},
   "source": [
    "下表列出了一些最常用的线性代数函数\n",
    "\n",
    "函数 | 说明\n",
    ":-: | :-\n",
    "diag | 以一维数组的形式返回对角线元素\n",
    "trace | 矩阵的迹\n",
    "det | 矩阵行列式\n",
    "eig | 计算方阵的特征值和特征向量\n",
    "inv | 计算方阵的逆\n",
    "qr | 计算QR分解\n",
    "solve | 解线性方程组Ax=b\n",
    "lstsq | 计算Ax=b的最小二乘解"
   ]
  },
  {
   "cell_type": "markdown",
   "metadata": {},
   "source": [
    "### 8.伪随机数"
   ]
  },
  {
   "cell_type": "code",
   "execution_count": 2,
   "metadata": {
    "collapsed": true
   },
   "outputs": [
    {
     "name": "stdout",
     "output_type": "stream",
     "text": [
      "Help on built-in function normal:\n",
      "\n",
      "normal(...) method of mtrand.RandomState instance\n",
      "    normal(loc=0.0, scale=1.0, size=None)\n",
      "    \n",
      "    Draw random samples from a normal (Gaussian) distribution.\n",
      "    \n",
      "    The probability density function of the normal distribution, first\n",
      "    derived by De Moivre and 200 years later by both Gauss and Laplace\n",
      "    independently [2]_, is often called the bell curve because of\n",
      "    its characteristic shape (see the example below).\n",
      "    \n",
      "    The normal distributions occurs often in nature.  For example, it\n",
      "    describes the commonly occurring distribution of samples influenced\n",
      "    by a large number of tiny, random disturbances, each with its own\n",
      "    unique distribution [2]_.\n",
      "    \n",
      "    Parameters\n",
      "    ----------\n",
      "    loc : float or array_like of floats\n",
      "        Mean (\"centre\") of the distribution.\n",
      "    scale : float or array_like of floats\n",
      "        Standard deviation (spread or \"width\") of the distribution.\n",
      "    size : int or tuple of ints, optional\n",
      "        Output shape.  If the given shape is, e.g., ``(m, n, k)``, then\n",
      "        ``m * n * k`` samples are drawn.  If size is ``None`` (default),\n",
      "        a single value is returned if ``loc`` and ``scale`` are both scalars.\n",
      "        Otherwise, ``np.broadcast(loc, scale).size`` samples are drawn.\n",
      "    \n",
      "    Returns\n",
      "    -------\n",
      "    out : ndarray or scalar\n",
      "        Drawn samples from the parameterized normal distribution.\n",
      "    \n",
      "    See Also\n",
      "    --------\n",
      "    scipy.stats.norm : probability density function, distribution or\n",
      "        cumulative density function, etc.\n",
      "    \n",
      "    Notes\n",
      "    -----\n",
      "    The probability density for the Gaussian distribution is\n",
      "    \n",
      "    .. math:: p(x) = \\frac{1}{\\sqrt{ 2 \\pi \\sigma^2 }}\n",
      "                     e^{ - \\frac{ (x - \\mu)^2 } {2 \\sigma^2} },\n",
      "    \n",
      "    where :math:`\\mu` is the mean and :math:`\\sigma` the standard\n",
      "    deviation. The square of the standard deviation, :math:`\\sigma^2`,\n",
      "    is called the variance.\n",
      "    \n",
      "    The function has its peak at the mean, and its \"spread\" increases with\n",
      "    the standard deviation (the function reaches 0.607 times its maximum at\n",
      "    :math:`x + \\sigma` and :math:`x - \\sigma` [2]_).  This implies that\n",
      "    `numpy.random.normal` is more likely to return samples lying close to\n",
      "    the mean, rather than those far away.\n",
      "    \n",
      "    References\n",
      "    ----------\n",
      "    .. [1] Wikipedia, \"Normal distribution\",\n",
      "           http://en.wikipedia.org/wiki/Normal_distribution\n",
      "    .. [2] P. R. Peebles Jr., \"Central Limit Theorem\" in \"Probability,\n",
      "           Random Variables and Random Signal Principles\", 4th ed., 2001,\n",
      "           pp. 51, 51, 125.\n",
      "    \n",
      "    Examples\n",
      "    --------\n",
      "    Draw samples from the distribution:\n",
      "    \n",
      "    >>> mu, sigma = 0, 0.1 # mean and standard deviation\n",
      "    >>> s = np.random.normal(mu, sigma, 1000)\n",
      "    \n",
      "    Verify the mean and the variance:\n",
      "    \n",
      "    >>> abs(mu - np.mean(s)) < 0.01\n",
      "    True\n",
      "    \n",
      "    >>> abs(sigma - np.std(s, ddof=1)) < 0.01\n",
      "    True\n",
      "    \n",
      "    Display the histogram of the samples, along with\n",
      "    the probability density function:\n",
      "    \n",
      "    >>> import matplotlib.pyplot as plt\n",
      "    >>> count, bins, ignored = plt.hist(s, 30, normed=True)\n",
      "    >>> plt.plot(bins, 1/(sigma * np.sqrt(2 * np.pi)) *\n",
      "    ...                np.exp( - (bins - mu)**2 / (2 * sigma**2) ),\n",
      "    ...          linewidth=2, color='r')\n",
      "    >>> plt.show()\n",
      "\n"
     ]
    },
    {
     "ename": "NameError",
     "evalue": "name 'normalvarite' is not defined",
     "output_type": "error",
     "traceback": [
      "\u001b[1;31m---------------------------------------------------------------------------\u001b[0m",
      "\u001b[1;31mNameError\u001b[0m                                 Traceback (most recent call last)",
      "\u001b[1;32m<ipython-input-2-af25bf0b4d3a>\u001b[0m in \u001b[0;36m<module>\u001b[1;34m()\u001b[0m\n\u001b[0;32m      3\u001b[0m \u001b[0msample\u001b[0m\u001b[1;33m=\u001b[0m\u001b[0mnp\u001b[0m\u001b[1;33m.\u001b[0m\u001b[0mrandom\u001b[0m\u001b[1;33m.\u001b[0m\u001b[0mnormal\u001b[0m\u001b[1;33m(\u001b[0m\u001b[0mloc\u001b[0m\u001b[1;33m=\u001b[0m\u001b[1;36m0\u001b[0m\u001b[1;33m,\u001b[0m\u001b[0mscale\u001b[0m\u001b[1;33m=\u001b[0m\u001b[1;36m1\u001b[0m\u001b[1;33m,\u001b[0m\u001b[0msize\u001b[0m\u001b[1;33m=\u001b[0m\u001b[1;33m(\u001b[0m\u001b[1;36m4\u001b[0m\u001b[1;33m,\u001b[0m\u001b[1;36m4\u001b[0m\u001b[1;33m)\u001b[0m\u001b[1;33m)\u001b[0m\u001b[1;33m\u001b[0m\u001b[0m\n\u001b[0;32m      4\u001b[0m \u001b[1;32mfrom\u001b[0m \u001b[0mrandom\u001b[0m \u001b[1;32mimport\u001b[0m \u001b[0mnormalvariate\u001b[0m\u001b[1;33m\u001b[0m\u001b[0m\n\u001b[1;32m----> 5\u001b[1;33m \u001b[0mhelp\u001b[0m\u001b[1;33m(\u001b[0m\u001b[0mnormalvarite\u001b[0m\u001b[1;33m)\u001b[0m\u001b[1;33m\u001b[0m\u001b[0m\n\u001b[0m\u001b[0;32m      6\u001b[0m \u001b[0msample1\u001b[0m\u001b[1;33m=\u001b[0m\u001b[0mnormalvariate\u001b[0m\u001b[1;33m(\u001b[0m\u001b[1;36m0\u001b[0m\u001b[1;33m,\u001b[0m\u001b[1;36m1\u001b[0m\u001b[1;33m)\u001b[0m\u001b[1;33m\u001b[0m\u001b[0m\n\u001b[0;32m      7\u001b[0m \u001b[1;31m#更改随机数生成种子\u001b[0m\u001b[1;33m\u001b[0m\u001b[1;33m\u001b[0m\u001b[0m\n",
      "\u001b[1;31mNameError\u001b[0m: name 'normalvarite' is not defined"
     ]
    }
   ],
   "source": [
    "import numpy as np\n",
    "\n",
    "help(np.random.normal)\n",
    "sample=np.random.normal(loc=0,scale=1,size=(4,4))\n",
    "from random import normalvariate\n",
    "help(normalvariate)\n",
    "sample1=normalvariate(0,1)\n",
    "#更改随机数生成种子\n",
    "np.random.seed(134)\n",
    "np.random.uniform(1,4,(5,5))#生成均匀分布"
   ]
  },
  {
   "cell_type": "markdown",
   "metadata": {},
   "source": [
    "### 9.随机漫步"
   ]
  },
  {
   "cell_type": "code",
   "execution_count": 7,
   "metadata": {},
   "outputs": [
    {
     "data": {
      "text/plain": [
       "<module 'matplotlib.pyplot' from 'D:\\\\python\\\\lib\\\\site-packages\\\\matplotlib\\\\pyplot.py'>"
      ]
     },
     "execution_count": 7,
     "metadata": {},
     "output_type": "execute_result"
    },
    {
     "data": {
      "image/png": "[encoded data removed]",
      "text/plain": [
       "<Figure size 432x288 with 1 Axes>"
      ]
     },
     "metadata": {},
     "output_type": "display_data"
    }
   ],
   "source": [
    "#通过内置的random模块以纯python的方式实现1000步\n",
    "import random\n",
    "import matplotlib.pyplot as plt\n",
    "\n",
    "steps=[0]\n",
    "for i in range(1000):\n",
    "    step=1 if random.randint(0,1) else -1\n",
    "    steps.append(steps[-1]+step)\n",
    "plt.plot(steps)\n",
    "plt"
   ]
  },
  {
   "cell_type": "code",
   "execution_count": null,
   "metadata": {},
   "outputs": [],
   "source": [
    "#随机漫步的numpy实现\n",
    "import numpy as np\n",
    "import matplotlib.pyplot as pt\n",
    "\n",
    "nsteps=1000\n",
    "draws=np.random.randint(0,2,1000)\n",
    "steps=np.where(draws>0,1,-1)\n",
    "walk=steps.cumsum()\n",
    "pt.plot(walk)\n",
    "pt.show()"
   ]
  },
  {
   "cell_type": "code",
   "execution_count": null,
   "metadata": {},
   "outputs": [],
   "source": [
    "#多个随机漫步\n",
    "import numpy as np\n",
    "import matplotlib.pyplot as pt\n",
    "\n",
    "array=np.random.randint(0,2,(100,100))\n",
    "array1=np.where(array>0,1,-1)\n",
    "array2=array1.cumsum(1)\n",
    "pt.plot(array2[0,:])\n",
    "pt.show()"
   ]
  },
  {
   "cell_type": "markdown",
   "metadata": {},
   "source": [
    "### appendix:部分numpy.random函数\n",
    "\n",
    "| 函数 | 说明 |\n",
    "| :---: | :--- |\n",
    "| choice | choice(a,size,replace=True,p=None) |\n",
    "| seed | 确定随机数生成器的种子 |\n",
    "| permutation | 返回一个序列的随机排列 |\n",
    "| shuffle | 对一个序列就地随机排列 |\n",
    "| rand | 产生均匀分布的样本值 |\n",
    "| randint | 从给定的上下限范围内随机地选取整数 |\n",
    "| randn | 产生正态分布 |\n",
    "| binomial | 产生二项分布的样本值 |\n",
    "| normal | 产生正态分布的样本值 |\n",
    "| uniform | 产生在[0,1)中均匀分布的样本值 |"
   ]
  },
  {
   "cell_type": "markdown",
   "metadata": {},
   "source": [
    "<font color=#FF83FA>> 重要的Python库:<font></br>\n",
    "    1. Scripy:专门解决科学计算中各种标准问题。包括scipy.integrate(数字积分和微分方程求解)\n",
    "    2. scikit-learn通用机器学习包\n",
    "    3. statsmodels 统计分析包"
   ]
  }
 ],
 "metadata": {
  "kernelspec": {
   "display_name": "Python 3",
   "language": "python",
   "name": "python3"
  },
  "language_info": {
   "codemirror_mode": {
    "name": "ipython",
    "version": 3
   },
   "file_extension": ".py",
   "mimetype": "text/x-python",
   "name": "python",
   "nbconvert_exporter": "python",
   "pygments_lexer": "ipython3",
   "version": "3.6.4"
  },
  "widgets": {
   "application/vnd.jupyter.widget-state+json": {
    "state": {},
    "version_major": 2,
    "version_minor": 0
   }
  }
 },
 "nbformat": 4,
 "nbformat_minor": 2
}

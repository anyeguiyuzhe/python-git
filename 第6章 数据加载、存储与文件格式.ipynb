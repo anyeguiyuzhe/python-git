{
 "cells": [
  {
   "cell_type": "markdown",
   "metadata": {},
   "source": [
    "# <center>第6章 数据加载、存储与文件格式</center>\n",
    "\n",
    "## 6.1 读写文本格式的数据\n",
    ">pandas提供了一些用于将表格型数据读取为DataFrame的函数,主要是read_csv\n",
    "\n",
    "pd.read_csv(path,header=None,names,index_col)"
   ]
  },
  {
   "cell_type": "code",
   "execution_count": 1,
   "metadata": {},
   "outputs": [],
   "source": [
    "import pandas as pd \n",
    "import numpy as np "
   ]
  },
  {
   "cell_type": "markdown",
   "metadata": {},
   "source": [
    "### 6.1.1 列名的指定(header和names参数)"
   ]
  },
  {
   "cell_type": "code",
   "execution_count": 6,
   "metadata": {
    "scrolled": true
   },
   "outputs": [
    {
     "data": {
      "text/html": [
       "<div>\n",
       "<style scoped>\n",
       "    .dataframe tbody tr th:only-of-type {\n",
       "        vertical-align: middle;\n",
       "    }\n",
       "\n",
       "    .dataframe tbody tr th {\n",
       "        vertical-align: top;\n",
       "    }\n",
       "\n",
       "    .dataframe thead th {\n",
       "        text-align: right;\n",
       "    }\n",
       "</style>\n",
       "<table border=\"1\" class=\"dataframe\">\n",
       "  <thead>\n",
       "    <tr style=\"text-align: right;\">\n",
       "      <th></th>\n",
       "      <th>Cindy</th>\n",
       "      <th>Mary</th>\n",
       "      <th>Job</th>\n",
       "      <th>Hack</th>\n",
       "      <th>Navi</th>\n",
       "    </tr>\n",
       "    <tr>\n",
       "      <th>Julia</th>\n",
       "      <th></th>\n",
       "      <th></th>\n",
       "      <th></th>\n",
       "      <th></th>\n",
       "      <th></th>\n",
       "    </tr>\n",
       "  </thead>\n",
       "  <tbody>\n",
       "    <tr>\n",
       "      <th>0</th>\n",
       "      <td>a</td>\n",
       "      <td>b</td>\n",
       "      <td>c</td>\n",
       "      <td>d</td>\n",
       "      <td>message</td>\n",
       "    </tr>\n",
       "    <tr>\n",
       "      <th>1</th>\n",
       "      <td>1</td>\n",
       "      <td>2</td>\n",
       "      <td>3</td>\n",
       "      <td>4</td>\n",
       "      <td>hello</td>\n",
       "    </tr>\n",
       "    <tr>\n",
       "      <th>2</th>\n",
       "      <td>5</td>\n",
       "      <td>6</td>\n",
       "      <td>7</td>\n",
       "      <td>8</td>\n",
       "      <td>world</td>\n",
       "    </tr>\n",
       "    <tr>\n",
       "      <th>3</th>\n",
       "      <td>9</td>\n",
       "      <td>10</td>\n",
       "      <td>11</td>\n",
       "      <td>12</td>\n",
       "      <td>foo</td>\n",
       "    </tr>\n",
       "  </tbody>\n",
       "</table>\n",
       "</div>"
      ],
      "text/plain": [
       "      Cindy Mary Job Hack     Navi\n",
       "Julia                             \n",
       "0         a    b   c    d  message\n",
       "1         1    2   3    4    hello\n",
       "2         5    6   7    8    world\n",
       "3         9   10  11   12      foo"
      ]
     },
     "execution_count": 6,
     "metadata": {},
     "output_type": "execute_result"
    }
   ],
   "source": [
    "#header参数不为None\n",
    "path1=r'D:\\文档\\Python Scripts\\data_test\\ex1.csv'\n",
    "df1=pd.read_csv(path1,header=0)\n",
    "df2=pd.read_csv(path1,header=None)\n",
    "\n",
    "#header参数为None,指定names参数\n",
    "name=['Julia','Cindy','Mary','Job','Hack','Navi']\n",
    "pd.read_csv(path1,names=name,index_col='Julia')"
   ]
  },
  {
   "cell_type": "markdown",
   "metadata": {},
   "source": [
    "### 6.1.2 指定某一列为行名"
   ]
  },
  {
   "cell_type": "code",
   "execution_count": 11,
   "metadata": {},
   "outputs": [
    {
     "data": {
      "text/html": [
       "<div>\n",
       "<style scoped>\n",
       "    .dataframe tbody tr th:only-of-type {\n",
       "        vertical-align: middle;\n",
       "    }\n",
       "\n",
       "    .dataframe tbody tr th {\n",
       "        vertical-align: top;\n",
       "    }\n",
       "\n",
       "    .dataframe thead th {\n",
       "        text-align: right;\n",
       "    }\n",
       "</style>\n",
       "<table border=\"1\" class=\"dataframe\">\n",
       "  <thead>\n",
       "    <tr style=\"text-align: right;\">\n",
       "      <th></th>\n",
       "      <th>Julia</th>\n",
       "      <th>Cindy</th>\n",
       "      <th>Mary</th>\n",
       "      <th>Job</th>\n",
       "      <th>Hack</th>\n",
       "    </tr>\n",
       "    <tr>\n",
       "      <th>Navi</th>\n",
       "      <th></th>\n",
       "      <th></th>\n",
       "      <th></th>\n",
       "      <th></th>\n",
       "      <th></th>\n",
       "    </tr>\n",
       "  </thead>\n",
       "  <tbody>\n",
       "    <tr>\n",
       "      <th>hello</th>\n",
       "      <td>1</td>\n",
       "      <td>1</td>\n",
       "      <td>2</td>\n",
       "      <td>3</td>\n",
       "      <td>4</td>\n",
       "    </tr>\n",
       "    <tr>\n",
       "      <th>world</th>\n",
       "      <td>2</td>\n",
       "      <td>5</td>\n",
       "      <td>6</td>\n",
       "      <td>7</td>\n",
       "      <td>8</td>\n",
       "    </tr>\n",
       "    <tr>\n",
       "      <th>foo</th>\n",
       "      <td>3</td>\n",
       "      <td>9</td>\n",
       "      <td>10</td>\n",
       "      <td>11</td>\n",
       "      <td>12</td>\n",
       "    </tr>\n",
       "  </tbody>\n",
       "</table>\n",
       "</div>"
      ],
      "text/plain": [
       "       Julia  Cindy  Mary  Job  Hack\n",
       "Navi                                \n",
       "hello      1      1     2    3     4\n",
       "world      2      5     6    7     8\n",
       "foo        3      9    10   11    12"
      ]
     },
     "execution_count": 11,
     "metadata": {},
     "output_type": "execute_result"
    },
    {
     "data": {
      "text/html": [
       "<div>\n",
       "<style scoped>\n",
       "    .dataframe tbody tr th:only-of-type {\n",
       "        vertical-align: middle;\n",
       "    }\n",
       "\n",
       "    .dataframe tbody tr th {\n",
       "        vertical-align: top;\n",
       "    }\n",
       "\n",
       "    .dataframe thead th {\n",
       "        text-align: right;\n",
       "    }\n",
       "</style>\n",
       "<table border=\"1\" class=\"dataframe\">\n",
       "  <thead>\n",
       "    <tr style=\"text-align: right;\">\n",
       "      <th></th>\n",
       "      <th></th>\n",
       "      <th>value1</th>\n",
       "      <th>value2</th>\n",
       "    </tr>\n",
       "    <tr>\n",
       "      <th>key1</th>\n",
       "      <th>key2</th>\n",
       "      <th></th>\n",
       "      <th></th>\n",
       "    </tr>\n",
       "  </thead>\n",
       "  <tbody>\n",
       "    <tr>\n",
       "      <th rowspan=\"4\" valign=\"top\">one</th>\n",
       "      <th>a</th>\n",
       "      <td>1</td>\n",
       "      <td>2</td>\n",
       "    </tr>\n",
       "    <tr>\n",
       "      <th>b</th>\n",
       "      <td>3</td>\n",
       "      <td>4</td>\n",
       "    </tr>\n",
       "    <tr>\n",
       "      <th>c</th>\n",
       "      <td>5</td>\n",
       "      <td>6</td>\n",
       "    </tr>\n",
       "    <tr>\n",
       "      <th>d</th>\n",
       "      <td>7</td>\n",
       "      <td>8</td>\n",
       "    </tr>\n",
       "    <tr>\n",
       "      <th rowspan=\"4\" valign=\"top\">two</th>\n",
       "      <th>a</th>\n",
       "      <td>9</td>\n",
       "      <td>10</td>\n",
       "    </tr>\n",
       "    <tr>\n",
       "      <th>b</th>\n",
       "      <td>11</td>\n",
       "      <td>12</td>\n",
       "    </tr>\n",
       "    <tr>\n",
       "      <th>c</th>\n",
       "      <td>13</td>\n",
       "      <td>14</td>\n",
       "    </tr>\n",
       "    <tr>\n",
       "      <th>d</th>\n",
       "      <td>15</td>\n",
       "      <td>16</td>\n",
       "    </tr>\n",
       "  </tbody>\n",
       "</table>\n",
       "</div>"
      ],
      "text/plain": [
       "           value1  value2\n",
       "key1 key2                \n",
       "one  a          1       2\n",
       "     b          3       4\n",
       "     c          5       6\n",
       "     d          7       8\n",
       "two  a          9      10\n",
       "     b         11      12\n",
       "     c         13      14\n",
       "     d         15      16"
      ]
     },
     "execution_count": 11,
     "metadata": {},
     "output_type": "execute_result"
    },
    {
     "data": {
      "text/html": [
       "<div>\n",
       "<style scoped>\n",
       "    .dataframe tbody tr th:only-of-type {\n",
       "        vertical-align: middle;\n",
       "    }\n",
       "\n",
       "    .dataframe tbody tr th {\n",
       "        vertical-align: top;\n",
       "    }\n",
       "\n",
       "    .dataframe thead th {\n",
       "        text-align: right;\n",
       "    }\n",
       "</style>\n",
       "<table border=\"1\" class=\"dataframe\">\n",
       "  <thead>\n",
       "    <tr style=\"text-align: right;\">\n",
       "      <th></th>\n",
       "      <th>0</th>\n",
       "      <th>a</th>\n",
       "      <th>b</th>\n",
       "      <th>c</th>\n",
       "      <th>d</th>\n",
       "      <th>message</th>\n",
       "    </tr>\n",
       "  </thead>\n",
       "  <tbody>\n",
       "    <tr>\n",
       "      <th>0</th>\n",
       "      <td>2</td>\n",
       "      <td>5</td>\n",
       "      <td>6</td>\n",
       "      <td>7</td>\n",
       "      <td>8</td>\n",
       "      <td>world</td>\n",
       "    </tr>\n",
       "  </tbody>\n",
       "</table>\n",
       "</div>"
      ],
      "text/plain": [
       "   0  a  b  c  d message\n",
       "0  2  5  6  7  8   world"
      ]
     },
     "execution_count": 11,
     "metadata": {},
     "output_type": "execute_result"
    }
   ],
   "source": [
    "pd.read_csv(path1,names=name,index_col='Navi',skiprows=[0])\n",
    "#如果希望将多个列做成一个层次化的索引，只需要传入由列编号组成的列标即可\n",
    "pd.read_csv('D:\\\\文档\\\\Python Scripts\\\\data_test\\\\ex3.csv',header=0,index_col=['key1','key2'])\n",
    "#你可以用skiprows跳过文件的第一行、第三行和第四行,如果指定了header，是不会被跳过的\n",
    "#但是这个skiprows貌似是从1开始计数的，不懂\n",
    "pd.read_csv(path1,skiprows=[1,3,4])"
   ]
  },
  {
   "cell_type": "markdown",
   "metadata": {},
   "source": [
    "read_csv的参数说明：\n",
    "\n",
    "| 参数 | 说明 |\n",
    "| :-: | :-: |\n",
    "| path | 表示文件系统位置 |\n",
    "| sep | 用于对行中各字段进行拆分的序列或者正则表达式 |\n",
    "| header | 用作列名的行号，默认为0，如果没有，设置为None |\n",
    "| index_col | 用作行索引的列编号或者列名，可以是单个名称或者是列表 |\n",
    "| names | 结合header=None，传入列名 |\n",
    "| skiprows | 需要忽略的行数 |\n",
    "| na_values | 一组用于替换NA的值 |\n",
    "| comment | 用于将注释信息从行尾拆分出去 |\n",
    "| parse_dates | 尝试将数据解析为日期，默认为False，此外还可以指定需要解析的一组列号或者列名 |\n",
    "| keep_data_col | 如果连接多列解析日期，则保持参与连接的列 |\n",
    "| converters | 由列名跟函数之间的映射组成的字典，例如{'foo':f}会对foo列的所有值应用函数'f' |\n",
    "| nrows | 需要读取的行数 |\n",
    "| skip_footer | 需要忽略的函数（从文件末尾处算起） |"
   ]
  },
  {
   "cell_type": "markdown",
   "metadata": {},
   "source": [
    "### 6.1.3 缺失值的处理(na_values参数)"
   ]
  },
  {
   "cell_type": "code",
   "execution_count": null,
   "metadata": {},
   "outputs": [],
   "source": [
    "path=r\"D:\\文档\\Python Scripts\\data_test\\ex1.csv\"\n",
    "d={'a':'na','message':'ss'}\n",
    "pd.read_csv(path,na_values=d)"
   ]
  },
  {
   "cell_type": "markdown",
   "metadata": {},
   "source": [
    "### 6.1.4 逐块读取文本文件"
   ]
  },
  {
   "cell_type": "code",
   "execution_count": 13,
   "metadata": {},
   "outputs": [],
   "source": [
    "import pandas as pd\n",
    "import numpy as np\n",
    "import pandas_datareader.data as web\n",
    "import os\n",
    "os.chdir(r'D:\\文档\\Python Scripts')"
   ]
  },
  {
   "cell_type": "code",
   "execution_count": 3,
   "metadata": {},
   "outputs": [],
   "source": [
    "code='0700.hk'\n",
    "start='2017-4-4'\n",
    "end='2017-10-10'\n",
    "info=web.get_data_yahoo(code,start,end)\n",
    "info.to_csv('data_test\\\\stock_price.csv',header=1,index=True)"
   ]
  },
  {
   "cell_type": "code",
   "execution_count": null,
   "metadata": {},
   "outputs": [],
   "source": [
    "pd.options.display.max_rows=10#设置pandas的显示\n",
    "\n",
    "path=r'data_test\\stock_price.csv'\n",
    "#如果你只想读取几行，通过nrows指定\n",
    "pd.read_csv(path,nrows=10)\n",
    "#read_csv会自动将Date所在的行变为列名\n",
    "df=pd.read_csv(path,index_col='Date')\n",
    "#要逐块读取文件，可以指定chunksize(行数)\n",
    "chunker=pd.read_csv(path,chunksize=100)\n",
    "type(chunker)\n",
    "#TextFileReader对象使你可以根据chunksize对文件进行迭代"
   ]
  },
  {
   "cell_type": "markdown",
   "metadata": {},
   "source": [
    "### 6.1.5 将数据写出到文本\n",
    "\n",
    ">DataFrame.to_csv(path_or_buf,na_rep='',columns=None,header=True,index=True,index_label=None,encoding=None)"
   ]
  },
  {
   "cell_type": "code",
   "execution_count": null,
   "metadata": {},
   "outputs": [],
   "source": [
    "code='600519.ss'\n",
    "start='2017-4-4'\n",
    "end='2017-5-5'\n",
    "info=web.get_data_yahoo(code,start,end)\n",
    "info.to_csv('D:\\\\文档\\\\Python Scripts\\\\data_test\\\\600519ss_price.csv',index=False,na_rep='NULL')\n",
    "#此外，你还可以只写出一部分的列，并以你指定的顺序排列\n",
    "info.to_csv('D:\\\\文档\\\\Python Scripts\\\\data_test\\\\600519ss_price.csv',index=False,na_rep='NULL',columns='High')"
   ]
  },
  {
   "cell_type": "code",
   "execution_count": null,
   "metadata": {},
   "outputs": [],
   "source": [
    "#csv文件的形式有很多，只需定义csv.Dialect的一个子类即可定义出新格式\n",
    "import csv\n",
    "class my_dialect(csv.Dialect):\n",
    "    lineterminator='\\n'\n",
    "    delimiter=';'\n",
    "    quotechar='\"'\n",
    "    quoting=csv.QUOTE_MINIMAL\n",
    "\n",
    "path=r'data_test\\ex7.txt'\n",
    "f=open(path,'r')\n",
    "reader = csv.reader(f, dialect=my_dialect)"
   ]
  },
  {
   "cell_type": "markdown",
   "metadata": {},
   "source": [
    "### 6.1.6 JSON数据(JavaScript Object Notation)"
   ]
  },
  {
   "cell_type": "code",
   "execution_count": null,
   "metadata": {},
   "outputs": [],
   "source": [
    "import json\n",
    "obj = \"\"\"\n",
    "{\"name\": \"Wes\",\n",
    " \"places_lived\": [\"United States\", \"Spain\", \"Germany\"],\n",
    " \"pet\": null,\n",
    " \"siblings\": [{\"name\": \"Scott\", \"age\": 30, \"pets\": [\"Zeus\", \"Zuko\"]},\n",
    "              {\"name\": \"Katie\", \"age\": 38,\n",
    "               \"pets\": [\"Sixes\", \"Stache\", \"Cisco\"]}]\n",
    "}\n",
    "\"\"\"\n",
    "#json中的'null'就是python的'None'\n",
    "#loads把json对象转化为Python对象\n",
    "b=json.loads(obj)\n",
    "#dumps把Python对象转换为JSON\n",
    "a=['a','julia','Java','c++']\n",
    "b=json.dumps(a)\n",
    "#如何将JSON对象转化为DataFrame取决于自己的需要\n",
    "import pandas as pd\n",
    "df=pd.DataFrame(b['siblings'],columns=['age'])\n",
    "#pandas.read_json可以将特别格式的JSON数据集转换为Serise或者DataFrame\n",
    "df1=pd.read_json('D:\\\\文档\\\\Python Scripts\\\\data_test\\\\example.json')\n",
    "#把DataFrame输出为json\n",
    "print(df1.to_json())"
   ]
  },
  {
   "cell_type": "markdown",
   "metadata": {},
   "source": [
    "## 6.2 二进制数据格式"
   ]
  },
  {
   "cell_type": "markdown",
   "metadata": {},
   "source": [
    "### 6.2.1 实现数据的高效二进制格式存储最简单的办法之一是使用Python内置的pickle序列化\n",
    "\n",
    ">Pickle序列化。pandas对象都有一个用于将数据以pickle格式保存到磁盘上的to_pickle方法："
   ]
  },
  {
   "cell_type": "code",
   "execution_count": 1,
   "metadata": {},
   "outputs": [],
   "source": [
    "import numpy as np\n",
    "import pandas as pd"
   ]
  },
  {
   "cell_type": "code",
   "execution_count": 5,
   "metadata": {
    "scrolled": true
   },
   "outputs": [
    {
     "data": {
      "text/html": [
       "<div>\n",
       "<style scoped>\n",
       "    .dataframe tbody tr th:only-of-type {\n",
       "        vertical-align: middle;\n",
       "    }\n",
       "\n",
       "    .dataframe tbody tr th {\n",
       "        vertical-align: top;\n",
       "    }\n",
       "\n",
       "    .dataframe thead th {\n",
       "        text-align: right;\n",
       "    }\n",
       "</style>\n",
       "<table border=\"1\" class=\"dataframe\">\n",
       "  <thead>\n",
       "    <tr style=\"text-align: right;\">\n",
       "      <th></th>\n",
       "      <th>0</th>\n",
       "      <th>a</th>\n",
       "      <th>b</th>\n",
       "      <th>c</th>\n",
       "      <th>d</th>\n",
       "    </tr>\n",
       "    <tr>\n",
       "      <th>message</th>\n",
       "      <th></th>\n",
       "      <th></th>\n",
       "      <th></th>\n",
       "      <th></th>\n",
       "      <th></th>\n",
       "    </tr>\n",
       "  </thead>\n",
       "  <tbody>\n",
       "    <tr>\n",
       "      <th>hello</th>\n",
       "      <td>1</td>\n",
       "      <td>1</td>\n",
       "      <td>2</td>\n",
       "      <td>3</td>\n",
       "      <td>4</td>\n",
       "    </tr>\n",
       "    <tr>\n",
       "      <th>world</th>\n",
       "      <td>2</td>\n",
       "      <td>5</td>\n",
       "      <td>6</td>\n",
       "      <td>7</td>\n",
       "      <td>8</td>\n",
       "    </tr>\n",
       "    <tr>\n",
       "      <th>foo</th>\n",
       "      <td>3</td>\n",
       "      <td>9</td>\n",
       "      <td>10</td>\n",
       "      <td>11</td>\n",
       "      <td>12</td>\n",
       "    </tr>\n",
       "  </tbody>\n",
       "</table>\n",
       "</div>"
      ],
      "text/plain": [
       "         0  a   b   c   d\n",
       "message                  \n",
       "hello    1  1   2   3   4\n",
       "world    2  5   6   7   8\n",
       "foo      3  9  10  11  12"
      ]
     },
     "execution_count": 5,
     "metadata": {},
     "output_type": "execute_result"
    },
    {
     "data": {
      "text/html": [
       "<div>\n",
       "<style scoped>\n",
       "    .dataframe tbody tr th:only-of-type {\n",
       "        vertical-align: middle;\n",
       "    }\n",
       "\n",
       "    .dataframe tbody tr th {\n",
       "        vertical-align: top;\n",
       "    }\n",
       "\n",
       "    .dataframe thead th {\n",
       "        text-align: right;\n",
       "    }\n",
       "</style>\n",
       "<table border=\"1\" class=\"dataframe\">\n",
       "  <thead>\n",
       "    <tr style=\"text-align: right;\">\n",
       "      <th></th>\n",
       "      <th>0</th>\n",
       "      <th>a</th>\n",
       "      <th>b</th>\n",
       "      <th>c</th>\n",
       "      <th>d</th>\n",
       "    </tr>\n",
       "    <tr>\n",
       "      <th>message</th>\n",
       "      <th></th>\n",
       "      <th></th>\n",
       "      <th></th>\n",
       "      <th></th>\n",
       "      <th></th>\n",
       "    </tr>\n",
       "  </thead>\n",
       "  <tbody>\n",
       "    <tr>\n",
       "      <th>hello</th>\n",
       "      <td>1</td>\n",
       "      <td>1</td>\n",
       "      <td>2</td>\n",
       "      <td>3</td>\n",
       "      <td>4</td>\n",
       "    </tr>\n",
       "    <tr>\n",
       "      <th>world</th>\n",
       "      <td>2</td>\n",
       "      <td>5</td>\n",
       "      <td>6</td>\n",
       "      <td>7</td>\n",
       "      <td>8</td>\n",
       "    </tr>\n",
       "    <tr>\n",
       "      <th>foo</th>\n",
       "      <td>3</td>\n",
       "      <td>9</td>\n",
       "      <td>10</td>\n",
       "      <td>11</td>\n",
       "      <td>12</td>\n",
       "    </tr>\n",
       "  </tbody>\n",
       "</table>\n",
       "</div>"
      ],
      "text/plain": [
       "         0  a   b   c   d\n",
       "message                  \n",
       "hello    1  1   2   3   4\n",
       "world    2  5   6   7   8\n",
       "foo      3  9  10  11  12"
      ]
     },
     "execution_count": 5,
     "metadata": {},
     "output_type": "execute_result"
    }
   ],
   "source": [
    "frame=pd.read_csv('D:\\\\文档\\\\Python Scripts\\\\data_test\\\\ex1.csv',index_col='message')\n",
    "frame.head()\n",
    "frame.to_pickle('D:\\\\文档\\\\Python Scripts\\\\data_test\\\\frame_pickle')\n",
    "#读取\n",
    "pd.read_pickle('D:\\\\文档\\\\Python Scripts\\\\data_test\\\\frame_pickle')"
   ]
  },
  {
   "cell_type": "markdown",
   "metadata": {},
   "source": [
    "### 6.2.2 HDF5（hierarchical data format）\n",
    "\n",
    ">每个HDF5文件都含有一个文件系统式的节点结构，它使你能够存储多个数据集并支持元数据支持分块读写.\n",
    "\n",
    ">如果需要本地处理海量数据，我建议你好好研究一下PyTables和h5py，看看它们能满足你的哪些需求。由于许多数据分析问题都是IO密集型（而不是CPU密集型），利用HDF5这样的工具能显著提升应用程序的效率。"
   ]
  },
  {
   "cell_type": "code",
   "execution_count": null,
   "metadata": {},
   "outputs": [],
   "source": [
    "frame=pd.DataFrame({'a':np.random.randn(100)})\n",
    "frame2=pd.DataFrame(np.random.randn(30,30))\n",
    "store=pd.HDFStore('data_test\\\\mydata.h5')\n",
    "\n",
    "store['obj1']=frame\n",
    "store['obj2']=frame2\n",
    "store\n",
    "#HDF5文件中的对象可以通过与字典一样的API进行获取\n",
    "store['obj1']\n",
    "store['obj2']\n",
    "#HDFStore支持两种存储模式，'fixed'和'table'，后者更慢，但是支持使用特殊语法进行查询操作\n",
    "#put是store['obj2']=frame的显示版本,允许我们设置其它的选项，比如格式\n",
    "store.put('obj2',frame,format='table')\n",
    "store.select('obj2',where=['index >= 10 and index <= 15','columns=[3,4]'])\n",
    "frame.to_hdf('data_test\\\\mydata.h5','obj3',format='table')\n",
    "pd.read_hdf('data_test\\\\mydata.h5','obj3',where=['index < 5'])"
   ]
  },
  {
   "cell_type": "markdown",
   "metadata": {},
   "source": [
    "### 6.2.3 Excel文件处理\n",
    "\n",
    ">pandas的ExcelFile类或者pandas.read_excel函数支持读取存储Excel文件"
   ]
  },
  {
   "cell_type": "code",
   "execution_count": null,
   "metadata": {},
   "outputs": [],
   "source": [
    "xlsx=pd.ExcelFile(r\"D:\\文档\\Python Scripts\\data_test\\hw3data.xlsx\")\n",
    "a=pd.read_excel(xlsx,'日收益率计算')\n",
    "#如果要读取一个文件中的多个表单，创建ExcelFile会更快\n",
    "#但你也可以将文件名直接传递到pandas.read_excel\n",
    "path=r\"D:\\文档\\Python Scripts\\data_test\\hw3data.xlsx\"\n",
    "b=pd.read_excel(path)"
   ]
  },
  {
   "cell_type": "markdown",
   "metadata": {},
   "source": [
    "**写入Excel文件**"
   ]
  },
  {
   "cell_type": "code",
   "execution_count": 6,
   "metadata": {},
   "outputs": [],
   "source": [
    "import pandas_datareader.data as web\n",
    "import pandas\n",
    "\n",
    "code='600519.ss'\n",
    "start='2019-4-22'\n",
    "end='2019-4-26'\n",
    "info=web.get_data_yahoo(code,start,end)\n",
    "info.head()\n",
    "writer=pd.ExcelWriter('D:\\\\文档\\\\Python Scripts\\\\data_test\\info.to_excel')\n",
    "info.to_excel(writer,'sheet1')\n",
    "writer.save()"
   ]
  }
 ],
 "metadata": {
  "kernelspec": {
   "display_name": "Python 3",
   "language": "python",
   "name": "python3"
  },
  "language_info": {
   "codemirror_mode": {
    "name": "ipython",
    "version": 3
   },
   "file_extension": ".py",
   "mimetype": "text/x-python",
   "name": "python",
   "nbconvert_exporter": "python",
   "pygments_lexer": "ipython3",
   "version": "3.6.4"
  }
 },
 "nbformat": 4,
 "nbformat_minor": 2
}

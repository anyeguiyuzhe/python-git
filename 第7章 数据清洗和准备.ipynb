{
 "cells": [
  {
   "cell_type": "markdown",
   "metadata": {},
   "source": [
    "# <center>第7章 数据清洗和准备</center>\n",
    "\n",
    "\n",
    "\n",
    "## 7.1 处理缺失数据\n",
    "\n",
    ">fillna(value=None, method=None, axis=None, inplace=False),value可以是数字，字典，Series或者DataFrame\n",
    "\n",
    ">dropna(axis=0, how='any'/'all', thresh=None, subset=None, inplace=False)"
   ]
  },
  {
   "cell_type": "code",
   "execution_count": null,
   "metadata": {},
   "outputs": [],
   "source": [
    "import pandas as pd \n",
    "import numpy as np"
   ]
  },
  {
   "cell_type": "code",
   "execution_count": null,
   "metadata": {},
   "outputs": [],
   "source": [
    "data=pd.Series(['aardvark','artichoke',np.nan,'avocado'])\n",
    "data.isnull()\n",
    "\n",
    "#根据轴标签(对DataFrame适用)对缺失数据进行过滤\n",
    "data=pd.DataFrame({'language':{2001:'Java',2003:np.nan,2004:'vt'},\n",
    "                    'hello':{2001:'bb',2002:'djsl',2003:'ssss'}})\n",
    "#传入any丢弃所有含有空白值的行或列，传入all只丢弃全部是空白值的行或者列\n",
    "data.dropna(axis=1,how='any'/'all',thresh=None,inplace=False)\n",
    "\n",
    "#用fillna填充空白\n",
    "#可以传入字典，但此时 axis不能指定，只能按列填充\n",
    "data.fillna(value='a',axis=1,method={'backfill','bfill','pad'},inplace=True)"
   ]
  },
  {
   "cell_type": "markdown",
   "metadata": {},
   "source": [
    "\n",
    "## 7.2 移除重复数据"
   ]
  },
  {
   "cell_type": "markdown",
   "metadata": {},
   "source": [
    "### <font color=\"#00dddd\">1.利用duplicated()去除重复数据：</font>\n",
    "\n",
    ">pd.DataFrame.duplicated(subset,keep=['first','last','False'])"
   ]
  },
  {
   "cell_type": "code",
   "execution_count": null,
   "metadata": {},
   "outputs": [],
   "source": [
    "import pandas as pd \n",
    "import numpy as np\n",
    "\n",
    "data=pd.DataFrame({'k1':['one','two']*3+['two'],\n",
    "                    'k2':[1,1,2,3,3,4,4]})\n",
    "data.duplicated()\n",
    "#还可以指定检查某一列是否重复\n",
    "data.duplicated(['k1'])\n",
    "#自动过滤重复项\n",
    "#如果不指定列，就会默认第一列\n",
    "data.drop_duplicates()\n",
    "data.drop_duplicates(['k1'])"
   ]
  },
  {
   "cell_type": "markdown",
   "metadata": {},
   "source": [
    "### <font color='#00dddd'>2.利用函数或者映射进行数据转换</font>\n",
    "\n",
    ">map是Series才有的方法，作用于Series的每一个元素，传入的转换方法可以是函数、字典或者Series。applymap则是DataFrame作用于每一个元素的方法"
   ]
  },
  {
   "cell_type": "code",
   "execution_count": null,
   "metadata": {},
   "outputs": [],
   "source": [
    "data=pd.DataFrame({'food':['bacon','pulled pork','bacon','Pastrami','corned beef','Bacon','pastrami','honey ham','nova lox'],\n",
    "                    'ounces':[4,3,12,6,7.5,8,3,5,6]})\n",
    "meet_to_animal={\n",
    "    'bacon':'pig',\n",
    "    'pulled pork':'pig',\n",
    "    'pastrami':'cow',\n",
    "    'corned beef':'cow',\n",
    "    'honey ham':'pig',\n",
    "    'nova lox':'salmon'\n",
    "}\n",
    "data['food']=data['food'].str.lower()\n",
    "print(data)\n",
    "\n",
    "#转入字典和Series应该是差不多的\n",
    "data['type']=data['food'].map(meet_to_animal)\n",
    "\n",
    "#也可以传入一个能完成全部这些的函数\n",
    "data['food'].map(lambda x: meet_to_animal[x.lower()])"
   ]
  },
  {
   "cell_type": "markdown",
   "metadata": {},
   "source": [
    "\n",
    "### <font color='#00dddd'>3.替换值-'replace'</font>\n",
    "\n",
    ">DataFrame.repalce(to_replace,value,method,inplace=False),mothod是在没有传入value时的填充方法,有'ffill','bfill','None'等"
   ]
  },
  {
   "cell_type": "code",
   "execution_count": null,
   "metadata": {},
   "outputs": [],
   "source": [
    "import pandas as pd \n",
    "import numpy as np"
   ]
  },
  {
   "cell_type": "code",
   "execution_count": 1,
   "metadata": {
    "collapsed": true
   },
   "outputs": [
    {
     "name": "stdout",
     "output_type": "stream",
     "text": [
      "0      99\n",
      "1      -1\n",
      "2       3\n",
      "3       4\n",
      "4    -999\n",
      "5   -1000\n",
      "dtype: int64\n"
     ]
    },
    {
     "data": {
      "text/plain": [
       "0      4.0\n",
       "1     33.0\n",
       "2      3.0\n",
       "3      4.0\n",
       "4   -999.0\n",
       "5      NaN\n",
       "dtype: float64"
      ]
     },
     "execution_count": 1,
     "metadata": {},
     "output_type": "execute_result"
    }
   ],
   "source": [
    "data=pd.Series([99,-1,3,4,-999,-1000])\n",
    "print(data)\n",
    "data.replace(-999,np.nan)\n",
    "\n",
    "#一次替换多个值\n",
    "data.replace([99,-999],np.nan)\n",
    "\n",
    "#要让每个值有不同的替换值,传入一个值列表\n",
    "data.replace([99,-999],[np.nan,0])\n",
    "#利用字典替换\n",
    "dic={99:4,-1:33,-1000:np.nan}\n",
    "data.replace(dic,inplace=False)\n",
    "\n",
    "#Series/DataFrame.replace方法与Series/DataFrame.str.replace不同，后者做的是字符串的元素级替换"
   ]
  },
  {
   "cell_type": "markdown",
   "metadata": {},
   "source": [
    "\n",
    "### <font color='#00dddd'>4.重命名轴索引</font>"
   ]
  },
  {
   "cell_type": "code",
   "execution_count": null,
   "metadata": {},
   "outputs": [],
   "source": [
    "#重命名轴索引\n",
    "#轴标签也可以通过函数映射进行转换，从而得到一个新的标签\n",
    "import pandas as pd\n",
    "import numpy as np\n",
    "data=pd.DataFrame(np.arange(12).reshape(3,4),\n",
    "                index=['ohio','colorabo','new york'],\n",
    "                columns=['one','two','three','four'])\n",
    "#跟Series一样，轴索引也有一个map方法\n",
    "transform=lambda x:x[:4].title()\n",
    "#直接赋值就可以修改索引了\n",
    "data.index=data.index.map(transform)\n",
    "#甚至你还可以修改columns\n",
    "data.columns.map(transform)\n",
    "#如果要创建数据集的转换版(而不是修改原始数据),比较实用的方法是rename\n",
    "#传入的str表示不变动,或者传入str.upper、str.title等等,你还可以传入字典\n",
    "#rename(self,index=str,columns=?,axis=?,inplace=False)\n",
    "data.rename(index=str.title,columns=str.upper)\n"
   ]
  },
  {
   "cell_type": "markdown",
   "metadata": {},
   "source": [
    "\n",
    "### <font color='#00dddd'>5.离散化和面元划分-pd.cut和pd.qcut</font>\n",
    "\n",
    ">pd.cut是按数值分组,而pd.qcut是按分位数分组"
   ]
  },
  {
   "cell_type": "code",
   "execution_count": null,
   "metadata": {},
   "outputs": [],
   "source": [
    "import pandas as pd \n",
    "import numpy as np"
   ]
  },
  {
   "cell_type": "code",
   "execution_count": 2,
   "metadata": {},
   "outputs": [],
   "source": [
    "age=np.random.randint(1,77,9)\n",
    "bins=[1,33,55,77]\n",
    "cat=pd.cut(age,bins=bins,right=True)\n",
    "cat.codes#组别\n",
    "cat.categories#分组区间\n",
    "#分组统计\n",
    "pd.value_counts(cat)\n",
    "#还可以自己传入组名\n",
    "group=['high','median','low','none']\n",
    "b=pd.cut(np.random.randn(20),4,labels=group)\n",
    "b.codes\n",
    "b.categories\n",
    "b.value_counts()\n",
    "\n",
    "#qcut,按分位数进行分组\n",
    "data=np.random.randn(1000)\n",
    "cats=pd.qcut(data,q=4)\n",
    "#自定义分位数\n",
    "interval=[0,0.2,0.4,0.8,1]\n",
    "cats=pd.qcut(data,interval)"
   ]
  },
  {
   "cell_type": "markdown",
   "metadata": {},
   "source": [
    "\n",
    "## <font color='#00dddd'>6.检测和过滤异常值</font>"
   ]
  },
  {
   "cell_type": "code",
   "execution_count": null,
   "metadata": {},
   "outputs": [],
   "source": [
    "import pandas as pd\n",
    "import numpy as np\n",
    "\n",
    "data=pd.DataFrame(np.random.randn(1000,4))\n",
    "data.describe()\n",
    "#假如你想要找出某列中绝对值超过3的值:\n",
    "col=data[2]\n",
    "col[np.abs(col)>3]\n",
    "#找出有绝对值超过3的行\n",
    "data[(np.abs(data)>3).any(1)]\n",
    "#找出有绝对值超过3的列\n",
    "data[(np.abs(data)>3).any(0)]"
   ]
  },
  {
   "cell_type": "markdown",
   "metadata": {},
   "source": [
    "\n",
    "### <font color='#00dddd'>7.排列和随机取样</font>"
   ]
  },
  {
   "cell_type": "code",
   "execution_count": null,
   "metadata": {},
   "outputs": [],
   "source": [
    "import pandas as pd\n",
    "import numpy as np\n",
    "df=pd.DataFrame(np.arange(20).reshape(5,4))\n",
    "sample=np.random.permutation(5)\n",
    "sample\n",
    "df.take(sample)\n",
    "df.iloc(sample)\n",
    "#取样\n",
    "df.sample(3)\n",
    "\n",
    "#有放回的取样\n",
    "df.sample(6,replace=True)\n"
   ]
  },
  {
   "cell_type": "markdown",
   "metadata": {},
   "source": [
    "\n",
    "### <font color='#00dddd'>8.计算哑变量</font>"
   ]
  },
  {
   "cell_type": "code",
   "execution_count": 3,
   "metadata": {},
   "outputs": [
    {
     "name": "stdout",
     "output_type": "stream",
     "text": [
      "[0 3 3 2 0 1 2 2 3 0]\n",
      "   (-0.003, 0.75]  (0.75, 1.5]  (1.5, 2.25]  (2.25, 3.0]\n",
      "0               1            0            0            0\n",
      "1               0            0            0            1\n",
      "2               0            0            0            1\n",
      "3               0            0            1            0\n",
      "4               1            0            0            0\n",
      "5               0            1            0            0\n",
      "6               0            0            1            0\n",
      "7               0            0            1            0\n",
      "8               0            0            0            1\n",
      "9               1            0            0            0\n"
     ]
    }
   ],
   "source": [
    "#如果DataFrame的某一列含有k个不同的值，则可以派生出一个k列矩阵\n",
    "import pandas as pd\n",
    "import numpy as np\n",
    "df=pd.DataFrame({'key':['a','b','c','d','b','c'],'data1':np.arange(6)})\n",
    "pd.get_dummies(df['key'])\n",
    "\n",
    "#给虚拟变量加前缀\n",
    "pd.get_dummies(df['key'],prefix='keys')\n",
    "\n",
    "#统计的应用,结合get_dummies和cut之类的操作\n",
    "a=np.random.randint(0,5,10)\n",
    "print(a)\n",
    "b=pd.get_dummies(pd.cut(a,4))\n",
    "print(b)"
   ]
  },
  {
   "cell_type": "markdown",
   "metadata": {},
   "source": [
    "\n",
    "# 7.3 字符串操作"
   ]
  },
  {
   "cell_type": "code",
   "execution_count": null,
   "metadata": {},
   "outputs": [],
   "source": [
    "#Python内置的字符串方法\n",
    "a='jfdlsjfs'\n",
    "b=['jfdl','djfd','avdd','ffff']\n",
    "len(a)\n",
    "a.split('f')\n",
    "'.'.join(a)\n",
    "'/'.join(b)\n",
    "#字符串定位\n",
    "a.index('f')#字符串不存在就会raise Error\n",
    "a.find(']')#不存在就会返回-1"
   ]
  },
  {
   "cell_type": "markdown",
   "metadata": {},
   "source": [
    "### <font color='#00dddd'>1.正则表达式</font>"
   ]
  },
  {
   "cell_type": "code",
   "execution_count": null,
   "metadata": {},
   "outputs": [],
   "source": [
    "#正则表达式,分为三个模块--模式匹配、替换以及拆分\n",
    "import re\n",
    "\n",
    "text=\"foo    bar\\t baz  \\tqux\"\n",
    "re.split('\\s+',text)\n",
    "\n",
    "#先把patter进行编译\n",
    "#如果打算对许多字符串应用同一条正则表达式，强烈建立通过re.compile先编译，可以节省CPU时间\n",
    "regex=re.compile(r'\\s+')\n",
    "regex.split(text)\n",
    "#findall,search,match\n",
    "text='''Dave dave@google.com\n",
    "Steve steve@gmail.com\n",
    "Rob rob@gmail.com\n",
    "Ryan ryan@yahoo.com'''\n",
    "pattern= r'[A-Z0-9._%+-]+@[A-Z0-9.-]+\\.[A-Z]{2,4}'\n",
    "regex=re.compile(pattern,flags=re.I)\n",
    "regex.findall(text)\n",
    "#search只返回匹配的第一个对象\n",
    "a=regex.search(text)\n",
    "a.start\n",
    "a.end\n",
    "#sub方法可以将匹配到的字符串替换为指定字符串(不改变原text)\n",
    "regex.sub('REDACTED',text)\n",
    "#分段\n",
    "pattern = r'([A-Z0-9._%+-]+)@([A-Z0-9.-]+)\\.([A-Z]{2,4})'\n",
    "regex1=re.compile(pattern,flags=re.I)\n",
    "regex1.findall(text)\n",
    "#字符串替换\n",
    "regex1.sub(r'Username: \\1, Domain: \\2, Suffix: \\3',text)\n"
   ]
  },
  {
   "cell_type": "markdown",
   "metadata": {},
   "source": [
    "### <font color='#00dddd'>2.pandas的矢量化函数</font>"
   ]
  },
  {
   "cell_type": "code",
   "execution_count": null,
   "metadata": {},
   "outputs": [],
   "source": [
    "#pandas的矢量化字符串函数\n",
    "#在进行字符串规整时，有时候会含有缺失数据\n",
    "import pandas as pd\n",
    "data = {'Dave': 'dave@google.com', 'Steve': 'steve@gmail.com',\n",
    "         'Rob': 'rob@gmail.com', 'Wes': np.nan}\n",
    "data=pd.Series(data)\n",
    "data.isnull()\n",
    "\n",
    "#在通过Series.map时，存在NA就会报错\n",
    "#Series有一些能够跳过NA值的方法，通过Series的str属性就可以访问这些方法比如Series.str.lower()\n",
    "#map作用于单个element\n",
    "data.map(str.lower)"
   ]
  }
 ],
 "metadata": {
  "kernelspec": {
   "display_name": "Python 3",
   "language": "python",
   "name": "python3"
  },
  "language_info": {
   "codemirror_mode": {
    "name": "ipython",
    "version": 3
   },
   "file_extension": ".py",
   "mimetype": "text/x-python",
   "name": "python",
   "nbconvert_exporter": "python",
   "pygments_lexer": "ipython3",
   "version": "3.6.4"
  }
 },
 "nbformat": 4,
 "nbformat_minor": 2
}

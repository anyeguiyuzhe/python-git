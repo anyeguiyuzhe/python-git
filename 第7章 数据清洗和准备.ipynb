{
 "cells": [
  {
   "cell_type": "markdown",
   "metadata": {},
   "source": [
    "# <center>第7章 数据清洗和准备</center>\n",
    "\n",
    "\n",
    "\n",
    "## 7.1 处理缺失数据\n",
    "\n",
    ">fillna(value=None, method=None, axis=None, inplace=False),value可以是数字，字典，Series或者DataFrame\n",
    "\n",
    ">dropna(axis=0, how='any'/'all', thresh=None, subset=None, inplace=False),axis=0表示丢弃存在缺失值的行。"
   ]
  },
  {
   "cell_type": "code",
   "execution_count": null,
   "metadata": {},
   "outputs": [],
   "source": [
    "import pandas as pd \n",
    "import numpy as np"
   ]
  },
  {
   "cell_type": "code",
   "execution_count": null,
   "metadata": {},
   "outputs": [],
   "source": [
    "data=pd.Series(['aardvark','artichoke',np.nan,'avocado'])\n",
    "data.isnull()\n",
    "\n",
    "#根据轴标签(对DataFrame适用)对缺失数据进行过滤\n",
    "data=pd.DataFrame({'language':{2001:'Java',2003:np.nan,2004:'vt'},\n",
    "                    'hello':{2001:'bb',2002:'djsl',2003:'ssss'}})\n",
    "#传入any丢弃所有含有空白值的行或列，传入all只丢弃全部是空白值的行或者列\n",
    "data.dropna(axis=1,how='any'/'all',thresh=None,inplace=False)\n",
    "\n",
    "#用fillna填充空白\n",
    "#可以传入字典，但此时 axis不能指定，只能按列填充\n",
    "data.fillna(value='a',axis=1,method={'backfill','bfill','pad'},inplace=True)"
   ]
  },
  {
   "cell_type": "markdown",
   "metadata": {},
   "source": [
    "## 7.2 数据转换"
   ]
  },
  {
   "cell_type": "markdown",
   "metadata": {},
   "source": [
    "### <font color=\"#00dddd\">1.重复数据</font>\n",
    "\n",
    ">pd.DataFrame.duplicated(subset,keep=['first','last','False']),检查各行是否存在重复值\n",
    "DataFrame.drop_duplicates(subset=None,keep='first',inplace=False),去除重复项，默认第一列"
   ]
  },
  {
   "cell_type": "code",
   "execution_count": 2,
   "metadata": {},
   "outputs": [],
   "source": [
    "import pandas as pd \n",
    "import numpy as np"
   ]
  },
  {
   "cell_type": "code",
   "execution_count": 5,
   "metadata": {},
   "outputs": [
    {
     "data": {
      "text/plain": [
       "0    False\n",
       "1    False\n",
       "2    False\n",
       "3    False\n",
       "4    False\n",
       "5    False\n",
       "6     True\n",
       "dtype: bool"
      ]
     },
     "execution_count": 5,
     "metadata": {},
     "output_type": "execute_result"
    },
    {
     "data": {
      "text/plain": [
       "0    False\n",
       "1    False\n",
       "2     True\n",
       "3     True\n",
       "4     True\n",
       "5     True\n",
       "6     True\n",
       "dtype: bool"
      ]
     },
     "execution_count": 5,
     "metadata": {},
     "output_type": "execute_result"
    },
    {
     "data": {
      "text/html": [
       "<div>\n",
       "<style scoped>\n",
       "    .dataframe tbody tr th:only-of-type {\n",
       "        vertical-align: middle;\n",
       "    }\n",
       "\n",
       "    .dataframe tbody tr th {\n",
       "        vertical-align: top;\n",
       "    }\n",
       "\n",
       "    .dataframe thead th {\n",
       "        text-align: right;\n",
       "    }\n",
       "</style>\n",
       "<table border=\"1\" class=\"dataframe\">\n",
       "  <thead>\n",
       "    <tr style=\"text-align: right;\">\n",
       "      <th></th>\n",
       "      <th>k1</th>\n",
       "      <th>k2</th>\n",
       "    </tr>\n",
       "  </thead>\n",
       "  <tbody>\n",
       "    <tr>\n",
       "      <th>0</th>\n",
       "      <td>one</td>\n",
       "      <td>1</td>\n",
       "    </tr>\n",
       "    <tr>\n",
       "      <th>1</th>\n",
       "      <td>two</td>\n",
       "      <td>1</td>\n",
       "    </tr>\n",
       "    <tr>\n",
       "      <th>2</th>\n",
       "      <td>one</td>\n",
       "      <td>2</td>\n",
       "    </tr>\n",
       "    <tr>\n",
       "      <th>3</th>\n",
       "      <td>two</td>\n",
       "      <td>3</td>\n",
       "    </tr>\n",
       "    <tr>\n",
       "      <th>4</th>\n",
       "      <td>one</td>\n",
       "      <td>3</td>\n",
       "    </tr>\n",
       "    <tr>\n",
       "      <th>5</th>\n",
       "      <td>two</td>\n",
       "      <td>4</td>\n",
       "    </tr>\n",
       "  </tbody>\n",
       "</table>\n",
       "</div>"
      ],
      "text/plain": [
       "    k1  k2\n",
       "0  one   1\n",
       "1  two   1\n",
       "2  one   2\n",
       "3  two   3\n",
       "4  one   3\n",
       "5  two   4"
      ]
     },
     "execution_count": 5,
     "metadata": {},
     "output_type": "execute_result"
    },
    {
     "data": {
      "text/html": [
       "<div>\n",
       "<style scoped>\n",
       "    .dataframe tbody tr th:only-of-type {\n",
       "        vertical-align: middle;\n",
       "    }\n",
       "\n",
       "    .dataframe tbody tr th {\n",
       "        vertical-align: top;\n",
       "    }\n",
       "\n",
       "    .dataframe thead th {\n",
       "        text-align: right;\n",
       "    }\n",
       "</style>\n",
       "<table border=\"1\" class=\"dataframe\">\n",
       "  <thead>\n",
       "    <tr style=\"text-align: right;\">\n",
       "      <th></th>\n",
       "      <th>k1</th>\n",
       "      <th>k2</th>\n",
       "    </tr>\n",
       "  </thead>\n",
       "  <tbody>\n",
       "    <tr>\n",
       "      <th>0</th>\n",
       "      <td>one</td>\n",
       "      <td>1</td>\n",
       "    </tr>\n",
       "    <tr>\n",
       "      <th>1</th>\n",
       "      <td>two</td>\n",
       "      <td>1</td>\n",
       "    </tr>\n",
       "    <tr>\n",
       "      <th>2</th>\n",
       "      <td>one</td>\n",
       "      <td>2</td>\n",
       "    </tr>\n",
       "    <tr>\n",
       "      <th>3</th>\n",
       "      <td>two</td>\n",
       "      <td>3</td>\n",
       "    </tr>\n",
       "    <tr>\n",
       "      <th>4</th>\n",
       "      <td>one</td>\n",
       "      <td>3</td>\n",
       "    </tr>\n",
       "    <tr>\n",
       "      <th>5</th>\n",
       "      <td>two</td>\n",
       "      <td>4</td>\n",
       "    </tr>\n",
       "  </tbody>\n",
       "</table>\n",
       "</div>"
      ],
      "text/plain": [
       "    k1  k2\n",
       "0  one   1\n",
       "1  two   1\n",
       "2  one   2\n",
       "3  two   3\n",
       "4  one   3\n",
       "5  two   4"
      ]
     },
     "execution_count": 5,
     "metadata": {},
     "output_type": "execute_result"
    }
   ],
   "source": [
    "data=pd.DataFrame({'k1':['one','two']*3+['two'],\n",
    "                    'k2':[1,1,2,3,3,4,4]})\n",
    "data.duplicated()\n",
    "#还可以指定检查某一列是否重复\n",
    "data.duplicated(['k1'])\n",
    "#自动过滤重复项，如果不指定列，就会默认第一列\n",
    "data.drop_duplicates()\n",
    "data.drop_duplicates(['k1','k2'])"
   ]
  },
  {
   "cell_type": "markdown",
   "metadata": {},
   "source": [
    "### <font color='#00dddd'>2.利用函数或者映射进行数据转换</font>\n",
    "\n",
    ">map是Series才有的方法，作用于Series的每一个元素，传入的转换方法可以是函数、字典或者Series。applymap则是DataFrame作用于每一个元素的方法"
   ]
  },
  {
   "cell_type": "code",
   "execution_count": 3,
   "metadata": {},
   "outputs": [
    {
     "name": "stdout",
     "output_type": "stream",
     "text": [
      "          food  ounces\n",
      "0        bacon     4.0\n",
      "1  pulled pork     3.0\n",
      "2        bacon    12.0\n",
      "3     pastrami     6.0\n",
      "4  corned beef     7.5\n",
      "5        bacon     8.0\n",
      "6     pastrami     3.0\n",
      "7    honey ham     5.0\n",
      "8     nova lox     6.0\n"
     ]
    },
    {
     "data": {
      "text/plain": [
       "0       pig\n",
       "1       pig\n",
       "2       pig\n",
       "3       cow\n",
       "4       cow\n",
       "5       pig\n",
       "6       cow\n",
       "7       pig\n",
       "8    salmon\n",
       "Name: food, dtype: object"
      ]
     },
     "execution_count": 3,
     "metadata": {},
     "output_type": "execute_result"
    }
   ],
   "source": [
    "data=pd.DataFrame({'food':['bacon','pulled pork','bacon','Pastrami','corned beef','Bacon','pastrami','honey ham','nova lox'],\n",
    "                    'ounces':[4,3,12,6,7.5,8,3,5,6]})\n",
    "meet_to_animal={\n",
    "    'bacon':'pig',\n",
    "    'pulled pork':'pig',\n",
    "    'pastrami':'cow',\n",
    "    'corned beef':'cow',\n",
    "    'honey ham':'pig',\n",
    "    'nova lox':'salmon'\n",
    "}\n",
    "data['food']=data['food'].str.lower()\n",
    "print(data)\n",
    "\n",
    "#转入字典和Series应该是差不多的\n",
    "data['type']=data['food'].map(meet_to_animal)\n",
    "\n",
    "#也可以传入一个能完成全部这些的函数\n",
    "data['food'].map(lambda x: meet_to_animal[x.lower()])"
   ]
  },
  {
   "cell_type": "markdown",
   "metadata": {},
   "source": [
    "\n",
    "### <font color='#00dddd'>3.替换值-'replace'</font>\n",
    "\n",
    ">DataFrame.repalce(to_replace,value,method,inplace=False),mothod是在没有传入value时的填充方法,有'ffill','bfill','None'等"
   ]
  },
  {
   "cell_type": "code",
   "execution_count": null,
   "metadata": {},
   "outputs": [],
   "source": [
    "import pandas as pd \n",
    "import numpy as np"
   ]
  },
  {
   "cell_type": "code",
   "execution_count": 1,
   "metadata": {
    "collapsed": true
   },
   "outputs": [
    {
     "name": "stdout",
     "output_type": "stream",
     "text": [
      "0      99\n",
      "1      -1\n",
      "2       3\n",
      "3       4\n",
      "4    -999\n",
      "5   -1000\n",
      "dtype: int64\n"
     ]
    },
    {
     "data": {
      "text/plain": [
       "0      4.0\n",
       "1     33.0\n",
       "2      3.0\n",
       "3      4.0\n",
       "4   -999.0\n",
       "5      NaN\n",
       "dtype: float64"
      ]
     },
     "execution_count": 1,
     "metadata": {},
     "output_type": "execute_result"
    }
   ],
   "source": [
    "data=pd.Series([99,-1,3,4,-999,-1000])\n",
    "print(data)\n",
    "data.replace(-999,np.nan)\n",
    "\n",
    "#一次替换多个值\n",
    "data.replace([99,-999],np.nan)\n",
    "\n",
    "#要让每个值有不同的替换值,传入一个值列表\n",
    "data.replace([99,-999],[np.nan,0])\n",
    "#利用字典替换\n",
    "dic={99:4,-1:33,-1000:np.nan}\n",
    "data.replace(dic,inplace=False)\n",
    "\n",
    "#Series/DataFrame.replace方法与Series/DataFrame.str.replace不同，后者做的是字符串的元素级替换"
   ]
  },
  {
   "cell_type": "markdown",
   "metadata": {},
   "source": [
    "\n",
    "### <font color='#00dddd'>4.重命名轴索引</font>\n",
    "\n",
    ">重命名轴索引,轴标签也可以通过函数映射进行转换，从而得到一个新的标签"
   ]
  },
  {
   "cell_type": "code",
   "execution_count": null,
   "metadata": {},
   "outputs": [],
   "source": [
    "import pandas as pd\n",
    "import numpy as np"
   ]
  },
  {
   "cell_type": "code",
   "execution_count": null,
   "metadata": {},
   "outputs": [],
   "source": [
    "data=pd.DataFrame(np.arange(12).reshape(3,4),\n",
    "                index=['ohio','colorabo','new york'],\n",
    "                columns=['one','two','three','four'])\n",
    "#跟Series一样，轴索引也有一个map方法\n",
    "transform=lambda x:x[:4].title()\n",
    "#直接赋值就可以修改索引了\n",
    "data.index=data.index.map(transform)\n",
    "#甚至你还可以修改columns\n",
    "data.columns.map(transform)\n",
    "#如果要创建数据集的转换版(而不是修改原始数据),比较实用的方法是rename\n",
    "#传入的str表示不变动,或者传入str.upper、str.title等等,你还可以传入字典\n",
    "#rename(self,index=str,columns=?,axis=?,inplace=False)\n",
    "data.rename(index=str.title,columns=str.upper)\n"
   ]
  },
  {
   "cell_type": "markdown",
   "metadata": {},
   "source": [
    "### <font color='#00dddd'>5.离散化和面元划分</font>\n",
    "\n",
    ">pd.cut是按数值分组,而pd.qcut是按分位数分组\n",
    "\n",
    "pd.cut(x,bins,right=True,labels=None"
   ]
  },
  {
   "cell_type": "code",
   "execution_count": null,
   "metadata": {},
   "outputs": [],
   "source": [
    "import pandas as pd \n",
    "import numpy as np"
   ]
  },
  {
   "cell_type": "code",
   "execution_count": 2,
   "metadata": {},
   "outputs": [],
   "source": [
    "age=np.random.randint(1,77,9)\n",
    "bins=[1,33,55,77]\n",
    "cat=pd.cut(age,bins=bins,right=True)\n",
    "cat.codes#组别\n",
    "cat.categories#分组区间\n",
    "#分组统计\n",
    "pd.value_counts(cat)\n",
    "#还可以自己传入组名\n",
    "group=['high','median','low','none']\n",
    "b=pd.cut(np.random.randn(20),4,labels=group)\n",
    "b.codes\n",
    "b.categories\n",
    "b.value_counts()\n",
    "\n",
    "#qcut,按分位数进行分组\n",
    "data=np.random.randn(1000)\n",
    "cats=pd.qcut(data,q=4)\n",
    "#自定义分位数\n",
    "interval=[0,0.2,0.4,0.8,1]\n",
    "cats=pd.qcut(data,interval)"
   ]
  },
  {
   "cell_type": "markdown",
   "metadata": {},
   "source": [
    "### <font color='#00dddd'>6.检测和过滤异常值</font>"
   ]
  },
  {
   "cell_type": "code",
   "execution_count": null,
   "metadata": {},
   "outputs": [],
   "source": [
    "import pandas as pd\n",
    "import numpy as np"
   ]
  },
  {
   "cell_type": "code",
   "execution_count": null,
   "metadata": {},
   "outputs": [],
   "source": [
    "data=pd.DataFrame(np.random.randn(1000,4))\n",
    "data.describe()\n",
    "#假如你想要找出某列中绝对值超过3的值:\n",
    "col=data[2]\n",
    "col[np.abs(col)>3]\n",
    "#找出有绝对值超过3的行\n",
    "data[(np.abs(data)>3).any(1)]\n",
    "#找出有绝对值超过3的列\n",
    "data[(np.abs(data)>3).any(0)]"
   ]
  },
  {
   "cell_type": "markdown",
   "metadata": {},
   "source": [
    "### <font color='#00dddd'>7.排列和随机取样</font>\n",
    "\n",
    ">DataFrame(n=None,axis=0,replace=False,weights=None)"
   ]
  },
  {
   "cell_type": "code",
   "execution_count": null,
   "metadata": {},
   "outputs": [],
   "source": [
    "import pandas as pd\n",
    "import numpy as np\n",
    "df=pd.DataFrame(np.arange(20).reshape(5,4))\n",
    "sample=np.random.permutation(5)\n",
    "sample\n",
    "df.take(sample)\n",
    "df.iloc(sample)\n",
    "#取样\n",
    "df.sample(3)\n",
    "\n",
    "#有放回的取样\n",
    "df.sample(6,replace=True)\n"
   ]
  },
  {
   "cell_type": "markdown",
   "metadata": {},
   "source": [
    "### <font color='#00dddd'>8.计算哑变量</font>\n",
    "\n",
    ">pd.get_dummies(data,prefix=None)"
   ]
  },
  {
   "cell_type": "code",
   "execution_count": null,
   "metadata": {},
   "outputs": [],
   "source": [
    "import pandas as pd\n",
    "import numpy as np\n",
    "\n",
    ">可以与面元划分相结合"
   ]
  },
  {
   "cell_type": "code",
   "execution_count": 6,
   "metadata": {},
   "outputs": [
    {
     "data": {
      "text/html": [
       "<div>\n",
       "<style scoped>\n",
       "    .dataframe tbody tr th:only-of-type {\n",
       "        vertical-align: middle;\n",
       "    }\n",
       "\n",
       "    .dataframe tbody tr th {\n",
       "        vertical-align: top;\n",
       "    }\n",
       "\n",
       "    .dataframe thead th {\n",
       "        text-align: right;\n",
       "    }\n",
       "</style>\n",
       "<table border=\"1\" class=\"dataframe\">\n",
       "  <thead>\n",
       "    <tr style=\"text-align: right;\">\n",
       "      <th></th>\n",
       "      <th>a</th>\n",
       "      <th>b</th>\n",
       "      <th>c</th>\n",
       "      <th>d</th>\n",
       "    </tr>\n",
       "  </thead>\n",
       "  <tbody>\n",
       "    <tr>\n",
       "      <th>0</th>\n",
       "      <td>1</td>\n",
       "      <td>0</td>\n",
       "      <td>0</td>\n",
       "      <td>0</td>\n",
       "    </tr>\n",
       "    <tr>\n",
       "      <th>1</th>\n",
       "      <td>0</td>\n",
       "      <td>1</td>\n",
       "      <td>0</td>\n",
       "      <td>0</td>\n",
       "    </tr>\n",
       "    <tr>\n",
       "      <th>2</th>\n",
       "      <td>0</td>\n",
       "      <td>0</td>\n",
       "      <td>1</td>\n",
       "      <td>0</td>\n",
       "    </tr>\n",
       "    <tr>\n",
       "      <th>3</th>\n",
       "      <td>0</td>\n",
       "      <td>0</td>\n",
       "      <td>0</td>\n",
       "      <td>1</td>\n",
       "    </tr>\n",
       "    <tr>\n",
       "      <th>4</th>\n",
       "      <td>0</td>\n",
       "      <td>1</td>\n",
       "      <td>0</td>\n",
       "      <td>0</td>\n",
       "    </tr>\n",
       "    <tr>\n",
       "      <th>5</th>\n",
       "      <td>0</td>\n",
       "      <td>0</td>\n",
       "      <td>1</td>\n",
       "      <td>0</td>\n",
       "    </tr>\n",
       "  </tbody>\n",
       "</table>\n",
       "</div>"
      ],
      "text/plain": [
       "   a  b  c  d\n",
       "0  1  0  0  0\n",
       "1  0  1  0  0\n",
       "2  0  0  1  0\n",
       "3  0  0  0  1\n",
       "4  0  1  0  0\n",
       "5  0  0  1  0"
      ]
     },
     "execution_count": 6,
     "metadata": {},
     "output_type": "execute_result"
    },
    {
     "data": {
      "text/html": [
       "<div>\n",
       "<style scoped>\n",
       "    .dataframe tbody tr th:only-of-type {\n",
       "        vertical-align: middle;\n",
       "    }\n",
       "\n",
       "    .dataframe tbody tr th {\n",
       "        vertical-align: top;\n",
       "    }\n",
       "\n",
       "    .dataframe thead th {\n",
       "        text-align: right;\n",
       "    }\n",
       "</style>\n",
       "<table border=\"1\" class=\"dataframe\">\n",
       "  <thead>\n",
       "    <tr style=\"text-align: right;\">\n",
       "      <th></th>\n",
       "      <th>keys_a</th>\n",
       "      <th>keys_b</th>\n",
       "      <th>keys_c</th>\n",
       "      <th>keys_d</th>\n",
       "    </tr>\n",
       "  </thead>\n",
       "  <tbody>\n",
       "    <tr>\n",
       "      <th>0</th>\n",
       "      <td>1</td>\n",
       "      <td>0</td>\n",
       "      <td>0</td>\n",
       "      <td>0</td>\n",
       "    </tr>\n",
       "    <tr>\n",
       "      <th>1</th>\n",
       "      <td>0</td>\n",
       "      <td>1</td>\n",
       "      <td>0</td>\n",
       "      <td>0</td>\n",
       "    </tr>\n",
       "    <tr>\n",
       "      <th>2</th>\n",
       "      <td>0</td>\n",
       "      <td>0</td>\n",
       "      <td>1</td>\n",
       "      <td>0</td>\n",
       "    </tr>\n",
       "    <tr>\n",
       "      <th>3</th>\n",
       "      <td>0</td>\n",
       "      <td>0</td>\n",
       "      <td>0</td>\n",
       "      <td>1</td>\n",
       "    </tr>\n",
       "    <tr>\n",
       "      <th>4</th>\n",
       "      <td>0</td>\n",
       "      <td>1</td>\n",
       "      <td>0</td>\n",
       "      <td>0</td>\n",
       "    </tr>\n",
       "    <tr>\n",
       "      <th>5</th>\n",
       "      <td>0</td>\n",
       "      <td>0</td>\n",
       "      <td>1</td>\n",
       "      <td>0</td>\n",
       "    </tr>\n",
       "  </tbody>\n",
       "</table>\n",
       "</div>"
      ],
      "text/plain": [
       "   keys_a  keys_b  keys_c  keys_d\n",
       "0       1       0       0       0\n",
       "1       0       1       0       0\n",
       "2       0       0       1       0\n",
       "3       0       0       0       1\n",
       "4       0       1       0       0\n",
       "5       0       0       1       0"
      ]
     },
     "execution_count": 6,
     "metadata": {},
     "output_type": "execute_result"
    },
    {
     "name": "stdout",
     "output_type": "stream",
     "text": [
      "[2 1 1 4 2 0 2 4 1 3]\n",
      "   (-0.004, 1.0]  (1.0, 2.0]  (2.0, 3.0]  (3.0, 4.0]\n",
      "0              0           1           0           0\n",
      "1              1           0           0           0\n",
      "2              1           0           0           0\n",
      "3              0           0           0           1\n",
      "4              0           1           0           0\n",
      "5              1           0           0           0\n",
      "6              0           1           0           0\n",
      "7              0           0           0           1\n",
      "8              1           0           0           0\n",
      "9              0           0           1           0\n"
     ]
    }
   ],
   "source": [
    "df=pd.DataFrame({'key':['a','b','c','d','b','c'],'data1':np.arange(6)})\n",
    "pd.get_dummies(df['key'])\n",
    "\n",
    "#给虚拟变量加前缀\n",
    "pd.get_dummies(df['key'],prefix='keys')"
   ]
  },
  {
   "cell_type": "markdown",
   "metadata": {},
   "source": [
    "\n",
    "# 7.3 字符串操作"
   ]
  },
  {
   "cell_type": "markdown",
   "metadata": {},
   "source": [
    "- Python内置的字符串方法"
   ]
  },
  {
   "cell_type": "code",
   "execution_count": null,
   "metadata": {},
   "outputs": [],
   "source": [
    "a='jfdlsjfs'\n",
    "b=['jfdl','djfd','avdd','ffff']\n",
    "len(a)\n",
    "a.split('f')\n",
    "'.'.join(a)\n",
    "'/'.join(b)\n",
    "#字符串定位\n",
    "a.index('f')#字符串不存在就会raise Error\n",
    "a.find(']')#不存在就会返回-1"
   ]
  },
  {
   "cell_type": "markdown",
   "metadata": {},
   "source": [
    "### <font color='#00dddd'>1.正则表达式</font>\n",
    "\n",
    ">分为三个模块--模式匹配、替换以及拆分"
   ]
  },
  {
   "cell_type": "code",
   "execution_count": null,
   "metadata": {},
   "outputs": [],
   "source": [
    "import re\n",
    "\n",
    "text=\"foo    bar\\t baz  \\tqux\"\n",
    "re.split('\\s+',text)\n",
    "\n",
    "#先把patter进行编译\n",
    "#如果打算对许多字符串应用同一条正则表达式，强烈建立通过re.compile先编译，可以节省CPU时间\n",
    "regex=re.compile(r'\\s+')\n",
    "regex.split(text)\n",
    "#findall,search,match\n",
    "text='''Dave dave@google.com\n",
    "Steve steve@gmail.com\n",
    "Rob rob@gmail.com\n",
    "Ryan ryan@yahoo.com'''\n",
    "pattern= r'[A-Z0-9._%+-]+@[A-Z0-9.-]+\\.[A-Z]{2,4}'\n",
    "regex=re.compile(pattern,flags=re.I)\n",
    "regex.findall(text)\n",
    "#search只返回匹配的第一个对象\n",
    "a=regex.search(text)\n",
    "a.start\n",
    "a.end\n",
    "#sub方法可以将匹配到的字符串替换为指定字符串(不改变原text)\n",
    "regex.sub('REDACTED',text)\n",
    "#分段\n",
    "pattern = r'([A-Z0-9._%+-]+)@([A-Z0-9.-]+)\\.([A-Z]{2,4})'\n",
    "regex1=re.compile(pattern,flags=re.I)\n",
    "regex1.findall(text)\n",
    "#字符串替换\n",
    "regex1.sub(r'Username: \\1, Domain: \\2, Suffix: \\3',text)\n"
   ]
  },
  {
   "cell_type": "markdown",
   "metadata": {},
   "source": [
    "### <font color='#00dddd'>2.pandas的矢量化函数</font>\n",
    "\n",
    ">进行字符串的规整工作。Series.map在存在缺失值时会报错"
   ]
  },
  {
   "cell_type": "code",
   "execution_count": 5,
   "metadata": {},
   "outputs": [],
   "source": [
    "import pandas as pd\n",
    "import numpy as np\n",
    "import re"
   ]
  },
  {
   "cell_type": "code",
   "execution_count": 6,
   "metadata": {},
   "outputs": [
    {
     "data": {
      "text/plain": [
       "Dave     False\n",
       "Steve    False\n",
       "Rob      False\n",
       "Wes       True\n",
       "dtype: bool"
      ]
     },
     "execution_count": 6,
     "metadata": {},
     "output_type": "execute_result"
    },
    {
     "data": {
      "text/plain": [
       "Dave     [(dave, google, com)]\n",
       "Steve    [(steve, gmail, com)]\n",
       "Rob        [(rob, gmail, com)]\n",
       "Wes                        NaN\n",
       "dtype: object"
      ]
     },
     "execution_count": 6,
     "metadata": {},
     "output_type": "execute_result"
    }
   ],
   "source": [
    "data = {'Dave': 'dave@google.com', 'Steve': 'steve@gmail.com',\n",
    "         'Rob': 'rob@gmail.com', 'Wes': np.nan}\n",
    "data=pd.Series(data)\n",
    "data.isnull()\n",
    "pattern='([A-Z0-9._%+-]+)@([A-Z0-9.-]+)\\\\.([A-Z]{2,4})'\n",
    "data.str.findall(pattern,flags=re.IGNORECASE)"
   ]
  },
  {
   "cell_type": "markdown",
   "metadata": {},
   "source": [
    "**下表介绍了更多的Pandas字符串方法**\n",
    "\n",
    "![图片](https://upload-images.jianshu.io/upload_images/7178691-a634364ed6d5d5c5.png?imageMogr2/auto-orient/strip|imageView2/2/format/webp)"
   ]
  }
 ],
 "metadata": {
  "kernelspec": {
   "display_name": "Python 3",
   "language": "python",
   "name": "python3"
  },
  "language_info": {
   "codemirror_mode": {
    "name": "ipython",
    "version": 3
   },
   "file_extension": ".py",
   "mimetype": "text/x-python",
   "name": "python",
   "nbconvert_exporter": "python",
   "pygments_lexer": "ipython3",
   "version": "3.6.4"
  }
 },
 "nbformat": 4,
 "nbformat_minor": 2
}

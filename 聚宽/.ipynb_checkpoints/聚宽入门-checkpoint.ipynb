{
 "cells": [
  {
   "cell_type": "markdown",
   "metadata": {},
   "source": [
    "# 1.获取基本信息\n",
    "\n",
    ">jqdata是在聚宽官网以及客户端调用数据使用的包，jddatasdk不支持聚源数据"
   ]
  },
  {
   "cell_type": "code",
   "execution_count": 3,
   "metadata": {},
   "outputs": [
    {
     "data": {
      "text/plain": [
       "{'spare': 988762, 'total': 1000000}"
      ]
     },
     "execution_count": 3,
     "metadata": {},
     "output_type": "execute_result"
    }
   ],
   "source": [
    "from jqdatasdk import *\n",
    "import pandas as pd\n",
    "import numpy as np\n",
    "\n",
    "#登录\n",
    "auth('17750593771','17750593771mwy')\n",
    "#查看当前版本\n",
    "__version__\n",
    "#当日剩余可调用条数\n",
    "get_query_count()"
   ]
  },
  {
   "cell_type": "markdown",
   "metadata": {},
   "source": [
    "|交易市场|代码后缀|\n",
    "|:-:|:-:|\n",
    "|上海证券交易所|.XSHG|\n",
    "|深圳证券交易所|.XSHE|\n",
    "|中金所|.CCFX|\n",
    "|大商所|.XDCE|\n",
    "|上期所|.XSGE|\n",
    "|郑商所|.XZCE|\n",
    "|上海国际能源期货交易所|.XINE|"
   ]
  },
  {
   "cell_type": "markdown",
   "metadata": {},
   "source": [
    "# 2.get_all_securities-获取所有标的信息"
   ]
  },
  {
   "cell_type": "code",
   "execution_count": 8,
   "metadata": {},
   "outputs": [
    {
     "name": "stdout",
     "output_type": "stream",
     "text": [
      "Help on function get_all_securities in module jqdatasdk.api:\n",
      "\n",
      "get_all_securities(types=[], date=None)\n",
      "    获取平台支持的所有股票、基金、指数、期货信息\n",
      "    \n",
      "    :param types list: 用来过滤securities的类型, list元素可选: ‘stock’, ‘fund’, ‘index’, ‘futures’, ‘etf’, ‘lof’, ‘fja’, ‘fjb’. types为空时返回所有股票, 不包括基金,指数和期货\n",
      "    :param date 日期, 一个字符串或者 datetime.datetime/datetime.date 对象, 用于获取某日期还在上市的股票信息. 默认值为 None, 表示获取所有日期的股票信息\n",
      "    :return pandas.DataFrame\n",
      "\n",
      "            display_name  name start_date   end_date   type\n",
      "000001.XSHE         平安银行  PAYH 1991-04-03 2200-01-01  stock\n",
      "000002.XSHE          万科A   WKA 1991-01-29 2200-01-01  stock\n",
      "000004.XSHE         国农科技  GNKJ 1990-12-01 2200-01-01  stock\n",
      "000005.XSHE         世纪星源  SJXY 1990-12-10 2200-01-01  stock\n",
      "000006.XSHE         深振业A  SZYA 1992-04-27 2200-01-01  stock\n",
      "            display_name  name start_date   end_date   type\n",
      "000001.XSHG         上证指数  SZZS 1991-07-15 2200-01-01  index\n",
      "000002.XSHG         A股指数  AGZS 1992-02-21 2200-01-01  index\n",
      "000003.XSHG         B股指数  BGZS 1992-02-21 2200-01-01  index\n",
      "000004.XSHG         工业指数  GYZS 1993-05-03 2200-01-01  index\n",
      "000005.XSHG         商业指数  SYZS 1993-05-03 2200-01-01  index\n"
     ]
    }
   ],
   "source": [
    "help(get_all_securities)\n",
    "#获取所有类型的证券代码\n",
    "data=get_all_securities()\n",
    "print(data.head())\n",
    "\n",
    "#获取指数代码\n",
    "print(get_all_securities(types='index').head())"
   ]
  },
  {
   "cell_type": "markdown",
   "metadata": {},
   "source": [
    "# 3.get_security_info 获取单个标的信息"
   ]
  },
  {
   "cell_type": "code",
   "execution_count": 15,
   "metadata": {},
   "outputs": [
    {
     "data": {
      "text/plain": [
       "'502048.XSHG'"
      ]
     },
     "execution_count": 15,
     "metadata": {},
     "output_type": "execute_result"
    }
   ],
   "source": [
    "get_security_info('502050.XSHG').parent\n",
    "get_price(security,start_date,end_data,frequency='daily')"
   ]
  },
  {
   "cell_type": "code",
   "execution_count": null,
   "metadata": {},
   "outputs": [],
   "source": []
  }
 ],
 "metadata": {
  "kernelspec": {
   "display_name": "Python 3",
   "language": "python",
   "name": "python3"
  },
  "language_info": {
   "codemirror_mode": {
    "name": "ipython",
    "version": 3
   },
   "file_extension": ".py",
   "mimetype": "text/x-python",
   "name": "python",
   "nbconvert_exporter": "python",
   "pygments_lexer": "ipython3",
   "version": "3.6.4"
  }
 },
 "nbformat": 4,
 "nbformat_minor": 2
}

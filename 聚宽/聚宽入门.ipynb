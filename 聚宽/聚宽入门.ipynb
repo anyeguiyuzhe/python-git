{
 "cells": [
  {
   "cell_type": "markdown",
   "metadata": {},
   "source": [
    "# 1.获取基本信息\n",
    "\n",
    ">jqdata是在聚宽官网以及客户端调用数据使用的包，jddatasdk不支持聚源数据"
   ]
  },
  {
   "cell_type": "code",
   "execution_count": 2,
   "metadata": {},
   "outputs": [
    {
     "name": "stdout",
     "output_type": "stream",
     "text": [
      "auth success  ( 聚宽第二届高频因子挑战赛正式启动，欢迎来战。详情查看大赛官方网页：http://suo.im/4SbA8A )\n"
     ]
    },
    {
     "data": {
      "text/plain": [
       "{'spare': 995264, 'total': 1000000}"
      ]
     },
     "execution_count": 2,
     "metadata": {},
     "output_type": "execute_result"
    }
   ],
   "source": [
    "from jqdatasdk import *\n",
    "import pandas as pd\n",
    "import numpy as np\n",
    "\n",
    "#登录\n",
    "auth('17750593771','17750593771mwy')\n",
    "#查看当前版本\n",
    "__version__\n",
    "#当日剩余可调用条数\n",
    "get_query_count()"
   ]
  },
  {
   "cell_type": "markdown",
   "metadata": {},
   "source": [
    "|交易市场|代码后缀|\n",
    "|:-:|:-:|\n",
    "|上海证券交易所|.XSHG|\n",
    "|深圳证券交易所|.XSHE|\n",
    "|中金所|.CCFX|\n",
    "|大商所|.XDCE|\n",
    "|上期所|.XSGE|\n",
    "|郑商所|.XZCE|\n",
    "|上海国际能源期货交易所|.XINE|"
   ]
  },
  {
   "cell_type": "markdown",
   "metadata": {},
   "source": [
    "# 2.get_all_securities-获取所有标的信息"
   ]
  },
  {
   "cell_type": "code",
   "execution_count": 8,
   "metadata": {},
   "outputs": [
    {
     "name": "stdout",
     "output_type": "stream",
     "text": [
      "Help on function get_all_securities in module jqdatasdk.api:\n",
      "\n",
      "get_all_securities(types=[], date=None)\n",
      "    获取平台支持的所有股票、基金、指数、期货信息\n",
      "    \n",
      "    :param types list: 用来过滤securities的类型, list元素可选: ‘stock’, ‘fund’, ‘index’, ‘futures’, ‘etf’, ‘lof’, ‘fja’, ‘fjb’. types为空时返回所有股票, 不包括基金,指数和期货\n",
      "    :param date 日期, 一个字符串或者 datetime.datetime/datetime.date 对象, 用于获取某日期还在上市的股票信息. 默认值为 None, 表示获取所有日期的股票信息\n",
      "    :return pandas.DataFrame\n",
      "\n",
      "            display_name  name start_date   end_date   type\n",
      "000001.XSHE         平安银行  PAYH 1991-04-03 2200-01-01  stock\n",
      "000002.XSHE          万科A   WKA 1991-01-29 2200-01-01  stock\n",
      "000004.XSHE         国农科技  GNKJ 1990-12-01 2200-01-01  stock\n",
      "000005.XSHE         世纪星源  SJXY 1990-12-10 2200-01-01  stock\n",
      "000006.XSHE         深振业A  SZYA 1992-04-27 2200-01-01  stock\n",
      "            display_name  name start_date   end_date   type\n",
      "000001.XSHG         上证指数  SZZS 1991-07-15 2200-01-01  index\n",
      "000002.XSHG         A股指数  AGZS 1992-02-21 2200-01-01  index\n",
      "000003.XSHG         B股指数  BGZS 1992-02-21 2200-01-01  index\n",
      "000004.XSHG         工业指数  GYZS 1993-05-03 2200-01-01  index\n",
      "000005.XSHG         商业指数  SYZS 1993-05-03 2200-01-01  index\n"
     ]
    }
   ],
   "source": [
    "help(get_all_securities)\n",
    "#获取所有类型的证券代码\n",
    "data=get_all_securities()\n",
    "print(data.head())\n",
    "\n",
    "#获取指数代码\n",
    "print(get_all_securities(types='index').head())"
   ]
  },
  {
   "cell_type": "markdown",
   "metadata": {},
   "source": [
    "# 3.获取指数成分股-get_index_stocks(index_symbol,data=None)"
   ]
  },
  {
   "cell_type": "code",
   "execution_count": 4,
   "metadata": {},
   "outputs": [
    {
     "data": {
      "text/plain": [
       "['000001.XSHE',\n",
       " '000002.XSHE',\n",
       " '000063.XSHE',\n",
       " '000069.XSHE',\n",
       " '000100.XSHE',\n",
       " '000157.XSHE',\n",
       " '000166.XSHE',\n",
       " '000333.XSHE',\n",
       " '000338.XSHE',\n",
       " '000402.XSHE',\n",
       " '000408.XSHE',\n",
       " '000413.XSHE',\n",
       " '000415.XSHE',\n",
       " '000423.XSHE',\n",
       " '000425.XSHE',\n",
       " '000538.XSHE',\n",
       " '000553.XSHE',\n",
       " '000568.XSHE',\n",
       " '000596.XSHE',\n",
       " '000625.XSHE']"
      ]
     },
     "execution_count": 4,
     "metadata": {},
     "output_type": "execute_result"
    }
   ],
   "source": [
    "#获取所有沪深300的股票\n",
    "stocks=get_index_stocks('000300.XSHG')\n",
    "stocks[0:20]"
   ]
  },
  {
   "cell_type": "markdown",
   "metadata": {},
   "source": [
    "# 4.获取股票行情数据\n",
    "\n",
    ">history(count,unit='1d',field='avg',securi"
   ]
  },
  {
   "cell_type": "code",
   "execution_count": 3,
   "metadata": {},
   "outputs": [
    {
     "ename": "NameError",
     "evalue": "name 'security' is not defined",
     "output_type": "error",
     "traceback": [
      "\u001b[1;31m---------------------------------------------------------------------------\u001b[0m",
      "\u001b[1;31mNameError\u001b[0m                                 Traceback (most recent call last)",
      "\u001b[1;32m<ipython-input-3-27cb31b2bd78>\u001b[0m in \u001b[0;36m<module>\u001b[1;34m()\u001b[0m\n\u001b[0;32m      1\u001b[0m \u001b[0mget_security_info\u001b[0m\u001b[1;33m(\u001b[0m\u001b[1;34m'502050.XSHG'\u001b[0m\u001b[1;33m)\u001b[0m\u001b[1;33m.\u001b[0m\u001b[0mparent\u001b[0m\u001b[1;33m\u001b[0m\u001b[0m\n\u001b[1;32m----> 2\u001b[1;33m \u001b[0mget_price\u001b[0m\u001b[1;33m(\u001b[0m\u001b[0msecurity\u001b[0m\u001b[1;33m,\u001b[0m\u001b[0mstart_date\u001b[0m\u001b[1;33m,\u001b[0m\u001b[0mend_data\u001b[0m\u001b[1;33m,\u001b[0m\u001b[0mfrequency\u001b[0m\u001b[1;33m=\u001b[0m\u001b[1;34m'daily'\u001b[0m\u001b[1;33m)\u001b[0m\u001b[1;33m\u001b[0m\u001b[0m\n\u001b[0m",
      "\u001b[1;31mNameError\u001b[0m: name 'security' is not defined"
     ]
    }
   ],
   "source": [
    "get_price(security,start_date,end_data,frequency='daily')\n"
   ]
  },
  {
   "cell_type": "markdown",
   "metadata": {},
   "source": [
    "# 4.下单"
   ]
  },
  {
   "cell_type": "code",
   "execution_count": null,
   "metadata": {},
   "outputs": [],
   "source": [
    "#1.order(security,amount)\n",
    "order('000001.XSHE',100)#买入100股平安银行\n",
    "#2.order_target(securiyt,amount)通过买卖将仓位调整至一定数量\n",
    "order('000003.XSHE',1000)\n",
    "#3.order_value(securiyt,value)买入一定价值的股票\n",
    "\n",
    "#4.order_target_value(security,value)\n"
   ]
  },
  {
   "cell_type": "markdown",
   "metadata": {},
   "source": [
    "# 5.context中的数据与条件判断\n",
    "\n",
    "![context的结构](https://image.joinquant.com/3f21926604474d702db5efe2c9154cb1)"
   ]
  },
  {
   "cell_type": "code",
   "execution_count": null,
   "metadata": {},
   "outputs": [],
   "source": [
    "#打印可用资金\n",
    "print(context.portfolio,available_cash)\n",
    "#打印运行频率\n",
    "print(context.run_params.frequency)\n",
    "#打印当前单位的开始时间\n",
    "print(context.current_dt)"
   ]
  },
  {
   "cell_type": "markdown",
   "metadata": {},
   "source": []
  },
  {
   "cell_type": "code",
   "execution_count": null,
   "metadata": {},
   "outputs": [],
   "source": []
  }
 ],
 "metadata": {
  "kernelspec": {
   "display_name": "Python 3",
   "language": "python",
   "name": "python3"
  },
  "language_info": {
   "codemirror_mode": {
    "name": "ipython",
    "version": 3
   },
   "file_extension": ".py",
   "mimetype": "text/x-python",
   "name": "python",
   "nbconvert_exporter": "python",
   "pygments_lexer": "ipython3",
   "version": "3.6.4"
  }
 },
 "nbformat": 4,
 "nbformat_minor": 2
}

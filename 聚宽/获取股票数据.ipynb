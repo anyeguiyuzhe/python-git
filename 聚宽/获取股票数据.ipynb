{
 "cells": [
  {
   "cell_type": "markdown",
   "metadata": {},
   "source": [
    "# 1.获取股票概况\n",
    "\n",
    ">jqdata是在聚宽官网以及客户端调用数据使用的包，jddatasdk不支持聚源数据"
   ]
  },
  {
   "cell_type": "code",
   "execution_count": 5,
   "metadata": {},
   "outputs": [
    {
     "output_type": "execute_result",
     "data": {
      "text/plain": [
       "'1.8.7'"
      ]
     },
     "metadata": {},
     "execution_count": 5
    },
    {
     "output_type": "execute_result",
     "data": {
      "text/plain": [
       "{'total': 1000000, 'spare': 1000000}"
      ]
     },
     "metadata": {},
     "execution_count": 5
    }
   ],
   "source": [
    "import jqdatasdk as jq\n",
    "import pandas as pd\n",
    "import numpy as np\n",
    "from datetime import datetime\n",
    "import matplotlib.pyplot as plt\n",
    "#登录\n",
    "jq.auth('17750593771','17750593771mwy')\n",
    "#查看当前版本\n",
    "jq.__version__\n",
    "#当日剩余可调用条数\n",
    "jq.get_query_count()"
   ]
  },
  {
   "source": [
    "|交易市场|代码后缀|\n",
    "|:-:|:-:|\n",
    "|上海证券交易所|.XSHG|\n",
    "|深圳证券交易所|.XSHE|\n",
    "|中金所|.CCFX|\n",
    "|大商所|.XDCE|\n",
    "|上期所|.XSGE|\n",
    "|郑商所|.XZCE|\n",
    "|上海国际能源期货交易所|.XINE|"
   ],
   "cell_type": "markdown",
   "metadata": {}
  },
  {
   "cell_type": "markdown",
   "metadata": {},
   "source": [
    "# 6.循环、多股票策略"
   ]
  },
  {
   "cell_type": "code",
   "execution_count": 7,
   "metadata": {},
   "outputs": [],
   "source": [
    "def initialize(context):\n",
    "    run_daily(period,time='every_bar')\n",
    "    g.security=['000001.XSHE','000002.XSHE']\n",
    "\n",
    "def peiode(context):\n",
    "    for i in g.security:\n",
    "        order(i,1000)\n"
   ]
  },
  {
   "cell_type": "markdown",
   "metadata": {},
   "source": [
    "## 1.获取股票概况\n",
    "\n",
    "### 获取单支股票信息(get_security_info)"
   ]
  },
  {
   "cell_type": "code",
   "execution_count": 6,
   "metadata": {},
   "outputs": [
    {
     "data": {
      "text/plain": [
       "000001.XSHE"
      ]
     },
     "execution_count": 6,
     "metadata": {},
     "output_type": "execute_result"
    }
   ],
   "source": [
    "get_security_info('000001.XSHE')#平安银行"
   ]
  },
  {
   "cell_type": "markdown",
   "metadata": {},
   "source": [
    "### 获取所有股票数据(get_all_securities)\n",
    "get_all_securities(types=['stock','fund','index','etf','lof','fja','fjb'],date)"
   ]
  },
  {
   "cell_type": "code",
   "execution_count": 8,
   "metadata": {},
   "outputs": [
    {
     "name": "stdout",
     "output_type": "stream",
     "text": [
      "Help on function get_all_securities in module jqdatasdk.api:\n",
      "\n",
      "get_all_securities(types=[], date=None)\n",
      "    获取平台支持的所有股票、基金、指数、期货信息\n",
      "    \n",
      "    :param types list: 用来过滤securities的类型, list元素可选: ‘stock’, ‘fund’, ‘index’, ‘futures’, ‘etf’, ‘lof’, ‘fja’, ‘fjb’. types为空时返回所有股票, 不包括基金,指数和期货\n",
      "    :param date 日期, 一个字符串或者 datetime.datetime/datetime.date 对象, 用于获取某日期还在上市的股票信息. 默认值为 None, 表示获取所有日期的股票信息\n",
      "    :return pandas.DataFrame\n",
      "\n"
     ]
    }
   ],
   "source": [
    "help(get_all_securities)"
   ]
  },
  {
   "cell_type": "code",
   "execution_count": 7,
   "metadata": {},
   "outputs": [
    {
     "data": {
      "text/html": [
       "<div>\n",
       "<style scoped>\n",
       "    .dataframe tbody tr th:only-of-type {\n",
       "        vertical-align: middle;\n",
       "    }\n",
       "\n",
       "    .dataframe tbody tr th {\n",
       "        vertical-align: top;\n",
       "    }\n",
       "\n",
       "    .dataframe thead th {\n",
       "        text-align: right;\n",
       "    }\n",
       "</style>\n",
       "<table border=\"1\" class=\"dataframe\">\n",
       "  <thead>\n",
       "    <tr style=\"text-align: right;\">\n",
       "      <th></th>\n",
       "      <th>display_name</th>\n",
       "      <th>name</th>\n",
       "      <th>start_date</th>\n",
       "      <th>end_date</th>\n",
       "      <th>type</th>\n",
       "    </tr>\n",
       "  </thead>\n",
       "  <tbody>\n",
       "    <tr>\n",
       "      <th>000001.XSHE</th>\n",
       "      <td>平安银行</td>\n",
       "      <td>PAYH</td>\n",
       "      <td>1991-04-03</td>\n",
       "      <td>2200-01-01</td>\n",
       "      <td>stock</td>\n",
       "    </tr>\n",
       "    <tr>\n",
       "      <th>000002.XSHE</th>\n",
       "      <td>万科A</td>\n",
       "      <td>WKA</td>\n",
       "      <td>1991-01-29</td>\n",
       "      <td>2200-01-01</td>\n",
       "      <td>stock</td>\n",
       "    </tr>\n",
       "    <tr>\n",
       "      <th>000004.XSHE</th>\n",
       "      <td>国农科技</td>\n",
       "      <td>GNKJ</td>\n",
       "      <td>1990-12-01</td>\n",
       "      <td>2200-01-01</td>\n",
       "      <td>stock</td>\n",
       "    </tr>\n",
       "    <tr>\n",
       "      <th>000005.XSHE</th>\n",
       "      <td>世纪星源</td>\n",
       "      <td>SJXY</td>\n",
       "      <td>1990-12-10</td>\n",
       "      <td>2200-01-01</td>\n",
       "      <td>stock</td>\n",
       "    </tr>\n",
       "    <tr>\n",
       "      <th>000006.XSHE</th>\n",
       "      <td>深振业A</td>\n",
       "      <td>SZYA</td>\n",
       "      <td>1992-04-27</td>\n",
       "      <td>2200-01-01</td>\n",
       "      <td>stock</td>\n",
       "    </tr>\n",
       "    <tr>\n",
       "      <th>...</th>\n",
       "      <td>...</td>\n",
       "      <td>...</td>\n",
       "      <td>...</td>\n",
       "      <td>...</td>\n",
       "      <td>...</td>\n",
       "    </tr>\n",
       "    <tr>\n",
       "      <th>688388.XSHG</th>\n",
       "      <td>嘉元科技</td>\n",
       "      <td>JYKJ</td>\n",
       "      <td>2019-07-22</td>\n",
       "      <td>2200-01-01</td>\n",
       "      <td>stock</td>\n",
       "    </tr>\n",
       "    <tr>\n",
       "      <th>688389.XSHG</th>\n",
       "      <td>普门科技</td>\n",
       "      <td>PMKJ</td>\n",
       "      <td>2019-11-05</td>\n",
       "      <td>2200-01-01</td>\n",
       "      <td>stock</td>\n",
       "    </tr>\n",
       "    <tr>\n",
       "      <th>688396.XSHG</th>\n",
       "      <td>华润微</td>\n",
       "      <td>HRW</td>\n",
       "      <td>2020-02-27</td>\n",
       "      <td>2200-01-01</td>\n",
       "      <td>stock</td>\n",
       "    </tr>\n",
       "    <tr>\n",
       "      <th>688398.XSHG</th>\n",
       "      <td>赛特新材</td>\n",
       "      <td>STXC</td>\n",
       "      <td>2020-02-11</td>\n",
       "      <td>2200-01-01</td>\n",
       "      <td>stock</td>\n",
       "    </tr>\n",
       "    <tr>\n",
       "      <th>688399.XSHG</th>\n",
       "      <td>硕世生物</td>\n",
       "      <td>SSSW</td>\n",
       "      <td>2019-12-05</td>\n",
       "      <td>2200-01-01</td>\n",
       "      <td>stock</td>\n",
       "    </tr>\n",
       "  </tbody>\n",
       "</table>\n",
       "<p>3816 rows × 5 columns</p>\n",
       "</div>"
      ],
      "text/plain": [
       "            display_name  name start_date   end_date   type\n",
       "000001.XSHE         平安银行  PAYH 1991-04-03 2200-01-01  stock\n",
       "000002.XSHE          万科A   WKA 1991-01-29 2200-01-01  stock\n",
       "000004.XSHE         国农科技  GNKJ 1990-12-01 2200-01-01  stock\n",
       "000005.XSHE         世纪星源  SJXY 1990-12-10 2200-01-01  stock\n",
       "000006.XSHE         深振业A  SZYA 1992-04-27 2200-01-01  stock\n",
       "...                  ...   ...        ...        ...    ...\n",
       "688388.XSHG         嘉元科技  JYKJ 2019-07-22 2200-01-01  stock\n",
       "688389.XSHG         普门科技  PMKJ 2019-11-05 2200-01-01  stock\n",
       "688396.XSHG          华润微   HRW 2020-02-27 2200-01-01  stock\n",
       "688398.XSHG         赛特新材  STXC 2020-02-11 2200-01-01  stock\n",
       "688399.XSHG         硕世生物  SSSW 2019-12-05 2200-01-01  stock\n",
       "\n",
       "[3816 rows x 5 columns]"
      ]
     },
     "execution_count": 7,
     "metadata": {},
     "output_type": "execute_result"
    }
   ],
   "source": [
    "get_all_securities(types=['stock'],date='2020-4-10')"
   ]
  },
  {
   "cell_type": "markdown",
   "metadata": {},
   "source": [
    "### 判断股票是否是ST\n",
    "get_extras(info='is_st',security_list,start_date,end_date,df=True)"
   ]
  },
  {
   "cell_type": "code",
   "execution_count": 15,
   "metadata": {},
   "outputs": [
    {
     "data": {
      "text/html": [
       "<div>\n",
       "<style scoped>\n",
       "    .dataframe tbody tr th:only-of-type {\n",
       "        vertical-align: middle;\n",
       "    }\n",
       "\n",
       "    .dataframe tbody tr th {\n",
       "        vertical-align: top;\n",
       "    }\n",
       "\n",
       "    .dataframe thead th {\n",
       "        text-align: right;\n",
       "    }\n",
       "</style>\n",
       "<table border=\"1\" class=\"dataframe\">\n",
       "  <thead>\n",
       "    <tr style=\"text-align: right;\">\n",
       "      <th></th>\n",
       "      <th>000001.XSHE</th>\n",
       "      <th>000002.XSHE</th>\n",
       "      <th>000004.XSHE</th>\n",
       "      <th>000005.XSHE</th>\n",
       "      <th>000006.XSHE</th>\n",
       "      <th>000007.XSHE</th>\n",
       "      <th>000008.XSHE</th>\n",
       "      <th>000009.XSHE</th>\n",
       "      <th>000010.XSHE</th>\n",
       "      <th>000011.XSHE</th>\n",
       "      <th>000012.XSHE</th>\n",
       "      <th>000014.XSHE</th>\n",
       "      <th>000016.XSHE</th>\n",
       "      <th>000017.XSHE</th>\n",
       "      <th>000018.XSHE</th>\n",
       "      <th>000019.XSHE</th>\n",
       "      <th>000020.XSHE</th>\n",
       "      <th>000021.XSHE</th>\n",
       "      <th>000022.XSHE</th>\n",
       "      <th>000023.XSHE</th>\n",
       "    </tr>\n",
       "  </thead>\n",
       "  <tbody>\n",
       "    <tr>\n",
       "      <th>2020-01-02</th>\n",
       "      <td>False</td>\n",
       "      <td>False</td>\n",
       "      <td>False</td>\n",
       "      <td>False</td>\n",
       "      <td>False</td>\n",
       "      <td>False</td>\n",
       "      <td>False</td>\n",
       "      <td>False</td>\n",
       "      <td>True</td>\n",
       "      <td>False</td>\n",
       "      <td>False</td>\n",
       "      <td>False</td>\n",
       "      <td>False</td>\n",
       "      <td>False</td>\n",
       "      <td>True</td>\n",
       "      <td>False</td>\n",
       "      <td>False</td>\n",
       "      <td>False</td>\n",
       "      <td>False</td>\n",
       "      <td>False</td>\n",
       "    </tr>\n",
       "    <tr>\n",
       "      <th>2020-01-03</th>\n",
       "      <td>False</td>\n",
       "      <td>False</td>\n",
       "      <td>False</td>\n",
       "      <td>False</td>\n",
       "      <td>False</td>\n",
       "      <td>False</td>\n",
       "      <td>False</td>\n",
       "      <td>False</td>\n",
       "      <td>True</td>\n",
       "      <td>False</td>\n",
       "      <td>False</td>\n",
       "      <td>False</td>\n",
       "      <td>False</td>\n",
       "      <td>False</td>\n",
       "      <td>True</td>\n",
       "      <td>False</td>\n",
       "      <td>False</td>\n",
       "      <td>False</td>\n",
       "      <td>False</td>\n",
       "      <td>False</td>\n",
       "    </tr>\n",
       "    <tr>\n",
       "      <th>2020-01-06</th>\n",
       "      <td>False</td>\n",
       "      <td>False</td>\n",
       "      <td>False</td>\n",
       "      <td>False</td>\n",
       "      <td>False</td>\n",
       "      <td>False</td>\n",
       "      <td>False</td>\n",
       "      <td>False</td>\n",
       "      <td>True</td>\n",
       "      <td>False</td>\n",
       "      <td>False</td>\n",
       "      <td>False</td>\n",
       "      <td>False</td>\n",
       "      <td>False</td>\n",
       "      <td>True</td>\n",
       "      <td>False</td>\n",
       "      <td>False</td>\n",
       "      <td>False</td>\n",
       "      <td>False</td>\n",
       "      <td>False</td>\n",
       "    </tr>\n",
       "    <tr>\n",
       "      <th>2020-01-07</th>\n",
       "      <td>False</td>\n",
       "      <td>False</td>\n",
       "      <td>False</td>\n",
       "      <td>False</td>\n",
       "      <td>False</td>\n",
       "      <td>False</td>\n",
       "      <td>False</td>\n",
       "      <td>False</td>\n",
       "      <td>True</td>\n",
       "      <td>False</td>\n",
       "      <td>False</td>\n",
       "      <td>False</td>\n",
       "      <td>False</td>\n",
       "      <td>False</td>\n",
       "      <td>True</td>\n",
       "      <td>False</td>\n",
       "      <td>False</td>\n",
       "      <td>False</td>\n",
       "      <td>False</td>\n",
       "      <td>False</td>\n",
       "    </tr>\n",
       "    <tr>\n",
       "      <th>2020-01-08</th>\n",
       "      <td>False</td>\n",
       "      <td>False</td>\n",
       "      <td>False</td>\n",
       "      <td>False</td>\n",
       "      <td>False</td>\n",
       "      <td>False</td>\n",
       "      <td>False</td>\n",
       "      <td>False</td>\n",
       "      <td>True</td>\n",
       "      <td>False</td>\n",
       "      <td>False</td>\n",
       "      <td>False</td>\n",
       "      <td>False</td>\n",
       "      <td>False</td>\n",
       "      <td>True</td>\n",
       "      <td>False</td>\n",
       "      <td>False</td>\n",
       "      <td>False</td>\n",
       "      <td>False</td>\n",
       "      <td>False</td>\n",
       "    </tr>\n",
       "    <tr>\n",
       "      <th>2020-01-09</th>\n",
       "      <td>False</td>\n",
       "      <td>False</td>\n",
       "      <td>False</td>\n",
       "      <td>False</td>\n",
       "      <td>False</td>\n",
       "      <td>False</td>\n",
       "      <td>False</td>\n",
       "      <td>False</td>\n",
       "      <td>True</td>\n",
       "      <td>False</td>\n",
       "      <td>False</td>\n",
       "      <td>False</td>\n",
       "      <td>False</td>\n",
       "      <td>False</td>\n",
       "      <td>True</td>\n",
       "      <td>False</td>\n",
       "      <td>False</td>\n",
       "      <td>False</td>\n",
       "      <td>False</td>\n",
       "      <td>False</td>\n",
       "    </tr>\n",
       "    <tr>\n",
       "      <th>2020-01-10</th>\n",
       "      <td>False</td>\n",
       "      <td>False</td>\n",
       "      <td>False</td>\n",
       "      <td>False</td>\n",
       "      <td>False</td>\n",
       "      <td>False</td>\n",
       "      <td>False</td>\n",
       "      <td>False</td>\n",
       "      <td>True</td>\n",
       "      <td>False</td>\n",
       "      <td>False</td>\n",
       "      <td>False</td>\n",
       "      <td>False</td>\n",
       "      <td>False</td>\n",
       "      <td>True</td>\n",
       "      <td>False</td>\n",
       "      <td>False</td>\n",
       "      <td>False</td>\n",
       "      <td>False</td>\n",
       "      <td>False</td>\n",
       "    </tr>\n",
       "    <tr>\n",
       "      <th>2020-01-13</th>\n",
       "      <td>False</td>\n",
       "      <td>False</td>\n",
       "      <td>False</td>\n",
       "      <td>False</td>\n",
       "      <td>False</td>\n",
       "      <td>False</td>\n",
       "      <td>False</td>\n",
       "      <td>False</td>\n",
       "      <td>True</td>\n",
       "      <td>False</td>\n",
       "      <td>False</td>\n",
       "      <td>False</td>\n",
       "      <td>False</td>\n",
       "      <td>False</td>\n",
       "      <td>True</td>\n",
       "      <td>False</td>\n",
       "      <td>False</td>\n",
       "      <td>False</td>\n",
       "      <td>False</td>\n",
       "      <td>False</td>\n",
       "    </tr>\n",
       "    <tr>\n",
       "      <th>2020-01-14</th>\n",
       "      <td>False</td>\n",
       "      <td>False</td>\n",
       "      <td>False</td>\n",
       "      <td>False</td>\n",
       "      <td>False</td>\n",
       "      <td>False</td>\n",
       "      <td>False</td>\n",
       "      <td>False</td>\n",
       "      <td>True</td>\n",
       "      <td>False</td>\n",
       "      <td>False</td>\n",
       "      <td>False</td>\n",
       "      <td>False</td>\n",
       "      <td>False</td>\n",
       "      <td>True</td>\n",
       "      <td>False</td>\n",
       "      <td>False</td>\n",
       "      <td>False</td>\n",
       "      <td>False</td>\n",
       "      <td>False</td>\n",
       "    </tr>\n",
       "    <tr>\n",
       "      <th>2020-01-15</th>\n",
       "      <td>False</td>\n",
       "      <td>False</td>\n",
       "      <td>False</td>\n",
       "      <td>False</td>\n",
       "      <td>False</td>\n",
       "      <td>False</td>\n",
       "      <td>False</td>\n",
       "      <td>False</td>\n",
       "      <td>True</td>\n",
       "      <td>False</td>\n",
       "      <td>False</td>\n",
       "      <td>False</td>\n",
       "      <td>False</td>\n",
       "      <td>False</td>\n",
       "      <td>True</td>\n",
       "      <td>False</td>\n",
       "      <td>False</td>\n",
       "      <td>False</td>\n",
       "      <td>False</td>\n",
       "      <td>False</td>\n",
       "    </tr>\n",
       "    <tr>\n",
       "      <th>2020-01-16</th>\n",
       "      <td>False</td>\n",
       "      <td>False</td>\n",
       "      <td>False</td>\n",
       "      <td>False</td>\n",
       "      <td>False</td>\n",
       "      <td>False</td>\n",
       "      <td>False</td>\n",
       "      <td>False</td>\n",
       "      <td>True</td>\n",
       "      <td>False</td>\n",
       "      <td>False</td>\n",
       "      <td>False</td>\n",
       "      <td>False</td>\n",
       "      <td>False</td>\n",
       "      <td>True</td>\n",
       "      <td>False</td>\n",
       "      <td>False</td>\n",
       "      <td>False</td>\n",
       "      <td>False</td>\n",
       "      <td>False</td>\n",
       "    </tr>\n",
       "    <tr>\n",
       "      <th>2020-01-17</th>\n",
       "      <td>False</td>\n",
       "      <td>False</td>\n",
       "      <td>False</td>\n",
       "      <td>False</td>\n",
       "      <td>False</td>\n",
       "      <td>False</td>\n",
       "      <td>False</td>\n",
       "      <td>False</td>\n",
       "      <td>True</td>\n",
       "      <td>False</td>\n",
       "      <td>False</td>\n",
       "      <td>False</td>\n",
       "      <td>False</td>\n",
       "      <td>False</td>\n",
       "      <td>True</td>\n",
       "      <td>False</td>\n",
       "      <td>False</td>\n",
       "      <td>False</td>\n",
       "      <td>False</td>\n",
       "      <td>False</td>\n",
       "    </tr>\n",
       "  </tbody>\n",
       "</table>\n",
       "</div>"
      ],
      "text/plain": [
       "            000001.XSHE  000002.XSHE  000004.XSHE  000005.XSHE  000006.XSHE  \\\n",
       "2020-01-02        False        False        False        False        False   \n",
       "2020-01-03        False        False        False        False        False   \n",
       "2020-01-06        False        False        False        False        False   \n",
       "2020-01-07        False        False        False        False        False   \n",
       "2020-01-08        False        False        False        False        False   \n",
       "2020-01-09        False        False        False        False        False   \n",
       "2020-01-10        False        False        False        False        False   \n",
       "2020-01-13        False        False        False        False        False   \n",
       "2020-01-14        False        False        False        False        False   \n",
       "2020-01-15        False        False        False        False        False   \n",
       "2020-01-16        False        False        False        False        False   \n",
       "2020-01-17        False        False        False        False        False   \n",
       "\n",
       "            000007.XSHE  000008.XSHE  000009.XSHE  000010.XSHE  000011.XSHE  \\\n",
       "2020-01-02        False        False        False         True        False   \n",
       "2020-01-03        False        False        False         True        False   \n",
       "2020-01-06        False        False        False         True        False   \n",
       "2020-01-07        False        False        False         True        False   \n",
       "2020-01-08        False        False        False         True        False   \n",
       "2020-01-09        False        False        False         True        False   \n",
       "2020-01-10        False        False        False         True        False   \n",
       "2020-01-13        False        False        False         True        False   \n",
       "2020-01-14        False        False        False         True        False   \n",
       "2020-01-15        False        False        False         True        False   \n",
       "2020-01-16        False        False        False         True        False   \n",
       "2020-01-17        False        False        False         True        False   \n",
       "\n",
       "            000012.XSHE  000014.XSHE  000016.XSHE  000017.XSHE  000018.XSHE  \\\n",
       "2020-01-02        False        False        False        False         True   \n",
       "2020-01-03        False        False        False        False         True   \n",
       "2020-01-06        False        False        False        False         True   \n",
       "2020-01-07        False        False        False        False         True   \n",
       "2020-01-08        False        False        False        False         True   \n",
       "2020-01-09        False        False        False        False         True   \n",
       "2020-01-10        False        False        False        False         True   \n",
       "2020-01-13        False        False        False        False         True   \n",
       "2020-01-14        False        False        False        False         True   \n",
       "2020-01-15        False        False        False        False         True   \n",
       "2020-01-16        False        False        False        False         True   \n",
       "2020-01-17        False        False        False        False         True   \n",
       "\n",
       "            000019.XSHE  000020.XSHE  000021.XSHE  000022.XSHE  000023.XSHE  \n",
       "2020-01-02        False        False        False        False        False  \n",
       "2020-01-03        False        False        False        False        False  \n",
       "2020-01-06        False        False        False        False        False  \n",
       "2020-01-07        False        False        False        False        False  \n",
       "2020-01-08        False        False        False        False        False  \n",
       "2020-01-09        False        False        False        False        False  \n",
       "2020-01-10        False        False        False        False        False  \n",
       "2020-01-13        False        False        False        False        False  \n",
       "2020-01-14        False        False        False        False        False  \n",
       "2020-01-15        False        False        False        False        False  \n",
       "2020-01-16        False        False        False        False        False  \n",
       "2020-01-17        False        False        False        False        False  "
      ]
     },
     "execution_count": 15,
     "metadata": {},
     "output_type": "execute_result"
    }
   ],
   "source": [
    "get_extras(info='is_st',security_list=list(stock.index[0:20]),start_date='2020-01-01',end_date='2020-01-17')"
   ]
  },
  {
   "cell_type": "markdown",
   "metadata": {},
   "source": [
    "### 获取股票的融资融券信息\n",
    "get_mtss(security_list,start_date,end_date,fields=None)\n",
    "fields默认为None，表示取全部字段，各字段含义如下\n",
    "\n",
    "|字段名|含义|\n",
    "|:-:|:-:|\n",
    "|date|日期|\n",
    "|sec_code|股票日期|\n",
    "|fin_value|融资余额|\n",
    "|fin_buy_value|融资买入额|\n",
    "|fin_refund_value|融资偿还额|\n",
    "|sec_value|融资余量|\n",
    "|sec_sell_value|融资卖出量|\n",
    "|sec_refund_value|融资偿还股|\n",
    "|fin_sec_value|融资融券余额|"
   ]
  },
  {
   "cell_type": "code",
   "execution_count": 19,
   "metadata": {},
   "outputs": [
    {
     "data": {
      "text/html": [
       "<div>\n",
       "<style scoped>\n",
       "    .dataframe tbody tr th:only-of-type {\n",
       "        vertical-align: middle;\n",
       "    }\n",
       "\n",
       "    .dataframe tbody tr th {\n",
       "        vertical-align: top;\n",
       "    }\n",
       "\n",
       "    .dataframe thead th {\n",
       "        text-align: right;\n",
       "    }\n",
       "</style>\n",
       "<table border=\"1\" class=\"dataframe\">\n",
       "  <thead>\n",
       "    <tr style=\"text-align: right;\">\n",
       "      <th></th>\n",
       "      <th>date</th>\n",
       "      <th>sec_code</th>\n",
       "      <th>fin_value</th>\n",
       "      <th>fin_buy_value</th>\n",
       "      <th>fin_refund_value</th>\n",
       "      <th>sec_value</th>\n",
       "      <th>sec_sell_value</th>\n",
       "      <th>sec_refund_value</th>\n",
       "      <th>fin_sec_value</th>\n",
       "    </tr>\n",
       "  </thead>\n",
       "  <tbody>\n",
       "    <tr>\n",
       "      <th>0</th>\n",
       "      <td>2020-01-02</td>\n",
       "      <td>000001.XSHE</td>\n",
       "      <td>3.475769e+09</td>\n",
       "      <td>272825035.0</td>\n",
       "      <td>285237966.0</td>\n",
       "      <td>1827136.0</td>\n",
       "      <td>410240.0</td>\n",
       "      <td>106378.0</td>\n",
       "      <td>3.506593e+09</td>\n",
       "    </tr>\n",
       "    <tr>\n",
       "      <th>1</th>\n",
       "      <td>2020-01-03</td>\n",
       "      <td>000001.XSHE</td>\n",
       "      <td>3.431823e+09</td>\n",
       "      <td>185087645.0</td>\n",
       "      <td>229033330.0</td>\n",
       "      <td>2147496.0</td>\n",
       "      <td>518500.0</td>\n",
       "      <td>198140.0</td>\n",
       "      <td>3.468717e+09</td>\n",
       "    </tr>\n",
       "  </tbody>\n",
       "</table>\n",
       "</div>"
      ],
      "text/plain": [
       "        date     sec_code     fin_value  fin_buy_value  fin_refund_value  \\\n",
       "0 2020-01-02  000001.XSHE  3.475769e+09    272825035.0       285237966.0   \n",
       "1 2020-01-03  000001.XSHE  3.431823e+09    185087645.0       229033330.0   \n",
       "\n",
       "   sec_value  sec_sell_value  sec_refund_value  fin_sec_value  \n",
       "0  1827136.0        410240.0          106378.0   3.506593e+09  \n",
       "1  2147496.0        518500.0          198140.0   3.468717e+09  "
      ]
     },
     "execution_count": 19,
     "metadata": {},
     "output_type": "execute_result"
    }
   ],
   "source": [
    "get_mtss(security_list='000001.XSHE',start_date='2020-01-01',end_date='2020-01-05')"
   ]
  },
  {
   "cell_type": "markdown",
   "metadata": {},
   "source": [
    "## 股票分类信息\n",
    "\n",
    "### 获取指数成分股\n",
    "get_index_stocks(index_symbol,date=None)"
   ]
  },
  {
   "cell_type": "code",
   "execution_count": 32,
   "metadata": {},
   "outputs": [
    {
     "data": {
      "text/html": [
       "<div>\n",
       "<style scoped>\n",
       "    .dataframe tbody tr th:only-of-type {\n",
       "        vertical-align: middle;\n",
       "    }\n",
       "\n",
       "    .dataframe tbody tr th {\n",
       "        vertical-align: top;\n",
       "    }\n",
       "\n",
       "    .dataframe thead th {\n",
       "        text-align: right;\n",
       "    }\n",
       "</style>\n",
       "<table border=\"1\" class=\"dataframe\">\n",
       "  <thead>\n",
       "    <tr style=\"text-align: right;\">\n",
       "      <th></th>\n",
       "      <th>display_name</th>\n",
       "      <th>name</th>\n",
       "      <th>start_date</th>\n",
       "      <th>end_date</th>\n",
       "      <th>type</th>\n",
       "    </tr>\n",
       "  </thead>\n",
       "  <tbody>\n",
       "    <tr>\n",
       "      <th>000001.XSHG</th>\n",
       "      <td>上证指数</td>\n",
       "      <td>SZZS</td>\n",
       "      <td>1991-07-15</td>\n",
       "      <td>2200-01-01</td>\n",
       "      <td>index</td>\n",
       "    </tr>\n",
       "    <tr>\n",
       "      <th>000002.XSHG</th>\n",
       "      <td>A股指数</td>\n",
       "      <td>AGZS</td>\n",
       "      <td>1992-02-21</td>\n",
       "      <td>2200-01-01</td>\n",
       "      <td>index</td>\n",
       "    </tr>\n",
       "    <tr>\n",
       "      <th>000003.XSHG</th>\n",
       "      <td>B股指数</td>\n",
       "      <td>BGZS</td>\n",
       "      <td>1992-02-21</td>\n",
       "      <td>2200-01-01</td>\n",
       "      <td>index</td>\n",
       "    </tr>\n",
       "    <tr>\n",
       "      <th>000004.XSHG</th>\n",
       "      <td>工业指数</td>\n",
       "      <td>GYZS</td>\n",
       "      <td>1993-05-03</td>\n",
       "      <td>2200-01-01</td>\n",
       "      <td>index</td>\n",
       "    </tr>\n",
       "    <tr>\n",
       "      <th>000005.XSHG</th>\n",
       "      <td>商业指数</td>\n",
       "      <td>SYZS</td>\n",
       "      <td>1993-05-03</td>\n",
       "      <td>2200-01-01</td>\n",
       "      <td>index</td>\n",
       "    </tr>\n",
       "  </tbody>\n",
       "</table>\n",
       "</div>"
      ],
      "text/plain": [
       "            display_name  name start_date   end_date   type\n",
       "000001.XSHG         上证指数  SZZS 1991-07-15 2200-01-01  index\n",
       "000002.XSHG         A股指数  AGZS 1992-02-21 2200-01-01  index\n",
       "000003.XSHG         B股指数  BGZS 1992-02-21 2200-01-01  index\n",
       "000004.XSHG         工业指数  GYZS 1993-05-03 2200-01-01  index\n",
       "000005.XSHG         商业指数  SYZS 1993-05-03 2200-01-01  index"
      ]
     },
     "execution_count": 32,
     "metadata": {},
     "output_type": "execute_result"
    },
    {
     "data": {
      "text/plain": [
       "['600000.XSHG',\n",
       " '600004.XSHG',\n",
       " '600006.XSHG',\n",
       " '600007.XSHG',\n",
       " '600008.XSHG',\n",
       " '600009.XSHG',\n",
       " '600010.XSHG',\n",
       " '600011.XSHG',\n",
       " '600012.XSHG',\n",
       " '600015.XSHG']"
      ]
     },
     "execution_count": 32,
     "metadata": {},
     "output_type": "execute_result"
    },
    {
     "data": {
      "text/plain": [
       "600000.XSHG"
      ]
     },
     "execution_count": 32,
     "metadata": {},
     "output_type": "execute_result"
    }
   ],
   "source": [
    "index=get_all_securities(types='index',date='2020-01-01')\n",
    "index.head()\n",
    "component=get_index_stocks(index_symbol='000001.XSHG',date='2020-01-01')\n",
    "component[0:10]\n",
    "get_security_info(code=component[0],date='2020-01-01')"
   ]
  },
  {
   "cell_type": "markdown",
   "metadata": {},
   "source": [
    "### 获取行业、概念成分股\n",
    ">获取在给定日期一个行业或者概念板块的所有股票，行业分类见[行业概念数据](https://www.joinquant.com/data/dict/plateData)\n",
    "\n",
    "获取行业板块成份股(返回List)\n",
    "get_industry_stocks(industry_code,date=None)\n",
    "获取概念板块成分股\n",
    "get_concept_stocks(concept_code,date=None)"
   ]
  },
  {
   "cell_type": "code",
   "execution_count": 37,
   "metadata": {},
   "outputs": [
    {
     "data": {
      "text/plain": [
       "['000998.XSHE',\n",
       " '002041.XSHE',\n",
       " '002772.XSHE',\n",
       " '300087.XSHE',\n",
       " '300189.XSHE',\n",
       " '300511.XSHE',\n",
       " '600108.XSHG',\n",
       " '600313.XSHG',\n",
       " '600354.XSHG',\n",
       " '600359.XSHG',\n",
       " '600371.XSHG',\n",
       " '600506.XSHG',\n",
       " '600540.XSHG',\n",
       " '600598.XSHG',\n",
       " '600672.XSHG',\n",
       " '600762.XSHG',\n",
       " '601118.XSHG']"
      ]
     },
     "execution_count": 37,
     "metadata": {},
     "output_type": "execute_result"
    }
   ],
   "source": [
    "get_industry_stocks(industry_code='A01',date='2020-01-01')"
   ]
  },
  {
   "cell_type": "code",
   "execution_count": 36,
   "metadata": {
    "collapsed": true
   },
   "outputs": [
    {
     "data": {
      "text/plain": [
       "['000027.XSHE',\n",
       " '000046.XSHE',\n",
       " '000416.XSHE',\n",
       " '000531.XSHE',\n",
       " '000540.XSHE',\n",
       " '000541.XSHE',\n",
       " '000623.XSHE',\n",
       " '000628.XSHE',\n",
       " '000652.XSHE',\n",
       " '000828.XSHE',\n",
       " '000850.XSHE',\n",
       " '000936.XSHE',\n",
       " '002090.XSHE',\n",
       " '002357.XSHE',\n",
       " '002608.XSHE',\n",
       " '002822.XSHE',\n",
       " '600095.XSHG',\n",
       " '600120.XSHG',\n",
       " '600128.XSHG',\n",
       " '600155.XSHG',\n",
       " '600191.XSHG',\n",
       " '600249.XSHG',\n",
       " '600272.XSHG',\n",
       " '600284.XSHG',\n",
       " '600310.XSHG',\n",
       " '600331.XSHG',\n",
       " '600361.XSHG',\n",
       " '600439.XSHG',\n",
       " '600496.XSHG',\n",
       " '600533.XSHG',\n",
       " '600638.XSHG',\n",
       " '600643.XSHG',\n",
       " '600739.XSHG',\n",
       " '600795.XSHG',\n",
       " '600811.XSHG',\n",
       " '600826.XSHG',\n",
       " '600864.XSHG',\n",
       " '600881.XSHG',\n",
       " '600884.XSHG',\n",
       " '601216.XSHG',\n",
       " '601880.XSHG',\n",
       " '601999.XSHG']"
      ]
     },
     "execution_count": 36,
     "metadata": {},
     "output_type": "execute_result"
    }
   ],
   "source": [
    "get_concept_stocks(concept_code='GN001',date='2020-01-01')"
   ]
  },
  {
   "cell_type": "markdown",
   "metadata": {},
   "source": [
    "### 查询股票所属行业\n",
    "get_industry(security,date=None)"
   ]
  },
  {
   "cell_type": "code",
   "execution_count": 39,
   "metadata": {},
   "outputs": [
    {
     "data": {
      "text/plain": [
       "{'000001.XSHE': {'jq_l1': {'industry_code': 'HY007', 'industry_name': '金融指数'},\n",
       "  'jq_l2': {'industry_code': 'HY493', 'industry_name': '多元化银行指数'},\n",
       "  'sw_l1': {'industry_code': '801780', 'industry_name': '银行I'},\n",
       "  'sw_l2': {'industry_code': '801192', 'industry_name': '银行II'},\n",
       "  'sw_l3': {'industry_code': '851911', 'industry_name': '银行III'},\n",
       "  'zjw': {'industry_code': 'J66', 'industry_name': '货币金融服务'}}}"
      ]
     },
     "execution_count": 39,
     "metadata": {},
     "output_type": "execute_result"
    }
   ],
   "source": [
    "get_industry('000001.XSHE')"
   ]
  },
  {
   "cell_type": "code",
   "execution_count": 40,
   "metadata": {},
   "outputs": [
    {
     "data": {
      "text/plain": [
       "{'000002.XSHE': {'jq_l1': {'industry_code': 'HY011', 'industry_name': '房地产指数'},\n",
       "  'jq_l2': {'industry_code': 'HY509', 'industry_name': '房地产开发指数'},\n",
       "  'sw_l1': {'industry_code': '801180', 'industry_name': '房地产I'},\n",
       "  'sw_l2': {'industry_code': '801181', 'industry_name': '房地产开发II'},\n",
       "  'sw_l3': {'industry_code': '851811', 'industry_name': '房地产开发III'},\n",
       "  'zjw': {'industry_code': 'K70', 'industry_name': '房地产业'}}}"
      ]
     },
     "execution_count": 40,
     "metadata": {},
     "output_type": "execute_result"
    }
   ],
   "source": [
    "get_industry('000002.XSHE')"
   ]
  },
  {
   "cell_type": "markdown",
   "metadata": {},
   "source": [
    "## 获取行情数据\n",
    "\n",
    "### 历史行情数据\n",
    "get_price(security,start_date,end_date,frequency='daily',fields=None,skip_paused=False,fq='pre',panel=True)"
   ]
  },
  {
   "cell_type": "code",
   "execution_count": 47,
   "metadata": {},
   "outputs": [
    {
     "data": {
      "text/html": [
       "<div>\n",
       "<style scoped>\n",
       "    .dataframe tbody tr th:only-of-type {\n",
       "        vertical-align: middle;\n",
       "    }\n",
       "\n",
       "    .dataframe tbody tr th {\n",
       "        vertical-align: top;\n",
       "    }\n",
       "\n",
       "    .dataframe thead th {\n",
       "        text-align: right;\n",
       "    }\n",
       "</style>\n",
       "<table border=\"1\" class=\"dataframe\">\n",
       "  <thead>\n",
       "    <tr style=\"text-align: right;\">\n",
       "      <th></th>\n",
       "      <th>open</th>\n",
       "      <th>close</th>\n",
       "      <th>high</th>\n",
       "      <th>low</th>\n",
       "      <th>volume</th>\n",
       "      <th>money</th>\n",
       "    </tr>\n",
       "  </thead>\n",
       "  <tbody>\n",
       "    <tr>\n",
       "      <th>2020-01-02</th>\n",
       "      <td>32.80</td>\n",
       "      <td>32.56</td>\n",
       "      <td>33.60</td>\n",
       "      <td>32.51</td>\n",
       "      <td>101213040.0</td>\n",
       "      <td>3.342374e+09</td>\n",
       "    </tr>\n",
       "    <tr>\n",
       "      <th>2020-01-03</th>\n",
       "      <td>32.71</td>\n",
       "      <td>32.05</td>\n",
       "      <td>32.81</td>\n",
       "      <td>31.78</td>\n",
       "      <td>80553629.0</td>\n",
       "      <td>2.584310e+09</td>\n",
       "    </tr>\n",
       "    <tr>\n",
       "      <th>2020-01-06</th>\n",
       "      <td>31.75</td>\n",
       "      <td>31.51</td>\n",
       "      <td>31.76</td>\n",
       "      <td>31.25</td>\n",
       "      <td>87684058.0</td>\n",
       "      <td>2.761449e+09</td>\n",
       "    </tr>\n",
       "    <tr>\n",
       "      <th>2020-01-07</th>\n",
       "      <td>31.61</td>\n",
       "      <td>31.76</td>\n",
       "      <td>31.93</td>\n",
       "      <td>31.35</td>\n",
       "      <td>57793343.0</td>\n",
       "      <td>1.827511e+09</td>\n",
       "    </tr>\n",
       "    <tr>\n",
       "      <th>2020-01-08</th>\n",
       "      <td>31.30</td>\n",
       "      <td>31.68</td>\n",
       "      <td>31.77</td>\n",
       "      <td>31.05</td>\n",
       "      <td>52999684.0</td>\n",
       "      <td>1.667144e+09</td>\n",
       "    </tr>\n",
       "  </tbody>\n",
       "</table>\n",
       "</div>"
      ],
      "text/plain": [
       "             open  close   high    low       volume         money\n",
       "2020-01-02  32.80  32.56  33.60  32.51  101213040.0  3.342374e+09\n",
       "2020-01-03  32.71  32.05  32.81  31.78   80553629.0  2.584310e+09\n",
       "2020-01-06  31.75  31.51  31.76  31.25   87684058.0  2.761449e+09\n",
       "2020-01-07  31.61  31.76  31.93  31.35   57793343.0  1.827511e+09\n",
       "2020-01-08  31.30  31.68  31.77  31.05   52999684.0  1.667144e+09"
      ]
     },
     "execution_count": 47,
     "metadata": {},
     "output_type": "execute_result"
    },
    {
     "data": {
      "text/plain": [
       "[<matplotlib.lines.Line2D at 0x1b9489cc5c0>]"
      ]
     },
     "execution_count": 47,
     "metadata": {},
     "output_type": "execute_result"
    },
    {
     "data": {
      "image/png": "[encoded data removed]",
      "text/plain": [
       "<Figure size 1800x1080 with 1 Axes>"
      ]
     },
     "metadata": {},
     "output_type": "display_data"
    }
   ],
   "source": [
    "wanke=get_price(security='000002.XSHE',start_date='2020-01-01',end_date='2020-04-10')\n",
    "wanke.head()\n",
    "x,y=plt.subplots(1)\n",
    "x.set_size_inches(w=25,h=15)\n",
    "y.plot(wanke['close'])"
   ]
  },
  {
   "cell_type": "markdown",
   "metadata": {},
   "source": [
    "### 当前单位的行情数据\n",
    "<br>\n",
    "get_current_data(security_list=None)\n",
    "<br>\n",
    "- high_limit:涨停价\n",
    "- low_limit:跌停价\n",
    "- paused:是否停牌\n",
    "- is_st:是否st股票"
   ]
  },
  {
   "cell_type": "code",
   "execution_count": 53,
   "metadata": {},
   "outputs": [
    {
     "ename": "NameError",
     "evalue": "name 'get_current_data' is not defined",
     "output_type": "error",
     "traceback": [
      "\u001b[1;31m---------------------------------------------------------------------------\u001b[0m",
      "\u001b[1;31mNameError\u001b[0m                                 Traceback (most recent call last)",
      "\u001b[1;32m<ipython-input-53-a0549f5b000d>\u001b[0m in \u001b[0;36m<module>\u001b[1;34m()\u001b[0m\n\u001b[1;32m----> 1\u001b[1;33m \u001b[0mget_current_data\u001b[0m\u001b[1;33m(\u001b[0m\u001b[0msecurity_list\u001b[0m\u001b[1;33m=\u001b[0m\u001b[1;33m[\u001b[0m\u001b[1;34m'000001.XSHE'\u001b[0m\u001b[1;33m,\u001b[0m\u001b[1;34m'000002.XSHE'\u001b[0m\u001b[1;33m]\u001b[0m\u001b[1;33m)\u001b[0m\u001b[1;33m\u001b[0m\u001b[0m\n\u001b[0m",
      "\u001b[1;31mNameError\u001b[0m: name 'get_current_data' is not defined"
     ]
    }
   ],
   "source": [
    "get_current_data(security_list=['000001.XSHE','000002.XSHE'])#这个好像只能在聚宽中使用"
   ]
  },
  {
   "cell_type": "markdown",
   "metadata": {},
   "source": [
    "### tick数据(这是付费模块)\n",
    ">股票部分支持2017-01-01至今的数据，提供五档数据\n",
    "get_ticks(security,end_dt,start_dt=None,count=None,field=['time','current','high','low','volumn','money'])"
   ]
  },
  {
   "cell_type": "code",
   "execution_count": 56,
   "metadata": {},
   "outputs": [
    {
     "ename": "Exception",
     "evalue": "get_ticks(沪深A股行情tick数据) 属于付费模块，如需购买正式权限请联系JQData管理员，微信号：JQData02",
     "output_type": "error",
     "traceback": [
      "\u001b[1;31m---------------------------------------------------------------------------\u001b[0m",
      "\u001b[1;31mException\u001b[0m                                 Traceback (most recent call last)",
      "\u001b[1;32m<ipython-input-56-7c064bbafd5f>\u001b[0m in \u001b[0;36m<module>\u001b[1;34m()\u001b[0m\n\u001b[1;32m----> 1\u001b[1;33m \u001b[0mget_ticks\u001b[0m\u001b[1;33m(\u001b[0m\u001b[1;34m'000001.XSHE'\u001b[0m\u001b[1;33m,\u001b[0m\u001b[0mstart_dt\u001b[0m\u001b[1;33m=\u001b[0m\u001b[1;34m'2020-01-01'\u001b[0m\u001b[1;33m,\u001b[0m\u001b[0mend_dt\u001b[0m\u001b[1;33m=\u001b[0m\u001b[1;34m'2020-01-20'\u001b[0m\u001b[1;33m)\u001b[0m\u001b[1;33m\u001b[0m\u001b[0m\n\u001b[0m",
      "\u001b[1;32mD:\\Anacoda\\lib\\site-packages\\jqdatasdk\\utils.py\u001b[0m in \u001b[0;36m_wrapper\u001b[1;34m(*args, **kwargs)\u001b[0m\n\u001b[0;32m    228\u001b[0m             \u001b[0mprint\u001b[0m\u001b[1;33m(\u001b[0m\u001b[1;34m\"run jqdatasdk.auth first\"\u001b[0m\u001b[1;33m)\u001b[0m\u001b[1;33m\u001b[0m\u001b[0m\n\u001b[0;32m    229\u001b[0m         \u001b[1;32melse\u001b[0m\u001b[1;33m:\u001b[0m\u001b[1;33m\u001b[0m\u001b[0m\n\u001b[1;32m--> 230\u001b[1;33m             \u001b[1;32mreturn\u001b[0m \u001b[0mfunc\u001b[0m\u001b[1;33m(\u001b[0m\u001b[1;33m*\u001b[0m\u001b[0margs\u001b[0m\u001b[1;33m,\u001b[0m \u001b[1;33m**\u001b[0m\u001b[0mkwargs\u001b[0m\u001b[1;33m)\u001b[0m\u001b[1;33m\u001b[0m\u001b[0m\n\u001b[0m\u001b[0;32m    231\u001b[0m     \u001b[1;32mreturn\u001b[0m \u001b[0m_wrapper\u001b[0m\u001b[1;33m\u001b[0m\u001b[0m\n\u001b[0;32m    232\u001b[0m \u001b[1;33m\u001b[0m\u001b[0m\n",
      "\u001b[1;32mD:\\Anacoda\\lib\\site-packages\\jqdatasdk\\api.py\u001b[0m in \u001b[0;36mget_ticks\u001b[1;34m(security, start_dt, end_dt, count, fields, skip, df)\u001b[0m\n\u001b[0;32m    413\u001b[0m     \u001b[0mstart_dt\u001b[0m \u001b[1;33m=\u001b[0m \u001b[0mto_date_str\u001b[0m\u001b[1;33m(\u001b[0m\u001b[0mstart_dt\u001b[0m\u001b[1;33m)\u001b[0m\u001b[1;33m\u001b[0m\u001b[0m\n\u001b[0;32m    414\u001b[0m     \u001b[0mend_dt\u001b[0m \u001b[1;33m=\u001b[0m \u001b[0mto_date_str\u001b[0m\u001b[1;33m(\u001b[0m\u001b[0mend_dt\u001b[0m\u001b[1;33m)\u001b[0m\u001b[1;33m\u001b[0m\u001b[0m\n\u001b[1;32m--> 415\u001b[1;33m     \u001b[1;32mreturn\u001b[0m \u001b[0mJQDataClient\u001b[0m\u001b[1;33m.\u001b[0m\u001b[0minstance\u001b[0m\u001b[1;33m(\u001b[0m\u001b[1;33m)\u001b[0m\u001b[1;33m.\u001b[0m\u001b[0mget_ticks\u001b[0m\u001b[1;33m(\u001b[0m\u001b[1;33m**\u001b[0m\u001b[0mlocals\u001b[0m\u001b[1;33m(\u001b[0m\u001b[1;33m)\u001b[0m\u001b[1;33m)\u001b[0m\u001b[1;33m\u001b[0m\u001b[0m\n\u001b[0m\u001b[0;32m    416\u001b[0m \u001b[1;33m\u001b[0m\u001b[0m\n\u001b[0;32m    417\u001b[0m \u001b[1;33m\u001b[0m\u001b[0m\n",
      "\u001b[1;32mD:\\Anacoda\\lib\\site-packages\\jqdatasdk\\client.py\u001b[0m in \u001b[0;36m<lambda>\u001b[1;34m(**kwargs)\u001b[0m\n\u001b[0;32m    167\u001b[0m \u001b[1;33m\u001b[0m\u001b[0m\n\u001b[0;32m    168\u001b[0m     \u001b[1;32mdef\u001b[0m \u001b[0m__getattr__\u001b[0m\u001b[1;33m(\u001b[0m\u001b[0mself\u001b[0m\u001b[1;33m,\u001b[0m \u001b[0mmethod\u001b[0m\u001b[1;33m)\u001b[0m\u001b[1;33m:\u001b[0m\u001b[1;33m\u001b[0m\u001b[0m\n\u001b[1;32m--> 169\u001b[1;33m         \u001b[1;32mreturn\u001b[0m \u001b[1;32mlambda\u001b[0m \u001b[1;33m**\u001b[0m\u001b[0mkwargs\u001b[0m\u001b[1;33m:\u001b[0m \u001b[0mself\u001b[0m\u001b[1;33m(\u001b[0m\u001b[0mmethod\u001b[0m\u001b[1;33m,\u001b[0m \u001b[1;33m**\u001b[0m\u001b[0mkwargs\u001b[0m\u001b[1;33m)\u001b[0m\u001b[1;33m\u001b[0m\u001b[0m\n\u001b[0m\u001b[0;32m    170\u001b[0m \u001b[1;33m\u001b[0m\u001b[0m\n\u001b[0;32m    171\u001b[0m     \u001b[1;32mdef\u001b[0m \u001b[0mget_data_api_url\u001b[0m\u001b[1;33m(\u001b[0m\u001b[0mself\u001b[0m\u001b[1;33m)\u001b[0m\u001b[1;33m:\u001b[0m\u001b[1;33m\u001b[0m\u001b[0m\n",
      "\u001b[1;32mD:\\Anacoda\\lib\\site-packages\\jqdatasdk\\client.py\u001b[0m in \u001b[0;36m__call__\u001b[1;34m(self, method, **kwargs)\u001b[0m\n\u001b[0;32m    162\u001b[0m         \u001b[1;32mif\u001b[0m \u001b[0mresult\u001b[0m \u001b[1;32mis\u001b[0m \u001b[1;32mNone\u001b[0m\u001b[1;33m:\u001b[0m\u001b[1;33m\u001b[0m\u001b[0m\n\u001b[0;32m    163\u001b[0m             \u001b[1;32mif\u001b[0m \u001b[0misinstance\u001b[0m\u001b[1;33m(\u001b[0m\u001b[0merr\u001b[0m\u001b[1;33m,\u001b[0m \u001b[0mException\u001b[0m\u001b[1;33m)\u001b[0m\u001b[1;33m:\u001b[0m\u001b[1;33m\u001b[0m\u001b[0m\n\u001b[1;32m--> 164\u001b[1;33m                 \u001b[1;32mraise\u001b[0m \u001b[0merr\u001b[0m\u001b[1;33m\u001b[0m\u001b[0m\n\u001b[0m\u001b[0;32m    165\u001b[0m \u001b[1;33m\u001b[0m\u001b[0m\n\u001b[0;32m    166\u001b[0m         \u001b[1;32mreturn\u001b[0m \u001b[0mresult\u001b[0m\u001b[1;33m\u001b[0m\u001b[0m\n",
      "\u001b[1;31mException\u001b[0m: get_ticks(沪深A股行情tick数据) 属于付费模块，如需购买正式权限请联系JQData管理员，微信号：JQData02"
     ]
    }
   ],
   "source": [
    "get_ticks('000001.XSHE',start_dt='2020-01-01',end_dt='2020-01-20')"
   ]
  },
  {
   "cell_type": "markdown",
   "metadata": {},
   "source": [
    "# 5.context中的数据与条件判断\n",
    "\n",
    "![context的结构](https://image.joinquant.com/3f21926604474d702db5efe2c9154cb1)"
   ]
  },
  {
   "cell_type": "code",
   "execution_count": null,
   "metadata": {},
   "outputs": [],
   "source": [
    "#1.order(security,amount)\n",
    "order('000001.XSHE',100)#买入100股平安银行\n",
    "#2.order_target(securiyt,amount)通过买卖将仓位调整至一定数量\n",
    "order('000003.XSHE',1000)\n",
    "#3.order_value(securiyt,value)买入一定价值的股票\n",
    "\n",
    "#4.order_target_value(security,value)\n"
   ]
  },
  {
   "cell_type": "code",
   "execution_count": null,
   "metadata": {},
   "outputs": [],
   "source": [
    "#打印可用资金\n",
    "print(context.portfolio,available_cash)\n",
    "#打印运行频率\n",
    "print(context.run_params.frequency)\n",
    "#打印当前单位的开始时间\n",
    "print(context.current_dt)"
   ]
  }
 ],
 "metadata": {
  "kernelspec": {
   "display_name": "Python 3",
   "language": "python",
   "name": "python3"
  },
  "language_info": {
   "codemirror_mode": {
    "name": "ipython",
    "version": 3
   },
   "file_extension": ".py",
   "mimetype": "text/x-python",
   "name": "python",
   "nbconvert_exporter": "python",
   "pygments_lexer": "ipython3",
   "version": "3.8.5-final"
  }
 },
 "nbformat": 4,
 "nbformat_minor": 2
}
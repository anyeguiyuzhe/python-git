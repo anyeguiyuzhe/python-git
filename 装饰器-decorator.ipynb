{
 "cells": [
  {
   "cell_type": "markdown",
   "metadata": {},
   "source": [
    "# <center>装饰器</center>"
   ]
  },
  {
   "cell_type": "code",
   "execution_count": 3,
   "metadata": {
    "scrolled": true
   },
   "outputs": [],
   "source": [
    "from datetime import datetime"
   ]
  },
  {
   "cell_type": "code",
   "execution_count": 8,
   "metadata": {},
   "outputs": [
    {
     "data": {
      "text/plain": [
       "datetime.datetime(2020, 3, 26, 22, 25, 49, 336189)"
      ]
     },
     "execution_count": 8,
     "metadata": {},
     "output_type": "execute_result"
    }
   ],
   "source": [
    "def now(*args,**kw):\n",
    "    return datetime.now()\n",
    "\n",
    "now()"
   ]
  },
  {
   "cell_type": "code",
   "execution_count": 13,
   "metadata": {},
   "outputs": [
    {
     "data": {
      "text/plain": [
       "<function __main__.log.<locals>.warpper>"
      ]
     },
     "execution_count": 13,
     "metadata": {},
     "output_type": "execute_result"
    },
    {
     "name": "stdout",
     "output_type": "stream",
     "text": [
      "=============\n",
      "call now():\n"
     ]
    },
    {
     "data": {
      "text/plain": [
       "datetime.datetime(2020, 3, 26, 22, 27, 0, 483234)"
      ]
     },
     "execution_count": 13,
     "metadata": {},
     "output_type": "execute_result"
    }
   ],
   "source": [
    "#增加函数功能，在函数调用前后自动打印日志\n",
    "def log(func):\n",
    "    def warpper(*args,**kw):\n",
    "        print('call %s():'%func.__name__)\n",
    "        return func(*args,**kw)\n",
    "    return warpper\n",
    "\n",
    "log(now)\n",
    "print('=============')\n",
    "log(now)(1,2,4,a=3,b=5)"
   ]
  },
  {
   "cell_type": "markdown",
   "metadata": {},
   "source": [
    "## 返回的函数在其内部引用了局部变量 *args* "
   ]
  },
  {
   "cell_type": "code",
   "execution_count": 7,
   "metadata": {},
   "outputs": [
    {
     "name": "stdout",
     "output_type": "stream",
     "text": [
      "f\n",
      "9 9 9\n"
     ]
    }
   ],
   "source": [
    "def count():\n",
    "    fs=[]\n",
    "    for i in range(1,4):\n",
    "        def f():\n",
    "            return i*i\n",
    "        fs.append(f)\n",
    "    return fs\n",
    "f1,f2,f3=count()\n",
    "print(f1.__name__)\n",
    "print(f1(),f2(),f3())\n",
    "        "
   ]
  },
  {
   "cell_type": "markdown",
   "metadata": {},
   "source": [
    "## decorator本身需要传入参数"
   ]
  },
  {
   "cell_type": "code",
   "execution_count": 17,
   "metadata": {},
   "outputs": [],
   "source": [
    "def a(x):\n",
    "    print('def a(x)')\n",
    "    def b(func):\n",
    "        print('def b(func)')\n",
    "        def c(*args,**kw):\n",
    "            print('def c()')\n",
    "            return func(*args,**kw)\n",
    "        return c\n",
    "    return b"
   ]
  },
  {
   "cell_type": "code",
   "execution_count": 18,
   "metadata": {},
   "outputs": [
    {
     "name": "stdout",
     "output_type": "stream",
     "text": [
      "def a(x)\n",
      "def b(func)\n"
     ]
    }
   ],
   "source": [
    "@a(3)\n",
    "def now(*args,**kw):\n",
    "    return datetime.now()"
   ]
  },
  {
   "cell_type": "code",
   "execution_count": 19,
   "metadata": {},
   "outputs": [
    {
     "name": "stdout",
     "output_type": "stream",
     "text": [
      "def c()\n"
     ]
    },
    {
     "data": {
      "text/plain": [
       "datetime.datetime(2020, 3, 26, 22, 57, 53, 349681)"
      ]
     },
     "execution_count": 19,
     "metadata": {},
     "output_type": "execute_result"
    }
   ],
   "source": [
    "now(3,4,a=2)"
   ]
  },
  {
   "cell_type": "code",
   "execution_count": null,
   "metadata": {},
   "outputs": [],
   "source": []
  }
 ],
 "metadata": {
  "kernelspec": {
   "display_name": "Python 3",
   "language": "python",
   "name": "python3"
  },
  "language_info": {
   "codemirror_mode": {
    "name": "ipython",
    "version": 3
   },
   "file_extension": ".py",
   "mimetype": "text/x-python",
   "name": "python",
   "nbconvert_exporter": "python",
   "pygments_lexer": "ipython3",
   "version": "3.6.4"
  }
 },
 "nbformat": 4,
 "nbformat_minor": 2
}

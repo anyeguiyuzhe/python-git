{
 "cells": [
  {
   "cell_type": "code",
   "execution_count": null,
   "metadata": {},
   "outputs": [],
   "source": [
    "# 面对对象编程（OOP）：从一个游戏开始"
   ]
  },
  {
   "cell_type": "markdown",
   "metadata": {},
   "source": [
    "假设你现在是一家游戏公司的开发人员，现在需要开发一款叫《人狗大战》的对战游戏。\n",
    "如何构思这个游戏的设计呢？"
   ]
  },
  {
   "cell_type": "markdown",
   "metadata": {},
   "source": [
    "容易想到，设计这个游戏首先需要两个角色，一方是人，一方是狗，\n",
    "且两方拥有不同的技能，比方说人可以拿棍子打狗，狗可以咬人。\n",
    "那么该怎样描述两种不同的角色和他们的功能呢？"
   ]
  },
  {
   "cell_type": "markdown",
   "metadata": {},
   "source": [
    "经过思考以后，你写下了以下代码来构建两个角色："
   ]
  },
  {
   "cell_type": "markdown",
   "metadata": {},
   "source": [
    "- <font size=4.5>人的角色定制</font>\n",
    "- <font size=4.5>狗的角色定制</font>"
   ]
  },
  {
   "cell_type": "markdown",
   "metadata": {},
   "source": [
    "以上方法相当于制作了两个模子，游戏里出现的每个人和每条狗都拥有模子里的相同属性。\n",
    "游戏开始时，你根据一个人或一条狗传入的具体信息来塑造一个具体的人或狗，假设通过以下代码来实现："
   ]
  },
  {
   "cell_type": "markdown",
   "metadata": {},
   "source": [
    "- <font size=4.5>生成具体的人A</font>\n",
    "- <font size=4.5>生成具体的狗B</font>"
   ]
  },
  {
   "cell_type": "markdown",
   "metadata": {},
   "source": [
    "现在游戏拥有了两个不同的角色，但他们还应该拥有不同的技能，如狗可以咬人，人会打狗，此时该如何实现呢？\n",
    "你选择在定制每个角色时，通过函数使其具备特定的技能："
   ]
  },
  {
   "cell_type": "markdown",
   "metadata": {},
   "source": [
    "- <font size=4.5>在人的角色定制中定义一个beat函数</font>\n",
    "- <font size=4.5>在狗的角色定制中定义一个bite函数</font>"
   ]
  },
  {
   "cell_type": "markdown",
   "metadata": {},
   "source": [
    "当人或狗发动技能时，调用对应函数即可。"
   ]
  },
  {
   "cell_type": "markdown",
   "metadata": {},
   "source": [
    "并且我们可以发现，通过以上所写的代码，游戏是不会犯如“狗打了人”或“人咬了狗“这类错误的，因为beat这一技能只属于人，bite这一技能只属于狗。相当于没有使用多余的代码，就限制了人只能用人自己的技能。"
   ]
  },
  {
   "cell_type": "markdown",
   "metadata": {},
   "source": [
    "以上这种编程思想，就是简单的面对对象编程。当你创建了两个模子来表示游戏里的人或狗之后，人与狗之间具体的交互就交给玩家了。假如人和狗开始打架，这时人选择打还是跑就由玩家来决定。"
   ]
  },
  {
   "cell_type": "markdown",
   "metadata": {},
   "source": [
    "与之前按部就班按顺序写代码相比，此时的代码是具有不确定性的。玩家的每一个决定都可能影响最终的输赢，而从前的函数式编程（即面对过程编程）好比精心设计一条流水线，每个步骤该做什么都是决定好的。"
   ]
  },
  {
   "cell_type": "markdown",
   "metadata": {},
   "source": [
    "# 初识面对对象"
   ]
  },
  {
   "cell_type": "markdown",
   "metadata": {},
   "source": [
    "python中一切皆为对象，类型的本质就是类。"
   ]
  },
  {
   "cell_type": "code",
   "execution_count": 1,
   "metadata": {},
   "outputs": [
    {
     "data": {
      "text/plain": [
       "dict"
      ]
     },
     "execution_count": 1,
     "metadata": {},
     "output_type": "execute_result"
    }
   ],
   "source": [
    "dict #类型dict就是类dict"
   ]
  },
  {
   "cell_type": "code",
   "execution_count": 2,
   "metadata": {},
   "outputs": [
    {
     "data": {
      "text/plain": [
       "{'name': 'Adam'}"
      ]
     },
     "execution_count": 2,
     "metadata": {},
     "output_type": "execute_result"
    }
   ],
   "source": [
    "d = {'name':'Adam'} #实例化\n",
    "d"
   ]
  },
  {
   "cell_type": "code",
   "execution_count": 3,
   "metadata": {},
   "outputs": [
    {
     "data": {
      "text/plain": [
       "dict"
      ]
     },
     "execution_count": 3,
     "metadata": {},
     "output_type": "execute_result"
    }
   ],
   "source": [
    "d.__class__ #对象d的属性"
   ]
  },
  {
   "cell_type": "code",
   "execution_count": 4,
   "metadata": {},
   "outputs": [
    {
     "data": {
      "text/plain": [
       "{}"
      ]
     },
     "execution_count": 4,
     "metadata": {},
     "output_type": "execute_result"
    }
   ],
   "source": [
    "d.pop('name') #对对象d使用pop方法\n",
    "d"
   ]
  },
  {
   "cell_type": "markdown",
   "metadata": {},
   "source": [
    "在python中，用变量表示特征（即对象的属性），用函数表示技能（即对象的方法），因而具有相同特征和技能的一类事物就是<font size=\"4.5\">**类**</font>，对象是则是这一类事物中具体的一个。"
   ]
  },
  {
   "cell_type": "markdown",
   "metadata": {},
   "source": [
    "## 类（Class）"
   ]
  },
  {
   "cell_type": "markdown",
   "metadata": {},
   "source": [
    "### 类的创建方法 "
   ]
  },
  {
   "cell_type": "markdown",
   "metadata": {},
   "source": [
    "**class 类名:**  "
   ]
  },
  {
   "cell_type": "code",
   "execution_count": 5,
   "metadata": {},
   "outputs": [],
   "source": [
    "class Person(object):                  #定义一个人类\n",
    "    \n",
    "    role = 'Person'            #人的角色属性都是人\n",
    "    \n",
    "    def __init__(self, name):  #定义人的初始属性\n",
    "        self.name = name       #每个定制的角色都有自己的昵称\n",
    "        \n",
    "    def walk(self):            #人拥有一个走路方法，也叫做动态属性\n",
    "        print('Person is walking...')"
   ]
  },
  {
   "cell_type": "markdown",
   "metadata": {},
   "source": [
    "### 类的两个作用：属性引用和实例化"
   ]
  },
  {
   "cell_type": "markdown",
   "metadata": {},
   "source": [
    "- **属性引用：类名.属性**"
   ]
  },
  {
   "cell_type": "code",
   "execution_count": 6,
   "metadata": {},
   "outputs": [
    {
     "name": "stdout",
     "output_type": "stream",
     "text": [
      "Person\n",
      "<function Person.walk at 0x108fbe2f0>\n"
     ]
    }
   ],
   "source": [
    "print(Person.role)  #查看人的role属性\n",
    "print(Person.walk)  #引用人的走路方法，注意，这里没有调用函数，而是显示该方法的属性"
   ]
  },
  {
   "cell_type": "markdown",
   "metadata": {},
   "source": [
    "- **实例化：对象名 = 类名(参数)**  \n",
    "相当于自动触发`__init__`函数的运行，可以用该方法来为每个具体对象（实例）定制专属属性"
   ]
  },
  {
   "cell_type": "code",
   "execution_count": 7,
   "metadata": {},
   "outputs": [
    {
     "data": {
      "text/plain": [
       "<__main__.Person at 0x108fe3710>"
      ]
     },
     "execution_count": 7,
     "metadata": {},
     "output_type": "execute_result"
    }
   ],
   "source": [
    "Adam = Person('Adam')\n",
    "Adam"
   ]
  },
  {
   "cell_type": "markdown",
   "metadata": {},
   "source": [
    "## 对象/实例（Instance）"
   ]
  },
  {
   "cell_type": "markdown",
   "metadata": {},
   "source": [
    "实例化的过程就是从类中定制一个特定对象的过程  \n",
    "  \n",
    "现在我们拥有了一个Adam对象，有自己具体的名字和走路的技能"
   ]
  },
  {
   "cell_type": "markdown",
   "metadata": {},
   "source": [
    "### 对象的作用"
   ]
  },
  {
   "cell_type": "markdown",
   "metadata": {},
   "source": [
    "- **查看属性**"
   ]
  },
  {
   "cell_type": "code",
   "execution_count": 8,
   "metadata": {},
   "outputs": [
    {
     "name": "stdout",
     "output_type": "stream",
     "text": [
      "Person\n",
      "Adam\n",
      "<bound method Person.walk of <__main__.Person object at 0x108fe3710>>\n"
     ]
    }
   ],
   "source": [
    "print(Adam.role)  #查看Adam的role属性\n",
    "print(Adam.name)  #查看Adam的name属性\n",
    "print(Adam.walk)  #查看Adam的动态属性walk"
   ]
  },
  {
   "cell_type": "markdown",
   "metadata": {},
   "source": [
    "- **调用方法**"
   ]
  },
  {
   "cell_type": "code",
   "execution_count": 9,
   "metadata": {},
   "outputs": [
    {
     "name": "stdout",
     "output_type": "stream",
     "text": [
      "Person is walking...\n"
     ]
    }
   ],
   "source": [
    "Adam.walk() #调用Adam的walk()方法"
   ]
  },
  {
   "cell_type": "markdown",
   "metadata": {},
   "source": [
    "### 对象之间的交互"
   ]
  },
  {
   "cell_type": "markdown",
   "metadata": {},
   "source": [
    "- **定义人和狗的类**"
   ]
  },
  {
   "cell_type": "code",
   "execution_count": 10,
   "metadata": {},
   "outputs": [],
   "source": [
    "class Person(object):\n",
    "    \n",
    "    role = 'Person'\n",
    "    \n",
    "    def __init__(self, name, aggressivity, life_value):\n",
    "        \n",
    "        self.name = name\n",
    "        self.aggressivity = aggressivity\n",
    "        self.life_value = life_value\n",
    "        \n",
    "    def attack(self, dog):\n",
    "        #人可以攻击狗，这里的狗也是一个对象\n",
    "        #人攻击狗后，狗的生命值会根据人的攻击力下降\n",
    "        dog.life_value -= self.aggressivity\n",
    "        \n",
    "    def dodge(self):\n",
    "        #人可以闪避狗的攻击，闪避后生命力上升1点\n",
    "        self.life_value += 1 \n",
    "        \n",
    "        \n",
    "class Dog(object):\n",
    "    \n",
    "    role = 'Dog'\n",
    "    \n",
    "    def __init__(self, name, breed, aggressivity, life_value):\n",
    "        \n",
    "        self.name = name\n",
    "        self.breed = breed\n",
    "        self.aggressivity = aggressivity\n",
    "        self.life_value = life_value\n",
    "        \n",
    "    def bite(self, person):\n",
    "        #狗咬人后，人的生命值会根据狗的攻击力下降\n",
    "        person.life_value -= self.aggressivity"
   ]
  },
  {
   "cell_type": "markdown",
   "metadata": {},
   "source": [
    "- **实例化一个人和一条狗**"
   ]
  },
  {
   "cell_type": "code",
   "execution_count": 11,
   "metadata": {},
   "outputs": [],
   "source": [
    "ming = Person('小明', 5, 80)\n",
    "ha2 = Dog('二哈', '哈士奇', 10, 100)"
   ]
  },
  {
   "cell_type": "markdown",
   "metadata": {},
   "source": [
    "- **对象进行交互**"
   ]
  },
  {
   "cell_type": "code",
   "execution_count": 12,
   "metadata": {},
   "outputs": [
    {
     "name": "stdout",
     "output_type": "stream",
     "text": [
      "80\n",
      "70\n",
      "71\n"
     ]
    }
   ],
   "source": [
    "print(ming.life_value)  #查看小明的生命值\n",
    "ha2.bite(ming)          #小明被咬了一口\n",
    "print(ming.life_value)  #小明掉了10点血\n",
    "ming.dodge()            #小明躲避了一下\n",
    "print(ming.life_value)  #小明涨了1点血"
   ]
  },
  {
   "cell_type": "markdown",
   "metadata": {},
   "source": [
    "**面向对象编程难点之一，也是实际运用中的痛点之一是如何抽象出对象。相比于面向过程，我们可以一步步思考问题，最终解出答案，面向对象需要我们在问题的开始就有一个全局视角。不仅需要把问题分块，更需要把问题抽象而增加代码重用。比如在上文的代码中抽象出人和狗这个类，而实际运用中问题将会复杂许多倍。而做出一个好的抽象类往往需要花费大量精力。**"
   ]
  },
  {
   "cell_type": "markdown",
   "metadata": {},
   "source": [
    "# 面对对象三大特性"
   ]
  },
  {
   "cell_type": "markdown",
   "metadata": {},
   "source": [
    "初识面对对象之后，进一步学习面对对象编程的三大特性：\n",
    "- **数据封装**\n",
    "- **继承**\n",
    "- **多态**"
   ]
  },
  {
   "cell_type": "markdown",
   "metadata": {},
   "source": [
    "## 封装"
   ]
  },
  {
   "cell_type": "markdown",
   "metadata": {},
   "source": [
    "<font size=4.5>**封装含义：隐藏对象的属性和实现细节，仅对外提供公共访问方式。**</font>"
   ]
  },
  {
   "cell_type": "markdown",
   "metadata": {},
   "source": [
    "比方说，玩家想要访问角色的生命值或攻击力信息，只需要通过<font size=4.5>对象.属性</font>的形式进行访问，而Person类内部如何定义信息的访问是不需要被知道的。  \n",
    "  \n",
    "也就是说，查看属性和调用方法很容易，却不用知道内部实现的细节。"
   ]
  },
  {
   "cell_type": "code",
   "execution_count": 13,
   "metadata": {},
   "outputs": [
    {
     "name": "stdout",
     "output_type": "stream",
     "text": [
      "5\n",
      "71\n"
     ]
    }
   ],
   "source": [
    "print(ming.aggressivity)\n",
    "print(ming.life_value)"
   ]
  },
  {
   "cell_type": "markdown",
   "metadata": {},
   "source": [
    "通过这样的形式，对象的数据就被封装起来了。"
   ]
  },
  {
   "cell_type": "markdown",
   "metadata": {},
   "source": [
    "尽管对象的属性被封装起来了，但是当前的代码不能确保从外界无法修改内部的属性，也是就是说玩家可以通过自己的代码知识修改角色属性，代码如下："
   ]
  },
  {
   "cell_type": "code",
   "execution_count": 14,
   "metadata": {},
   "outputs": [
    {
     "name": "stdout",
     "output_type": "stream",
     "text": [
      "100\n",
      "0\n"
     ]
    }
   ],
   "source": [
    "ming.aggressivity = 100\n",
    "print(ming.aggressivity)\n",
    "\n",
    "ming.attack(ha2)\n",
    "print(ha2.life_value)"
   ]
  },
  {
   "cell_type": "markdown",
   "metadata": {},
   "source": [
    "此时可以看到，玩家通过外挂，使得自己的角色攻击力上升到100，并且破坏了游戏的平衡性。    "
   ]
  },
  {
   "cell_type": "markdown",
   "metadata": {},
   "source": [
    "## 继承"
   ]
  },
  {
   "cell_type": "markdown",
   "metadata": {},
   "source": [
    "<font size=4.5>**继承是一种创建新类的方式，python中，定义一个新的class时，可以从现有的某个class继承，新的class称为子类，被继承的class被称为父类、基类或超类。**</font>"
   ]
  },
  {
   "cell_type": "markdown",
   "metadata": {},
   "source": [
    "举例说，对于狗的角色，我们可以创建不同品种狗的class，而不同品种狗拥有的属性和技能可能各不相同，但它们都拥有父类Dog的属性与方法。"
   ]
  },
  {
   "cell_type": "code",
   "execution_count": 19,
   "metadata": {},
   "outputs": [
    {
     "name": "stdout",
     "output_type": "stream",
     "text": [
      "100\n",
      "80\n"
     ]
    }
   ],
   "source": [
    "class Husky(Dog):\n",
    "    pass\n",
    "\n",
    "class Samoye(Dog):\n",
    "    pass\n",
    "\n",
    "Hus = Husky('Hus', 'Husky', 10, 100)\n",
    "Sam = Samoye('Sam', 'Samoye', 8, 80)\n",
    "\n",
    "print(Hus.life_value)\n",
    "print(Sam.life_value)"
   ]
  },
  {
   "cell_type": "markdown",
   "metadata": {},
   "source": [
    "可以看到，我们并没有对Husky和Samoye类定义特定的属性，但这两类自动地继承了父类Dog的全部功能。"
   ]
  },
  {
   "cell_type": "markdown",
   "metadata": {},
   "source": [
    "我们也可以对Husky和Samoye定制特别的属性和方法："
   ]
  },
  {
   "cell_type": "code",
   "execution_count": 20,
   "metadata": {},
   "outputs": [
    {
     "name": "stdout",
     "output_type": "stream",
     "text": [
      "Adam的初始智商是20，初始攻击力是5\n",
      "\n",
      "Hus吐舌后，Adam的智商是18\n",
      "\n",
      "拿起武器后，Adam的攻击力是15\n",
      "\n",
      "Sam撒娇后，Adam的智商是10\n",
      "\n",
      "由于智商过低，Adam 不能使用武器了！\n"
     ]
    }
   ],
   "source": [
    "class Husky(Dog):\n",
    "    intelligence = 2\n",
    "    \n",
    "    def tongue(self, person):\n",
    "        person.intelligence -= self.intelligence\n",
    "        \n",
    "class Samoye(Dog):\n",
    "    intelligence = 8\n",
    "    \n",
    "    def spoil(self, person):\n",
    "        person.intelligence -= self.intelligence\n",
    "        \n",
    "class Person(object):\n",
    "    \n",
    "    role = 'Person'\n",
    "    intelligence = 20\n",
    "    \n",
    "    def __init__(self, name, aggressivity, life_value):\n",
    "        \n",
    "        self.name = name\n",
    "        self.aggressivity = aggressivity\n",
    "        self.life_value = life_value\n",
    "        \n",
    "    def attack(self, dog):\n",
    "        dog.life_value -= self.aggressivity\n",
    "        \n",
    "    def dodge(self):\n",
    "        self.life_value += 1 \n",
    "        \n",
    "    def weapons(self):\n",
    "        \n",
    "        if self.intelligence > 10:\n",
    "            self.aggressivity += 10\n",
    "        else:\n",
    "            print('由于智商过低，%s 不能使用武器了！' % self.name)\n",
    "            \n",
    "\n",
    "Hus = Husky('Hus', 'Husky', 10, 100)\n",
    "Sam = Samoye('Sam', 'Samoye', 8, 80)\n",
    "Adam = Person('Adam', 5, 80)\n",
    "\n",
    "print('Adam的初始智商是%d，初始攻击力是%d\\n' \n",
    "      % (Adam.intelligence, Adam.aggressivity))\n",
    "Hus.tongue(Adam)\n",
    "print('Hus吐舌后，Adam的智商是%d\\n' % Adam.intelligence)\n",
    "Adam.weapons()\n",
    "print('拿起武器后，Adam的攻击力是%d\\n' % Adam.aggressivity)\n",
    "Sam.spoil(Adam)\n",
    "print('Sam撒娇后，Adam的智商是%d\\n' % Adam.intelligence)\n",
    "Adam.weapons()"
   ]
  },
  {
   "cell_type": "markdown",
   "metadata": {},
   "source": [
    "<font size=4.5>由于继承的存在，面对对象编程进一步衍生出了**多态**的特性</font>"
   ]
  },
  {
   "cell_type": "markdown",
   "metadata": {},
   "source": [
    "## 多态"
   ]
  },
  {
   "cell_type": "markdown",
   "metadata": {},
   "source": [
    "<font size=4.5>**多态的含义是，一类事物有多种形态**</font>  \n",
    "  \n",
    "如上述代码所写，Dag拥有Husky形态和Samoye形态"
   ]
  },
  {
   "cell_type": "markdown",
   "metadata": {},
   "source": [
    "如何理解这个多态呢？"
   ]
  },
  {
   "cell_type": "markdown",
   "metadata": {},
   "source": [
    "我们定义一个函数，这个函数接受一个Dog类型的变量，返回Dog咬两次Adam："
   ]
  },
  {
   "cell_type": "code",
   "execution_count": 21,
   "metadata": {},
   "outputs": [
    {
     "name": "stdout",
     "output_type": "stream",
     "text": [
      "Adam的初始血量是80\n",
      "被咬两次后，Adam的血量是60\n",
      "Adam的初始血量是60\n",
      "被咬两次后，Adam的血量是40\n",
      "Adam的初始血量是40\n",
      "被咬两次后，Adam的血量是24\n"
     ]
    }
   ],
   "source": [
    "def bite_twice(dog):\n",
    "    print('Adam的初始血量是%d' % Adam.life_value)\n",
    "    dog.bite(Adam)\n",
    "    dog.bite(Adam)\n",
    "    return '被咬两次后，Adam的血量是%d' % Adam.life_value\n",
    "    \n",
    "\n",
    "#传入Dog实例\n",
    "print(bite_twice(ha2))\n",
    "\n",
    "#传入Hasky实例\n",
    "print(bite_twice(Hus))\n",
    "\n",
    "#传入Samoye实例\n",
    "print(bite_twice(Sam))"
   ]
  },
  {
   "cell_type": "markdown",
   "metadata": {},
   "source": [
    "可以看到，对于Dog的子类，不必对run_twice()作出修改，即可正常运行bite()函数。实际上，任何依赖Dog作为参数的函数或者方法都可以不加修改地正常运行，原因就在于多态。"
   ]
  },
  {
   "cell_type": "markdown",
   "metadata": {},
   "source": [
    "**多态的好处就是，当我们需要传入Husky或Samoye时，我们只需要接收Dog类型就可以了，因为Husky和Samoye都是Dog类型，然后，按照Dog类型进行操作即可。由于Dog类型有bite()方法，因此，传入的任意类型，只要是Dog类或者子类，就会自动调用实际类型的bite()方法，这就是多态的意思。**"
   ]
  },
  {
   "cell_type": "markdown",
   "metadata": {},
   "source": [
    "**在实际中继承和多态往往需要同时进行，继承让子类和父类出现强耦合情况（如果一个子类继承父类时，不需要更改父类的很多内容，\n",
    "那么两者即为强耦合，如果子类和父类为强耦合，那么这个父类就不够抽象了），多态其实是继承的实现细节，让一个抽象得类服务于手头的工作。**"
   ]
  },
  {
   "cell_type": "markdown",
   "metadata": {},
   "source": [
    "- <font size=4.5>**扩展：动态语言（鸭子类型）**<font>"
   ]
  },
  {
   "cell_type": "markdown",
   "metadata": {},
   "source": [
    "先来看一个例子：  \n",
    "我们在Person类下创建一个狂犬病人类型，这个子类可以和狗一样，使用咬来进行攻击。"
   ]
  },
  {
   "cell_type": "code",
   "execution_count": 22,
   "metadata": {},
   "outputs": [],
   "source": [
    "class rabies(Person):\n",
    "    \n",
    "    def bite(self, dog):\n",
    "        dog.life_value -= self.aggressivity\n",
    "        \n",
    "Rab = rabies('Rab', 15, 80)"
   ]
  },
  {
   "cell_type": "markdown",
   "metadata": {},
   "source": [
    "让我们试试让狂犬病人Rab咬一下Adam。"
   ]
  },
  {
   "cell_type": "code",
   "execution_count": 23,
   "metadata": {},
   "outputs": [
    {
     "name": "stdout",
     "output_type": "stream",
     "text": [
      "Adam的初始血量是24\n",
      "被咬两次后，Adam的血量是-6\n"
     ]
    }
   ],
   "source": [
    "print(bite_twice(Rab))"
   ]
  },
  {
   "cell_type": "markdown",
   "metadata": {},
   "source": [
    "<font size=4.5>**神奇的是，Rab并不属于Dog类，但代码却没有报错！**</font>"
   ]
  },
  {
   "cell_type": "markdown",
   "metadata": {},
   "source": [
    "这是为什么呢？"
   ]
  },
  {
   "cell_type": "markdown",
   "metadata": {},
   "source": [
    "实际上，对于python这样的动态语言来说，bite_twice()需要传入具有bite()函数的实例，而并不是必须需要传入Dog类型。只要确保传入的对象拥有bite()方法，那么这个函数就可以实现。"
   ]
  },
  {
   "cell_type": "markdown",
   "metadata": {},
   "source": [
    "这就是动态语言的“鸭子类型”，它并不要求严格的继承体系，一个对象只要“看起来像鸭子，走起路来像鸭子”，那它就可以被看做是鸭子。"
   ]
  },
  {
   "cell_type": "markdown",
   "metadata": {},
   "source": [
    "鸭子类型我认为实际是一种归一化，让使用者可以不加区分的处理所有接口对象兼容的集合。举个例子，在python中，一切可迭代对象都可以用循环，而不用关心这个迭代对象是列表，还是字符串。只要他们有`__iter__()`方法。再比如说，操作系统中的windows窗口对象都能被最小化，最大化，关闭能操作。而不用关心他们是QQ的窗口还是LOL的窗口"
   ]
  },
  {
   "cell_type": "markdown",
   "metadata": {},
   "source": [
    "但是鸭子类型的弊端也很明显，如果不进行严密的程序设计，在大型程序设计时，很容易在错误的时间调用错误的对象，\n",
    "而得到“意想不到的结果”。这时候我们也许需要把这两个对象放在不同的文件下，形成不同的module。"
   ]
  },
  {
   "cell_type": "markdown",
   "metadata": {},
   "source": [
    "# 魔术方法"
   ]
  },
  {
   "cell_type": "markdown",
   "metadata": {},
   "source": [
    "## 打印-repr"
   ]
  },
  {
   "cell_type": "markdown",
   "metadata": {},
   "source": [
    "- 如果玩家想要直接显示角色信息，可以使用`__repr__`的魔术方法"
   ]
  },
  {
   "cell_type": "code",
   "execution_count": 1,
   "metadata": {},
   "outputs": [
    {
     "data": {
      "text/plain": [
       "<__main__.Person at 0x104877ac8>"
      ]
     },
     "execution_count": 1,
     "metadata": {},
     "output_type": "execute_result"
    }
   ],
   "source": [
    "class Person(object):\n",
    "    \n",
    "    role = 'Person'\n",
    "    \n",
    "    def __init__(self, name, aggressivity, life_value):\n",
    "        \n",
    "        self.name = name\n",
    "        self.aggressivity = aggressivity\n",
    "        self.life_value = life_value\n",
    "        \n",
    "    def attack(self, dog):\n",
    "        dog.life_value -= self.aggressivity\n",
    "        \n",
    "    def dodge(self):\n",
    "        self.life_value += 1 \n",
    "\n",
    "ming = Person('小明', 5, 80)\n",
    "ming"
   ]
  },
  {
   "cell_type": "code",
   "execution_count": 2,
   "metadata": {},
   "outputs": [
    {
     "name": "stdout",
     "output_type": "stream",
     "text": [
      "<__main__.Person object at 0x104877ac8>\n"
     ]
    }
   ],
   "source": [
    "print(str(ming))"
   ]
  },
  {
   "cell_type": "code",
   "execution_count": 3,
   "metadata": {},
   "outputs": [
    {
     "data": {
      "text/plain": [
       "Person\n",
       "name:             小明\n",
       "aggressivity:      5\n",
       "life_value:       80"
      ]
     },
     "execution_count": 3,
     "metadata": {},
     "output_type": "execute_result"
    }
   ],
   "source": [
    "class Person(object):\n",
    "    \n",
    "    role = 'Person'\n",
    "    \n",
    "    def __init__(self, name, aggressivity, life_value):\n",
    "        \n",
    "        self.name = name\n",
    "        self.aggressivity = aggressivity\n",
    "        self.life_value = life_value\n",
    "        \n",
    "    def __repr__(self):\n",
    "        s = 'Person\\n{:<15}{:>5}\\n{:<15}{:5}\\n{:<15}{:5}'.format(\n",
    "            'name:', self.name, \n",
    "            'aggressivity:', self.aggressivity, \n",
    "            'life_value:', self.life_value)\n",
    "        return s\n",
    "        \n",
    "    def attack(self, dog):\n",
    "        dog.life_value -= self.aggressivity\n",
    "        \n",
    "    def dodge(self):\n",
    "        self.life_value += 1 \n",
    "\n",
    "ming = Person('小明', 5, 80)\n",
    "ming"
   ]
  },
  {
   "cell_type": "code",
   "execution_count": 4,
   "metadata": {},
   "outputs": [
    {
     "name": "stdout",
     "output_type": "stream",
     "text": [
      "Person\n",
      "name:             小明\n",
      "aggressivity:      5\n",
      "life_value:       80\n"
     ]
    }
   ],
   "source": [
    "print(str(ming))"
   ]
  },
  {
   "cell_type": "markdown",
   "metadata": {},
   "source": [
    "## 合体-add"
   ]
  },
  {
   "cell_type": "markdown",
   "metadata": {},
   "source": [
    "- 如果想要两个角色拥有合体技能的话，可以使用`__add__`方法"
   ]
  },
  {
   "cell_type": "code",
   "execution_count": 6,
   "metadata": {},
   "outputs": [
    {
     "name": "stdout",
     "output_type": "stream",
     "text": [
      "Person\n",
      "name:             小明\n",
      "aggressivity:      5\n",
      "life_value:       80 \n",
      "\n",
      "Person\n",
      "name:             小张\n",
      "aggressivity:     10\n",
      "life_value:       50 \n",
      "\n",
      "Person\n",
      "name:          小明_小张\n",
      "aggressivity:     15\n",
      "life_value:      130\n"
     ]
    }
   ],
   "source": [
    "class Person(object):\n",
    "    \n",
    "    role = 'Person'\n",
    "    \n",
    "    def __init__(self, name, aggressivity, life_value):\n",
    "        \n",
    "        self.name = name\n",
    "        self.aggressivity = aggressivity\n",
    "        self.life_value = life_value\n",
    "        \n",
    "    def __repr__(self):\n",
    "        s = 'Person\\n{:<15}{:>5}\\n{:<15}{:5}\\n{:<15}{:5}'.format(\n",
    "            'name:', self.name, \n",
    "            'aggressivity:', self.aggressivity, \n",
    "            'life_value:', self.life_value)\n",
    "        return s\n",
    "        \n",
    "    def __add__(self, other):\n",
    "        name = '{}_{}'.format(self.name, other.name)\n",
    "        aggressivity = self.aggressivity + other.aggressivity\n",
    "        life_value = self.life_value + other.life_value\n",
    "        return Person(name, aggressivity, life_value)\n",
    "        \n",
    "    def attack(self, dog):\n",
    "        dog.life_value -= self.aggressivity\n",
    "        \n",
    "    def dodge(self):\n",
    "        self.life_value += 1 \n",
    "\n",
    "ming = Person('小明', 5, 80)\n",
    "print(ming, '\\n')\n",
    "zhang = Person('小张', 10, 50)\n",
    "print(zhang, '\\n')\n",
    "ming_zhang = ming + zhang\n",
    "print(ming_zhang)"
   ]
  },
  {
   "cell_type": "markdown",
   "metadata": {},
   "source": [
    "## 比较-lt"
   ]
  },
  {
   "cell_type": "markdown",
   "metadata": {},
   "source": [
    "- 如果想要对角色间的属性进行比较，可以使用`__lt__`方法"
   ]
  },
  {
   "cell_type": "code",
   "execution_count": 7,
   "metadata": {},
   "outputs": [],
   "source": [
    "class Person(object):\n",
    "    \n",
    "    role = 'Person'\n",
    "    \n",
    "    def __init__(self, name, aggressivity, life_value):\n",
    "        \n",
    "        self.name = name\n",
    "        self.aggressivity = aggressivity\n",
    "        self.life_value = life_value\n",
    "        \n",
    "    def __lt__(self, other):\n",
    "        return self.aggressivity < other.aggressivity and \\\n",
    "            self.life_value < other.life_value\n",
    "        \n",
    "    def attack(self, dog):\n",
    "        dog.life_value -= self.aggressivity\n",
    "        \n",
    "    def dodge(self):\n",
    "        self.life_value += 1 \n",
    "\n",
    "ming = Person('小明', 5, 80)\n",
    "zhang = Person('小张', 7, 90)\n",
    "liu = Person('小刘', 10, 50)"
   ]
  },
  {
   "cell_type": "code",
   "execution_count": 8,
   "metadata": {},
   "outputs": [
    {
     "data": {
      "text/plain": [
       "True"
      ]
     },
     "execution_count": 8,
     "metadata": {},
     "output_type": "execute_result"
    }
   ],
   "source": [
    "ming < zhang"
   ]
  },
  {
   "cell_type": "code",
   "execution_count": 9,
   "metadata": {},
   "outputs": [
    {
     "data": {
      "text/plain": [
       "False"
      ]
     },
     "execution_count": 9,
     "metadata": {},
     "output_type": "execute_result"
    }
   ],
   "source": [
    "ming < liu"
   ]
  },
  {
   "cell_type": "markdown",
   "metadata": {},
   "source": [
    "总结一下，面向对象和我们常用的面向过程式编程相比。可以让我们分块的看待问题，在做复杂任务时得思路更加清晰。也可以增加代码重用，避免重复的写实现同一功能的代码。但是面向对象也有面向对象的弊端。\n",
    "\n",
    "- 如果不进行合理的程序设计，面向对象会变成鼓励毫无意义的喋喋不休。\n",
    "比如有些事情能够很容易的用几行代码搞定，而无意义的设计一些在整个项目中只会用一次的对象\n",
    "\n",
    "- 如果不进行行之有效的封装，面向对象编程可能就成为无实际意义的玩具\n",
    "比如没有异常处理，当别人没有按照你的思路调用你的对象时就报错，进而只有去看你封装好的代码找出错误原因，那么你事先的接口封装就显得毫无意义。\n",
    "\n",
    "- 如果不能对每一个抽象类定义出独特的方法，那么定义出的类不仅是无用的花瓶，还会造成代码冗余\n",
    "\n",
    "总的来说，面向对象编程，抽象出一个对象比找对象还辛苦呢！"
   ]
  },
  {
   "cell_type": "markdown",
   "metadata": {},
   "source": [
    "# 后续内容"
   ]
  },
  {
   "cell_type": "markdown",
   "metadata": {},
   "source": [
    "- 与面对过程编程的比较  \n",
    "  \n",
    "  \n",
    "- 数据封装进一步：访问限制  \n",
    "  \n",
    "  \n",
    "- 魔术方法：上下文管理&迭代"
   ]
  },
  {
   "cell_type": "markdown",
   "metadata": {},
   "source": [
    "# 参考资料"
   ]
  },
  {
   "cell_type": "markdown",
   "metadata": {},
   "source": [
    "书籍\n",
    "\n",
    "- [《python3面向对象编程》](https://www.jqhtml.com/down/861.html)\n",
    "- [《python编程：由入门到实践》](https://github.com/royeo/awesome-programming-books/blob/master/python/Python%E7%BC%96%E7%A8%8B%EF%BC%9A%E4%BB%8E%E5%85%A5%E9%97%A8%E5%88%B0%E5%AE%9E%E8%B7%B5.pdf)中后面的外星人项目，[配套代码](https://github.com/ehmatthes/pcc)"
   ]
  }
 ],
 "metadata": {
  "kernelspec": {
   "display_name": "Python 3",
   "language": "python",
   "name": "python3"
  },
  "language_info": {
   "codemirror_mode": {
    "name": "ipython",
    "version": 3
   },
   "file_extension": ".py",
   "mimetype": "text/x-python",
   "name": "python",
   "nbconvert_exporter": "python",
   "pygments_lexer": "ipython3",
   "version": "3.6.4"
  },
  "toc": {
   "base_numbering": 1,
   "nav_menu": {},
   "number_sections": true,
   "sideBar": true,
   "skip_h1_title": false,
   "title_cell": "Table of Contents",
   "title_sidebar": "Contents",
   "toc_cell": false,
   "toc_position": {
    "height": "calc(100% - 180px)",
    "left": "10px",
    "top": "150px",
    "width": "177px"
   },
   "toc_section_display": true,
   "toc_window_display": true
  }
 },
 "nbformat": 4,
 "nbformat_minor": 2
}
